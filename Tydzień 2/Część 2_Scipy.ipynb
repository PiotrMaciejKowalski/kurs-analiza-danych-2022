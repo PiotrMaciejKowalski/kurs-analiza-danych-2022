{
  "cells": [
    {
      "cell_type": "markdown",
      "metadata": {
        "id": "view-in-github",
        "colab_type": "text"
      },
      "source": [
        "<a href=\"https://colab.research.google.com/github/PiotrMaciejKowalski/kurs-analiza-danych-2022/blob/main/Tydzie%C5%84%202/Cz%C4%99%C5%9B%C4%87%C2%A02_Scipy.ipynb\" target=\"_parent\"><img src=\"https://colab.research.google.com/assets/colab-badge.svg\" alt=\"Open In Colab\"/></a>"
      ]
    },
    {
      "cell_type": "markdown",
      "metadata": {
        "collapsed": true,
        "id": "TZHdHKaLZajC"
      },
      "source": [
        "# Scipy - narzędzia obliczeń naukowych\n",
        "\n",
        "Opracowano na podstawie następującej [dokumentacji](https://www.scipy-lectures.org/intro/scipy.html)\n",
        "\n",
        "Scipy jest podstawowym i największym pakietem oprogramowania, który dostarcza wysublimowane algorytmy matematyczne dla potrzeb aplikacji języka Python. Do podstawowych składowych pakietu należą\n",
        "\n",
        "* scipy.io - zarządzanie plikami\n",
        "* scipy.special - definicje funkcji specjalnych\n",
        "* scipy.linalg - oprogramowanie do operacji z zakresu algeby liniowej\n",
        "* scipy.interpolation - algorytmy interpolacji\n",
        "* scipy.optimize - algorytmy optymalizacyjne\n",
        "* scipy.stats - elementy statystyki\n",
        "* scipy.integrate - algorytmy całkowania numerycznego\n",
        "* scipy.fftpack - szybka tranformata Fouriera\n",
        "* scipy.signal - przetwarzanie sygnałów\n",
        "* scipy.ndimage - przetwarzanie obrazów\n",
        "* scipy.constant - stałe matematyczne\n",
        "* scipy.cluster - algorytmy klasteryzacji\n",
        "* scipy.sparse - biblioteka do pracy z macierzami rzadkimi\n",
        "* scipy.misc - pakiet dodatków\n",
        "\n",
        "Omówmy tylko kilka wybranych elementów z ogromnej oferty możliwości\n",
        "\n",
        "# Optymalizacja scipy.optimize\n",
        "\n",
        "## Aproksymacja funkcji \n",
        "\n",
        "Chcemy odszkać dopasowanie do następujących danych\n"
      ]
    },
    {
      "cell_type": "code",
      "execution_count": 1,
      "metadata": {
        "id": "v8JfloSjZajH",
        "outputId": "a455f8fa-e554-48e9-ca42-c2330e93e002",
        "colab": {
          "base_uri": "https://localhost:8080/",
          "height": 283
        }
      },
      "outputs": [
        {
          "output_type": "stream",
          "name": "stdout",
          "text": [
            "[3.27928472 1.47724856]\n"
          ]
        },
        {
          "output_type": "display_data",
          "data": {
            "text/plain": [
              "<Figure size 432x288 with 1 Axes>"
            ],
            "image/png": "[encoded data removed]"
          },
          "metadata": {
            "needs_background": "light"
          }
        }
      ],
      "source": [
        "%matplotlib inline\n",
        "import numpy as np\n",
        "from scipy import optimize\n",
        "x_data = np.linspace(-5, 5, num=50)\n",
        "y_data = 2.9 * np.sin(1.5 * x_data) + np.random.normal(size=50)\n",
        "\n",
        "\n",
        "def test_func(x, a, b):\n",
        "    return a * np.sin(b * x)\n",
        "  \n",
        "  \n",
        "params, params_covariance = optimize.curve_fit(test_func, x_data, y_data, p0=[2, 2])\n",
        "print(params)\n",
        "import matplotlib.pyplot as plt\n",
        "plt.plot(x_data,y_data,'.b')\n",
        "plt.show()"
      ]
    },
    {
      "cell_type": "code",
      "execution_count": 3,
      "metadata": {
        "id": "VAto3EhOZajJ",
        "outputId": "2d514858-201f-43bb-d777-cd6f9e723ddf",
        "colab": {
          "base_uri": "https://localhost:8080/",
          "height": 265
        }
      },
      "outputs": [
        {
          "output_type": "display_data",
          "data": {
            "text/plain": [
              "<Figure size 432x288 with 1 Axes>"
            ],
            "image/png": "[encoded data removed]"
          },
          "metadata": {
            "needs_background": "light"
          }
        }
      ],
      "source": [
        "plt.plot(x_data,y_data,'.b')\n",
        "plt.plot(x_data,test_func(x_data,params[0],params[1]))\n",
        "plt.plot(x_data,test_func(x_data,2.9,1.5), 'r-')\n",
        "plt.show()"
      ]
    },
    {
      "cell_type": "markdown",
      "source": [
        "## Zadanie\n",
        "\n",
        "Dobrać do powyższych danych optymalny wielomian stopnia 5."
      ],
      "metadata": {
        "id": "1RfULMbNu8Pj"
      }
    },
    {
      "cell_type": "code",
      "source": [
        "def wielomian(x, a, b, c, d, e, f):\n",
        "    return a * x**5 + b * x**4 + c * x**3 + d * x**2 + e * x + f\n",
        "  \n",
        "  \n",
        "paramsw, paramsw_covariance = optimize.curve_fit(wielomian, x_data, y_data, p0=[0, 0, 0, 0, 0, 0])\n",
        "print(paramsw)\n",
        "\n",
        "\n",
        "plt.plot(x_data,y_data,'.b')\n",
        "plt.plot(x_data,test_func(x_data,params[0],params[1]))\n",
        "plt.plot(x_data,test_func(x_data,2.9,1.5), 'r-')\n",
        "plt.plot(x_data,wielomian(x_data,paramsw[0],paramsw[1],paramsw[2],paramsw[3],paramsw[4],paramsw[5]), 'g-')\n",
        "plt.show()"
      ],
      "metadata": {
        "id": "Vc3VqOzDvc5N",
        "outputId": "992992e6-e909-40e9-d1a6-51e75524c7ca",
        "colab": {
          "base_uri": "https://localhost:8080/",
          "height": 285
        }
      },
      "execution_count": 5,
      "outputs": [
        {
          "output_type": "stream",
          "name": "stdout",
          "text": [
            "[ 0.01417265 -0.00261258 -0.38069575  0.05557522  1.84374537 -0.12529493]\n"
          ]
        },
        {
          "output_type": "display_data",
          "data": {
            "text/plain": [
              "<Figure size 432x288 with 1 Axes>"
            ],
            "image/png": "[encoded data removed]"
          },
          "metadata": {
            "needs_background": "light"
          }
        }
      ]
    },
    {
      "cell_type": "markdown",
      "metadata": {
        "id": "bt9rWRC1ZajK"
      },
      "source": [
        "## Minimalizacja funkcji jednowymiarowej\n",
        "\n",
        "Często potrzebne jest wyszukanie punktu optimum dla pewnej funkcji. Tu również z pomocą przychodzi pakiet scipy."
      ]
    },
    {
      "cell_type": "code",
      "execution_count": 6,
      "metadata": {
        "id": "4CXVE0UwZajL",
        "outputId": "64c54f2f-d045-47fc-fcd9-8b793c58c000",
        "colab": {
          "base_uri": "https://localhost:8080/",
          "height": 265
        }
      },
      "outputs": [
        {
          "output_type": "display_data",
          "data": {
            "text/plain": [
              "<Figure size 432x288 with 1 Axes>"
            ],
            "image/png": "[encoded data removed]"
          },
          "metadata": {
            "needs_background": "light"
          }
        }
      ],
      "source": [
        "%matplotlib inline\n",
        "import numpy as np\n",
        "from scipy import optimize\n",
        "\n",
        "def f(x):\n",
        "  return x**2 + 10*np.sin(x)\n",
        "\n",
        "x = np.arange(-10, 10, 0.1)\n",
        "\n",
        "import matplotlib.pyplot as plt\n",
        "plt.plot(x,f(x),'-b')\n",
        "plt.show()"
      ]
    },
    {
      "cell_type": "code",
      "execution_count": 7,
      "metadata": {
        "id": "vwM8sMKtZajM",
        "outputId": "ec18d3ca-d2ae-4320-8b72-bf37839180e7",
        "colab": {
          "base_uri": "https://localhost:8080/",
          "height": 265
        }
      },
      "outputs": [
        {
          "output_type": "display_data",
          "data": {
            "text/plain": [
              "<Figure size 432x288 with 1 Axes>"
            ],
            "image/png": "[encoded data removed]"
          },
          "metadata": {
            "needs_background": "light"
          }
        }
      ],
      "source": [
        "minimum = optimize.minimize(f,x0=-5.0)\n",
        "minimum_x = minimum.x\n",
        "plt.plot(x,f(x),'-b')\n",
        "plt.plot(minimum_x,f(minimum_x),'or')\n",
        "plt.show()"
      ]
    },
    {
      "cell_type": "markdown",
      "metadata": {
        "id": "lYzpf00vZajN"
      },
      "source": [
        "## Poszukiwanie miejsc zerowych\n",
        "\n",
        "Oprócz ekstremów lokalnych ważnymi punktami wykresu są również miejsca zerowe. \n"
      ]
    },
    {
      "cell_type": "code",
      "execution_count": 8,
      "metadata": {
        "id": "KhkKYGlJZajO",
        "outputId": "edfc258e-b178-4db4-e65f-897fead73e4c",
        "colab": {
          "base_uri": "https://localhost:8080/",
          "height": 265
        }
      },
      "outputs": [
        {
          "output_type": "display_data",
          "data": {
            "text/plain": [
              "<Figure size 432x288 with 1 Axes>"
            ],
            "image/png": "[encoded data removed]"
          },
          "metadata": {
            "needs_background": "light"
          }
        }
      ],
      "source": [
        "import numpy as np\n",
        "from scipy import optimize\n",
        "\n",
        "def f(x):\n",
        "  return np.power(x,2) + 10*np.sin(x)\n",
        "\n",
        "x = np.arange(-10, 10, 0.1)\n",
        "\n",
        "import matplotlib.pyplot as plt\n",
        "plt.plot(x,f(x),'-b')\n",
        "plt.axhline(0, color='black')\n",
        "plt.show()"
      ]
    },
    {
      "cell_type": "code",
      "execution_count": 9,
      "metadata": {
        "id": "QsSOOsd0ZajP",
        "outputId": "8cfe96fa-6566-42e1-9e06-dc93e67ba1d1",
        "colab": {
          "base_uri": "https://localhost:8080/",
          "height": 283
        }
      },
      "outputs": [
        {
          "output_type": "display_data",
          "data": {
            "text/plain": [
              "<Figure size 432x288 with 1 Axes>"
            ],
            "image/png": "[encoded data removed]"
          },
          "metadata": {
            "needs_background": "light"
          }
        },
        {
          "output_type": "stream",
          "name": "stdout",
          "text": [
            "[0.] [-2.47948183]\n"
          ]
        }
      ],
      "source": [
        "root1 = optimize.root(f,x0=1).x\n",
        "root2 = optimize.root(f,x0=-2.5).x\n",
        "plt.plot(x,f(x),'-b')\n",
        "plt.axhline(0, color='black')\n",
        "plt.plot([root1, root2],f([root1, root2]),'^g')\n",
        "plt.show()\n",
        "print(root1, root2)"
      ]
    },
    {
      "cell_type": "markdown",
      "metadata": {
        "id": "04KS6MwgZajQ"
      },
      "source": [
        "# Całkowanie\n",
        "\n",
        "Pakiet Scipy wyposażony jest również w algorytmy całkowania numerycznego\n",
        "Dokonajmy całkowania $$\\int_0^\\pi \\sin(x) dx$$"
      ]
    },
    {
      "cell_type": "code",
      "execution_count": 10,
      "metadata": {
        "id": "b0tFmZLLZajR",
        "outputId": "0d2432e8-7d9b-4ba2-c4f8-98bbcb520d20",
        "colab": {
          "base_uri": "https://localhost:8080/"
        }
      },
      "outputs": [
        {
          "output_type": "stream",
          "name": "stdout",
          "text": [
            "Wynik= 2.0 Błąd= 2.220446049250313e-14\n"
          ]
        }
      ],
      "source": [
        "import numpy as np\n",
        "from scipy.integrate import quad\n",
        "\n",
        "res, err = quad(np.sin, 0, np.pi)\n",
        "print(\"Wynik=\",res,\"Błąd=\",err)"
      ]
    },
    {
      "cell_type": "markdown",
      "metadata": {
        "id": "aSFCJ76ZZajS"
      },
      "source": [
        "# Scipy.stats - statystyka dla analityka\n",
        "\n",
        "Do najważniejszych pakietów ze scipy należy zaliczyć  scipy.stats. Pakiet ten grupuje całe moduły opisujące różne rozkłady prawdopodobieństwa. Lista wszystkich dostęp rozkładu [tu](https://docs.scipy.org/doc/scipy/reference/stats.html)\n",
        "\n",
        "Do kluczowych funkcji tam zebranych należą np\n",
        "\n",
        "* pdf - funkcja gęstości / rozkładu prawdopodobieństwa\n",
        "* cdf - dystrybuanta\n",
        "* ppf - kwantyle rozkładu\n",
        "* rvs - generator prób z rozkładu"
      ]
    },
    {
      "cell_type": "code",
      "execution_count": 15,
      "metadata": {
        "id": "CTKq9DbDZajS",
        "outputId": "6bc98c48-1f7b-48e4-e2d1-0c0a2c583ee6",
        "colab": {
          "base_uri": "https://localhost:8080/",
          "height": 266
        }
      },
      "outputs": [
        {
          "output_type": "display_data",
          "data": {
            "text/plain": [
              "<Figure size 432x288 with 4 Axes>"
            ],
            "image/png": "[encoded data removed]"
          },
          "metadata": {
            "needs_background": "light"
          }
        }
      ],
      "source": [
        "import numpy as np\n",
        "from scipy.stats import norm\n",
        "import matplotlib.pyplot as plt\n",
        "\n",
        "fig, axes = plt.subplots(2, 2)\n",
        "\n",
        "x = np.linspace(norm.ppf(0.01), norm.ppf(0.99), 100)\n",
        "xx = np.linspace(0.01, 0.99, 100)\n",
        "axes[0,0].plot(x, norm.cdf(x),'r-', lw=5, alpha=0.6, label='norm cdf')\n",
        "axes[1,0].plot(x, norm.pdf(x),'r-', lw=5, alpha=0.6, label='norm pdf')\n",
        "axes[0,1].plot(xx, norm.ppf(xx),'r-', lw=5, alpha=0.6, label='norm ppf')\n",
        "#alternatywnie\n",
        "#axes[0,1].plot(norm.cdf(x), x,'r-', lw=5, alpha=0.6, label='norm ppf')\n",
        "axes[1,1].hist(norm.rvs(size=1000), alpha=0.6, label='random ppf', density=True )\n",
        "plt.show()"
      ]
    },
    {
      "cell_type": "markdown",
      "metadata": {
        "id": "l8LfEMH8ZajS"
      },
      "source": [
        "## Zadanie\n",
        "\n",
        "Wygenerować analogiczne wykresy dla \n",
        "\n",
        "* rozkładu normalnego z innymi parametrami\n",
        "* wybranego innego rozkładu ciągłego\n",
        "* wybranego rozkładu dyskretnego"
      ]
    },
    {
      "cell_type": "code",
      "execution_count": null,
      "metadata": {
        "id": "h7RkiS1FZajT"
      },
      "outputs": [],
      "source": [
        "pass"
      ]
    },
    {
      "cell_type": "markdown",
      "metadata": {
        "id": "pLxnkyzPZajT"
      },
      "source": [
        "## Testowanie hipotez statystycznych\n",
        "\n",
        "Oprócz zmiennych losowych różnych rozkładów pakiet stats udostępnia również wielu różnych prostych testów statystycznych.\n",
        "\n",
        "### Test normalności Shapiro-Wilka"
      ]
    },
    {
      "cell_type": "code",
      "execution_count": null,
      "metadata": {
        "id": "m3QH7hVMZajT",
        "outputId": "d5a34917-2631-4811-f067-f38cf925520f"
      },
      "outputs": [
        {
          "name": "stdout",
          "output_type": "stream",
          "text": [
            "W= 0.9942392110824585 p-value= 0.9503734707832336\n",
            "W= 0.9458286166191101 p-value= 0.00044517990318126976\n"
          ]
        }
      ],
      "source": [
        "import scipy.stats as stats\n",
        "x = stats.norm.rvs(size=100)\n",
        "y = stats.uniform.rvs(size=100)\n",
        "W, p_value=stats.shapiro(x)\n",
        "print(\"W=\",W,\"p-value=\",p_value)\n",
        "W, p_value=stats.shapiro(y)\n",
        "print(\"W=\",W,\"p-value=\",p_value)"
      ]
    },
    {
      "cell_type": "markdown",
      "metadata": {
        "id": "RVKoryZeZajU"
      },
      "source": [
        "### Test zgodności dwóch rozkładów Smirnova-Kołmogorova\n"
      ]
    },
    {
      "cell_type": "code",
      "execution_count": null,
      "metadata": {
        "id": "IR8uw9zRZajU",
        "outputId": "c605c529-dada-45a3-bf09-cd253bc439ee"
      },
      "outputs": [
        {
          "name": "stdout",
          "output_type": "stream",
          "text": [
            "W= 0.08000000000000002 p-value= 0.8937515524105731\n",
            "W= 0.12 p-value= 0.4431254026988257\n"
          ]
        }
      ],
      "source": [
        "import scipy.stats as stats\n",
        "x = stats.norm.rvs(size=100)\n",
        "y = stats.norm.rvs(size=100)\n",
        "W, p_value = stats.ks_2samp(x,y)\n",
        "print(\"W=\", W, \"p-value=\", p_value)\n",
        "z = stats.t.rvs(size=100, df=2)\n",
        "W, p_value = stats.ks_2samp(x,z)\n",
        "print(\"W=\", W, \"p-value=\", p_value)"
      ]
    },
    {
      "cell_type": "markdown",
      "metadata": {
        "id": "_oRS7FKQZajW"
      },
      "source": [
        "### Test t dla średniej"
      ]
    },
    {
      "cell_type": "code",
      "execution_count": null,
      "metadata": {
        "id": "tlvWQ_IMZajW",
        "outputId": "75fb4ac5-ff4a-44cf-cdc1-b5e3d6e2db8f"
      },
      "outputs": [
        {
          "name": "stdout",
          "output_type": "stream",
          "text": [
            "W= 7.248460861241759 p-value= 9.79406834079911e-09\n",
            "W= 3.8803914831921467 p-value= 0.0003909024592554774\n",
            "W= 0.5123221051425342 p-value= 0.6113149740571592\n"
          ]
        }
      ],
      "source": [
        "import scipy.stats as stats\n",
        "x = stats.norm.rvs(size=40, loc=32, scale=2)\n",
        "W, p_value = stats.ttest_1samp(x, popmean=30)\n",
        "print(\"W=\", W, \"p-value=\", p_value)\n",
        "W, p_value = stats.ttest_1samp(x, popmean=31)\n",
        "print(\"W=\", W, \"p-value=\", p_value)\n",
        "W, p_value = stats.ttest_1samp(x, popmean=32)\n",
        "print(\"W=\", W, \"p-value=\", p_value)"
      ]
    },
    {
      "cell_type": "markdown",
      "metadata": {
        "id": "_FsSNijDZajW"
      },
      "source": [
        "\n",
        "lub w wersji o równości średnich"
      ]
    },
    {
      "cell_type": "code",
      "execution_count": null,
      "metadata": {
        "id": "BdWo9Tp0ZajW",
        "outputId": "34d74f57-663a-45ad-ce20-a126928004e8"
      },
      "outputs": [
        {
          "name": "stdout",
          "output_type": "stream",
          "text": [
            "W= -0.2412933641218954 p-value= 0.8098890911480231\n",
            "W= 2.644431780766878 p-value= 0.009889911538604865\n",
            "W= 0.1559360902659535 p-value= 0.8764405561343699\n"
          ]
        }
      ],
      "source": [
        "import scipy.stats as stats\n",
        "x = stats.norm.rvs(size=40, loc=32, scale=2)\n",
        "y = stats.norm.rvs(size=50, loc=32, scale=3)\n",
        "z = stats.norm.rvs(size=40, loc=31, scale=1)\n",
        "w = stats.norm.rvs(size=50, loc=32, scale=10)\n",
        "W, p_value = stats.ttest_ind(x, y)\n",
        "print(\"W=\", W, \"p-value=\", p_value)\n",
        "W, p_value = stats.ttest_ind(x, z)\n",
        "print(\"W=\", W, \"p-value=\", p_value)\n",
        "W, p_value = stats.ttest_ind(x, w)\n",
        "print(\"W=\", W, \"p-value=\", p_value)"
      ]
    },
    {
      "cell_type": "markdown",
      "metadata": {
        "id": "nlHSb9XhZajX"
      },
      "source": [
        "### Test Levene o równości wariancji dla prób z rozkładu normalnego\n"
      ]
    },
    {
      "cell_type": "code",
      "execution_count": null,
      "metadata": {
        "id": "0BP7OhqzZajX",
        "outputId": "a7d23c3e-7629-4538-c552-26b0152f84d9"
      },
      "outputs": [
        {
          "name": "stdout",
          "output_type": "stream",
          "text": [
            "W= 0.20893639406905087 p-value= 0.6488728615727084\n"
          ]
        }
      ],
      "source": [
        "import scipy.stats as stats\n",
        "x = stats.norm.rvs(size=40, loc=32, scale=2)\n",
        "y = stats.norm.rvs(size=40, loc=0, scale=2)\n",
        "W, p_value = stats.levene(x,y)\n",
        "print(\"W=\", W, \"p-value=\", p_value)"
      ]
    },
    {
      "cell_type": "markdown",
      "metadata": {
        "id": "0eHBXi6QZajY"
      },
      "source": [
        "### Test Bartlett\n"
      ]
    },
    {
      "cell_type": "code",
      "execution_count": null,
      "metadata": {
        "id": "TPdwazNlZajY",
        "outputId": "5d79a3c7-cca1-48aa-b5f5-6ab8fc095c44"
      },
      "outputs": [
        {
          "name": "stdout",
          "output_type": "stream",
          "text": [
            "W= 0.4696785838560271 p-value= 0.4931350721602126\n"
          ]
        }
      ],
      "source": [
        "import scipy.stats as stats\n",
        "x = stats.norm.rvs(size=40, loc=32, scale=2)\n",
        "y = stats.norm.rvs(size=40, loc=0, scale=2)\n",
        "W, p_value = stats.bartlett(x,y)\n",
        "print(\"W=\", W, \"p-value=\", p_value)"
      ]
    },
    {
      "cell_type": "code",
      "execution_count": null,
      "metadata": {
        "id": "zyjPgRWrZajY"
      },
      "outputs": [],
      "source": [
        ""
      ]
    },
    {
      "cell_type": "code",
      "execution_count": null,
      "metadata": {
        "id": "wKcWxxqfZajY"
      },
      "outputs": [],
      "source": [
        ""
      ]
    }
  ],
  "metadata": {
    "kernelspec": {
      "display_name": "Python 3",
      "language": "python",
      "name": "python3"
    },
    "language_info": {
      "codemirror_mode": {
        "name": "ipython",
        "version": 3
      },
      "file_extension": ".py",
      "mimetype": "text/x-python",
      "name": "python",
      "nbconvert_exporter": "python",
      "pygments_lexer": "ipython3",
      "version": "3.9.5"
    },
    "colab": {
      "name": "Część 2 - Scipy.ipynb",
      "provenance": [],
      "include_colab_link": true
    }
  },
  "nbformat": 4,
  "nbformat_minor": 0
}