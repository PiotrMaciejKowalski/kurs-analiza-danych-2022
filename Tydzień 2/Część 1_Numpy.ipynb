{
  "cells": [
    {
      "cell_type": "markdown",
      "metadata": {
        "id": "view-in-github",
        "colab_type": "text"
      },
      "source": [
        "<a href=\"https://colab.research.google.com/github/PiotrMaciejKowalski/kurs-analiza-danych-2022/blob/main/Tydzie%C5%84%202/Cz%C4%99%C5%9B%C4%87%C2%A01_Numpy.ipynb\" target=\"_parent\"><img src=\"https://colab.research.google.com/assets/colab-badge.svg\" alt=\"Open In Colab\"/></a>"
      ]
    },
    {
      "cell_type": "markdown",
      "metadata": {
        "collapsed": true,
        "id": "NIMHiJyhaUxd"
      },
      "source": [
        "# Numpy - królestwo wektorów w Pythonie\n",
        "\n",
        "Numpy jest jednym z cześciej wykorzytywanych pakietów w analizie danych. Analiza danych w dużej mierze opiera się na przeliczaniu dużej liczby danych liczbowy. Temu głównie służy pakiet numpy - nazwa pochodzi od numerical python.  \n",
        "Podstawowymi strukturami są wektory, macierze i ich więcej wymiarowe odpowiedniki. \n",
        "\n",
        "## Po co jest numpy?\n",
        "\n",
        "Prowadząc obliczenia w Pythonie musimy być świadomi pewnych ograniczeń jakie sam nam narzucone. Z pewnością każdy analityk danych wie, że będzie potrzebował kolekcji celem przetwarzania swoich danych. W Pythonie poznane na daną chwilę zostały kolekcje takie jakie tablice, krotki czy słowniki. Konstrukcja tych kolekcji jest oparta wprost na Pythonie - który jest - no właśnie - językiem wysokiego poziomu. Wysokiego poziomu oznacza dla nas między innymi to, że jest powolny. Na pytanie czy są języki programowania, w których przetwarzanie jest bardzo szybkie - w zasadzie zawsze pada jedna odpowiedź. Tak - takim językiem jest C/C++. C++ jest jednak językiem programowania znacznie trudniejszym w opanowaniu niż Python czy R. Wiele rzeczy, które w językach poziomu wyższego są załatwiane automatycznie, tu muszą być rozpoznane, przewidzanie i zabezpieczone przez programistę tworzącego program dla danego zadania. Może kilka przykładów:\n",
        "\n",
        "1. Rezerwowanie i zwalnianie pamięci,\n",
        "1. Nadzorowanie dostępu do pamięci, tworzenie kopii lokalnych,\n",
        "1. Monitorowanie procesu kompilacji kodu,\n",
        "1. Wywoływanie i definiowanie sposobów konwersji typów,\n",
        "1. Ręczne implementowanie wątków,\n",
        "1. Modyfikowanie kodu w zależności od architektury komputera, systemu operacyjnego, etc.\n",
        "\n",
        "A mimo jeśli wszystko powyższe zostanie dopełnione, to dalej wiele rzeczy może pójść nie tak ...  Czy możliwe jest osiągnięcie szybkości przetwarzania na poziomie C/C++ i łatwości programowania jak w Pythonie? Numpy jest właśnie odpowiedzią na to pytanie. \n",
        "\n",
        "## Czym jest numpy\n",
        "\n",
        "Numpy jest pakietem narzędzi zapisanych w C/C++ w taki sposób, aby można było sterować ich przetwarzaniem z poziomu Pythona. Podstawowy opis procesu, który zarządza pracą z numpy miałby postać:\n",
        "\n",
        "1. Przekazujemy dane mające podlegać przetwarzaniu do numpy z poziomu Pythona.\n",
        "1. Przekazujemy instrukcje które chcemy wykonać na tych danych z numpy.\n",
        "1. Numpy przetwarza te dane zgodnie z naszymi poleceniami (operacjami opisanymi w C/C++).\n",
        "1. Numpy zwraca do Pythona wynik działania swoich operacji.\n",
        "\n",
        "Intuicyjnie widzimy, że największym obciążeniem takiego procesu - jest przekazywanie i odczytywanie danych. Zatem im więcej przekształceń wykonujemy bez podglądania danych - tym większy jest nasz zysk.\n"
      ]
    },
    {
      "cell_type": "markdown",
      "metadata": {
        "id": "VdUQb1XkaUxg"
      },
      "source": [
        "## Przykład przyśpieszenia\n",
        "\n",
        "Spróbujmy pokazać wyraźnie jak wygląda to przyśpieszenie."
      ]
    },
    {
      "cell_type": "code",
      "execution_count": null,
      "metadata": {
        "id": "Z7xpviSuaUxh"
      },
      "outputs": [],
      "source": [
        "import random \n",
        "\n",
        "a = [random.randint(1, 100) for _ in range(1000000)]\n",
        "b = [random.randint(1, 100) for _ in range(1000000)]\n",
        "\n"
      ]
    },
    {
      "cell_type": "code",
      "execution_count": null,
      "metadata": {
        "id": "dUxD2uIFaUxi",
        "outputId": "867dae34-3310-4bf8-9a6b-099c904cfd9d"
      },
      "outputs": [
        {
          "name": "stdout",
          "output_type": "stream",
          "text": [
            "51.1 ms ± 684 µs per loop (mean ± std. dev. of 7 runs, 100 loops each)\n"
          ]
        }
      ],
      "source": [
        "%timeit -n100 res = [x * y for x, y in zip(a, b)]"
      ]
    },
    {
      "cell_type": "code",
      "execution_count": null,
      "metadata": {
        "id": "5uj5tG4XaUxk"
      },
      "outputs": [],
      "source": [
        "import numpy as np\n",
        "\n",
        "np_a = np.array(a)\n",
        "np_b = np.array(b)"
      ]
    },
    {
      "cell_type": "code",
      "execution_count": null,
      "metadata": {
        "id": "LEW834sOaUxk",
        "outputId": "e380aa8c-c748-4490-f59a-cf928d903428"
      },
      "outputs": [
        {
          "name": "stdout",
          "output_type": "stream",
          "text": [
            "1.06 ms ± 38.6 µs per loop (mean ± std. dev. of 7 runs, 100 loops each)\n"
          ]
        }
      ],
      "source": [
        "%timeit -n100 np_a * np_b"
      ]
    },
    {
      "cell_type": "markdown",
      "metadata": {
        "id": "Ss8uvnhIaUxm"
      },
      "source": [
        "Otrzymane tu wyniki mogą się różnic w zależności od komputera na którym są uruchomione. Uzyskane przeze mnie wyniki tj. około 66 ms przez kolekcje Pythona do mniej niż 2 ms dla numpy. Oznacza ponad 33 krotne przyśpieszenie obliczeń. To jest skrócenie 8 godzin do mniej niż 15 minut. Ogólnie są dwa powodu dla których działanie to było szybsze:\n",
        "\n",
        "1. Ponieważ kod numpy jest szybszy od kolekcji Pythona. Stąd około 4-krotne przyśpieszenie.\n",
        "1. Ponieważ mój komputer posiada 8 rdzeni obliczeniowych (po 2.5GHz), a numpy umie wykonywać obliczenia równolegle (wielowątkowo). Natomiast kolekcje pythona przetwarzają z użyciem pojedynczego procesora (jednowątkowo). Stąd około 8-krotne przyśpiszenie\n",
        "\n",
        "### Uwaga - czy można jeszcze bardziej przyśpieszyć?\n",
        "\n",
        "W dalszej części będę chciał zainteresować państwa pakietem tensorflow, który realizuje podobną funkcjonalność jak numpy. W odróżnieniu od numpy - można go jednak za pomocą biblioteki CUDA (prawie wszystkie karty Nvdia) uruchomić na procesorze graficznym (GPU) zamiast na procesorze głównym (CPU). Wzrasta koszt przesłania danych do karty graficznej, jednak moc obliczeniowa kart obecnie znacząco przewyższa moc procesora. Dla przykładu moja karta GF GTX970M posiada 1280 rdzeni po 924MHz. Tutaj potencjalnie najbardziej optymistyczny rozdział zadań pozwolić może na redukcję czasu z 8 godzin do 23 sec."
      ]
    },
    {
      "cell_type": "markdown",
      "metadata": {
        "id": "Hi5XEEYmaUxm"
      },
      "source": [
        "# Wprowadzenie do numpy\n",
        "\n",
        "Rozpocznimy od utworzenie najbardziej podstawowych obiektów numpy w Pythonie nazywanych ndarray:\n"
      ]
    },
    {
      "cell_type": "code",
      "execution_count": null,
      "metadata": {
        "id": "uPsVcsbBaUxn",
        "outputId": "bfe24466-0070-4482-f162-da47bf8a087b"
      },
      "outputs": [
        {
          "name": "stdout",
          "output_type": "stream",
          "text": [
            "[1 2 3]\n",
            "[[1 2 3]\n",
            " [4 5 6]]\n",
            "[[[1 2]\n",
            "  [3 4]]\n",
            "\n",
            " [[5 6]\n",
            "  [7 8]]]\n"
          ]
        }
      ],
      "source": [
        "import numpy as np\n",
        "wektor = np.array([1, 2, 3]) #wektor\n",
        "wektor2D = np.array([[1, 2, 3], [4, 5, 6]])# macierze\n",
        "wektor3D = np.array([[[1, 2], [3, 4]], [[5, 6], [7, 8]]])# wektory macierzy\n",
        "print(wektor)\n",
        "print(wektor2D)\n",
        "print(wektor3D)"
      ]
    },
    {
      "cell_type": "code",
      "execution_count": null,
      "metadata": {
        "id": "SjhL3LqsaUxo",
        "outputId": "6b4b808c-0a79-4810-a752-87994080a3fc"
      },
      "outputs": [
        {
          "data": {
            "text/plain": [
              "array([1, 2, 1, 2])"
            ]
          },
          "execution_count": 20,
          "metadata": {},
          "output_type": "execute_result"
        }
      ],
      "source": [
        "wektor[ [0,1,0,1]]"
      ]
    },
    {
      "cell_type": "markdown",
      "metadata": {
        "id": "qKaWd9reaUxp"
      },
      "source": [
        "Jedną z kluczowych i podstawowych cech tych wektorów jest zgodność ich wymiarów."
      ]
    },
    {
      "cell_type": "code",
      "execution_count": null,
      "metadata": {
        "id": "5xx-L1QeaUxq",
        "outputId": "2da8e504-ebb2-450a-cf45-8776f068d7c8"
      },
      "outputs": [
        {
          "name": "stdout",
          "output_type": "stream",
          "text": [
            "[list([1, 2, 3, 4]) list([2])]\n"
          ]
        }
      ],
      "source": [
        "nierownomierny = np.array([[1, 2, 3, 4], [2]])\n",
        "print(nierownomierny)"
      ]
    },
    {
      "cell_type": "markdown",
      "metadata": {
        "id": "jooXt9G1aUxq"
      },
      "source": [
        "czyli próby utworzenia obiektów o wymiarach niezgodnych kończą się nie zrealizowaniem poprawnej struktury.\n",
        "\n",
        "## Dostęp do składowych\n",
        "\n",
        "W ramach pracy z obiektami numpy mamy możliwość dostęp odczytu ich wielu składowanych własnosci jak rozmiar, kształ, czy typ danych"
      ]
    },
    {
      "cell_type": "code",
      "execution_count": null,
      "metadata": {
        "id": "16RTPCwaaUxr",
        "outputId": "62d4769d-f6f9-416a-fd73-1d4c81ed7ab6"
      },
      "outputs": [
        {
          "name": "stdout",
          "output_type": "stream",
          "text": [
            "Ilość wymiarów wektor3D 3\n",
            "Ilośc wymiarów nierównomiernego 1\n",
            "Kształt wektor3D (2, 2, 2)\n",
            "Rozmiar danych 8\n",
            "typ danych to int64\n",
            "Rozmiar pola w pamięci (w bajtach)  8\n"
          ]
        }
      ],
      "source": [
        "wektor3D = np.array([[[1, 2], [3, 4]], [[5, 6], [7, 8]]])# wektory macierzy\n",
        "nierownomierny = np.array([[1, 2, 3, 4], [2]])\n",
        "## pola w klasie np.array\n",
        "print(\"Ilość wymiarów wektor3D\", wektor3D.ndim)# ilosć wymiarów\n",
        "print(\"Ilośc wymiarów nierównomiernego\", nierownomierny.ndim)#dla nierównomiernego\n",
        "\n",
        "print(\"Kształt wektor3D\", wektor3D.shape)\n",
        "\n",
        "## ilość elementów\n",
        "print(\"Rozmiar danych\", wektor3D.size)\n",
        "\n",
        "## rodzaj danych\n",
        "print(\"typ danych to\", wektor3D.dtype)\n",
        "\n",
        "print(\"Rozmiar pola w pamięci (w bajtach) \", wektor3D.itemsize)"
      ]
    },
    {
      "cell_type": "markdown",
      "metadata": {
        "id": "fnBt_OwQaUxr"
      },
      "source": [
        "Zgodność wymiarów jest bardzo istotna, gdyż pakiet dostarcza nam wielu metod na transformowanie kształtu naszej struktury."
      ]
    },
    {
      "cell_type": "code",
      "execution_count": null,
      "metadata": {
        "id": "G3PO4BCYaUxr",
        "outputId": "556ac690-776d-4b02-b17e-98a3c255aad2"
      },
      "outputs": [
        {
          "name": "stdout",
          "output_type": "stream",
          "text": [
            "Wektor\n",
            "[[[1 2]\n",
            "  [3 4]]\n",
            "\n",
            " [[5 6]\n",
            "  [7 8]]]\n",
            "Transformacja\n",
            "[1 2 3 4 5 6 7 8]\n"
          ]
        }
      ],
      "source": [
        "wektor3D_reshaped = wektor3D.reshape(8)\n",
        "print(\"Wektor\")\n",
        "print(wektor3D)\n",
        "print(\"Transformacja\")\n",
        "print(wektor3D_reshaped)"
      ]
    },
    {
      "cell_type": "markdown",
      "metadata": {
        "id": "9tK_uIAGaUxr"
      },
      "source": [
        "## Szybka inicjalizacja\n",
        "\n",
        "Istnieje wiele metod szybkiej inicjalizacji struktury numpy\n",
        "\n",
        "1. Inicjalizacja zerami\n",
        "1. Inicjalizacja jednościami\n",
        "1. Macierz jednostkowa\n",
        "1. Siatka na przedziałach $\\mathbb{R}^n$"
      ]
    },
    {
      "cell_type": "code",
      "execution_count": null,
      "metadata": {
        "id": "l11iW8kcaUxs",
        "outputId": "47287c0d-7b4e-4ec3-bfa6-90a8ec557064"
      },
      "outputs": [
        {
          "name": "stdout",
          "output_type": "stream",
          "text": [
            "Wektor zerowy\n",
            "[[0. 0. 0.]\n",
            " [0. 0. 0.]]\n",
            "wektor jedynek\n",
            "[[[1. 1.]\n",
            "  [1. 1.]]\n",
            "\n",
            " [[1. 1.]\n",
            "  [1. 1.]]]\n",
            "wektor czego sie chce\n",
            "[[3 3]\n",
            " [3 3]]\n",
            "Macierz identycznosciowa\n",
            "[[1. 0. 0. 0.]\n",
            " [0. 1. 0. 0.]\n",
            " [0. 0. 1. 0.]\n",
            " [0. 0. 0. 1.]]\n",
            "Macierz asymetryczna\n",
            "[[1. 0. 0. 0. 0.]\n",
            " [0. 1. 0. 0. 0.]\n",
            " [0. 0. 1. 0. 0.]\n",
            " [0. 0. 0. 1. 0.]]\n",
            "x= [-10.          -9.7979798   -9.5959596   -9.39393939  -9.19191919\n",
            "  -8.98989899  -8.78787879  -8.58585859  -8.38383838  -8.18181818\n",
            "  -7.97979798  -7.77777778  -7.57575758  -7.37373737  -7.17171717\n",
            "  -6.96969697  -6.76767677  -6.56565657  -6.36363636  -6.16161616\n",
            "  -5.95959596  -5.75757576  -5.55555556  -5.35353535  -5.15151515\n",
            "  -4.94949495  -4.74747475  -4.54545455  -4.34343434  -4.14141414\n",
            "  -3.93939394  -3.73737374  -3.53535354  -3.33333333  -3.13131313\n",
            "  -2.92929293  -2.72727273  -2.52525253  -2.32323232  -2.12121212\n",
            "  -1.91919192  -1.71717172  -1.51515152  -1.31313131  -1.11111111\n",
            "  -0.90909091  -0.70707071  -0.50505051  -0.3030303   -0.1010101\n",
            "   0.1010101    0.3030303    0.50505051   0.70707071   0.90909091\n",
            "   1.11111111   1.31313131   1.51515152   1.71717172   1.91919192\n",
            "   2.12121212   2.32323232   2.52525253   2.72727273   2.92929293\n",
            "   3.13131313   3.33333333   3.53535354   3.73737374   3.93939394\n",
            "   4.14141414   4.34343434   4.54545455   4.74747475   4.94949495\n",
            "   5.15151515   5.35353535   5.55555556   5.75757576   5.95959596\n",
            "   6.16161616   6.36363636   6.56565657   6.76767677   6.96969697\n",
            "   7.17171717   7.37373737   7.57575758   7.77777778   7.97979798\n",
            "   8.18181818   8.38383838   8.58585859   8.78787879   8.98989899\n",
            "   9.19191919   9.39393939   9.5959596    9.7979798   10.        ] \n",
            "rozmiar 100\n",
            "Typ tablicy to <class 'numpy.ndarray'>\n"
          ]
        }
      ],
      "source": [
        "wektor_zerowy = np.zeros((2, 3)) #krotka przekazywana jako parametr\n",
        "print(\"Wektor zerowy\")\n",
        "print(wektor_zerowy)\n",
        "\n",
        "## wektory inicjalizowane 1\n",
        "\n",
        "wektor_jedynek = np.ones((2, 2, 2))\n",
        "print(\"wektor jedynek\")\n",
        "print(wektor_jedynek)\n",
        "\n",
        "wektor_czego_sie_chce = np.full((2,2), 3)\n",
        "print('wektor czego sie chce')\n",
        "print(wektor_czego_sie_chce)\n",
        "\n",
        "## macierz identycznościowa\n",
        "\n",
        "macierz_identycznosciowa = np.eye(4)\n",
        "print(\"Macierz identycznosciowa\")\n",
        "print(macierz_identycznosciowa)\n",
        "\n",
        "macierz_identycznosciowa_asymetryczne = np.eye(4, 5)\n",
        "print(\"Macierz asymetryczna\")\n",
        "print(macierz_identycznosciowa_asymetryczne)\n",
        "\n",
        "## generowanie osi numerycznych\n",
        "\n",
        "x = np.linspace(-10, 10, num=100)\n",
        "print(\"x=\", x, \"\\nrozmiar\", x.size)\n",
        "\n",
        "print('Typ tablicy to', type(x))"
      ]
    },
    {
      "cell_type": "markdown",
      "metadata": {
        "id": "P0ueMFI-aUxt"
      },
      "source": [
        "## Rzutowanie typu\n",
        "\n",
        "Dla tablic można również sprecyzować odpowiedni typ. Można również w dowolnej chwili zmienić rodzaj typu w danej tablicy\n",
        "\n",
        "Typy danych\n",
        "\n",
        "* int - całkowito-liczbowy w rozmiarach 8,16,32,64,128 bitów\n",
        "* uint - całkowito-liczbowy bez znaku (unsigned) w rozmiarach 8,16,32,64,128 bitów\n",
        "* float - zmiennoprzecinkowy w rozmiarach 16,32,64,128,256\n",
        "* complex - zmiennoprzecinkowy zespolony w rozmiarach 32, 64, 128, 160, 192, 256, 512 bitów\n",
        "* char, str, unicode - znakowe\n",
        "* bool - logiczny\n",
        "* object - obiekty pythona"
      ]
    },
    {
      "cell_type": "code",
      "execution_count": null,
      "metadata": {
        "id": "sDUtkR12aUxt",
        "outputId": "b1903ccc-0537-498f-a61d-b5339926f7c8"
      },
      "outputs": [
        {
          "name": "stdout",
          "output_type": "stream",
          "text": [
            "[ 1 -2  3]\n",
            "Typ c to  <class 'numpy.ndarray'>  o danych rodzaju  int8\n",
            "[         1 4294967294          3]\n",
            "Typ d to  <class 'numpy.ndarray'>  o danych rodzaju  uint32\n"
          ]
        }
      ],
      "source": [
        "c = np.array([1, -2, 3], dtype=np.int8)\n",
        "print(c)\n",
        "print('Typ c to ', type(c), ' o danych rodzaju ', c.dtype)\n",
        "\n",
        "# konwersja \n",
        "\n",
        "d = c.astype(dtype=np.uint32)\n",
        "print(d)\n",
        "print('Typ d to ', type(d), ' o danych rodzaju ', d.dtype)"
      ]
    },
    {
      "cell_type": "markdown",
      "metadata": {
        "id": "2Gh8aGp5aUxu"
      },
      "source": [
        "Jak widać zmiana typów nie sprawdza dla nas poprawności wykonania odpowiedniego rzutowania, musimy więc być odpowiednio pewni przed jej wykonaniem."
      ]
    },
    {
      "cell_type": "markdown",
      "metadata": {
        "id": "Fnlwp3v_aUxu"
      },
      "source": [
        "## Operacje numeryczne pakietu numpy\n",
        "\n",
        "Możemy wykonywać proste operacje numeryczne jak dodawnie czy mnożenie. Działamy jednak pod ograniczeniem, że muszą znajdować się w strukturach zgodne wymiary lub przynajmniej jeden operand musi być skalarem\n"
      ]
    },
    {
      "cell_type": "code",
      "execution_count": null,
      "metadata": {
        "id": "_ahQ13CUaUxu",
        "outputId": "3c9a921b-db5a-460f-cfd2-2611c94d3786"
      },
      "outputs": [
        {
          "name": "stdout",
          "output_type": "stream",
          "text": [
            "n-c= [-1  0  1  2  3  4  5  6  7  8  9 10 11 12 13 14 15 16 17 18]\n",
            "n-d= [ 0  1  2  3  4  4  5  6  7  8  8  9 10 11 12 12 13 14 15 16]\n",
            "n*2= [ 0  2  4  6  8 10 12 14 16 18 20 22 24 26 28 30 32 34 36 38]\n"
          ]
        }
      ],
      "source": [
        "n = np.arange(20)\n",
        "c = np.array([1])\n",
        "d = np.array([0, 0, 0, 0, 0, 1, 1, 1, 1, 1, 2, 2, 2, 2, 2, 3, 3, 3, 3, 3])\n",
        "print(\"n-c=\", n-c)\n",
        "print(\"n-d=\", n-d)\n",
        "print(\"n*2=\", 2*n)"
      ]
    },
    {
      "cell_type": "markdown",
      "metadata": {
        "id": "H-QpwhVLaUxv"
      },
      "source": [
        "Bardziej zaawansowane funkcje są implementowane jako składowe pakietu. Czyli aby wowołać np. operację sinus musimy posłużyć się funkcja sinus bezpośrednio z pakietu numpy. "
      ]
    },
    {
      "cell_type": "code",
      "execution_count": null,
      "metadata": {
        "id": "5gZteybhaUxv",
        "outputId": "472b5539-e06a-48e2-e88e-343a2d193214"
      },
      "outputs": [
        {
          "name": "stdout",
          "output_type": "stream",
          "text": [
            "y= [ 0.54402111  0.36459873  0.17034683 -0.03083368 -0.23076008 -0.42130064\n",
            " -0.59470541 -0.74392141 -0.86287948 -0.94674118 -0.99209556 -0.99709789\n",
            " -0.96154471 -0.8868821  -0.77614685 -0.63384295 -0.46575841 -0.27872982\n",
            " -0.0803643   0.12126992  0.31797166  0.50174037  0.66510151  0.80141062\n",
            "  0.90512352  0.97202182  0.99938456  0.98609877  0.93270486  0.84137452\n",
            "  0.7158225   0.56115544  0.38366419  0.19056796 -0.01027934 -0.21070855\n",
            " -0.40256749 -0.57805259 -0.73002623 -0.85230712 -0.93992165 -0.98930624\n",
            " -0.99845223 -0.96698762 -0.8961922  -0.78894546 -0.64960951 -0.48385164\n",
            " -0.2984138  -0.10083842  0.10083842  0.2984138   0.48385164  0.64960951\n",
            "  0.78894546  0.8961922   0.96698762  0.99845223  0.98930624  0.93992165\n",
            "  0.85230712  0.73002623  0.57805259  0.40256749  0.21070855  0.01027934\n",
            " -0.19056796 -0.38366419 -0.56115544 -0.7158225  -0.84137452 -0.93270486\n",
            " -0.98609877 -0.99938456 -0.97202182 -0.90512352 -0.80141062 -0.66510151\n",
            " -0.50174037 -0.31797166 -0.12126992  0.0803643   0.27872982  0.46575841\n",
            "  0.63384295  0.77614685  0.8868821   0.96154471  0.99709789  0.99209556\n",
            "  0.94674118  0.86287948  0.74392141  0.59470541  0.42130064  0.23076008\n",
            "  0.03083368 -0.17034683 -0.36459873 -0.54402111]\n"
          ]
        }
      ],
      "source": [
        "import numpy as np\n",
        "x = np.linspace(-10, 10, num=100)\n",
        "y = np.sin(x)\n",
        "print(\"y=\", y)"
      ]
    },
    {
      "cell_type": "markdown",
      "metadata": {
        "id": "QPClNYP7aUxv"
      },
      "source": [
        "Jest to tym logiczniejsze, im przypomnimy sobie, że ten wektor danych jest gdzieś we wnętrzu szybkiego programu numpy. Wtedy\n",
        "\n",
        "* wydanie operacji math.sin powoduje wyciągniecie wartości danych z numpy do pythona - a następnie wyznacza wartości tej funkcji dla kolejnych elementów kolekcji.\n",
        "* natomiast wydanie operacji np.sin powoduje poinstruowanie programu numpy aby wykonał on sinus na posiadanej obecnie w pamięci kopii naszych danych. \n",
        "\n",
        "Druga opcja wydaje się zdecydowanie rozsądniejsza.\n",
        "\n",
        "### Wektory logiczne\n",
        "\n",
        "Ku zaskoczeniu jednym z częściej wykorzystywanych rodzajów wektorów są wektory o składowych typu boolowskiego."
      ]
    },
    {
      "cell_type": "code",
      "execution_count": null,
      "metadata": {
        "id": "mXO37FHZaUxw",
        "outputId": "18a770af-5d82-4e2f-ee50-94856ea7d919"
      },
      "outputs": [
        {
          "name": "stdout",
          "output_type": "stream",
          "text": [
            "[ True  True  True  True  True  True  True  True  True  True False False\n",
            " False False False False False False False False]\n"
          ]
        }
      ],
      "source": [
        "import numpy as np\n",
        "n = np.arange(20)\n",
        "print(n < 10)"
      ]
    },
    {
      "cell_type": "markdown",
      "metadata": {
        "id": "qYBEVaR6aUxw"
      },
      "source": [
        "## Mnożenie macierzowe\n",
        "\n",
        "Najważniejszą z operacji dla analityka danych, którą może przeprowadzać na zbiorze jest mnożenie macierzowe. Numpy potrafi wykonywać to działanie na swoich strukturach."
      ]
    },
    {
      "cell_type": "code",
      "execution_count": null,
      "metadata": {
        "id": "DpYBO5U9aUxw",
        "outputId": "3a7e5ae4-8e63-471e-bca5-bf29e071cbb8"
      },
      "outputs": [
        {
          "data": {
            "text/plain": [
              "array([[3, 1],\n",
              "       [6, 0]])"
            ]
          },
          "execution_count": 10,
          "metadata": {},
          "output_type": "execute_result"
        }
      ],
      "source": [
        "A = np.array([[1, 1], [2, 0]])\n",
        "B = np.array([[3, 0], [0, 1]])\n",
        "np.matmul(A,B)"
      ]
    },
    {
      "cell_type": "markdown",
      "metadata": {
        "id": "bXr8xhNoaUxx"
      },
      "source": [
        "## Elementy losowości w numpy\n",
        "\n",
        "Numpy zapewnia również najbardziej podstawowe sposoby tworzenia liczb losowych."
      ]
    },
    {
      "cell_type": "code",
      "execution_count": null,
      "metadata": {
        "id": "2bpdhr5IaUxx",
        "outputId": "69b112b3-7300-404c-825a-152b49e014be"
      },
      "outputs": [
        {
          "name": "stdout",
          "output_type": "stream",
          "text": [
            "[[0.18660526 0.49128966 0.03935179 0.04809738 0.96764652 0.90113878\n",
            "  0.41369261 0.20248469 0.41385477 0.5483521 ]\n",
            " [0.42359283 0.74610371 0.18455209 0.65239837 0.74383679 0.27986666\n",
            "  0.93569951 0.18185409 0.54959024 0.03584143]]\n",
            "Max 0.9676465180906042\n",
            "Min 0.035841428083368765\n",
            "Sum 8.94584925189803\n"
          ]
        }
      ],
      "source": [
        "a = np.random.random(size=(2, 10))\n",
        "print(a)\n",
        "\n",
        "## statystyka wektora\n",
        "\n",
        "print(\"Max\", a.max())\n",
        "print(\"Min\", a.min())\n",
        "print(\"Sum\", a.sum())"
      ]
    },
    {
      "cell_type": "markdown",
      "metadata": {
        "id": "WqFe-mgIaUxy"
      },
      "source": [
        "## Zadanie 1\n",
        "\n",
        "Napisać funkcje wykonującą rzut monetą\n"
      ]
    },
    {
      "cell_type": "code",
      "execution_count": null,
      "metadata": {
        "id": "0P6rSk7jaUxy"
      },
      "outputs": [],
      "source": [
        "import numpy as np\n",
        "def rzut_moneta(ile):\n",
        "    return ['o' if x == 0 else 'r' for x in np.random.randint(0,2, size=ile)]"
      ]
    },
    {
      "cell_type": "code",
      "execution_count": null,
      "metadata": {
        "id": "OSa-dEovaUxz"
      },
      "outputs": [],
      "source": [
        "def rzut_moneta(ile):\n",
        "    return np.random.choice(['o','r'], size = ile)"
      ]
    },
    {
      "cell_type": "code",
      "execution_count": null,
      "metadata": {
        "id": "duwK01HqaUxz",
        "outputId": "ba6590ed-53d2-4c24-e1a6-e8a46f3bbf19"
      },
      "outputs": [
        {
          "data": {
            "text/plain": [
              "array(['o', 'o', 'r', 'o', 'o'], dtype='<U1')"
            ]
          },
          "execution_count": 7,
          "metadata": {},
          "output_type": "execute_result"
        }
      ],
      "source": [
        "monety = rzut_moneta(100)\n",
        "monety[5:10]"
      ]
    },
    {
      "cell_type": "code",
      "execution_count": null,
      "metadata": {
        "id": "dQi-fsqtaUxz",
        "outputId": "3aa7a56d-f666-4119-adf9-76f2e4a48982"
      },
      "outputs": [
        {
          "name": "stdout",
          "output_type": "stream",
          "text": [
            "429 µs ± 14.1 µs per loop (mean ± std. dev. of 7 runs, 100 loops each)\n"
          ]
        }
      ],
      "source": [
        "%timeit -n100 rzut_moneta(100000)"
      ]
    },
    {
      "cell_type": "code",
      "execution_count": null,
      "metadata": {
        "id": "GWD4z01UaUxz"
      },
      "outputs": [],
      "source": [
        ""
      ]
    },
    {
      "cell_type": "markdown",
      "metadata": {
        "id": "14erDXDoaUxz"
      },
      "source": [
        "## Zadanie 2\n",
        "\n",
        "Napisać funkcje symulującą wylosowanie karty z talii"
      ]
    },
    {
      "cell_type": "code",
      "execution_count": null,
      "metadata": {
        "id": "XuojiL-7aUx0"
      },
      "outputs": [],
      "source": [
        "def karta_z_talii(ile_kart = 1):\n",
        "    pass"
      ]
    },
    {
      "cell_type": "markdown",
      "metadata": {
        "id": "ZVVE1Z1qaUx0"
      },
      "source": [
        "# Slicing tablic numpy\n",
        "\n",
        "Do pracy i wybierania poszczególnych składowych z tablic numpy stosuje sie przemyślane metody selekcji elementów (tzw. slicing). Metody te są w użyciu podobne do tych stosowanych dla pythonowych krotek i tablic\n",
        "\n"
      ]
    },
    {
      "cell_type": "code",
      "execution_count": null,
      "metadata": {
        "id": "H6kWQNmVaUx0",
        "outputId": "7bd49fb2-f39e-4612-d152-b508d1b081cb"
      },
      "outputs": [
        {
          "name": "stdout",
          "output_type": "stream",
          "text": [
            "[[0.6121195  0.51932728 0.25373152 0.54129041 0.32254868 0.79053927\n",
            "  0.70829137 0.35595865 0.64308244 0.49916556]\n",
            " [0.93755351 0.70901803 0.61167586 0.52124225 0.28095643 0.99961942\n",
            "  0.58889657 0.5996094  0.43056533 0.72800158]]\n",
            "Dwa pierwsze elementy [0.6121195  0.51932728]\n",
            "b= [0.60101979 0.89254238 0.44505204 0.51844854 0.27333781 0.67735725\n",
            " 0.4694342  0.75594509 0.32275714 0.40275878]\n",
            "Element  0.6010197905166998\n",
            "Element  0.8925423784901845\n",
            "Element  0.4450520372269833\n",
            "Element  0.5184485394028829\n",
            "Element  0.27333781454747463\n",
            "Element  0.6773572530874336\n",
            "Element  0.4694341959283642\n",
            "Element  0.7559450882680558\n",
            "Element  0.3227571408288341\n",
            "Element  0.4027587847394285\n",
            "Wiersz [0.6121195  0.51932728 0.25373152 0.54129041 0.32254868 0.79053927\n",
            " 0.70829137 0.35595865 0.64308244 0.49916556]\n",
            "Wiersz [0.93755351 0.70901803 0.61167586 0.52124225 0.28095643 0.99961942\n",
            " 0.58889657 0.5996094  0.43056533 0.72800158]\n",
            "Element 0.6121195020566964\n",
            "Element 0.519327284573785\n",
            "Element 0.2537315206016737\n",
            "Element 0.5412904115537674\n",
            "Element 0.3225486810074828\n",
            "Element 0.7905392705289072\n",
            "Element 0.7082913677009252\n",
            "Element 0.35595865071538124\n",
            "Element 0.6430824361135622\n",
            "Element 0.4991655587344461\n",
            "Element 0.9375535078621752\n",
            "Element 0.709018027750039\n",
            "Element 0.6116758566290609\n",
            "Element 0.5212422523522237\n",
            "Element 0.28095643290935324\n",
            "Element 0.9996194215079075\n",
            "Element 0.5888965680533437\n",
            "Element 0.5996094018763146\n",
            "Element 0.4305653346699415\n",
            "Element 0.728001579637214\n",
            "Spłaszczenie wektora wielowymiarowego [0.6121195  0.51932728 0.25373152 0.54129041 0.32254868 0.79053927\n",
            " 0.70829137 0.35595865 0.64308244 0.49916556 0.93755351 0.70901803\n",
            " 0.61167586 0.52124225 0.28095643 0.99961942 0.58889657 0.5996094\n",
            " 0.43056533 0.72800158]\n"
          ]
        }
      ],
      "source": [
        "a = np.random.random(size=(2, 10))\n",
        "print(a)\n",
        "print(\"Dwa pierwsze elementy\", a[0, 0:2])\n",
        "\n",
        "b = np.random.random(10)\n",
        "print(\"b=\", b)\n",
        "for i in b:\n",
        "    print(\"Element \", i)\n",
        "\n",
        "for i in a:\n",
        "    print(\"Wiersz\", i)\n",
        "\n",
        "for i in a.flat:\n",
        "    print(\"Element\", i)\n",
        "\n",
        "print(\"Spłaszczenie wektora wielowymiarowego\", a.ravel())"
      ]
    },
    {
      "cell_type": "markdown",
      "metadata": {
        "id": "KGyXfQQkaUx1"
      },
      "source": [
        "## Kopiowanie tablic numpy\n",
        "\n",
        "Z uwagi na to, że dane są przenoszone do kodu C/C++ - poważnie traktowany jest tam temat ich kopiowania. Powiedzmy sobie szczerze - kopiowanie jest operacją wymagającą dużo pracy. Tym więcej im więcej jest naszych danych. Spora część wykonywanych przez nas operacji nie wymaga od nas aby tworzyć kopię naszych danych. Aby dane podległy skopiowaniu w numpy trzeba wydać danym bezpośrednie polecenie. \n",
        "\n",
        "Zobaczmy to na przykładzie"
      ]
    },
    {
      "cell_type": "code",
      "execution_count": null,
      "metadata": {
        "id": "L_277gCoaUx1",
        "outputId": "632b1fd2-8943-4d72-82c8-93284ee1b2e4"
      },
      "outputs": [
        {
          "name": "stdout",
          "output_type": "stream",
          "text": [
            "a= [[1 2 3]\n",
            " [1 2 3]]\n",
            "a= [[1 0 3]\n",
            " [1 2 3]]\n"
          ]
        }
      ],
      "source": [
        "a = np.array([[1, 2, 3], [1, 2, 3]])\n",
        "print(\"a=\", a)\n",
        "b = a\n",
        "b[0, 1] = 0\n",
        "print(\"a=\", a)"
      ]
    },
    {
      "cell_type": "markdown",
      "metadata": {
        "id": "kCYl-6gqaUx1"
      },
      "source": [
        "Stąd obserwujemy, że pomimo tego że chcieliśmy aby b było jakąś forma kopii tablicy a, to zmiana wykonana na danych przechowywanych przez b, została również wprowadzona na danych składowanych w a. Jest tak dlatego, że \n",
        "\n",
        "* co prawda b jest kopią a, ale ani a ani b tak naprawdę nie są tablicami naszych danych. \n",
        "* Są to uchwyty do danych. \n",
        "* Zatem b jest nowym uchwytem do danych uzyskanym jako kopia uchwytu a. \n",
        "* W efekcie oba uchwyty pokazują ten sam zestaw danych w pamięci.\n",
        "\n",
        "Mam nadzieję, że udało mi się przekazać ideę. Zatem pora na rozwiązanie - jak utworzyć kopię danych a nie uchwytu"
      ]
    },
    {
      "cell_type": "code",
      "execution_count": null,
      "metadata": {
        "id": "mqdt-DNjaUx1",
        "outputId": "197e47ad-b185-42a8-b318-29e4a04343b3"
      },
      "outputs": [
        {
          "name": "stdout",
          "output_type": "stream",
          "text": [
            "b= [[1 0 3]\n",
            " [0 2 3]]\n",
            "a= [[1 0 3]\n",
            " [1 2 3]]\n"
          ]
        }
      ],
      "source": [
        "b = a.copy()\n",
        "b[1, 0] = 0\n",
        "print(\"b=\", b)\n",
        "print(\"a=\", a)"
      ]
    },
    {
      "cell_type": "markdown",
      "metadata": {
        "id": "NRQ5g6kFaUx2"
      },
      "source": [
        "# Elementy algebry liniowej\n",
        "\n",
        "Numpy dostarcza nam macierze, razem z wieloma metodami pracy z nimi. Można je wykorzystać do uzyskiwania rozwiązań i innych rzeczy związanych z układami równań liniowych."
      ]
    },
    {
      "cell_type": "code",
      "execution_count": null,
      "metadata": {
        "id": "5OwC7Zc2aUx2",
        "outputId": "1dc2fe26-e800-49fe-d004-5935782e1289"
      },
      "outputs": [
        {
          "name": "stdout",
          "output_type": "stream",
          "text": [
            "A=\n",
            " [[ 1  2]\n",
            " [-1  2]]\n",
            "A^T=\n",
            " [[ 1 -1]\n",
            " [ 2  2]]\n",
            "det A= 4.0\n",
            "A^{-1}=\n",
            " [[ 0.5  -0.5 ]\n",
            " [ 0.25  0.25]]\n",
            "A=\n",
            " [[ 5  1]\n",
            " [-3  3]\n",
            " [ 4 -1]\n",
            " [-1  2]\n",
            " [ 0  7]]\n",
            "B=\n",
            " [[ 1  7  0 -1  9  0  5]\n",
            " [ 2 -6 -1 10  2 -3  1]]\n",
            "A*B=\n",
            " [[  7  29  -1   5  47  -3  26]\n",
            " [  3 -39  -3  33 -21  -9 -12]\n",
            " [  2  34   1 -14  34   3  19]\n",
            " [  3 -19  -2  21  -5  -6  -3]\n",
            " [ 14 -42  -7  70  14 -21   7]]\n",
            "C= 8\n",
            "Rozwiązanie równania Ax=b to  [[-3.34343434 -3.08080808  3.11616162]]\n",
            "Wartości własne= (array([  2.20836502+3.75912335j,   2.20836502-3.75912335j,\n",
            "       -10.41673003+0.j        ]), array([[ 0.86914838+0.j        ,  0.86914838-0.j        ,\n",
            "        -0.25680363+0.j        ],\n",
            "       [ 0.0170539 -0.15854201j,  0.0170539 +0.15854201j,\n",
            "         0.96577728+0.j        ],\n",
            "       [ 0.0162423 +0.46785775j,  0.0162423 -0.46785775j,\n",
            "         0.03641619+0.j        ]]))\n"
          ]
        }
      ],
      "source": [
        "a = np.array([[1, 2], [-1, 2]])\n",
        "print(\"A=\\n\", a)\n",
        "print(\"A^T=\\n\", a.transpose())\n",
        "print(\"det A=\", np.linalg.det(a))\n",
        "print(\"A^{-1}=\\n\", np.linalg.inv(a))\n",
        "A = np.array([[5, 1], [-3, 3], [4, -1], [-1, 2], [0, 7]])\n",
        "B = np.array([[1, 7, 0, -1, 9, 0, 5], [2, -6, -1, 10, 2, -3, 1]])\n",
        "print(\"A=\\n\", A)\n",
        "print(\"B=\\n\", B)\n",
        "print(\"A*B=\\n\", A.dot(B))\n",
        "C = np.trace(A) #ślad macierzy\n",
        "print(\"C=\", C)\n",
        "A = np.array([[2, 3, 8], [1, -10, -4], [-2, -1, 2]])\n",
        "b = np.array([[9], [15], [16]])\n",
        "print('Rozwiązanie równania Ax=b to ', np.transpose(np.linalg.solve(A, b)))\n",
        "\n",
        "print(\"Wartości własne=\", np.linalg.eig(A))"
      ]
    },
    {
      "cell_type": "markdown",
      "metadata": {
        "id": "WGz57wSaaUx2"
      },
      "source": [
        "## Zadanie 3\n",
        "\n",
        "Rozwiązać następujący układ równań \n",
        "\n",
        "$$\n",
        "\\left\\lbrace\n",
        "\\begin{array}{c}\n",
        "2 x +   y +  3 z = 1\\\\\n",
        "2 x + 6 y +  8 z = 3\\\\\n",
        "8 x + 8 y + 18 z = 5\n",
        "\\end{array}\n",
        "\\right.\n",
        "$$"
      ]
    },
    {
      "cell_type": "code",
      "execution_count": null,
      "metadata": {
        "id": "gJpb1I6laUx2"
      },
      "outputs": [],
      "source": [
        "A = np.array([])\n",
        "b = np.array([])\n",
        "pass"
      ]
    },
    {
      "cell_type": "markdown",
      "metadata": {
        "id": "3B9aPZD0aUx3"
      },
      "source": [
        "# Wielomiany numpy\n",
        "\n",
        "Numpy dostarczają nam również możliwość tworzenia obiektów w rodzaju wielomian"
      ]
    },
    {
      "cell_type": "code",
      "execution_count": null,
      "metadata": {
        "id": "j-Nl3spdaUx3",
        "outputId": "d7bfc117-d65d-46c7-8572-a428085375fa"
      },
      "outputs": [
        {
          "name": "stdout",
          "output_type": "stream",
          "text": [
            "W1 to \n",
            "    2\n",
            "3 x + 4 x + 5\n",
            "W2 to \n",
            "    3\n",
            "4 x + 2 x + 1\n",
            "Ich suma \n",
            "    3     2\n",
            "4 x + 3 x + 6 x + 6\n",
            "Ich iloczyn \n",
            "    4      3      2\n",
            "9 x + 24 x + 46 x + 40 x + 25\n"
          ]
        }
      ],
      "source": [
        "from numpy import poly1d\n",
        "\n",
        "w1 = poly1d([3, 4, 5])\n",
        "w2 = poly1d([4, 0, 2, 1])\n",
        "print('W1 to \\n', w1)\n",
        "print('W2 to \\n', w2)\n",
        "print('Ich suma \\n', w1 + w2)\n",
        "print('Ich iloczyn \\n', w1 * w1)"
      ]
    },
    {
      "cell_type": "markdown",
      "metadata": {
        "id": "ODokvcN_aUx4"
      },
      "source": [
        "Wypisywanie nie jest mocną stroną, ale widać że tak wytworzone narzędzie może skutecznie użyte"
      ]
    },
    {
      "cell_type": "code",
      "execution_count": null,
      "metadata": {
        "id": "j-j1bGsFaUx4",
        "outputId": "f24f1c52-a3d8-49a2-d2ed-c32898733ec1"
      },
      "outputs": [
        {
          "name": "stdout",
          "output_type": "stream",
          "text": [
            "5\n",
            "12\n"
          ]
        }
      ],
      "source": [
        "print(w1(0))\n",
        "print(w1(1))"
      ]
    },
    {
      "cell_type": "code",
      "execution_count": null,
      "metadata": {
        "id": "aosaa3CTaUx4",
        "outputId": "f3e747cd-883d-4515-85e6-5e4f62eaa148"
      },
      "outputs": [
        {
          "name": "stdout",
          "output_type": "stream",
          "text": [
            "2\n",
            "[3 4 5]\n",
            "[-0.66666667+1.1055416j -0.66666667-1.1055416j]\n",
            "x\n"
          ]
        }
      ],
      "source": [
        "print(w1.order)\n",
        "print(w1.coefficients)\n",
        "print(w1.roots)\n",
        "print(w1.variable)"
      ]
    },
    {
      "cell_type": "markdown",
      "metadata": {
        "id": "b_tG_elkaUx5"
      },
      "source": [
        "# Wektoryzacja funkcji\n",
        "\n",
        "Ostatni temat dotyczący wyłącznie numpy opowiada o tworzeniu funkcji wektorowych. Jak zmienić funkcję $f(x,y)$ działającą dla skalarów na $f(X,Y)$ działającą dla wektorów pozycja za pozycją:\n"
      ]
    },
    {
      "cell_type": "code",
      "execution_count": null,
      "metadata": {
        "id": "Gn2qMDd0aUx5",
        "outputId": "2c85c682-9c11-4276-ed59-e1af42c7c910"
      },
      "outputs": [
        {
          "name": "stdout",
          "output_type": "stream",
          "text": [
            "Wynik= [0 2 4]\n"
          ]
        }
      ],
      "source": [
        "def funkcja(a, b):\n",
        "    return a+b\n",
        "\n",
        "\n",
        "vector_funkcja = np.vectorize(funkcja)\n",
        "\n",
        "a = np.array([1, 2, 3])\n",
        "b = np.array([-1, 0, 1])\n",
        "\n",
        "print(\"Wynik=\", vector_funkcja(a, b))"
      ]
    },
    {
      "cell_type": "markdown",
      "metadata": {
        "id": "1vyzRPfsaUx5"
      },
      "source": [
        "Miejmy jednak na uwadze, że po tego rodzaju funkcjach nie należy się spodziewać porównywalnej szybkości co dla wbudowanych funkcji numpy"
      ]
    },
    {
      "cell_type": "code",
      "execution_count": null,
      "metadata": {
        "id": "klY8nVe8aUx6"
      },
      "outputs": [],
      "source": [
        "import random \n",
        "import numpy as np\n",
        "\n",
        "a = [random.randint(1, 100) for _ in range(1000000)]\n",
        "b = [random.randint(1, 100) for _ in range(1000000)]\n",
        "\n",
        "\n",
        "np_a = np.array(a)\n",
        "np_b = np.array(b)"
      ]
    },
    {
      "cell_type": "code",
      "execution_count": null,
      "metadata": {
        "id": "PgTKmGHQaUx6",
        "outputId": "aa0350ca-1d4d-4461-f7b1-ab4652be6720"
      },
      "outputs": [
        {
          "name": "stdout",
          "output_type": "stream",
          "text": [
            "106 ms ± 685 µs per loop (mean ± std. dev. of 7 runs, 100 loops each)\n"
          ]
        }
      ],
      "source": [
        "%timeit -n100 vector_funkcja(np_a, np_b)"
      ]
    },
    {
      "cell_type": "code",
      "execution_count": null,
      "metadata": {
        "id": "NFfTafYsaUx6",
        "outputId": "94991a0a-182c-44dd-8412-d6cd1ee8efee"
      },
      "outputs": [
        {
          "name": "stdout",
          "output_type": "stream",
          "text": [
            "1.03 ms ± 37.3 µs per loop (mean ± std. dev. of 7 runs, 100 loops each)\n"
          ]
        }
      ],
      "source": [
        "%timeit -n100 np_a + np_b"
      ]
    },
    {
      "cell_type": "markdown",
      "metadata": {
        "id": "d0GfyaHaaUx7"
      },
      "source": [
        "# Pobieranie zdalnych danych\n",
        "\n",
        "Poniżej prezentujemy jeszcze sposób na pobieranie zdalne zasobów:"
      ]
    },
    {
      "cell_type": "code",
      "execution_count": null,
      "metadata": {
        "id": "alb3j6--aUx7",
        "outputId": "acefdcd1-c0de-4003-8265-6779fa9c6b69"
      },
      "outputs": [
        {
          "name": "stdout",
          "output_type": "stream",
          "text": [
            "[['Family' 'Father' 'Mother' 'Gender' 'Height' 'Kids']\n",
            " ['1' '78.5' '67' 'M' '73.2' '4']\n",
            " ['1' '78.5' '67' 'F' '69.2' '4']\n",
            " ...\n",
            " ['136A' '68.5' '65' 'F' '64' '8']\n",
            " ['136A' '68.5' '65' 'F' '63.5' '8']\n",
            " ['136A' '68.5' '65' 'F' '63' '8']]\n"
          ]
        }
      ],
      "source": [
        "import requests\n",
        "import csv\n",
        "\n",
        "url = \"http://www.randomservices.org/random/data/Galton.txt\"\n",
        "\n",
        "with requests.Session() as s: #jeśli nie wiesz jak działa blok with powróć do lekcji_2_nietypowe\n",
        "    download = s.get(url)\n",
        "decoded_content = download.content.decode('utf-8')\n",
        "\n",
        "data_iter = csv.reader(decoded_content.splitlines(), delimiter='\\t')\n",
        "data = np.array([data for data in data_iter])\n",
        "print(data)"
      ]
    },
    {
      "cell_type": "code",
      "execution_count": null,
      "metadata": {
        "id": "ffp1tRgPaUx7"
      },
      "outputs": [],
      "source": [
        ""
      ]
    },
    {
      "cell_type": "code",
      "execution_count": null,
      "metadata": {
        "id": "m2cWBkz9aUx8"
      },
      "outputs": [],
      "source": [
        ""
      ]
    }
  ],
  "metadata": {
    "kernelspec": {
      "display_name": "Python 3",
      "language": "python",
      "name": "python3"
    },
    "language_info": {
      "codemirror_mode": {
        "name": "ipython",
        "version": 3
      },
      "file_extension": ".py",
      "mimetype": "text/x-python",
      "name": "python",
      "nbconvert_exporter": "python",
      "pygments_lexer": "ipython3",
      "version": "3.8.5"
    },
    "colab": {
      "name": "Część 1 - Numpy.ipynb",
      "provenance": [],
      "include_colab_link": true
    }
  },
  "nbformat": 4,
  "nbformat_minor": 0
}