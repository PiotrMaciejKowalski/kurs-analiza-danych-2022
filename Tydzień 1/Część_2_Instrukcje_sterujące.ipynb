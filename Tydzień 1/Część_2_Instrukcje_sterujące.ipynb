{
  "cells": [
    {
      "cell_type": "markdown",
      "metadata": {
        "id": "view-in-github",
        "colab_type": "text"
      },
      "source": [
        "<a href=\"https://colab.research.google.com/github/PiotrMaciejKowalski/kurs-analiza-danych-2022/blob/main/Tydzie%C5%84%201/Cz%C4%99%C5%9B%C4%87_2_Instrukcje_steruj%C4%85ce.ipynb\" target=\"_parent\"><img src=\"https://colab.research.google.com/assets/colab-badge.svg\" alt=\"Open In Colab\"/></a>"
      ]
    },
    {
      "cell_type": "markdown",
      "metadata": {
        "id": "67plMCznX29g"
      },
      "source": [
        "# Python - Wprowadzenie do programowania cz 2\n",
        "\n",
        "W tej części poznamy podstawę języka Python. Instrukcje sterujące. Specjalne komendy w języku Python pozwalające decydowanie kiedy, ile razy, w jakiej kolejności i jakie instrukcje mają się wykonać."
      ]
    },
    {
      "cell_type": "markdown",
      "metadata": {
        "id": "0qC0eQUvX29m"
      },
      "source": [
        "# Komendy sterujące \n",
        "\n",
        "## Bloki kodu\n",
        "\n",
        "Wspominane było, że linie kodu nie mogą być poprzedzone znakiem spacji czy tabulatora. Wyjaśnimy czemu do tej pory tak musiało być. Powodem są bloki kodu\n",
        "\n",
        "Blokiem kodu nazywamy ciągi instrukcji posiadających własną przestrzeń nazw (dodatkową) wyszczególnioną w specjalny sposób.\n",
        "\n",
        "Bloki kodu są np. wykonywane w instrukcjach warunkowych czy pętlach. W javie czy c++ np.\n",
        "```cpp\n",
        "if (warunek) {\n",
        "   \\\\Blok instrukcji\n",
        "   czynnosc1();\n",
        "   czynnosc2();\n",
        "}\n",
        "```\n",
        "Najcześciej spotykane w programowaniu jest grupowanie bloków z wykorzystaniem nawiasów klamrowych. Oprócz tego wszyscy programiści zalecali robienie wcięć dla instrukcji w bloku - aby wyszczególnić jednakowe przestrzenie nazw i odróżniać instrukcje warunkowe od ogólnych, powtarzane od jednokrotnych.\n",
        "\n",
        "Twórcy Pythona dostrzegli w tym nadmiarowość formy. Zdecydowali się odrzucić klamry. W ten sposób bloki kodu określane są na podstawie **wcięć kodu**.\n",
        "\n",
        "Jak wygląda praca z tymi wcięciami przekonamy się już za chwilę:\n",
        "\n",
        "Miejsca gdzie występują bloki kodu:\n",
        "* Instrukcje warunkowe\n",
        "* Pętle\n",
        "* Funkcje\n",
        "* Implementacje klas\n",
        "* Bloki with\n",
        "\n"
      ]
    },
    {
      "cell_type": "markdown",
      "metadata": {
        "id": "5nVrw_gnX29r"
      },
      "source": [
        "## Instrukcja warunkowa IF\n",
        "\n",
        "Podstawową instrukcją warunkową w Pythonie jest if-elif-else. Podobnie jak w innych technologiach programistycznych, bloki elif i else można pomijać. Ogólna postać takiej instrukcji wygląda następująco:\n",
        "```python\n",
        "if warunek1:\n",
        "    #czynnosc1\n",
        "elif warunek2:\n",
        "    #czynnosc2\n",
        "else:\n",
        "    #czynnosc3\n",
        "```\n",
        "Np:\n"
      ]
    },
    {
      "cell_type": "code",
      "execution_count": null,
      "metadata": {
        "id": "u-G-F5r0X29u",
        "outputId": "94f7848f-080a-4fab-dfff-b15a36c04027"
      },
      "outputs": [
        {
          "name": "stdout",
          "output_type": "stream",
          "text": [
            "X jest liczbą nieparzystą\n",
            "Tu blok już się zakończył i wykonuje się on niezależnie od wartości sprawdzanego warunku\n"
          ]
        }
      ],
      "source": [
        "x = 5\n",
        "if x % 2 == 1:\n",
        "    print('X jest liczbą nieparzystą')\n",
        "else:\n",
        "    print('X jest liczbą parzystą')\n",
        "print('Tu blok już się zakończył i wykonuje się on niezależnie od wartości sprawdzanego warunku')"
      ]
    },
    {
      "cell_type": "markdown",
      "metadata": {
        "id": "YhG7f3KZX29x"
      },
      "source": [
        "* Instrukcja warunkowa musi mieć blok if\n",
        "* Instrukcja może mieć najwyżej jeden blok else,\n",
        "* Instrukcja może mieć dowolną ilość bloków elif\n",
        "* Koniec wcięcia oznacza koniec bloku,\n",
        "* Linijka początkowa bloku musi kończyć się znakiem :"
      ]
    },
    {
      "cell_type": "markdown",
      "metadata": {
        "id": "LI3N6lkQX29y"
      },
      "source": [
        "## IF połączone z IN\n",
        "\n",
        "Z instrukcją if możemy łatwo sprawdzać czy element występuje we wskazanej a wcześniej poznanej kolekcji. Np. czy ciąg znaków zawiera daną literę:\n"
      ]
    },
    {
      "cell_type": "code",
      "execution_count": null,
      "metadata": {
        "id": "nPNmqEyaX290",
        "outputId": "77d9321e-c143-4c87-e85f-1c34f07e520a"
      },
      "outputs": [
        {
          "name": "stdout",
          "output_type": "stream",
          "text": [
            "Zdanie ma literke k\n",
            "Zdanie ma kota!\n"
          ]
        }
      ],
      "source": [
        "zdanie = \"Ala ma kota!\"\n",
        "if \"k\" in zdanie:\n",
        "    print(\"Zdanie ma literke k\")\n",
        "if \"kot\" in zdanie:\n",
        "    print(\"Zdanie ma kota!\")"
      ]
    },
    {
      "cell_type": "markdown",
      "metadata": {
        "id": "j-9B_20LX293"
      },
      "source": [
        "## Pętle For\n",
        "\n",
        "Język Python wspiera również wykonywanie powtarzalnych obliczeń z wykorzystaniem konstrukcji pętli. Najczęściej do realizacji powtórzeń w Pythonie stosowana jest pętla for \n",
        "\n",
        "* wykorzystująca kolekcje:\n",
        "for element in lista:\n",
        "    #blok instrukcji\n",
        "* wykorzystująca licznik:\n",
        "for i in range(begin,end,step):\n",
        "    #blok instrukcji\n"
      ]
    },
    {
      "cell_type": "code",
      "execution_count": null,
      "metadata": {
        "id": "ymghnaIMX294",
        "outputId": "ed20dcd4-75cd-4363-986f-42d757958005"
      },
      "outputs": [
        {
          "name": "stdout",
          "output_type": "stream",
          "text": [
            "Teraz kolej na raz\n",
            "Teraz kolej na dwa\n",
            "Teraz kolej na trzy\n",
            "Kolejna liczba to  0\n",
            "Kolejna liczba to  2\n",
            "Kolejna liczba to  4\n",
            "Kolejna liczba to  6\n",
            "Kolejna liczba to  8\n"
          ]
        }
      ],
      "source": [
        "lista = ['raz', 'dwa', 'trzy']\n",
        "for element in lista:\n",
        "    print('Teraz kolej na', element)\n",
        "\n",
        "for i in range(0,10,2):\n",
        "    print('Kolejna liczba to ',i)"
      ]
    },
    {
      "cell_type": "markdown",
      "metadata": {
        "id": "p8ea6XxkX297"
      },
      "source": [
        "## Pętle while\n",
        "\n",
        "Czasem spotykamy również inny rodzaj pętli - pętle while\n",
        "\n",
        "```python\n",
        "while warunek:\n",
        "    #blok kodu\n",
        "```"
      ]
    },
    {
      "cell_type": "code",
      "execution_count": null,
      "metadata": {
        "id": "k528OoqKX299",
        "outputId": "3ae7299d-7415-4abf-8503-6d4d99745190"
      },
      "outputs": [
        {
          "name": "stdout",
          "output_type": "stream",
          "text": [
            "Obecna wartosc to  1\n",
            "Obecna wartosc to  2\n",
            "Obecna wartosc to  3\n",
            "Obecna wartosc to  4\n",
            "Obecna wartosc to  5\n",
            "Obecna wartosc to  6\n",
            "Obecna wartosc to  7\n",
            "Obecna wartosc to  8\n",
            "Obecna wartosc to  9\n",
            "Obecna wartosc to  10\n",
            "Obecna wartosc to  11\n"
          ]
        }
      ],
      "source": [
        "i = 0\n",
        "while i <= 10:\n",
        "    i += 1\n",
        "    print('Obecna wartosc to ', i)"
      ]
    },
    {
      "cell_type": "markdown",
      "metadata": {
        "id": "DbMrpXebX29-"
      },
      "source": [
        "Najczęściej jest ona wykorzystywana razem z komendami break i continue\n",
        "\n",
        "* break - powoduje przerwanie działania petli i opuszczenie jej całkowicie\n",
        "* continue - powoduje natychmiastowe przejście do wykonywania następnej petli\n"
      ]
    },
    {
      "cell_type": "code",
      "execution_count": null,
      "metadata": {
        "id": "2EBDR6NLX2-A",
        "outputId": "04577eb2-0785-4cd7-ba6b-ca08533526b7"
      },
      "outputs": [
        {
          "name": "stdout",
          "output_type": "stream",
          "text": [
            "Przetwarzam  1\n",
            "Przetwarzam  2\n",
            "Przetwarzam  3\n",
            "Przetwarzam  4\n",
            "Przetwarzam  5\n",
            "Przetwarzam  6\n",
            "Przetwarzam  8\n",
            "Przetwarzam  9\n",
            "Przetwarzam  10\n",
            "Przetwarzam  11\n",
            "Przetwarzam  12\n",
            "Przetwarzam  13\n"
          ]
        }
      ],
      "source": [
        "i = 0\n",
        "while True:\n",
        "    i += 1\n",
        "    if (i % 7 == 0): \n",
        "        continue\n",
        "    if (i >= 15):\n",
        "        break\n",
        "    print('Przetwarzam ', i)"
      ]
    },
    {
      "cell_type": "markdown",
      "metadata": {
        "id": "cfENxZPeX2-C"
      },
      "source": [
        "# Operatory\n",
        "\n",
        "W Pythonie najprostszymi funkcjami są operatory. Czyli akcje wykonywane przez Python w odpowiedzi na znaki +,- oraz podobne. W Pythonie istnieją następujące grupy operatorów\n",
        "\n",
        "* arytmetryczne,\n",
        "* relacyjne (porównawcze),\n",
        "* logiczne,\n",
        "* bitowe,\n",
        "* przypisania,\n",
        "* identycznościowe,\n",
        "* przynależności.\n",
        "\n",
        "## Operatory arytmetyczne \n",
        "\n",
        "Do operatorów (które poznaliśmy w dużej mierze poprzednio) zaliczamy \n",
        "\n",
        "* dodawanie '+'\n",
        "* odejmowanie '-'\n",
        "* mnożenie '*'\n",
        "* dzielenie '/'\n",
        "* dzielenie modulo '%'\n",
        "* potęgę '**'\n",
        "* dzielenie całkowitoliczbowe '//'\n"
      ]
    },
    {
      "cell_type": "markdown",
      "metadata": {
        "id": "M9J1jyGXX2-D"
      },
      "source": [
        "## Operatory relacyjne\n",
        "\n",
        "Wśród operatorów relacyjnych wyróżniamy\n",
        "\n",
        "* równość '=='\n",
        "* nierówność '!='\n",
        "* mniejsze oraz większe ('<' i '>')\n",
        "* mniejsze lub równe oraz większe lub równe ('<=' i '>=')\n"
      ]
    },
    {
      "cell_type": "code",
      "execution_count": null,
      "metadata": {
        "id": "803G6TMxX2-D",
        "outputId": "cbfcf1dd-07b0-43e0-f8a2-5a6b5177271d"
      },
      "outputs": [
        {
          "name": "stdout",
          "output_type": "stream",
          "text": [
            "3 jest mniejsze od 5\n"
          ]
        }
      ],
      "source": [
        "if 3 < 5:\n",
        "    print('3 jest mniejsze od 5')"
      ]
    },
    {
      "cell_type": "markdown",
      "metadata": {
        "id": "wIfdPGnPX2-E"
      },
      "source": [
        "Co ciekawe dopuszczalne są również (a niedostępne w innych językach programowania) następujące ciągi relacji"
      ]
    },
    {
      "cell_type": "code",
      "execution_count": null,
      "metadata": {
        "id": "4roNEwfsX2-F",
        "outputId": "dc45ec46-4f60-4884-ef1a-b25c5ecf6eeb"
      },
      "outputs": [
        {
          "name": "stdout",
          "output_type": "stream",
          "text": [
            "Liczba ta należy do przedziału (3,5]\n"
          ]
        }
      ],
      "source": [
        "liczba = 4\n",
        "if 3 < liczba <= 5:\n",
        "    print('Liczba ta należy do przedziału (3,5]')"
      ]
    },
    {
      "cell_type": "markdown",
      "metadata": {
        "id": "8moKqC_mX2-G"
      },
      "source": [
        "## Operatory logiczne\n",
        "\n",
        "Specjalna grupa operatorów jest zarezerwowana dla typów logicznych. Wyszczególniamy\n",
        "\n",
        "* logiczne i 'and',\n",
        "* logiczne lub 'or',\n",
        "* logiczne nie 'not'."
      ]
    },
    {
      "cell_type": "code",
      "execution_count": null,
      "metadata": {
        "id": "b-y6sK0bX2-H",
        "outputId": "586017b0-b10c-4ae1-802b-8a43cc761f2a"
      },
      "outputs": [
        {
          "name": "stdout",
          "output_type": "stream",
          "text": [
            "Liczba nie jest podzielna przez 3 oraz 2\n"
          ]
        }
      ],
      "source": [
        "liczba = 14\n",
        "if liczba % 3 == 0 and liczba % 2 ==0 :\n",
        "    print('Liczba jest podzielna przez 3 oraz 2')\n",
        "else :\n",
        "    print('Liczba nie jest podzielna przez 3 oraz 2')"
      ]
    },
    {
      "cell_type": "markdown",
      "metadata": {
        "id": "FmiOBWTVX2-I"
      },
      "source": [
        "## Operatory bitowe\n",
        "\n",
        "Operatory bitowe są stosowane do pracy na bitowych reprezentacjach dla danych. Dla operatorów tych nie jest istotne jaki typ danych przekształcają gdyż zawsze pracują na ich bitowym zapisie.\n",
        "\n",
        "Operatorami takimi są \n",
        "\n",
        "* Bitowe i '&' - gdzie dany bit zostaje ustalony na 1 tylko jeśli oba operandy miały 1 na tym bicie\n",
        "* Bitowe lub '|' - gdzie dany bit zostaje ustalony na 1 tylko jeśli dowolny operand miał 1 na tym bicie\n",
        "* Bitowe xor '^' - gdzie dany bit zostaje ustalony na 1 tylko jeśli dokładnie jeden operand miał 1 na tym bicie\n",
        "* Bitowe not '~' - gdzie dany bit zostaje ustalony na 1 tylko jeśli operand (jedyny operand) miał 0 na tym bicie\n",
        "* Bitowe przesunięcie w lewo '<<' - gdzie bity są przesuwane zgodnie w reprezentacji na miejsca bardziej po lewo, bity wysunięte poza zakres są tracone, a od lewej strony reprezentacja jest uzupełniana zerami\n",
        "* Bitowe przesunięcie w prawo '>>' - gdzie bity są przesuwane zgodnie w reprezentacji na miejsca bardziej po prawo, bity wysunięte poza zakres są tracone, a od lewej strony reprezentacja jest uzupełniana zerami"
      ]
    },
    {
      "cell_type": "code",
      "execution_count": null,
      "metadata": {
        "id": "k3C-azqrX2-S",
        "outputId": "44cd7cd7-9f16-4d5a-b65a-1d9b86bb0d18"
      },
      "outputs": [
        {
          "name": "stdout",
          "output_type": "stream",
          "text": [
            "x ma wartość 3 y ma wartość 14\n"
          ]
        }
      ],
      "source": [
        "x = 0b0011 #tak można zadawać liczby w postaci dwójkowej\n",
        "y = 0b1110\n",
        "print('x ma wartość', x, 'y ma wartość', y)"
      ]
    },
    {
      "cell_type": "code",
      "execution_count": null,
      "metadata": {
        "id": "67KNzcYZX2-S",
        "outputId": "e74282d1-edfe-48f3-d6f4-24a2b5d59dc8"
      },
      "outputs": [
        {
          "name": "stdout",
          "output_type": "stream",
          "text": [
            "Wynik 0010\n"
          ]
        }
      ],
      "source": [
        "z = x & y\n",
        "print('Wynik {0:{fill}4b}'.format(z,fill='0'))"
      ]
    },
    {
      "cell_type": "markdown",
      "metadata": {
        "id": "99TVZbI7X2-T"
      },
      "source": [
        "Zaprezentujemy jeszcze działanie przesuniecia"
      ]
    },
    {
      "cell_type": "code",
      "execution_count": null,
      "metadata": {
        "id": "su-Hap1RX2-U",
        "outputId": "8e175850-5907-4f50-d93e-995cd5bb07ca"
      },
      "outputs": [
        {
          "name": "stdout",
          "output_type": "stream",
          "text": [
            "Wynik 0110\n"
          ]
        }
      ],
      "source": [
        "print('Wynik {0:{fill}4b}'.format(x<<1,fill='0'))"
      ]
    },
    {
      "cell_type": "markdown",
      "metadata": {
        "id": "UgMsi82SX2-V"
      },
      "source": [
        "## Operatory przypisania \n",
        "\n",
        "Kolejną grupą operatorów są operatory przypisania. Do grupy tej zaliczamy\n",
        "\n",
        "* operator '=',\n",
        "* operatory przypisania arytmetycznego '+=', '-=', '*=', '/=', '%=', '//=', '**=',\n",
        "* operatory przypisania logicznego '&=', '|=', '^=',\n",
        "* operatory przypisania przesuniętego, '<<=' i '>>='\n",
        "\n",
        "Pierwszy operator służy do przypisania wartości do zmiennej\n",
        "\n",
        "```python\n",
        "zmienna = wartosc\n",
        "```\n",
        "\n",
        "Przede wszystkim nie należy pomylić operatora relacyjnej równości z tym operatorem. Pozostałe operatory mają łatwe do zrozumienia działanie. Widząc linijkę z operatorem \n",
        "```python \n",
        "zmienna ?= wartosc\n",
        "``` \n",
        "(? jest dowolnym z dopuszczalnych symboli) nalezy widzieć wykonanie następującej akcji \n",
        "```python\n",
        "zmienna = zmienna ? wartosc\n",
        "```\n",
        "I tak"
      ]
    },
    {
      "cell_type": "code",
      "execution_count": null,
      "metadata": {
        "id": "tlUXikvBX2-V",
        "outputId": "01d6cda5-6670-4cae-9e69-0e219abe8464"
      },
      "outputs": [
        {
          "name": "stdout",
          "output_type": "stream",
          "text": [
            "8\n"
          ]
        }
      ],
      "source": [
        "x = 5\n",
        "x += 3\n",
        "print(x)"
      ]
    },
    {
      "cell_type": "markdown",
      "metadata": {
        "id": "DdCbLpJBX2-W"
      },
      "source": [
        "## Operatory identycznościowe\n",
        "\n",
        "Są operatorami mającymi za zadanie sprawdzić czy dane dwie etykiety przechowują ten sam lub nie ten sam obiekt. \n",
        "Operatorami tymi są \n",
        "\n",
        "* is\n",
        "* is not\n",
        "\n",
        "Sens prezentuje poniższy przykład"
      ]
    },
    {
      "cell_type": "code",
      "execution_count": null,
      "metadata": {
        "id": "YIxnzZGoX2-W",
        "outputId": "e03b24d0-7e8f-422f-c962-11c543fe9daf"
      },
      "outputs": [
        {
          "name": "stdout",
          "output_type": "stream",
          "text": [
            "To różne obiekty\n",
            "Obiekty mają takie same wartości\n"
          ]
        }
      ],
      "source": [
        "a = [5]\n",
        "b = [5]\n",
        "if a is b:\n",
        "    print('To ten sam obiekt')\n",
        "else :\n",
        "    print('To różne obiekty')\n",
        "    \n",
        "if a == b:\n",
        "    print('Obiekty mają takie same wartości')"
      ]
    },
    {
      "cell_type": "code",
      "execution_count": null,
      "metadata": {
        "id": "XQ0MsWvHX2-X",
        "outputId": "c1a8a7ec-f7c3-4682-8edc-fe72e54df262"
      },
      "outputs": [
        {
          "name": "stdout",
          "output_type": "stream",
          "text": [
            "To ten sam obiekt\n",
            "Obiekty mają takie same wartości\n"
          ]
        }
      ],
      "source": [
        "a = [5]\n",
        "b = a\n",
        "if a is b:\n",
        "    print('To ten sam obiekt')\n",
        "else :\n",
        "    print('To różne obiekty')\n",
        "    \n",
        "if a == b:\n",
        "    print('Obiekty mają takie same wartości')"
      ]
    },
    {
      "cell_type": "markdown",
      "metadata": {
        "id": "Ej-1n2X8X2-X"
      },
      "source": [
        "Co ciekawe rozpoznanie to nie działa na typach prostych"
      ]
    },
    {
      "cell_type": "code",
      "execution_count": null,
      "metadata": {
        "id": "t1iaePX-X2-X",
        "outputId": "11422416-eccb-48ef-c7cd-f208df1f35a1"
      },
      "outputs": [
        {
          "data": {
            "text/plain": [
              "True"
            ]
          },
          "execution_count": 15,
          "metadata": {},
          "output_type": "execute_result"
        }
      ],
      "source": [
        "a = 5\n",
        "b = 5\n",
        "a is b"
      ]
    },
    {
      "cell_type": "markdown",
      "metadata": {
        "id": "KdPPWewKX2-Y"
      },
      "source": [
        "Najczęściej jednak ten operator stosuje się do kontroli typu"
      ]
    },
    {
      "cell_type": "code",
      "execution_count": null,
      "metadata": {
        "id": "xzBFT9D9X2-Y",
        "outputId": "bd5f9b25-ef6f-4b8b-fb54-3a95d02acc97"
      },
      "outputs": [
        {
          "data": {
            "text/plain": [
              "True"
            ]
          },
          "execution_count": 16,
          "metadata": {},
          "output_type": "execute_result"
        }
      ],
      "source": [
        "a = 5\n",
        "type(a) is int"
      ]
    },
    {
      "cell_type": "code",
      "execution_count": null,
      "metadata": {
        "id": "BNZK_UdEX2-Z",
        "outputId": "031e09fb-76ed-4fb4-ddd4-1d738f8571de"
      },
      "outputs": [
        {
          "data": {
            "text/plain": [
              "True"
            ]
          },
          "execution_count": 17,
          "metadata": {},
          "output_type": "execute_result"
        }
      ],
      "source": [
        "type(a) is not str"
      ]
    },
    {
      "cell_type": "markdown",
      "metadata": {
        "id": "0fPXG6jPX2-Z"
      },
      "source": [
        "Często wykorzystuje się go do sprawdzenia czy dany obiekt został zainicjowany"
      ]
    },
    {
      "cell_type": "code",
      "execution_count": null,
      "metadata": {
        "id": "He3dF6_9X2-a",
        "outputId": "b48393e2-7928-45dc-f4a3-5a4ff4b82ae9"
      },
      "outputs": [
        {
          "name": "stdout",
          "output_type": "stream",
          "text": [
            "a jest niezainicjowane\n"
          ]
        }
      ],
      "source": [
        "a = None\n",
        "\n",
        "if a is None:\n",
        "    print('a jest niezainicjowane')\n",
        "else:\n",
        "    print('a jest zainicjowane')"
      ]
    },
    {
      "cell_type": "markdown",
      "metadata": {
        "id": "QNszIYY6X2-a"
      },
      "source": [
        "## Operatory przynależności\n",
        "\n",
        "Ostatnią grupą operatorów są te które weryfikują czy element należy do kolekcji. Są to dwa operatory\n",
        "* in \n",
        "* not in\n",
        "\n",
        "z klasycznymi przykładami"
      ]
    },
    {
      "cell_type": "code",
      "execution_count": null,
      "metadata": {
        "id": "jdbdK0jHX2-a",
        "outputId": "0e67267b-1d87-4066-f436-ec000822b26a"
      },
      "outputs": [
        {
          "name": "stdout",
          "output_type": "stream",
          "text": [
            "Zoo nie ma kota\n"
          ]
        }
      ],
      "source": [
        "zoo = ['lew', 'słoń', 'małpa']\n",
        "if 'kot' in zoo:\n",
        "    print('Zoo ma kota')\n",
        "else:\n",
        "    print('Zoo nie ma kota')"
      ]
    },
    {
      "cell_type": "markdown",
      "metadata": {
        "id": "5x-A54UYX2-b"
      },
      "source": [
        "oraz"
      ]
    },
    {
      "cell_type": "code",
      "execution_count": null,
      "metadata": {
        "id": "CiKyF9j1X2-b",
        "outputId": "167d4caf-c9cb-4704-8b5f-a1dcd25465d7"
      },
      "outputs": [
        {
          "name": "stdout",
          "output_type": "stream",
          "text": [
            "W zdaniu Ala ma kota występuje literka m\n"
          ]
        }
      ],
      "source": [
        "if 'm' in 'Ala ma kota':\n",
        "    print('W zdaniu Ala ma kota występuje literka m')"
      ]
    },
    {
      "cell_type": "markdown",
      "metadata": {
        "id": "TzohEZB8X2-b"
      },
      "source": [
        "# Zadanie ćwiczeniowe\n",
        "\n",
        "Poznaliśmy już dostatecznie wiele ze składni Pythona aby móc zacząć rozwiązywać bardziej skomplikowane zadania\n",
        "\n",
        "## Zadanie przykładowe (kontener)\n",
        "\n",
        "Przygotujmy skrypt mający na celu gromadzenie naszych notatek w pamięci"
      ]
    },
    {
      "cell_type": "code",
      "execution_count": null,
      "metadata": {
        "id": "zLLwfpn1X2-b",
        "outputId": "dcf1b71c-40da-47e1-8f79-eda4c27a34a8"
      },
      "outputs": [
        {
          "name": "stdout",
          "output_type": "stream",
          "text": [
            "\n",
            "--------------------------------------\n",
            "---         Program Notatnik       ---\n",
            "--------------------------------------\n",
            "\n",
            "\n",
            "    wybierz odpowiednia akcje\n",
            "    <a> - dodaj wpis,              <w> - wypisz wszystkie notatki\n",
            "    <c> - wyczyść wszystkie wpisy, <q> - wyjdź z programu\n",
            "    \n",
            "q\n",
            "KONIEC\n"
          ]
        }
      ],
      "source": [
        "print(\n",
        "\"\"\"\n",
        "--------------------------------------\n",
        "---         Program Notatnik       ---\n",
        "--------------------------------------\n",
        "\"\"\")\n",
        "czy_koniec = False #taką zmienną jak tutaj nazywamy wartownikiem\n",
        "pamiec = []\n",
        "while(not czy_koniec):\n",
        "    print(\"\"\"\n",
        "    wybierz odpowiednia akcje\n",
        "    <a> - dodaj wpis,              <w> - wypisz wszystkie notatki\n",
        "    <c> - wyczyść wszystkie wpisy, <q> - wyjdź z programu\n",
        "    \"\"\")\n",
        "    komenda = input()\n",
        "    if komenda == 'a':\n",
        "        print(\"Podaj treść notatki i zatwierdź enter\\n>\")\n",
        "        notatka = input()\n",
        "        pamiec.append(notatka)\n",
        "    elif komenda == 'w':\n",
        "        print(\"-----------------------------------------------\")\n",
        "        for notatka in pamiec:\n",
        "            print(notatka)\n",
        "            print(\"-*-*-*-*-*-*-*-*-*-*-*-*-*-*-*-*-*-*-*-*-*-*-*-\")\n",
        "        print(\"-----------------------------------------------\")\n",
        "    elif komenda == 'c':\n",
        "        pamiec = []\n",
        "    elif komenda == 'q':\n",
        "        czy_koniec = True\n",
        "    else:\n",
        "        print('Niepoprawna komenda, sprobuj ponownie')\n",
        "print('KONIEC')\n",
        "        \n",
        "\n"
      ]
    },
    {
      "cell_type": "markdown",
      "metadata": {
        "id": "FXjHAENOX2-c"
      },
      "source": [
        "## Zadanie (kalkulator 4 działaniowy)\n",
        "\n",
        "W zadaniu należy napisać kalkulator wczytujący od użytkownika kolejno\n",
        "\n",
        "* liczbę (pierwszy operand)\n",
        "* znak +,-,* lub /\n",
        "* liczbę (drugi operand)\n",
        "\n",
        "i zwracający wynik odpowiedniego działania kalkulatorowego"
      ]
    },
    {
      "cell_type": "markdown",
      "metadata": {
        "id": "nGPQeAS1X2-c"
      },
      "source": [
        "## Zadanie (konwerter znaków)\n",
        "\n",
        "Napisać program, który po wczytaniu od użytkownika zdania wypisze je ponownie Wielkimi lub małymi literami"
      ]
    },
    {
      "cell_type": "markdown",
      "metadata": {
        "id": "BWVhw6ORX2-c"
      },
      "source": [
        "##  Zadanie (papuga)\n",
        "\n",
        "Napisać program, który wczyta od nas zdanie oraz liczbę - poczym wypisze \"Rrraa\" i powtórzy otrzymane zdanie - liczbę razy."
      ]
    },
    {
      "cell_type": "markdown",
      "metadata": {
        "id": "DQjXywv-X2-c"
      },
      "source": [
        "## Zadanie (brydż bez atu)\n",
        "\n",
        "W zadaniu tym do przygotowanego poniżej szablonu dopisać należy kod, w którym będziemy chcieli zagrać najlepszą kartą z talii tj.\n",
        "\n",
        "* najsłabszą bijącą (wyższą w tym samym kolorze) wyłożoną przez przeciwnika\n",
        "* najsłabszą niebijącą z całej talii gdy nie można pobić\n",
        "* jeśli mamy kartę w kolorze w ręce, nie możemy rzucić niczego z innego koloru\n",
        "\n",
        "W tle można słuchać klasyków [muzyki](https://www.youtube.com/watch?v=dOjFcx3GJHg) \n",
        "\n",
        "\"I know that the spades are the swords of a soldier\n",
        "\n",
        "I know that the clubs are weapons of war\n",
        "\n",
        "I know that diamonds mean money for this art\n",
        "\n",
        "But that's not the shape of my heart...\""
      ]
    },
    {
      "cell_type": "code",
      "execution_count": null,
      "metadata": {
        "id": "Spq8DapIX2-d"
      },
      "outputs": [],
      "source": [
        "king = 'Krol'\n",
        "quenn = 'Dama'\n",
        "jack = 'Walet'\n",
        "ace = 'As' #as jest słowem kluczowym w Python, nie można go użyć jako nazwy dla zmiennej\n",
        "\n",
        "hearts = 'kier'\n",
        "diamonds = 'karo'\n",
        "clubs = 'trefl'\n",
        "spades = 'pik'\n",
        "\n",
        "\n",
        "\n",
        "przeciwnik = ( king, hearts)\n",
        "\n",
        "reka = [ (ace, spades), (ace, diamonds), (quenn, clubs), (4, spades), (2, hearts)  ]\n",
        "\n",
        "# ty = ..."
      ]
    },
    {
      "cell_type": "markdown",
      "metadata": {
        "id": "emohd5UUX2-d"
      },
      "source": [
        "## Zadanie (brydż z atu)\n",
        "\n",
        "\n",
        "Jak powyżej ale pojawia się dodatkowy parametr, kolor atutowy. Wybrany kolor pozwala na pobicie dowolnego innego koloru. koloru atutowego nie można jednak rzucić jeśli mamy kartę w kolorze"
      ]
    },
    {
      "cell_type": "code",
      "execution_count": null,
      "metadata": {
        "id": "ss2ReiWoX2-e"
      },
      "outputs": [],
      "source": [
        "atu = hearts"
      ]
    },
    {
      "cell_type": "code",
      "execution_count": null,
      "metadata": {
        "id": "tOSTmhH1X2-e"
      },
      "outputs": [],
      "source": [
        ""
      ]
    }
  ],
  "metadata": {
    "kernelspec": {
      "display_name": "Python 3",
      "language": "python",
      "name": "python3"
    },
    "language_info": {
      "codemirror_mode": {
        "name": "ipython",
        "version": 3
      },
      "file_extension": ".py",
      "mimetype": "text/x-python",
      "name": "python",
      "nbconvert_exporter": "python",
      "pygments_lexer": "ipython3",
      "version": "3.8.5"
    },
    "colab": {
      "name": "Część 2 - Instrukcje sterujące.ipynb",
      "provenance": [],
      "include_colab_link": true
    }
  },
  "nbformat": 4,
  "nbformat_minor": 0
}