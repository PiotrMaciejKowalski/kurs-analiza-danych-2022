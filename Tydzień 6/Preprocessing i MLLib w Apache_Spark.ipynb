{
  "nbformat": 4,
  "nbformat_minor": 0,
  "metadata": {
    "colab": {
      "name": "Wprowadzenie do Apache Spark.ipynb",
      "provenance": [],
      "collapsed_sections": [
        "-kv-ToZfwtEq"
      ],
      "toc_visible": true,
      "authorship_tag": "ABX9TyOCaAJQJ2AjObiG5tJJWfgu",
      "include_colab_link": true
    },
    "kernelspec": {
      "name": "python3",
      "display_name": "Python 3"
    },
    "language_info": {
      "name": "python"
    }
  },
  "cells": [
    {
      "cell_type": "markdown",
      "metadata": {
        "id": "view-in-github",
        "colab_type": "text"
      },
      "source": [
        "<a href=\"https://colab.research.google.com/github/PiotrMaciejKowalski/kurs-analiza-danych-2022/blob/create-spark-materials/Tydzie%C5%84%206/Preprocessing%20i%20MLLib%20w%20Apache_Spark.ipynb\" target=\"_parent\"><img src=\"https://colab.research.google.com/assets/colab-badge.svg\" alt=\"Open In Colab\"/></a>"
      ]
    },
    {
      "cell_type": "markdown",
      "source": [
        "# Setup Sparka\n",
        "\n",
        "## Utworzenie środowiska pyspark do obliczeń\n",
        "\n",
        "Tworzymy swoje środowisko z pysparkiem we wenętrzu naszych zasobów chmurowych"
      ],
      "metadata": {
        "id": "-kv-ToZfwtEq"
      }
    },
    {
      "cell_type": "code",
      "execution_count": null,
      "metadata": {
        "id": "K-Nw9adkwbsP"
      },
      "outputs": [],
      "source": [
        "!apt-get install openjdk-8-jdk-headless -qq > /dev/null"
      ]
    },
    {
      "cell_type": "code",
      "source": [
        "!wget -q ftp.ps.pl/pub/apache/spark/spark-3.1.2/spark-3.1.2-bin-hadoop2.7.tgz"
      ],
      "metadata": {
        "id": "72SlZMkxya33"
      },
      "execution_count": null,
      "outputs": []
    },
    {
      "cell_type": "code",
      "source": [
        "!tar xf spark-3.1.2-bin-hadoop2.7.tgz"
      ],
      "metadata": {
        "id": "Y-DtnLhOydSI"
      },
      "execution_count": null,
      "outputs": []
    },
    {
      "cell_type": "code",
      "source": [
        "import os\n",
        "os.environ[\"JAVA_HOME\"] = \"/usr/lib/jvm/java-8-openjdk-amd64\"\n",
        "os.environ[\"SPARK_HOME\"] = \"/content/spark-3.1.2-bin-hadoop2.7\""
      ],
      "metadata": {
        "id": "k2CRzSP0ygcu"
      },
      "execution_count": null,
      "outputs": []
    },
    {
      "cell_type": "code",
      "source": [
        "!pip install -q findspark\n",
        "\n",
        "import findspark\n",
        "findspark.init()"
      ],
      "metadata": {
        "id": "oJCqLkLaylIX"
      },
      "execution_count": null,
      "outputs": []
    },
    {
      "cell_type": "markdown",
      "source": [
        "## Utworzenie sesji z pyspark\n",
        "\n",
        "\n",
        "Utworzymy testowo sesję aby zobaczyć czy działa. Element ten jest wspólny również gdy systemy sparkowe pracują w sposób ciągły, a nie są tworzone przez naszą sesję."
      ],
      "metadata": {
        "id": "kIGkT1Zz4-Z8"
      }
    },
    {
      "cell_type": "code",
      "source": [
        "from pyspark.sql import SparkSession\n",
        "spark = SparkSession.builder\\\n",
        "        .master(\"local\")\\\n",
        "        .appName(\"Colab\")\\\n",
        "        .config('spark.ui.port', '4050')\\\n",
        "        .getOrCreate()"
      ],
      "metadata": {
        "id": "X_nydnCVy7X5"
      },
      "execution_count": null,
      "outputs": []
    },
    {
      "cell_type": "markdown",
      "source": [
        "## Podłączenie Google Drive do sesji colab"
      ],
      "metadata": {
        "id": "xHvcpXvTUHRu"
      }
    },
    {
      "cell_type": "code",
      "source": [
        "from google.colab import drive\n",
        "drive.mount('/content/drive')"
      ],
      "metadata": {
        "colab": {
          "base_uri": "https://localhost:8080/"
        },
        "id": "hi4HFkt1UG59",
        "outputId": "72070267-44d5-42e7-e3fa-befe80119597"
      },
      "execution_count": null,
      "outputs": [
        {
          "output_type": "stream",
          "name": "stdout",
          "text": [
            "Mounted at /content/drive\n"
          ]
        }
      ]
    },
    {
      "cell_type": "markdown",
      "source": [
        "# Preprocessing i narzędziownik Apache Spark\n",
        "\n",
        "## Wczytanie danych do Sparka\n",
        "\n",
        "W tej części wczytamy sobie nasz plik `flights.csv` do przetwarzania w Spark.\n",
        "\n",
        "Z uwagi na to, że nasz plik to csv bez nagłówka - trzeba zdefiniować schemat dla danych, które przetwarzamy\n",
        "\n",
        "Przypomnijmy listę pól\n",
        "YEAR,MONTH,DAY,DAY_OF_WEEK,AIRLINE,FLIGHT_NUMBER,TAIL_NUMBER,ORIGIN_AIRPORT,\\\n",
        "DESTINATION_AIRPORT,SCHEDULED_DEPARTURE,DEPARTURE_TIME,DEPARTURE_DELAY,\\\n",
        "TAXI_OUT,WHEELS_OFF,SCHEDULED_TIME,ELAPSED_TIME,AIR_TIME,DISTANCE,WHEELS_ON,\\\n",
        "TAXI_IN,SCHEDULED_ARRIVAL,ARRIVAL_TIME,ARRIVAL_DELAY,DIVERTED,CANCELLED,\\\n",
        "CANCELLATION_REASON,AIR_SYSTEM_DELAY,SECURITY_DELAY,AIRLINE_DELAY,\\\n",
        "LATE_AIRCRAFT_DELAY,WEATHER_DELAY\n",
        "\n",
        "_Sporo ich. Więc najpierw trochę magii (bo nie chce mi się kodować każdego pola ręcznie, a jestem leniwy). Ufam, że przykład pozwoli rozszerzyć zastosowanie do bardziej skomplikowanych zastosowań. Na pocieszenie dodam, że wczytywanie csv bez nagłówka to najgorszy scenariusz w wersji wczytywania w sparku._"
      ],
      "metadata": {
        "id": "AOf1bVK0XK5N"
      }
    },
    {
      "cell_type": "code",
      "source": [
        "pola_zbiorczo = '''YEAR,MONTH,DAY,DAY_OF_WEEK,AIRLINE,FLIGHT_NUMBER,TAIL_NUMBER,ORIGIN_AIRPORT,DESTINATION_AIRPORT,SCHEDULED_DEPARTURE,DEPARTURE_TIME,DEPARTURE_DELAY,TAXI_OUT,WHEELS_OFF,SCHEDULED_TIME,ELAPSED_TIME,AIR_TIME,DISTANCE,WHEELS_ON,TAXI_IN,SCHEDULED_ARRIVAL,ARRIVAL_TIME,ARRIVAL_DELAY,DIVERTED,CANCELLED,CANCELLATION_REASON,AIR_SYSTEM_DELAY,SECURITY_DELAY,AIRLINE_DELAY,LATE_AIRCRAFT_DELAY,WEATHER_DELAY'''\n",
        "pola = pola_zbiorczo.split(',')"
      ],
      "metadata": {
        "id": "5q3upeS7Xdb7"
      },
      "execution_count": null,
      "outputs": []
    },
    {
      "cell_type": "code",
      "source": [
        "import pandas as pd\n",
        "pd.set_option('display.max_columns', None)\n"
      ],
      "metadata": {
        "id": "8kh2aBAxY4oF",
        "outputId": "93514aff-4452-4672-8529-0ed5c6b312f3",
        "colab": {
          "base_uri": "https://localhost:8080/",
          "height": 270
        }
      },
      "execution_count": null,
      "outputs": [
        {
          "output_type": "execute_result",
          "data": {
            "text/plain": [
              "   YEAR MONTH DAY DAY_OF_WEEK AIRLINE FLIGHT_NUMBER TAIL_NUMBER  \\\n",
              "0  2015     1   1           4      AS            98      N407AS   \n",
              "1  2015     1   1           4      AA          2336      N3KUAA   \n",
              "2  2015     1   1           4      US           840      N171US   \n",
              "3  2015     1   1           4      AA           258      N3HYAA   \n",
              "4  2015     1   1           4      AS           135      N527AS   \n",
              "\n",
              "  ORIGIN_AIRPORT DESTINATION_AIRPORT SCHEDULED_DEPARTURE DEPARTURE_TIME  \\\n",
              "0            ANC                 SEA                0005           2354   \n",
              "1            LAX                 PBI                0010           0002   \n",
              "2            SFO                 CLT                0020           0018   \n",
              "3            LAX                 MIA                0020           0015   \n",
              "4            SEA                 ANC                0025           0024   \n",
              "\n",
              "  DEPARTURE_DELAY TAXI_OUT WHEELS_OFF SCHEDULED_TIME ELAPSED_TIME AIR_TIME  \\\n",
              "0             -11       21       0015            205          194      169   \n",
              "1              -8       12       0014            280          279      263   \n",
              "2              -2       16       0034            286          293      266   \n",
              "3              -5       15       0030            285          281      258   \n",
              "4              -1       11       0035            235          215      199   \n",
              "\n",
              "  DISTANCE WHEELS_ON TAXI_IN SCHEDULED_ARRIVAL ARRIVAL_TIME ARRIVAL_DELAY  \\\n",
              "0     1448      0404       4              0430         0408           -22   \n",
              "1     2330      0737       4              0750         0741            -9   \n",
              "2     2296      0800      11              0806         0811             5   \n",
              "3     2342      0748       8              0805         0756            -9   \n",
              "4     1448      0254       5              0320         0259           -21   \n",
              "\n",
              "  DIVERTED CANCELLED CANCELLATION_REASON AIR_SYSTEM_DELAY SECURITY_DELAY  \\\n",
              "0        0         0                None             None           None   \n",
              "1        0         0                None             None           None   \n",
              "2        0         0                None             None           None   \n",
              "3        0         0                None             None           None   \n",
              "4        0         0                None             None           None   \n",
              "\n",
              "  AIRLINE_DELAY LATE_AIRCRAFT_DELAY WEATHER_DELAY  \n",
              "0          None                None          None  \n",
              "1          None                None          None  \n",
              "2          None                None          None  \n",
              "3          None                None          None  \n",
              "4          None                None          None  "
            ],
            "text/html": [
              "\n",
              "  <div id=\"df-b1f7f901-7272-4a57-8b2a-8da0337853b7\">\n",
              "    <div class=\"colab-df-container\">\n",
              "      <div>\n",
              "<style scoped>\n",
              "    .dataframe tbody tr th:only-of-type {\n",
              "        vertical-align: middle;\n",
              "    }\n",
              "\n",
              "    .dataframe tbody tr th {\n",
              "        vertical-align: top;\n",
              "    }\n",
              "\n",
              "    .dataframe thead th {\n",
              "        text-align: right;\n",
              "    }\n",
              "</style>\n",
              "<table border=\"1\" class=\"dataframe\">\n",
              "  <thead>\n",
              "    <tr style=\"text-align: right;\">\n",
              "      <th></th>\n",
              "      <th>YEAR</th>\n",
              "      <th>MONTH</th>\n",
              "      <th>DAY</th>\n",
              "      <th>DAY_OF_WEEK</th>\n",
              "      <th>AIRLINE</th>\n",
              "      <th>FLIGHT_NUMBER</th>\n",
              "      <th>TAIL_NUMBER</th>\n",
              "      <th>ORIGIN_AIRPORT</th>\n",
              "      <th>DESTINATION_AIRPORT</th>\n",
              "      <th>SCHEDULED_DEPARTURE</th>\n",
              "      <th>DEPARTURE_TIME</th>\n",
              "      <th>DEPARTURE_DELAY</th>\n",
              "      <th>TAXI_OUT</th>\n",
              "      <th>WHEELS_OFF</th>\n",
              "      <th>SCHEDULED_TIME</th>\n",
              "      <th>ELAPSED_TIME</th>\n",
              "      <th>AIR_TIME</th>\n",
              "      <th>DISTANCE</th>\n",
              "      <th>WHEELS_ON</th>\n",
              "      <th>TAXI_IN</th>\n",
              "      <th>SCHEDULED_ARRIVAL</th>\n",
              "      <th>ARRIVAL_TIME</th>\n",
              "      <th>ARRIVAL_DELAY</th>\n",
              "      <th>DIVERTED</th>\n",
              "      <th>CANCELLED</th>\n",
              "      <th>CANCELLATION_REASON</th>\n",
              "      <th>AIR_SYSTEM_DELAY</th>\n",
              "      <th>SECURITY_DELAY</th>\n",
              "      <th>AIRLINE_DELAY</th>\n",
              "      <th>LATE_AIRCRAFT_DELAY</th>\n",
              "      <th>WEATHER_DELAY</th>\n",
              "    </tr>\n",
              "  </thead>\n",
              "  <tbody>\n",
              "    <tr>\n",
              "      <th>0</th>\n",
              "      <td>2015</td>\n",
              "      <td>1</td>\n",
              "      <td>1</td>\n",
              "      <td>4</td>\n",
              "      <td>AS</td>\n",
              "      <td>98</td>\n",
              "      <td>N407AS</td>\n",
              "      <td>ANC</td>\n",
              "      <td>SEA</td>\n",
              "      <td>0005</td>\n",
              "      <td>2354</td>\n",
              "      <td>-11</td>\n",
              "      <td>21</td>\n",
              "      <td>0015</td>\n",
              "      <td>205</td>\n",
              "      <td>194</td>\n",
              "      <td>169</td>\n",
              "      <td>1448</td>\n",
              "      <td>0404</td>\n",
              "      <td>4</td>\n",
              "      <td>0430</td>\n",
              "      <td>0408</td>\n",
              "      <td>-22</td>\n",
              "      <td>0</td>\n",
              "      <td>0</td>\n",
              "      <td>None</td>\n",
              "      <td>None</td>\n",
              "      <td>None</td>\n",
              "      <td>None</td>\n",
              "      <td>None</td>\n",
              "      <td>None</td>\n",
              "    </tr>\n",
              "    <tr>\n",
              "      <th>1</th>\n",
              "      <td>2015</td>\n",
              "      <td>1</td>\n",
              "      <td>1</td>\n",
              "      <td>4</td>\n",
              "      <td>AA</td>\n",
              "      <td>2336</td>\n",
              "      <td>N3KUAA</td>\n",
              "      <td>LAX</td>\n",
              "      <td>PBI</td>\n",
              "      <td>0010</td>\n",
              "      <td>0002</td>\n",
              "      <td>-8</td>\n",
              "      <td>12</td>\n",
              "      <td>0014</td>\n",
              "      <td>280</td>\n",
              "      <td>279</td>\n",
              "      <td>263</td>\n",
              "      <td>2330</td>\n",
              "      <td>0737</td>\n",
              "      <td>4</td>\n",
              "      <td>0750</td>\n",
              "      <td>0741</td>\n",
              "      <td>-9</td>\n",
              "      <td>0</td>\n",
              "      <td>0</td>\n",
              "      <td>None</td>\n",
              "      <td>None</td>\n",
              "      <td>None</td>\n",
              "      <td>None</td>\n",
              "      <td>None</td>\n",
              "      <td>None</td>\n",
              "    </tr>\n",
              "    <tr>\n",
              "      <th>2</th>\n",
              "      <td>2015</td>\n",
              "      <td>1</td>\n",
              "      <td>1</td>\n",
              "      <td>4</td>\n",
              "      <td>US</td>\n",
              "      <td>840</td>\n",
              "      <td>N171US</td>\n",
              "      <td>SFO</td>\n",
              "      <td>CLT</td>\n",
              "      <td>0020</td>\n",
              "      <td>0018</td>\n",
              "      <td>-2</td>\n",
              "      <td>16</td>\n",
              "      <td>0034</td>\n",
              "      <td>286</td>\n",
              "      <td>293</td>\n",
              "      <td>266</td>\n",
              "      <td>2296</td>\n",
              "      <td>0800</td>\n",
              "      <td>11</td>\n",
              "      <td>0806</td>\n",
              "      <td>0811</td>\n",
              "      <td>5</td>\n",
              "      <td>0</td>\n",
              "      <td>0</td>\n",
              "      <td>None</td>\n",
              "      <td>None</td>\n",
              "      <td>None</td>\n",
              "      <td>None</td>\n",
              "      <td>None</td>\n",
              "      <td>None</td>\n",
              "    </tr>\n",
              "    <tr>\n",
              "      <th>3</th>\n",
              "      <td>2015</td>\n",
              "      <td>1</td>\n",
              "      <td>1</td>\n",
              "      <td>4</td>\n",
              "      <td>AA</td>\n",
              "      <td>258</td>\n",
              "      <td>N3HYAA</td>\n",
              "      <td>LAX</td>\n",
              "      <td>MIA</td>\n",
              "      <td>0020</td>\n",
              "      <td>0015</td>\n",
              "      <td>-5</td>\n",
              "      <td>15</td>\n",
              "      <td>0030</td>\n",
              "      <td>285</td>\n",
              "      <td>281</td>\n",
              "      <td>258</td>\n",
              "      <td>2342</td>\n",
              "      <td>0748</td>\n",
              "      <td>8</td>\n",
              "      <td>0805</td>\n",
              "      <td>0756</td>\n",
              "      <td>-9</td>\n",
              "      <td>0</td>\n",
              "      <td>0</td>\n",
              "      <td>None</td>\n",
              "      <td>None</td>\n",
              "      <td>None</td>\n",
              "      <td>None</td>\n",
              "      <td>None</td>\n",
              "      <td>None</td>\n",
              "    </tr>\n",
              "    <tr>\n",
              "      <th>4</th>\n",
              "      <td>2015</td>\n",
              "      <td>1</td>\n",
              "      <td>1</td>\n",
              "      <td>4</td>\n",
              "      <td>AS</td>\n",
              "      <td>135</td>\n",
              "      <td>N527AS</td>\n",
              "      <td>SEA</td>\n",
              "      <td>ANC</td>\n",
              "      <td>0025</td>\n",
              "      <td>0024</td>\n",
              "      <td>-1</td>\n",
              "      <td>11</td>\n",
              "      <td>0035</td>\n",
              "      <td>235</td>\n",
              "      <td>215</td>\n",
              "      <td>199</td>\n",
              "      <td>1448</td>\n",
              "      <td>0254</td>\n",
              "      <td>5</td>\n",
              "      <td>0320</td>\n",
              "      <td>0259</td>\n",
              "      <td>-21</td>\n",
              "      <td>0</td>\n",
              "      <td>0</td>\n",
              "      <td>None</td>\n",
              "      <td>None</td>\n",
              "      <td>None</td>\n",
              "      <td>None</td>\n",
              "      <td>None</td>\n",
              "      <td>None</td>\n",
              "    </tr>\n",
              "  </tbody>\n",
              "</table>\n",
              "</div>\n",
              "      <button class=\"colab-df-convert\" onclick=\"convertToInteractive('df-b1f7f901-7272-4a57-8b2a-8da0337853b7')\"\n",
              "              title=\"Convert this dataframe to an interactive table.\"\n",
              "              style=\"display:none;\">\n",
              "        \n",
              "  <svg xmlns=\"http://www.w3.org/2000/svg\" height=\"24px\"viewBox=\"0 0 24 24\"\n",
              "       width=\"24px\">\n",
              "    <path d=\"M0 0h24v24H0V0z\" fill=\"none\"/>\n",
              "    <path d=\"M18.56 5.44l.94 2.06.94-2.06 2.06-.94-2.06-.94-.94-2.06-.94 2.06-2.06.94zm-11 1L8.5 8.5l.94-2.06 2.06-.94-2.06-.94L8.5 2.5l-.94 2.06-2.06.94zm10 10l.94 2.06.94-2.06 2.06-.94-2.06-.94-.94-2.06-.94 2.06-2.06.94z\"/><path d=\"M17.41 7.96l-1.37-1.37c-.4-.4-.92-.59-1.43-.59-.52 0-1.04.2-1.43.59L10.3 9.45l-7.72 7.72c-.78.78-.78 2.05 0 2.83L4 21.41c.39.39.9.59 1.41.59.51 0 1.02-.2 1.41-.59l7.78-7.78 2.81-2.81c.8-.78.8-2.07 0-2.86zM5.41 20L4 18.59l7.72-7.72 1.47 1.35L5.41 20z\"/>\n",
              "  </svg>\n",
              "      </button>\n",
              "      \n",
              "  <style>\n",
              "    .colab-df-container {\n",
              "      display:flex;\n",
              "      flex-wrap:wrap;\n",
              "      gap: 12px;\n",
              "    }\n",
              "\n",
              "    .colab-df-convert {\n",
              "      background-color: #E8F0FE;\n",
              "      border: none;\n",
              "      border-radius: 50%;\n",
              "      cursor: pointer;\n",
              "      display: none;\n",
              "      fill: #1967D2;\n",
              "      height: 32px;\n",
              "      padding: 0 0 0 0;\n",
              "      width: 32px;\n",
              "    }\n",
              "\n",
              "    .colab-df-convert:hover {\n",
              "      background-color: #E2EBFA;\n",
              "      box-shadow: 0px 1px 2px rgba(60, 64, 67, 0.3), 0px 1px 3px 1px rgba(60, 64, 67, 0.15);\n",
              "      fill: #174EA6;\n",
              "    }\n",
              "\n",
              "    [theme=dark] .colab-df-convert {\n",
              "      background-color: #3B4455;\n",
              "      fill: #D2E3FC;\n",
              "    }\n",
              "\n",
              "    [theme=dark] .colab-df-convert:hover {\n",
              "      background-color: #434B5C;\n",
              "      box-shadow: 0px 1px 3px 1px rgba(0, 0, 0, 0.15);\n",
              "      filter: drop-shadow(0px 1px 2px rgba(0, 0, 0, 0.3));\n",
              "      fill: #FFFFFF;\n",
              "    }\n",
              "  </style>\n",
              "\n",
              "      <script>\n",
              "        const buttonEl =\n",
              "          document.querySelector('#df-b1f7f901-7272-4a57-8b2a-8da0337853b7 button.colab-df-convert');\n",
              "        buttonEl.style.display =\n",
              "          google.colab.kernel.accessAllowed ? 'block' : 'none';\n",
              "\n",
              "        async function convertToInteractive(key) {\n",
              "          const element = document.querySelector('#df-b1f7f901-7272-4a57-8b2a-8da0337853b7');\n",
              "          const dataTable =\n",
              "            await google.colab.kernel.invokeFunction('convertToInteractive',\n",
              "                                                     [key], {});\n",
              "          if (!dataTable) return;\n",
              "\n",
              "          const docLinkHtml = 'Like what you see? Visit the ' +\n",
              "            '<a target=\"_blank\" href=https://colab.research.google.com/notebooks/data_table.ipynb>data table notebook</a>'\n",
              "            + ' to learn more about interactive tables.';\n",
              "          element.innerHTML = '';\n",
              "          dataTable['output_type'] = 'display_data';\n",
              "          await google.colab.output.renderOutput(dataTable, element);\n",
              "          const docLink = document.createElement('div');\n",
              "          docLink.innerHTML = docLinkHtml;\n",
              "          element.appendChild(docLink);\n",
              "        }\n",
              "      </script>\n",
              "    </div>\n",
              "  </div>\n",
              "  "
            ]
          },
          "metadata": {},
          "execution_count": 39
        }
      ]
    },
    {
      "cell_type": "code",
      "source": [
        "from pyspark.sql.types import StructType, StringType, IntegerType, BooleanType, FloatType, TimestampType, DateType, ArrayType, MapType\n",
        "from typing import List, Tuple, Dict, Any\n",
        "map_python_types_2_spark_types = {\n",
        "    str : StringType(),\n",
        "    int : IntegerType(),\n",
        "    bool : BooleanType(),\n",
        "    float: FloatType(),\n",
        "    'timestamp' : TimestampType(),\n",
        "    'date' : DateType(),\n",
        "    List[str] : ArrayType(StringType()),\n",
        "    Tuple[str] : ArrayType(StringType()),\n",
        "    Dict[str, str] : MapType(StringType(), StringType())\n",
        "}\n",
        "\n",
        "column_type_collection = {\n",
        "    int : ['YEAR', 'MONTH', 'DAY', 'DAY_OF_WEEK', 'DEPARTURE_DELAY', 'TAXI_OUT', 'SCHEDULED_TIME', 'ELAPSED_TIME', 'AIR_TIME', 'DISTANCE', 'TAXI_IN', 'ARRIVAL_DELAY', 'DIVERTED', 'CANCELLED' ],\n",
        "    str : ['AIRLINE', 'FLIGHT_NUMBER', 'TAIL_NUMBER', 'ORIGIN_AIRPORT', 'DESTINATION_AIRPORT', 'SCHEDULED_DEPARTURE', 'DEPARTURE_TIME', 'WHEELS_OFF', 'WHEELS_ON', \n",
        "      'SCHEDULED_ARRIVAL', 'ARRIVAL_TIME', 'CANCELLATION_REASON', 'AIR_SYSTEM_DELAY', 'SECURITY_DELAY', 'AIRLINE_DELAY', 'LATE_AIRCRAFT_DELAY', 'WEATHER_DELAY'\n",
        "    ]\n",
        "}\n",
        "\n",
        "map_column_names_2_types = {}\n",
        "\n",
        "for pole in pola:\n",
        "  for python_type, column_list in column_type_collection.items():\n",
        "    if pole in column_list:\n",
        "      map_column_names_2_types[pole] = map_python_types_2_spark_types[python_type]\n",
        "\n",
        "print(map_column_names_2_types)\n",
        "\n"
      ],
      "metadata": {
        "id": "utF469t-_rBl",
        "outputId": "2c537eee-753f-46eb-f264-5985a5d019f3",
        "colab": {
          "base_uri": "https://localhost:8080/"
        }
      },
      "execution_count": null,
      "outputs": [
        {
          "output_type": "stream",
          "name": "stdout",
          "text": [
            "{'YEAR': IntegerType, 'MONTH': IntegerType, 'DAY': IntegerType, 'DAY_OF_WEEK': IntegerType, 'AIRLINE': StringType, 'FLIGHT_NUMBER': StringType, 'TAIL_NUMBER': StringType, 'ORIGIN_AIRPORT': StringType, 'DESTINATION_AIRPORT': StringType, 'SCHEDULED_DEPARTURE': StringType, 'DEPARTURE_TIME': StringType, 'DEPARTURE_DELAY': IntegerType, 'TAXI_OUT': IntegerType, 'WHEELS_OFF': StringType, 'SCHEDULED_TIME': IntegerType, 'ELAPSED_TIME': IntegerType, 'AIR_TIME': IntegerType, 'DISTANCE': IntegerType, 'WHEELS_ON': StringType, 'TAXI_IN': IntegerType, 'SCHEDULED_ARRIVAL': StringType, 'ARRIVAL_TIME': StringType, 'ARRIVAL_DELAY': IntegerType, 'DIVERTED': IntegerType, 'CANCELLED': IntegerType, 'CANCELLATION_REASON': StringType, 'AIR_SYSTEM_DELAY': StringType, 'SECURITY_DELAY': StringType, 'AIRLINE_DELAY': StringType, 'LATE_AIRCRAFT_DELAY': StringType, 'WEATHER_DELAY': StringType}\n"
          ]
        }
      ]
    },
    {
      "cell_type": "code",
      "source": [
        "schemat = StructType()\n",
        "for pole, typ in map_column_names_2_types.items():\n",
        "    schemat = schemat.add(pole, typ, True)\n"
      ],
      "metadata": {
        "id": "Tt02nPbaJdDz"
      },
      "execution_count": null,
      "outputs": []
    },
    {
      "cell_type": "code",
      "source": [
        "flights = spark.read.format('csv').option(\"header\", False).schema(schemat).load('/content/drive/MyDrive/flights.csv')\n",
        "flights.show(5)"
      ],
      "metadata": {
        "id": "GdbdPAtoFs3n",
        "outputId": "be6c8dd5-83d6-4677-a893-cd56122f88f7",
        "colab": {
          "base_uri": "https://localhost:8080/"
        }
      },
      "execution_count": null,
      "outputs": [
        {
          "output_type": "stream",
          "name": "stdout",
          "text": [
            "+----+-----+---+-----------+-------+-------------+-----------+--------------+-------------------+-------------------+--------------+---------------+--------+----------+--------------+------------+--------+--------+---------+-------+-----------------+------------+-------------+--------+---------+-------------------+----------------+--------------+-------------+-------------------+-------------+\n",
            "|YEAR|MONTH|DAY|DAY_OF_WEEK|AIRLINE|FLIGHT_NUMBER|TAIL_NUMBER|ORIGIN_AIRPORT|DESTINATION_AIRPORT|SCHEDULED_DEPARTURE|DEPARTURE_TIME|DEPARTURE_DELAY|TAXI_OUT|WHEELS_OFF|SCHEDULED_TIME|ELAPSED_TIME|AIR_TIME|DISTANCE|WHEELS_ON|TAXI_IN|SCHEDULED_ARRIVAL|ARRIVAL_TIME|ARRIVAL_DELAY|DIVERTED|CANCELLED|CANCELLATION_REASON|AIR_SYSTEM_DELAY|SECURITY_DELAY|AIRLINE_DELAY|LATE_AIRCRAFT_DELAY|WEATHER_DELAY|\n",
            "+----+-----+---+-----------+-------+-------------+-----------+--------------+-------------------+-------------------+--------------+---------------+--------+----------+--------------+------------+--------+--------+---------+-------+-----------------+------------+-------------+--------+---------+-------------------+----------------+--------------+-------------+-------------------+-------------+\n",
            "|2015|    1|  1|          4|     AS|           98|     N407AS|           ANC|                SEA|               0005|          2354|            -11|      21|      0015|           205|         194|     169|    1448|     0404|      4|             0430|        0408|          -22|       0|        0|               null|            null|          null|         null|               null|         null|\n",
            "|2015|    1|  1|          4|     AA|         2336|     N3KUAA|           LAX|                PBI|               0010|          0002|             -8|      12|      0014|           280|         279|     263|    2330|     0737|      4|             0750|        0741|           -9|       0|        0|               null|            null|          null|         null|               null|         null|\n",
            "|2015|    1|  1|          4|     US|          840|     N171US|           SFO|                CLT|               0020|          0018|             -2|      16|      0034|           286|         293|     266|    2296|     0800|     11|             0806|        0811|            5|       0|        0|               null|            null|          null|         null|               null|         null|\n",
            "|2015|    1|  1|          4|     AA|          258|     N3HYAA|           LAX|                MIA|               0020|          0015|             -5|      15|      0030|           285|         281|     258|    2342|     0748|      8|             0805|        0756|           -9|       0|        0|               null|            null|          null|         null|               null|         null|\n",
            "|2015|    1|  1|          4|     AS|          135|     N527AS|           SEA|                ANC|               0025|          0024|             -1|      11|      0035|           235|         215|     199|    1448|     0254|      5|             0320|        0259|          -21|       0|        0|               null|            null|          null|         null|               null|         null|\n",
            "+----+-----+---+-----------+-------+-------------+-----------+--------------+-------------------+-------------------+--------------+---------------+--------+----------+--------------+------------+--------+--------+---------+-------+-----------------+------------+-------------+--------+---------+-------------------+----------------+--------------+-------------+-------------------+-------------+\n",
            "only showing top 5 rows\n",
            "\n"
          ]
        }
      ]
    },
    {
      "cell_type": "code",
      "source": [
        "flights.printSchema()"
      ],
      "metadata": {
        "id": "9RBkfpCkMECV",
        "outputId": "cd2039bf-6d2e-41d5-ad66-20bca43536f6",
        "colab": {
          "base_uri": "https://localhost:8080/"
        }
      },
      "execution_count": null,
      "outputs": [
        {
          "output_type": "stream",
          "name": "stdout",
          "text": [
            "root\n",
            " |-- YEAR: integer (nullable = true)\n",
            " |-- MONTH: integer (nullable = true)\n",
            " |-- DAY: integer (nullable = true)\n",
            " |-- DAY_OF_WEEK: integer (nullable = true)\n",
            " |-- AIRLINE: string (nullable = true)\n",
            " |-- FLIGHT_NUMBER: string (nullable = true)\n",
            " |-- TAIL_NUMBER: string (nullable = true)\n",
            " |-- ORIGIN_AIRPORT: string (nullable = true)\n",
            " |-- DESTINATION_AIRPORT: string (nullable = true)\n",
            " |-- SCHEDULED_DEPARTURE: string (nullable = true)\n",
            " |-- DEPARTURE_TIME: string (nullable = true)\n",
            " |-- DEPARTURE_DELAY: integer (nullable = true)\n",
            " |-- TAXI_OUT: integer (nullable = true)\n",
            " |-- WHEELS_OFF: string (nullable = true)\n",
            " |-- SCHEDULED_TIME: integer (nullable = true)\n",
            " |-- ELAPSED_TIME: integer (nullable = true)\n",
            " |-- AIR_TIME: integer (nullable = true)\n",
            " |-- DISTANCE: integer (nullable = true)\n",
            " |-- WHEELS_ON: string (nullable = true)\n",
            " |-- TAXI_IN: integer (nullable = true)\n",
            " |-- SCHEDULED_ARRIVAL: string (nullable = true)\n",
            " |-- ARRIVAL_TIME: string (nullable = true)\n",
            " |-- ARRIVAL_DELAY: integer (nullable = true)\n",
            " |-- DIVERTED: integer (nullable = true)\n",
            " |-- CANCELLED: integer (nullable = true)\n",
            " |-- CANCELLATION_REASON: string (nullable = true)\n",
            " |-- AIR_SYSTEM_DELAY: string (nullable = true)\n",
            " |-- SECURITY_DELAY: string (nullable = true)\n",
            " |-- AIRLINE_DELAY: string (nullable = true)\n",
            " |-- LATE_AIRCRAFT_DELAY: string (nullable = true)\n",
            " |-- WEATHER_DELAY: string (nullable = true)\n",
            "\n"
          ]
        }
      ]
    },
    {
      "cell_type": "markdown",
      "source": [
        "Wykonajmy jeszcze proste statystyki ze zbioru by zobaczyć poprawność jego wczytania"
      ],
      "metadata": {
        "id": "miwuxu1OPlSX"
      }
    },
    {
      "cell_type": "code",
      "source": [
        "%%time\n",
        "flights.count()"
      ],
      "metadata": {
        "id": "Cdokj7MIPLSm",
        "outputId": "f8b9bb86-15c8-4a21-92bd-d5bf6226c5c1",
        "colab": {
          "base_uri": "https://localhost:8080/"
        }
      },
      "execution_count": null,
      "outputs": [
        {
          "output_type": "stream",
          "name": "stdout",
          "text": [
            "CPU times: user 33.9 ms, sys: 1.76 ms, total: 35.7 ms\n",
            "Wall time: 4.11 s\n"
          ]
        },
        {
          "output_type": "execute_result",
          "data": {
            "text/plain": [
              "5819079"
            ]
          },
          "metadata": {},
          "execution_count": 45
        }
      ]
    },
    {
      "cell_type": "code",
      "source": [
        "%%time\n",
        "for pole in ['YEAR', 'MONTH', 'DAY', 'AIRLINE', 'TAIL_NUMBER', 'ORIGIN_AIRPORT', 'DESTINATION_AIRPORT', 'DIVERTED', 'CANCELLED']:\n",
        "  print(f'Pole {pole}\\n')\n",
        "  print(flights.select(pole).distinct().sort(pole).toPandas())"
      ],
      "metadata": {
        "id": "r4WGdOEMPyZV",
        "outputId": "c0985e47-8eb0-4fce-9a67-04eb8e9f132d",
        "colab": {
          "base_uri": "https://localhost:8080/"
        }
      },
      "execution_count": null,
      "outputs": [
        {
          "output_type": "stream",
          "name": "stdout",
          "text": [
            "Pole YEAR\n",
            "\n",
            "   YEAR\n",
            "0  2015\n",
            "Pole MONTH\n",
            "\n",
            "    MONTH\n",
            "0       1\n",
            "1       2\n",
            "2       3\n",
            "3       4\n",
            "4       5\n",
            "5       6\n",
            "6       7\n",
            "7       8\n",
            "8       9\n",
            "9      10\n",
            "10     11\n",
            "11     12\n",
            "Pole DAY\n",
            "\n",
            "    DAY\n",
            "0     1\n",
            "1     2\n",
            "2     3\n",
            "3     4\n",
            "4     5\n",
            "5     6\n",
            "6     7\n",
            "7     8\n",
            "8     9\n",
            "9    10\n",
            "10   11\n",
            "11   12\n",
            "12   13\n",
            "13   14\n",
            "14   15\n",
            "15   16\n",
            "16   17\n",
            "17   18\n",
            "18   19\n",
            "19   20\n",
            "20   21\n",
            "21   22\n",
            "22   23\n",
            "23   24\n",
            "24   25\n",
            "25   26\n",
            "26   27\n",
            "27   28\n",
            "28   29\n",
            "29   30\n",
            "30   31\n",
            "Pole AIRLINE\n",
            "\n",
            "   AIRLINE\n",
            "0       AA\n",
            "1       AS\n",
            "2       B6\n",
            "3       DL\n",
            "4       EV\n",
            "5       F9\n",
            "6       HA\n",
            "7       MQ\n",
            "8       NK\n",
            "9       OO\n",
            "10      UA\n",
            "11      US\n",
            "12      VX\n",
            "13      WN\n",
            "Pole TAIL_NUMBER\n",
            "\n",
            "     TAIL_NUMBER\n",
            "0           None\n",
            "1          7819A\n",
            "2          7820L\n",
            "3         D942DN\n",
            "4         N001AA\n",
            "...          ...\n",
            "4893      N997DL\n",
            "4894      N998AT\n",
            "4895      N998DL\n",
            "4896      N999DN\n",
            "4897      N9EAMQ\n",
            "\n",
            "[4898 rows x 1 columns]\n",
            "Pole ORIGIN_AIRPORT\n",
            "\n",
            "    ORIGIN_AIRPORT\n",
            "0            10135\n",
            "1            10136\n",
            "2            10140\n",
            "3            10141\n",
            "4            10146\n",
            "..             ...\n",
            "623            WRG\n",
            "624            WYS\n",
            "625            XNA\n",
            "626            YAK\n",
            "627            YUM\n",
            "\n",
            "[628 rows x 1 columns]\n",
            "Pole DESTINATION_AIRPORT\n",
            "\n",
            "    DESTINATION_AIRPORT\n",
            "0                 10135\n",
            "1                 10136\n",
            "2                 10140\n",
            "3                 10141\n",
            "4                 10146\n",
            "..                  ...\n",
            "624                 WRG\n",
            "625                 WYS\n",
            "626                 XNA\n",
            "627                 YAK\n",
            "628                 YUM\n",
            "\n",
            "[629 rows x 1 columns]\n",
            "Pole DIVERTED\n",
            "\n",
            "   DIVERTED\n",
            "0         0\n",
            "1         1\n",
            "Pole CANCELLED\n",
            "\n",
            "   CANCELLED\n",
            "0          0\n",
            "1          1\n",
            "CPU times: user 1.11 s, sys: 113 ms, total: 1.22 s\n",
            "Wall time: 2min 16s\n"
          ]
        }
      ]
    },
    {
      "cell_type": "code",
      "source": [
        "flights.createOrReplaceTempView(\"flights\")"
      ],
      "metadata": {
        "id": "ef2HqdbRQL2A"
      },
      "execution_count": null,
      "outputs": []
    },
    {
      "cell_type": "code",
      "source": [
        ""
      ],
      "metadata": {
        "id": "jrJkYWdEpZMm"
      },
      "execution_count": null,
      "outputs": []
    }
  ]
}