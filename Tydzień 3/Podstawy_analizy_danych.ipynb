{
  "cells": [
    {
      "cell_type": "markdown",
      "metadata": {
        "id": "view-in-github",
        "colab_type": "text"
      },
      "source": [
        "<a href=\"https://colab.research.google.com/github/PiotrMaciejKowalski/kurs-analiza-danych-2022/blob/main/Tydzie%C5%84%203/Podstawy_analizy_danych.ipynb\" target=\"_parent\"><img src=\"https://colab.research.google.com/assets/colab-badge.svg\" alt=\"Open In Colab\"/></a>"
      ]
    },
    {
      "cell_type": "markdown",
      "id": "wooden-accommodation",
      "metadata": {
        "id": "wooden-accommodation"
      },
      "source": [
        "# Podstawowe problemy statystycznej analizy danych\n",
        "\n",
        "Analizowane dane traktujemy jako *próbkę* (realizację *próby statystycznej prostej*).\n",
        "\n",
        "Problem sprowadza się do **identyfikacji rozkładu próby** w oparciu o posiadaną próbkę.\n",
        "\n",
        "W przypadku danych jednowymiarowych korzysta się z prostych narzędzi identyfikacji. W wypadku danych jakościowych mamy do dyspozycji proste zliczanie (i estymację parametrów rozkładu dwu- lub wielomianowego). W wypadku danych ilościowych (na skali interwałowej/ilorazowej) realizujemy:\n",
        "* metody graficzne: histogram, estymacja gęstości\n",
        "* *statystyczne testy zgodności* z typowymi rozkładami.\n",
        "\n",
        "\n",
        "W przypadku danych wielowymiarowych jest trudniej. Na ogół korzystamy z powyższych metod do identyfikacji rozkładów brzegowych, a nastepnie badamy zależności pomiędzy wymiarami. Przyjmijmy, że próba statystyczna jest złożona ze zmiennych losowych o rozkładzie takim jak para $(X, Y)$, gdzie $Y$ jest jednowymiarowa i w ramach modelu ją będziemy traktowac jako *zmienną zależną*. W zależności od typów (skal pomiarowych) tych zmiennych stosujemy następujące metody:\n",
        "* *test niezależności* i *analizę korespondencji*, gdy obie zmienne $X$ i $Y$ są na skali nominalnej i traktujemy zależność symetrycznie;\n",
        "* analizę wartości średnich (lub median) $Y$ warunkowanych wartościami $X$, w szczególnych przypadkach *analizę wariancji* lub *test Kruskala*, gdy $X$ jest na skali nominalnej, a $Y$ - jest ilościową (na skali co najmniej interwałowej);\n",
        "* *analizę dyskryminacyjną* (klasyfikację), gdy $Y$ jest na skali nominalnej, a $X$ na dowolnej\n",
        "* *regresję*, gdy obie zmienne są ilościowe, na skali co najmniej interwałowej.\n",
        "\n",
        "Występują również modele regresji (Spearmana, Kendalla) dla zmiennych jakościowych na skali porządkowej, ale je w tym obrazie pominiemy. \n",
        "\n",
        "Skoncentrujemy się na drugim i czwartym punkcie z powyższych.\n",
        "\n",
        "Najpierw zainstalujemy jeden (nietypowy) pakiet oraz zaimportujmy standardowy przykład zbioru danych."
      ]
    },
    {
      "cell_type": "code",
      "source": [
        "!pip install pingouin"
      ],
      "metadata": {
        "id": "OiOOcsNqDfA_",
        "outputId": "fdbb229d-bf49-42fd-be75-70f8835e7fca",
        "colab": {
          "base_uri": "https://localhost:8080/"
        }
      },
      "id": "OiOOcsNqDfA_",
      "execution_count": 1,
      "outputs": [
        {
          "output_type": "stream",
          "name": "stdout",
          "text": [
            "Collecting pingouin\n",
            "  Downloading pingouin-0.5.1.tar.gz (183 kB)\n",
            "\u001b[?25l\r\u001b[K     |█▉                              | 10 kB 19.6 MB/s eta 0:00:01\r\u001b[K     |███▋                            | 20 kB 23.9 MB/s eta 0:00:01\r\u001b[K     |█████▍                          | 30 kB 17.8 MB/s eta 0:00:01\r\u001b[K     |███████▏                        | 40 kB 15.2 MB/s eta 0:00:01\r\u001b[K     |█████████                       | 51 kB 7.7 MB/s eta 0:00:01\r\u001b[K     |██████████▊                     | 61 kB 9.0 MB/s eta 0:00:01\r\u001b[K     |████████████▌                   | 71 kB 8.6 MB/s eta 0:00:01\r\u001b[K     |██████████████▎                 | 81 kB 8.7 MB/s eta 0:00:01\r\u001b[K     |████████████████                | 92 kB 9.6 MB/s eta 0:00:01\r\u001b[K     |██████████████████              | 102 kB 8.3 MB/s eta 0:00:01\r\u001b[K     |███████████████████▊            | 112 kB 8.3 MB/s eta 0:00:01\r\u001b[K     |█████████████████████▌          | 122 kB 8.3 MB/s eta 0:00:01\r\u001b[K     |███████████████████████▎        | 133 kB 8.3 MB/s eta 0:00:01\r\u001b[K     |█████████████████████████       | 143 kB 8.3 MB/s eta 0:00:01\r\u001b[K     |██████████████████████████▉     | 153 kB 8.3 MB/s eta 0:00:01\r\u001b[K     |████████████████████████████▋   | 163 kB 8.3 MB/s eta 0:00:01\r\u001b[K     |██████████████████████████████▍ | 174 kB 8.3 MB/s eta 0:00:01\r\u001b[K     |████████████████████████████████| 183 kB 8.3 MB/s \n",
            "\u001b[?25hRequirement already satisfied: numpy>=1.19 in /usr/local/lib/python3.7/dist-packages (from pingouin) (1.21.6)\n",
            "Collecting scipy>=1.7\n",
            "  Downloading scipy-1.7.3-cp37-cp37m-manylinux_2_12_x86_64.manylinux2010_x86_64.whl (38.1 MB)\n",
            "\u001b[K     |████████████████████████████████| 38.1 MB 1.2 MB/s \n",
            "\u001b[?25hRequirement already satisfied: pandas>=1.0 in /usr/local/lib/python3.7/dist-packages (from pingouin) (1.3.5)\n",
            "Requirement already satisfied: matplotlib>=3.0.2 in /usr/local/lib/python3.7/dist-packages (from pingouin) (3.2.2)\n",
            "Requirement already satisfied: seaborn>=0.11 in /usr/local/lib/python3.7/dist-packages (from pingouin) (0.11.2)\n",
            "Collecting statsmodels>=0.13\n",
            "  Downloading statsmodels-0.13.2-cp37-cp37m-manylinux_2_17_x86_64.manylinux2014_x86_64.whl (9.8 MB)\n",
            "\u001b[K     |████████████████████████████████| 9.8 MB 43.6 MB/s \n",
            "\u001b[?25hRequirement already satisfied: scikit-learn in /usr/local/lib/python3.7/dist-packages (from pingouin) (1.0.2)\n",
            "Collecting pandas_flavor>=0.2.0\n",
            "  Downloading pandas_flavor-0.3.0-py3-none-any.whl (6.3 kB)\n",
            "Collecting outdated\n",
            "  Downloading outdated-0.2.1-py3-none-any.whl (7.5 kB)\n",
            "Requirement already satisfied: tabulate in /usr/local/lib/python3.7/dist-packages (from pingouin) (0.8.9)\n",
            "Requirement already satisfied: pyparsing!=2.0.4,!=2.1.2,!=2.1.6,>=2.0.1 in /usr/local/lib/python3.7/dist-packages (from matplotlib>=3.0.2->pingouin) (3.0.8)\n",
            "Requirement already satisfied: cycler>=0.10 in /usr/local/lib/python3.7/dist-packages (from matplotlib>=3.0.2->pingouin) (0.11.0)\n",
            "Requirement already satisfied: python-dateutil>=2.1 in /usr/local/lib/python3.7/dist-packages (from matplotlib>=3.0.2->pingouin) (2.8.2)\n",
            "Requirement already satisfied: kiwisolver>=1.0.1 in /usr/local/lib/python3.7/dist-packages (from matplotlib>=3.0.2->pingouin) (1.4.2)\n",
            "Requirement already satisfied: typing-extensions in /usr/local/lib/python3.7/dist-packages (from kiwisolver>=1.0.1->matplotlib>=3.0.2->pingouin) (4.2.0)\n",
            "Requirement already satisfied: pytz>=2017.3 in /usr/local/lib/python3.7/dist-packages (from pandas>=1.0->pingouin) (2022.1)\n",
            "Collecting pandas_flavor>=0.2.0\n",
            "  Downloading pandas_flavor-0.2.0-py2.py3-none-any.whl (6.6 kB)\n",
            "Requirement already satisfied: xarray in /usr/local/lib/python3.7/dist-packages (from pandas_flavor>=0.2.0->pingouin) (0.18.2)\n",
            "Requirement already satisfied: six>=1.5 in /usr/local/lib/python3.7/dist-packages (from python-dateutil>=2.1->matplotlib>=3.0.2->pingouin) (1.15.0)\n",
            "Requirement already satisfied: patsy>=0.5.2 in /usr/local/lib/python3.7/dist-packages (from statsmodels>=0.13->pingouin) (0.5.2)\n",
            "Requirement already satisfied: packaging>=21.3 in /usr/local/lib/python3.7/dist-packages (from statsmodels>=0.13->pingouin) (21.3)\n",
            "Collecting littleutils\n",
            "  Downloading littleutils-0.2.2.tar.gz (6.6 kB)\n",
            "Requirement already satisfied: requests in /usr/local/lib/python3.7/dist-packages (from outdated->pingouin) (2.23.0)\n",
            "Requirement already satisfied: certifi>=2017.4.17 in /usr/local/lib/python3.7/dist-packages (from requests->outdated->pingouin) (2021.10.8)\n",
            "Requirement already satisfied: urllib3!=1.25.0,!=1.25.1,<1.26,>=1.21.1 in /usr/local/lib/python3.7/dist-packages (from requests->outdated->pingouin) (1.24.3)\n",
            "Requirement already satisfied: idna<3,>=2.5 in /usr/local/lib/python3.7/dist-packages (from requests->outdated->pingouin) (2.10)\n",
            "Requirement already satisfied: chardet<4,>=3.0.2 in /usr/local/lib/python3.7/dist-packages (from requests->outdated->pingouin) (3.0.4)\n",
            "Requirement already satisfied: threadpoolctl>=2.0.0 in /usr/local/lib/python3.7/dist-packages (from scikit-learn->pingouin) (3.1.0)\n",
            "Requirement already satisfied: joblib>=0.11 in /usr/local/lib/python3.7/dist-packages (from scikit-learn->pingouin) (1.1.0)\n",
            "Requirement already satisfied: setuptools>=40.4 in /usr/local/lib/python3.7/dist-packages (from xarray->pandas_flavor>=0.2.0->pingouin) (57.4.0)\n",
            "Building wheels for collected packages: pingouin, littleutils\n",
            "  Building wheel for pingouin (setup.py) ... \u001b[?25l\u001b[?25hdone\n",
            "  Created wheel for pingouin: filename=pingouin-0.5.1-py3-none-any.whl size=194002 sha256=44301f7f21a9376a69b740573396358c987c197204da2fc33d94c85d4f043bab\n",
            "  Stored in directory: /root/.cache/pip/wheels/74/a7/b6/5b5f03b0395fdada1f45d3aed76e7da48873a02805545ef652\n",
            "  Building wheel for littleutils (setup.py) ... \u001b[?25l\u001b[?25hdone\n",
            "  Created wheel for littleutils: filename=littleutils-0.2.2-py3-none-any.whl size=7048 sha256=2cdf80eb255d568a682373b3a95703e4c60911bd391df9336f6c458e5fa80863\n",
            "  Stored in directory: /root/.cache/pip/wheels/d6/64/cd/32819b511a488e4993f2fab909a95330289c3f4e0f6ef4676d\n",
            "Successfully built pingouin littleutils\n",
            "Installing collected packages: scipy, littleutils, statsmodels, pandas-flavor, outdated, pingouin\n",
            "  Attempting uninstall: scipy\n",
            "    Found existing installation: scipy 1.4.1\n",
            "    Uninstalling scipy-1.4.1:\n",
            "      Successfully uninstalled scipy-1.4.1\n",
            "  Attempting uninstall: statsmodels\n",
            "    Found existing installation: statsmodels 0.10.2\n",
            "    Uninstalling statsmodels-0.10.2:\n",
            "      Successfully uninstalled statsmodels-0.10.2\n",
            "\u001b[31mERROR: pip's dependency resolver does not currently take into account all the packages that are installed. This behaviour is the source of the following dependency conflicts.\n",
            "albumentations 0.1.12 requires imgaug<0.2.7,>=0.2.5, but you have imgaug 0.2.9 which is incompatible.\u001b[0m\n",
            "Successfully installed littleutils-0.2.2 outdated-0.2.1 pandas-flavor-0.2.0 pingouin-0.5.1 scipy-1.7.3 statsmodels-0.13.2\n"
          ]
        }
      ]
    },
    {
      "cell_type": "code",
      "execution_count": 2,
      "id": "foreign-brass",
      "metadata": {
        "id": "foreign-brass"
      },
      "outputs": [],
      "source": [
        "from sklearn import datasets\n",
        "\n",
        "irysy = datasets.load_iris()"
      ]
    },
    {
      "cell_type": "markdown",
      "id": "later-witch",
      "metadata": {
        "id": "later-witch"
      },
      "source": [
        "## Przekształcenie zbioru\n",
        "\n",
        "Przekształćmy ten zbiór do wygodnej do pracy postaci *pandas*"
      ]
    },
    {
      "cell_type": "code",
      "execution_count": 3,
      "id": "sensitive-break",
      "metadata": {
        "id": "sensitive-break",
        "outputId": "01d4ff83-222c-4e5d-d34a-99793ad6b132",
        "colab": {
          "base_uri": "https://localhost:8080/",
          "height": 312
        }
      },
      "outputs": [
        {
          "output_type": "stream",
          "name": "stdout",
          "text": [
            "[0 0 0 0 0 0 0 0 0 0 0 0 0 0 0 0 0 0 0 0 0 0 0 0 0 0 0 0 0 0 0 0 0 0 0 0 0\n",
            " 0 0 0 0 0 0 0 0 0 0 0 0 0 1 1 1 1 1 1 1 1 1 1 1 1 1 1 1 1 1 1 1 1 1 1 1 1\n",
            " 1 1 1 1 1 1 1 1 1 1 1 1 1 1 1 1 1 1 1 1 1 1 1 1 1 1 2 2 2 2 2 2 2 2 2 2 2\n",
            " 2 2 2 2 2 2 2 2 2 2 2 2 2 2 2 2 2 2 2 2 2 2 2 2 2 2 2 2 2 2 2 2 2 2 2 2 2\n",
            " 2 2]\n",
            "['sepal length (cm)', 'sepal width (cm)', 'petal length (cm)', 'petal width (cm)']\n"
          ]
        },
        {
          "output_type": "execute_result",
          "data": {
            "text/plain": [
              "    sl   sw   pl   pw Spec\n",
              "0  5.1  3.5  1.4  0.2    s\n",
              "1  4.9  3.0  1.4  0.2    s\n",
              "2  4.7  3.2  1.3  0.2    s\n",
              "3  4.6  3.1  1.5  0.2    s\n",
              "4  5.0  3.6  1.4  0.2    s"
            ],
            "text/html": [
              "\n",
              "  <div id=\"df-b097aa2e-cc32-40bd-8efd-3e358bd94be9\">\n",
              "    <div class=\"colab-df-container\">\n",
              "      <div>\n",
              "<style scoped>\n",
              "    .dataframe tbody tr th:only-of-type {\n",
              "        vertical-align: middle;\n",
              "    }\n",
              "\n",
              "    .dataframe tbody tr th {\n",
              "        vertical-align: top;\n",
              "    }\n",
              "\n",
              "    .dataframe thead th {\n",
              "        text-align: right;\n",
              "    }\n",
              "</style>\n",
              "<table border=\"1\" class=\"dataframe\">\n",
              "  <thead>\n",
              "    <tr style=\"text-align: right;\">\n",
              "      <th></th>\n",
              "      <th>sl</th>\n",
              "      <th>sw</th>\n",
              "      <th>pl</th>\n",
              "      <th>pw</th>\n",
              "      <th>Spec</th>\n",
              "    </tr>\n",
              "  </thead>\n",
              "  <tbody>\n",
              "    <tr>\n",
              "      <th>0</th>\n",
              "      <td>5.1</td>\n",
              "      <td>3.5</td>\n",
              "      <td>1.4</td>\n",
              "      <td>0.2</td>\n",
              "      <td>s</td>\n",
              "    </tr>\n",
              "    <tr>\n",
              "      <th>1</th>\n",
              "      <td>4.9</td>\n",
              "      <td>3.0</td>\n",
              "      <td>1.4</td>\n",
              "      <td>0.2</td>\n",
              "      <td>s</td>\n",
              "    </tr>\n",
              "    <tr>\n",
              "      <th>2</th>\n",
              "      <td>4.7</td>\n",
              "      <td>3.2</td>\n",
              "      <td>1.3</td>\n",
              "      <td>0.2</td>\n",
              "      <td>s</td>\n",
              "    </tr>\n",
              "    <tr>\n",
              "      <th>3</th>\n",
              "      <td>4.6</td>\n",
              "      <td>3.1</td>\n",
              "      <td>1.5</td>\n",
              "      <td>0.2</td>\n",
              "      <td>s</td>\n",
              "    </tr>\n",
              "    <tr>\n",
              "      <th>4</th>\n",
              "      <td>5.0</td>\n",
              "      <td>3.6</td>\n",
              "      <td>1.4</td>\n",
              "      <td>0.2</td>\n",
              "      <td>s</td>\n",
              "    </tr>\n",
              "  </tbody>\n",
              "</table>\n",
              "</div>\n",
              "      <button class=\"colab-df-convert\" onclick=\"convertToInteractive('df-b097aa2e-cc32-40bd-8efd-3e358bd94be9')\"\n",
              "              title=\"Convert this dataframe to an interactive table.\"\n",
              "              style=\"display:none;\">\n",
              "        \n",
              "  <svg xmlns=\"http://www.w3.org/2000/svg\" height=\"24px\"viewBox=\"0 0 24 24\"\n",
              "       width=\"24px\">\n",
              "    <path d=\"M0 0h24v24H0V0z\" fill=\"none\"/>\n",
              "    <path d=\"M18.56 5.44l.94 2.06.94-2.06 2.06-.94-2.06-.94-.94-2.06-.94 2.06-2.06.94zm-11 1L8.5 8.5l.94-2.06 2.06-.94-2.06-.94L8.5 2.5l-.94 2.06-2.06.94zm10 10l.94 2.06.94-2.06 2.06-.94-2.06-.94-.94-2.06-.94 2.06-2.06.94z\"/><path d=\"M17.41 7.96l-1.37-1.37c-.4-.4-.92-.59-1.43-.59-.52 0-1.04.2-1.43.59L10.3 9.45l-7.72 7.72c-.78.78-.78 2.05 0 2.83L4 21.41c.39.39.9.59 1.41.59.51 0 1.02-.2 1.41-.59l7.78-7.78 2.81-2.81c.8-.78.8-2.07 0-2.86zM5.41 20L4 18.59l7.72-7.72 1.47 1.35L5.41 20z\"/>\n",
              "  </svg>\n",
              "      </button>\n",
              "      \n",
              "  <style>\n",
              "    .colab-df-container {\n",
              "      display:flex;\n",
              "      flex-wrap:wrap;\n",
              "      gap: 12px;\n",
              "    }\n",
              "\n",
              "    .colab-df-convert {\n",
              "      background-color: #E8F0FE;\n",
              "      border: none;\n",
              "      border-radius: 50%;\n",
              "      cursor: pointer;\n",
              "      display: none;\n",
              "      fill: #1967D2;\n",
              "      height: 32px;\n",
              "      padding: 0 0 0 0;\n",
              "      width: 32px;\n",
              "    }\n",
              "\n",
              "    .colab-df-convert:hover {\n",
              "      background-color: #E2EBFA;\n",
              "      box-shadow: 0px 1px 2px rgba(60, 64, 67, 0.3), 0px 1px 3px 1px rgba(60, 64, 67, 0.15);\n",
              "      fill: #174EA6;\n",
              "    }\n",
              "\n",
              "    [theme=dark] .colab-df-convert {\n",
              "      background-color: #3B4455;\n",
              "      fill: #D2E3FC;\n",
              "    }\n",
              "\n",
              "    [theme=dark] .colab-df-convert:hover {\n",
              "      background-color: #434B5C;\n",
              "      box-shadow: 0px 1px 3px 1px rgba(0, 0, 0, 0.15);\n",
              "      filter: drop-shadow(0px 1px 2px rgba(0, 0, 0, 0.3));\n",
              "      fill: #FFFFFF;\n",
              "    }\n",
              "  </style>\n",
              "\n",
              "      <script>\n",
              "        const buttonEl =\n",
              "          document.querySelector('#df-b097aa2e-cc32-40bd-8efd-3e358bd94be9 button.colab-df-convert');\n",
              "        buttonEl.style.display =\n",
              "          google.colab.kernel.accessAllowed ? 'block' : 'none';\n",
              "\n",
              "        async function convertToInteractive(key) {\n",
              "          const element = document.querySelector('#df-b097aa2e-cc32-40bd-8efd-3e358bd94be9');\n",
              "          const dataTable =\n",
              "            await google.colab.kernel.invokeFunction('convertToInteractive',\n",
              "                                                     [key], {});\n",
              "          if (!dataTable) return;\n",
              "\n",
              "          const docLinkHtml = 'Like what you see? Visit the ' +\n",
              "            '<a target=\"_blank\" href=https://colab.research.google.com/notebooks/data_table.ipynb>data table notebook</a>'\n",
              "            + ' to learn more about interactive tables.';\n",
              "          element.innerHTML = '';\n",
              "          dataTable['output_type'] = 'display_data';\n",
              "          await google.colab.output.renderOutput(dataTable, element);\n",
              "          const docLink = document.createElement('div');\n",
              "          docLink.innerHTML = docLinkHtml;\n",
              "          element.appendChild(docLink);\n",
              "        }\n",
              "      </script>\n",
              "    </div>\n",
              "  </div>\n",
              "  "
            ]
          },
          "metadata": {},
          "execution_count": 3
        }
      ],
      "source": [
        "import numpy as np\n",
        "import pandas as pd\n",
        "\n",
        "size = len(irysy.data)\n",
        "\n",
        "sp = np.array([\"s\", \"c\", \"v\"])\n",
        "species = sp[irysy.target]\n",
        "print(irysy.target)\n",
        "\n",
        "print(irysy.feature_names[:])\n",
        "column_names = ['sl', 'sw', 'pl', 'pw']\n",
        "df = pd.DataFrame(irysy.data, columns = column_names, copy = True)\n",
        "df['Spec'] = species\n",
        "df.head()"
      ]
    },
    {
      "cell_type": "code",
      "execution_count": 4,
      "id": "narrow-coaching",
      "metadata": {
        "id": "narrow-coaching"
      },
      "outputs": [],
      "source": [
        "seto = df[df['Spec'] == \"s\"]\n",
        "ver = df[df['Spec'] == \"c\"]\n",
        "vir = df[df['Spec'] == \"v\"]"
      ]
    },
    {
      "cell_type": "code",
      "execution_count": 5,
      "id": "powerful-pontiac",
      "metadata": {
        "id": "powerful-pontiac",
        "outputId": "9bc56cec-f888-4fb0-f487-e7dc94f225eb",
        "colab": {
          "base_uri": "https://localhost:8080/",
          "height": 296
        }
      },
      "outputs": [
        {
          "output_type": "display_data",
          "data": {
            "text/plain": [
              "<Figure size 432x288 with 1 Axes>"
            ],
            "image/png": "[encoded data removed]"
          },
          "metadata": {
            "needs_background": "light"
          }
        }
      ],
      "source": [
        "%matplotlib inline\n",
        "import matplotlib.pyplot as pplot\n",
        "\n",
        "pplot.figure()\n",
        "pplot.title(\"Długość i szerokość działki kielicha\")\n",
        "pplot.xlabel(\"Długość\")\n",
        "pplot.ylabel(\"Szerokość\")\n",
        "pplot.plot(seto['sl'], seto['sw'], \"r.\" )\n",
        "pplot.plot(ver['sl'], ver['sw'], \"g.\")\n",
        "pplot.plot(vir['sl'], vir['sw'], \"b.\")\n",
        "\n",
        "pplot.grid(True)\n",
        "pplot.show()"
      ]
    },
    {
      "cell_type": "markdown",
      "id": "insured-serum",
      "metadata": {
        "id": "insured-serum"
      },
      "source": [
        "#### Pytanie:\n",
        "Czy można narysować wykres całej ramki danych jedną instrukcją - wybierając kolor na podstawie wartości atrybutu \"Spec\"?"
      ]
    },
    {
      "cell_type": "code",
      "execution_count": 6,
      "id": "controlled-diagnosis",
      "metadata": {
        "id": "controlled-diagnosis",
        "outputId": "6a827879-60d5-4e1d-e0d6-fa913dc7352b",
        "colab": {
          "base_uri": "https://localhost:8080/",
          "height": 613
        }
      },
      "outputs": [
        {
          "output_type": "stream",
          "name": "stdout",
          "text": [
            "['r.', 'r.', 'r.', 'r.', 'r.', 'r.', 'r.', 'r.', 'r.', 'r.', 'r.', 'r.', 'r.', 'r.', 'r.', 'r.', 'r.', 'r.', 'r.', 'r.', 'r.', 'r.', 'r.', 'r.', 'r.', 'r.', 'r.', 'r.', 'r.', 'r.', 'r.', 'r.', 'r.', 'r.', 'r.', 'r.', 'r.', 'r.', 'r.', 'r.', 'r.', 'r.', 'r.', 'r.', 'r.', 'r.', 'r.', 'r.', 'r.', 'r.', 'g.', 'g.', 'g.', 'g.', 'g.', 'g.', 'g.', 'g.', 'g.', 'g.', 'g.', 'g.', 'g.', 'g.', 'g.', 'g.', 'g.', 'g.', 'g.', 'g.', 'g.', 'g.', 'g.', 'g.', 'g.', 'g.', 'g.', 'g.', 'g.', 'g.', 'g.', 'g.', 'g.', 'g.', 'g.', 'g.', 'g.', 'g.', 'g.', 'g.', 'g.', 'g.', 'g.', 'g.', 'g.', 'g.', 'g.', 'g.', 'g.', 'g.', 'b.', 'b.', 'b.', 'b.', 'b.', 'b.', 'b.', 'b.', 'b.', 'b.', 'b.', 'b.', 'b.', 'b.', 'b.', 'b.', 'b.', 'b.', 'b.', 'b.', 'b.', 'b.', 'b.', 'b.', 'b.', 'b.', 'b.', 'b.', 'b.', 'b.', 'b.', 'b.', 'b.', 'b.', 'b.', 'b.', 'b.', 'b.', 'b.', 'b.', 'b.', 'b.', 'b.', 'b.', 'b.', 'b.', 'b.', 'b.', 'b.', 'b.']\n"
          ]
        },
        {
          "output_type": "display_data",
          "data": {
            "text/plain": [
              "<Figure size 432x288 with 1 Axes>"
            ],
            "image/png": "[encoded data removed]"
          },
          "metadata": {
            "needs_background": "light"
          }
        },
        {
          "output_type": "display_data",
          "data": {
            "text/plain": [
              "<Figure size 432x288 with 1 Axes>"
            ],
            "image/png": "[encoded data removed]"
          },
          "metadata": {
            "needs_background": "light"
          }
        }
      ],
      "source": [
        "%matplotlib inline\n",
        "\n",
        "pplot.figure()\n",
        "pplot.title(\"Długość i szerokość działki kielicha\")\n",
        "pplot.xlabel(\"Długość\")\n",
        "pplot.ylabel(\"Szerokość\")\n",
        "\n",
        "colorm = {'s': \"r.\", 'c': \"g.\", 'v': \"b.\"}\n",
        "print([colorm[x] for x in df['Spec']])\n",
        "pplot.plot(df['sl'], df['sw'], [colorm[x] for x in df['Spec']] )\n",
        "\n",
        "pplot.grid(True)\n",
        "pplot.show()\n",
        "#coś nie wyszło tak, jak trzeba\n",
        "\n",
        "pplot.figure()\n",
        "pplot.title(\"Długość i szerokość działki kielicha\")\n",
        "pplot.xlabel(\"Długość\")\n",
        "pplot.ylabel(\"Szerokość\")\n",
        "\n",
        "colorm = {'s': \"r\", 'c': \"g\", 'v': \"b\"}\n",
        "#print([colorm[x] for x in df['Spec']])\n",
        "pplot.scatter(df['sl'], df['sw'], c=[colorm[x] for x in df['Spec']] )\n",
        "\n",
        "pplot.grid(True)\n",
        "pplot.show()"
      ]
    },
    {
      "cell_type": "markdown",
      "id": "patient-surgery",
      "metadata": {
        "id": "patient-surgery"
      },
      "source": [
        "## Jak gatunek wpływa na rozmiary działki kielicha?\n",
        "\n",
        "Na początek pogrupowane statystyki."
      ]
    },
    {
      "cell_type": "code",
      "execution_count": 7,
      "id": "prime-happening",
      "metadata": {
        "id": "prime-happening",
        "outputId": "2a1ef402-ea9e-47ab-d323-4c94c151bc53",
        "colab": {
          "base_uri": "https://localhost:8080/",
          "height": 294
        }
      },
      "outputs": [
        {
          "output_type": "stream",
          "name": "stdout",
          "text": [
            "  Spec     sl                         sw                    \n",
            "         mean       var       std   mean       var       std\n",
            "0    c  5.936  0.266433  0.516171  2.770  0.098469  0.313798\n",
            "1    s  5.006  0.124249  0.352490  3.428  0.143690  0.379064\n",
            "2    v  6.588  0.404343  0.635880  2.974  0.104004  0.322497\n"
          ]
        },
        {
          "output_type": "execute_result",
          "data": {
            "text/plain": [
              "         sl                         sw                         pl            \\\n",
              "       mean       var       std   mean       var       std   mean       var   \n",
              "Spec                                                                          \n",
              "c     5.936  0.266433  0.516171  2.770  0.098469  0.313798  4.260  0.220816   \n",
              "s     5.006  0.124249  0.352490  3.428  0.143690  0.379064  1.462  0.030159   \n",
              "v     6.588  0.404343  0.635880  2.974  0.104004  0.322497  5.552  0.304588   \n",
              "\n",
              "                   pw                      \n",
              "           std   mean       var       std  \n",
              "Spec                                       \n",
              "c     0.469911  1.326  0.039106  0.197753  \n",
              "s     0.173664  0.246  0.011106  0.105386  \n",
              "v     0.551895  2.026  0.075433  0.274650  "
            ],
            "text/html": [
              "\n",
              "  <div id=\"df-7ac48fcb-4922-48ba-a038-7f6cb9906772\">\n",
              "    <div class=\"colab-df-container\">\n",
              "      <div>\n",
              "<style scoped>\n",
              "    .dataframe tbody tr th:only-of-type {\n",
              "        vertical-align: middle;\n",
              "    }\n",
              "\n",
              "    .dataframe tbody tr th {\n",
              "        vertical-align: top;\n",
              "    }\n",
              "\n",
              "    .dataframe thead tr th {\n",
              "        text-align: left;\n",
              "    }\n",
              "\n",
              "    .dataframe thead tr:last-of-type th {\n",
              "        text-align: right;\n",
              "    }\n",
              "</style>\n",
              "<table border=\"1\" class=\"dataframe\">\n",
              "  <thead>\n",
              "    <tr>\n",
              "      <th></th>\n",
              "      <th colspan=\"3\" halign=\"left\">sl</th>\n",
              "      <th colspan=\"3\" halign=\"left\">sw</th>\n",
              "      <th colspan=\"3\" halign=\"left\">pl</th>\n",
              "      <th colspan=\"3\" halign=\"left\">pw</th>\n",
              "    </tr>\n",
              "    <tr>\n",
              "      <th></th>\n",
              "      <th>mean</th>\n",
              "      <th>var</th>\n",
              "      <th>std</th>\n",
              "      <th>mean</th>\n",
              "      <th>var</th>\n",
              "      <th>std</th>\n",
              "      <th>mean</th>\n",
              "      <th>var</th>\n",
              "      <th>std</th>\n",
              "      <th>mean</th>\n",
              "      <th>var</th>\n",
              "      <th>std</th>\n",
              "    </tr>\n",
              "    <tr>\n",
              "      <th>Spec</th>\n",
              "      <th></th>\n",
              "      <th></th>\n",
              "      <th></th>\n",
              "      <th></th>\n",
              "      <th></th>\n",
              "      <th></th>\n",
              "      <th></th>\n",
              "      <th></th>\n",
              "      <th></th>\n",
              "      <th></th>\n",
              "      <th></th>\n",
              "      <th></th>\n",
              "    </tr>\n",
              "  </thead>\n",
              "  <tbody>\n",
              "    <tr>\n",
              "      <th>c</th>\n",
              "      <td>5.936</td>\n",
              "      <td>0.266433</td>\n",
              "      <td>0.516171</td>\n",
              "      <td>2.770</td>\n",
              "      <td>0.098469</td>\n",
              "      <td>0.313798</td>\n",
              "      <td>4.260</td>\n",
              "      <td>0.220816</td>\n",
              "      <td>0.469911</td>\n",
              "      <td>1.326</td>\n",
              "      <td>0.039106</td>\n",
              "      <td>0.197753</td>\n",
              "    </tr>\n",
              "    <tr>\n",
              "      <th>s</th>\n",
              "      <td>5.006</td>\n",
              "      <td>0.124249</td>\n",
              "      <td>0.352490</td>\n",
              "      <td>3.428</td>\n",
              "      <td>0.143690</td>\n",
              "      <td>0.379064</td>\n",
              "      <td>1.462</td>\n",
              "      <td>0.030159</td>\n",
              "      <td>0.173664</td>\n",
              "      <td>0.246</td>\n",
              "      <td>0.011106</td>\n",
              "      <td>0.105386</td>\n",
              "    </tr>\n",
              "    <tr>\n",
              "      <th>v</th>\n",
              "      <td>6.588</td>\n",
              "      <td>0.404343</td>\n",
              "      <td>0.635880</td>\n",
              "      <td>2.974</td>\n",
              "      <td>0.104004</td>\n",
              "      <td>0.322497</td>\n",
              "      <td>5.552</td>\n",
              "      <td>0.304588</td>\n",
              "      <td>0.551895</td>\n",
              "      <td>2.026</td>\n",
              "      <td>0.075433</td>\n",
              "      <td>0.274650</td>\n",
              "    </tr>\n",
              "  </tbody>\n",
              "</table>\n",
              "</div>\n",
              "      <button class=\"colab-df-convert\" onclick=\"convertToInteractive('df-7ac48fcb-4922-48ba-a038-7f6cb9906772')\"\n",
              "              title=\"Convert this dataframe to an interactive table.\"\n",
              "              style=\"display:none;\">\n",
              "        \n",
              "  <svg xmlns=\"http://www.w3.org/2000/svg\" height=\"24px\"viewBox=\"0 0 24 24\"\n",
              "       width=\"24px\">\n",
              "    <path d=\"M0 0h24v24H0V0z\" fill=\"none\"/>\n",
              "    <path d=\"M18.56 5.44l.94 2.06.94-2.06 2.06-.94-2.06-.94-.94-2.06-.94 2.06-2.06.94zm-11 1L8.5 8.5l.94-2.06 2.06-.94-2.06-.94L8.5 2.5l-.94 2.06-2.06.94zm10 10l.94 2.06.94-2.06 2.06-.94-2.06-.94-.94-2.06-.94 2.06-2.06.94z\"/><path d=\"M17.41 7.96l-1.37-1.37c-.4-.4-.92-.59-1.43-.59-.52 0-1.04.2-1.43.59L10.3 9.45l-7.72 7.72c-.78.78-.78 2.05 0 2.83L4 21.41c.39.39.9.59 1.41.59.51 0 1.02-.2 1.41-.59l7.78-7.78 2.81-2.81c.8-.78.8-2.07 0-2.86zM5.41 20L4 18.59l7.72-7.72 1.47 1.35L5.41 20z\"/>\n",
              "  </svg>\n",
              "      </button>\n",
              "      \n",
              "  <style>\n",
              "    .colab-df-container {\n",
              "      display:flex;\n",
              "      flex-wrap:wrap;\n",
              "      gap: 12px;\n",
              "    }\n",
              "\n",
              "    .colab-df-convert {\n",
              "      background-color: #E8F0FE;\n",
              "      border: none;\n",
              "      border-radius: 50%;\n",
              "      cursor: pointer;\n",
              "      display: none;\n",
              "      fill: #1967D2;\n",
              "      height: 32px;\n",
              "      padding: 0 0 0 0;\n",
              "      width: 32px;\n",
              "    }\n",
              "\n",
              "    .colab-df-convert:hover {\n",
              "      background-color: #E2EBFA;\n",
              "      box-shadow: 0px 1px 2px rgba(60, 64, 67, 0.3), 0px 1px 3px 1px rgba(60, 64, 67, 0.15);\n",
              "      fill: #174EA6;\n",
              "    }\n",
              "\n",
              "    [theme=dark] .colab-df-convert {\n",
              "      background-color: #3B4455;\n",
              "      fill: #D2E3FC;\n",
              "    }\n",
              "\n",
              "    [theme=dark] .colab-df-convert:hover {\n",
              "      background-color: #434B5C;\n",
              "      box-shadow: 0px 1px 3px 1px rgba(0, 0, 0, 0.15);\n",
              "      filter: drop-shadow(0px 1px 2px rgba(0, 0, 0, 0.3));\n",
              "      fill: #FFFFFF;\n",
              "    }\n",
              "  </style>\n",
              "\n",
              "      <script>\n",
              "        const buttonEl =\n",
              "          document.querySelector('#df-7ac48fcb-4922-48ba-a038-7f6cb9906772 button.colab-df-convert');\n",
              "        buttonEl.style.display =\n",
              "          google.colab.kernel.accessAllowed ? 'block' : 'none';\n",
              "\n",
              "        async function convertToInteractive(key) {\n",
              "          const element = document.querySelector('#df-7ac48fcb-4922-48ba-a038-7f6cb9906772');\n",
              "          const dataTable =\n",
              "            await google.colab.kernel.invokeFunction('convertToInteractive',\n",
              "                                                     [key], {});\n",
              "          if (!dataTable) return;\n",
              "\n",
              "          const docLinkHtml = 'Like what you see? Visit the ' +\n",
              "            '<a target=\"_blank\" href=https://colab.research.google.com/notebooks/data_table.ipynb>data table notebook</a>'\n",
              "            + ' to learn more about interactive tables.';\n",
              "          element.innerHTML = '';\n",
              "          dataTable['output_type'] = 'display_data';\n",
              "          await google.colab.output.renderOutput(dataTable, element);\n",
              "          const docLink = document.createElement('div');\n",
              "          docLink.innerHTML = docLinkHtml;\n",
              "          element.appendChild(docLink);\n",
              "        }\n",
              "      </script>\n",
              "    </div>\n",
              "  </div>\n",
              "  "
            ]
          },
          "metadata": {},
          "execution_count": 7
        }
      ],
      "source": [
        "wyniki = df.groupby(['Spec'], as_index=False).agg({'sl':['mean', 'var', 'std'], \n",
        "                                                   'sw':['mean', 'var', 'std']})\n",
        "print(wyniki)\n",
        "# alternatywnie\n",
        "df.groupby(['Spec'], as_index=False).agg(['mean', 'var', 'std'])"
      ]
    },
    {
      "cell_type": "markdown",
      "id": "distant-manufacturer",
      "metadata": {
        "id": "distant-manufacturer"
      },
      "source": [
        "Ciekawe, że *pandas* też umie niektóre wykresy narysować. Na poniższym oczywiście mediana, kwartyle i wartości nie- i odstające."
      ]
    },
    {
      "cell_type": "code",
      "execution_count": 8,
      "id": "polish-philadelphia",
      "metadata": {
        "id": "polish-philadelphia",
        "outputId": "f9a703bc-c43c-4f65-ef63-3f892a60a5f9",
        "colab": {
          "base_uri": "https://localhost:8080/",
          "height": 585
        }
      },
      "outputs": [
        {
          "output_type": "display_data",
          "data": {
            "text/plain": [
              "<Figure size 432x288 with 1 Axes>"
            ],
            "image/png": "[encoded data removed]"
          },
          "metadata": {
            "needs_background": "light"
          }
        },
        {
          "output_type": "display_data",
          "data": {
            "text/plain": [
              "<Figure size 432x288 with 1 Axes>"
            ],
            "image/png": "[encoded data removed]"
          },
          "metadata": {
            "needs_background": "light"
          }
        }
      ],
      "source": [
        "%matplotlib inline\n",
        "df.boxplot('sl', 'Spec')\n",
        "df.boxplot('sw', 'Spec')\n",
        "pass"
      ]
    },
    {
      "cell_type": "markdown",
      "id": "alien-campaign",
      "metadata": {
        "id": "alien-campaign"
      },
      "source": [
        "### Czy różnice są istotne statystycznie?\n",
        "\n",
        "Spróbujemy *analizy wariancji* z pakiety *scipy*.\n",
        "\n",
        "Najpierw kwestia założeń: normalność próby i jednorodność wariancji."
      ]
    },
    {
      "cell_type": "code",
      "execution_count": 9,
      "id": "lucky-projection",
      "metadata": {
        "id": "lucky-projection",
        "outputId": "e15d93b4-9e83-4635-bf47-a8f2f459bb49",
        "colab": {
          "base_uri": "https://localhost:8080/",
          "height": 561
        }
      },
      "outputs": [
        {
          "output_type": "execute_result",
          "data": {
            "text/plain": [
              "((array([-2.20385432, -1.83293478, -1.61402323, -1.45296849, -1.32267759,\n",
              "         -1.21163342, -1.113805  , -1.02561527, -0.94475674, -0.86964726,\n",
              "         -0.79915021, -0.73241807, -0.66879925, -0.6077796 , -0.54894415,\n",
              "         -0.49195112, -0.43651377, -0.38238727, -0.32935914, -0.27724191,\n",
              "         -0.2258675 , -0.17508277, -0.12474591, -0.07472335, -0.02488719,\n",
              "          0.02488719,  0.07472335,  0.12474591,  0.17508277,  0.2258675 ,\n",
              "          0.27724191,  0.32935914,  0.38238727,  0.43651377,  0.49195112,\n",
              "          0.54894415,  0.6077796 ,  0.66879925,  0.73241807,  0.79915021,\n",
              "          0.86964726,  0.94475674,  1.02561527,  1.113805  ,  1.21163342,\n",
              "          1.32267759,  1.45296849,  1.61402323,  1.83293478,  2.20385432]),\n",
              "  array([2.3, 2.9, 3. , 3. , 3. , 3. , 3. , 3. , 3.1, 3.1, 3.1, 3.1, 3.2,\n",
              "         3.2, 3.2, 3.2, 3.2, 3.3, 3.3, 3.4, 3.4, 3.4, 3.4, 3.4, 3.4, 3.4,\n",
              "         3.4, 3.4, 3.5, 3.5, 3.5, 3.5, 3.5, 3.5, 3.6, 3.6, 3.6, 3.7, 3.7,\n",
              "         3.7, 3.8, 3.8, 3.8, 3.8, 3.9, 3.9, 4. , 4.1, 4.2, 4.4])),\n",
              " (0.3818059296462584, 3.428, 0.9812499850910298))"
            ]
          },
          "metadata": {},
          "execution_count": 9
        },
        {
          "output_type": "display_data",
          "data": {
            "text/plain": [
              "<Figure size 432x288 with 1 Axes>"
            ],
            "image/png": "[encoded data removed]"
          },
          "metadata": {
            "needs_background": "light"
          }
        }
      ],
      "source": [
        "%matplotlib inline\n",
        "import scipy.stats as stats\n",
        "\n",
        "#wykres normalności - wypisuję wyniki\n",
        "stats.probplot(seto['sw'], plot = pplot)"
      ]
    },
    {
      "cell_type": "code",
      "execution_count": 10,
      "id": "funky-reminder",
      "metadata": {
        "id": "funky-reminder",
        "outputId": "2b3ed2d3-42f9-4bd6-b2b1-7f2308e9ced5",
        "colab": {
          "base_uri": "https://localhost:8080/"
        }
      },
      "outputs": [
        {
          "output_type": "stream",
          "name": "stdout",
          "text": [
            "W= 0.97171950340271 p-value= 0.2715264856815338\n",
            "W= 0.9741330742835999 p-value= 0.33798879384994507\n",
            "W= 0.9673910140991211 p-value= 0.1809043288230896\n"
          ]
        }
      ],
      "source": [
        "#testy normalności\n",
        "\n",
        "W, p_value=stats.shapiro(seto['sw'])\n",
        "print(\"W=\",W,\"p-value=\",p_value)\n",
        "W, p_value=stats.shapiro(ver['sw'])\n",
        "print(\"W=\",W,\"p-value=\",p_value)\n",
        "W, p_value=stats.shapiro(vir['sw'])\n",
        "print(\"W=\",W,\"p-value=\",p_value)\n"
      ]
    },
    {
      "cell_type": "markdown",
      "id": "concerned-bedroom",
      "metadata": {
        "id": "concerned-bedroom"
      },
      "source": [
        "**Pytanie**: Czy da się i jak zrobić to zbiorczo? Może przez *groupby*?\n"
      ]
    },
    {
      "cell_type": "code",
      "execution_count": 11,
      "id": "square-financing",
      "metadata": {
        "id": "square-financing",
        "outputId": "f971c597-40e6-4cce-e5b7-f1036eae84ca",
        "colab": {
          "base_uri": "https://localhost:8080/",
          "height": 232
        }
      },
      "outputs": [
        {
          "output_type": "stream",
          "name": "stdout",
          "text": [
            "  Spec        sw\n",
            "           shapi\n",
            "0    c  0.337989\n",
            "1    s  0.271526\n",
            "2    v  0.180904\n"
          ]
        },
        {
          "output_type": "execute_result",
          "data": {
            "text/plain": [
              "  Spec        sl        sw        pl            pw\n",
              "0    c  0.464733  0.337989  0.158483  2.727822e-02\n",
              "1    s  0.459528  0.271526  0.054810  8.658421e-07\n",
              "2    v  0.258325  0.180904  0.109774  8.695745e-02"
            ],
            "text/html": [
              "\n",
              "  <div id=\"df-a424ab6d-68ed-4db9-8b1a-36f8a1534242\">\n",
              "    <div class=\"colab-df-container\">\n",
              "      <div>\n",
              "<style scoped>\n",
              "    .dataframe tbody tr th:only-of-type {\n",
              "        vertical-align: middle;\n",
              "    }\n",
              "\n",
              "    .dataframe tbody tr th {\n",
              "        vertical-align: top;\n",
              "    }\n",
              "\n",
              "    .dataframe thead th {\n",
              "        text-align: right;\n",
              "    }\n",
              "</style>\n",
              "<table border=\"1\" class=\"dataframe\">\n",
              "  <thead>\n",
              "    <tr style=\"text-align: right;\">\n",
              "      <th></th>\n",
              "      <th>Spec</th>\n",
              "      <th>sl</th>\n",
              "      <th>sw</th>\n",
              "      <th>pl</th>\n",
              "      <th>pw</th>\n",
              "    </tr>\n",
              "  </thead>\n",
              "  <tbody>\n",
              "    <tr>\n",
              "      <th>0</th>\n",
              "      <td>c</td>\n",
              "      <td>0.464733</td>\n",
              "      <td>0.337989</td>\n",
              "      <td>0.158483</td>\n",
              "      <td>2.727822e-02</td>\n",
              "    </tr>\n",
              "    <tr>\n",
              "      <th>1</th>\n",
              "      <td>s</td>\n",
              "      <td>0.459528</td>\n",
              "      <td>0.271526</td>\n",
              "      <td>0.054810</td>\n",
              "      <td>8.658421e-07</td>\n",
              "    </tr>\n",
              "    <tr>\n",
              "      <th>2</th>\n",
              "      <td>v</td>\n",
              "      <td>0.258325</td>\n",
              "      <td>0.180904</td>\n",
              "      <td>0.109774</td>\n",
              "      <td>8.695745e-02</td>\n",
              "    </tr>\n",
              "  </tbody>\n",
              "</table>\n",
              "</div>\n",
              "      <button class=\"colab-df-convert\" onclick=\"convertToInteractive('df-a424ab6d-68ed-4db9-8b1a-36f8a1534242')\"\n",
              "              title=\"Convert this dataframe to an interactive table.\"\n",
              "              style=\"display:none;\">\n",
              "        \n",
              "  <svg xmlns=\"http://www.w3.org/2000/svg\" height=\"24px\"viewBox=\"0 0 24 24\"\n",
              "       width=\"24px\">\n",
              "    <path d=\"M0 0h24v24H0V0z\" fill=\"none\"/>\n",
              "    <path d=\"M18.56 5.44l.94 2.06.94-2.06 2.06-.94-2.06-.94-.94-2.06-.94 2.06-2.06.94zm-11 1L8.5 8.5l.94-2.06 2.06-.94-2.06-.94L8.5 2.5l-.94 2.06-2.06.94zm10 10l.94 2.06.94-2.06 2.06-.94-2.06-.94-.94-2.06-.94 2.06-2.06.94z\"/><path d=\"M17.41 7.96l-1.37-1.37c-.4-.4-.92-.59-1.43-.59-.52 0-1.04.2-1.43.59L10.3 9.45l-7.72 7.72c-.78.78-.78 2.05 0 2.83L4 21.41c.39.39.9.59 1.41.59.51 0 1.02-.2 1.41-.59l7.78-7.78 2.81-2.81c.8-.78.8-2.07 0-2.86zM5.41 20L4 18.59l7.72-7.72 1.47 1.35L5.41 20z\"/>\n",
              "  </svg>\n",
              "      </button>\n",
              "      \n",
              "  <style>\n",
              "    .colab-df-container {\n",
              "      display:flex;\n",
              "      flex-wrap:wrap;\n",
              "      gap: 12px;\n",
              "    }\n",
              "\n",
              "    .colab-df-convert {\n",
              "      background-color: #E8F0FE;\n",
              "      border: none;\n",
              "      border-radius: 50%;\n",
              "      cursor: pointer;\n",
              "      display: none;\n",
              "      fill: #1967D2;\n",
              "      height: 32px;\n",
              "      padding: 0 0 0 0;\n",
              "      width: 32px;\n",
              "    }\n",
              "\n",
              "    .colab-df-convert:hover {\n",
              "      background-color: #E2EBFA;\n",
              "      box-shadow: 0px 1px 2px rgba(60, 64, 67, 0.3), 0px 1px 3px 1px rgba(60, 64, 67, 0.15);\n",
              "      fill: #174EA6;\n",
              "    }\n",
              "\n",
              "    [theme=dark] .colab-df-convert {\n",
              "      background-color: #3B4455;\n",
              "      fill: #D2E3FC;\n",
              "    }\n",
              "\n",
              "    [theme=dark] .colab-df-convert:hover {\n",
              "      background-color: #434B5C;\n",
              "      box-shadow: 0px 1px 3px 1px rgba(0, 0, 0, 0.15);\n",
              "      filter: drop-shadow(0px 1px 2px rgba(0, 0, 0, 0.3));\n",
              "      fill: #FFFFFF;\n",
              "    }\n",
              "  </style>\n",
              "\n",
              "      <script>\n",
              "        const buttonEl =\n",
              "          document.querySelector('#df-a424ab6d-68ed-4db9-8b1a-36f8a1534242 button.colab-df-convert');\n",
              "        buttonEl.style.display =\n",
              "          google.colab.kernel.accessAllowed ? 'block' : 'none';\n",
              "\n",
              "        async function convertToInteractive(key) {\n",
              "          const element = document.querySelector('#df-a424ab6d-68ed-4db9-8b1a-36f8a1534242');\n",
              "          const dataTable =\n",
              "            await google.colab.kernel.invokeFunction('convertToInteractive',\n",
              "                                                     [key], {});\n",
              "          if (!dataTable) return;\n",
              "\n",
              "          const docLinkHtml = 'Like what you see? Visit the ' +\n",
              "            '<a target=\"_blank\" href=https://colab.research.google.com/notebooks/data_table.ipynb>data table notebook</a>'\n",
              "            + ' to learn more about interactive tables.';\n",
              "          element.innerHTML = '';\n",
              "          dataTable['output_type'] = 'display_data';\n",
              "          await google.colab.output.renderOutput(dataTable, element);\n",
              "          const docLink = document.createElement('div');\n",
              "          docLink.innerHTML = docLinkHtml;\n",
              "          element.appendChild(docLink);\n",
              "        }\n",
              "      </script>\n",
              "    </div>\n",
              "  </div>\n",
              "  "
            ]
          },
          "metadata": {},
          "execution_count": 11
        }
      ],
      "source": [
        "def shapi(x):\n",
        "    W, p_value = stats.shapiro(x)\n",
        "    return p_value\n",
        "\n",
        "print(df.groupby(['Spec'], as_index=False).agg({'sw': [shapi]}))\n",
        "df.groupby(['Spec'], as_index=False).agg(shapi)"
      ]
    },
    {
      "cell_type": "markdown",
      "id": "received-geology",
      "metadata": {
        "id": "received-geology"
      },
      "source": [
        "Teraz jednorodność wariancji. Na dwa sposoby."
      ]
    },
    {
      "cell_type": "code",
      "execution_count": 12,
      "id": "played-liquid",
      "metadata": {
        "id": "played-liquid",
        "outputId": "fa4aa15b-5fd0-4022-bf0d-013d637741db",
        "colab": {
          "base_uri": "https://localhost:8080/"
        }
      },
      "outputs": [
        {
          "output_type": "stream",
          "name": "stdout",
          "text": [
            "W= 2.0910752014391774 p-value= 0.35150280041581317\n",
            "dict_keys(['c', 's', 'v'])\n",
            "W= 2.0910752014391774 p-value= 0.35150280041581317\n",
            "W= 0.5902115655853319 p-value= 0.5555178984739075\n"
          ]
        }
      ],
      "source": [
        "#najpierw prosty - już podzieliliśmy zbiór danych\n",
        "W, p_value = stats.bartlett(seto['sw'],ver['sw'], vir['sw'])\n",
        "print(\"W=\", W, \"p-value=\", p_value)\n",
        "\n",
        "# teraz podział przez group by\n",
        "gb = df.groupby('Spec')    \n",
        "listy = {x: gb.get_group(x)['sw'] for x in gb.groups}\n",
        "# ale tu nie umiem porządnie wykorzystać tego podziału\n",
        "print(listy.keys())\n",
        "W, p_value = stats.bartlett(listy['s'], listy['c'], listy['v'])\n",
        "print(\"W=\", W, \"p-value=\", p_value)\n",
        "\n",
        "# to samo z testem Levene'a\n",
        "W, p_value = stats.levene(seto['sw'],ver['sw'], vir['sw'])\n",
        "print(\"W=\", W, \"p-value=\", p_value)"
      ]
    },
    {
      "cell_type": "markdown",
      "id": "regional-communications",
      "metadata": {
        "id": "regional-communications"
      },
      "source": [
        "Widać pewne ograniczenia - więc skorzystamy z czegoś innego - pakiet *pingouin*."
      ]
    },
    {
      "cell_type": "code",
      "execution_count": 13,
      "id": "driven-bacteria",
      "metadata": {
        "id": "driven-bacteria",
        "outputId": "c508e4a0-c3e5-46bc-94bb-c12f7ac05e1f",
        "colab": {
          "base_uri": "https://localhost:8080/",
          "height": 116
        }
      },
      "outputs": [
        {
          "output_type": "stream",
          "name": "stdout",
          "text": [
            "               W      pval  equal_var\n",
            "levene  0.590212  0.555518       True\n"
          ]
        },
        {
          "output_type": "execute_result",
          "data": {
            "text/plain": [
              "                 T      pval  equal_var\n",
              "bartlett  2.091075  0.351503       True"
            ],
            "text/html": [
              "\n",
              "  <div id=\"df-e201f049-02a5-4728-a66c-e26a3f9e6af5\">\n",
              "    <div class=\"colab-df-container\">\n",
              "      <div>\n",
              "<style scoped>\n",
              "    .dataframe tbody tr th:only-of-type {\n",
              "        vertical-align: middle;\n",
              "    }\n",
              "\n",
              "    .dataframe tbody tr th {\n",
              "        vertical-align: top;\n",
              "    }\n",
              "\n",
              "    .dataframe thead th {\n",
              "        text-align: right;\n",
              "    }\n",
              "</style>\n",
              "<table border=\"1\" class=\"dataframe\">\n",
              "  <thead>\n",
              "    <tr style=\"text-align: right;\">\n",
              "      <th></th>\n",
              "      <th>T</th>\n",
              "      <th>pval</th>\n",
              "      <th>equal_var</th>\n",
              "    </tr>\n",
              "  </thead>\n",
              "  <tbody>\n",
              "    <tr>\n",
              "      <th>bartlett</th>\n",
              "      <td>2.091075</td>\n",
              "      <td>0.351503</td>\n",
              "      <td>True</td>\n",
              "    </tr>\n",
              "  </tbody>\n",
              "</table>\n",
              "</div>\n",
              "      <button class=\"colab-df-convert\" onclick=\"convertToInteractive('df-e201f049-02a5-4728-a66c-e26a3f9e6af5')\"\n",
              "              title=\"Convert this dataframe to an interactive table.\"\n",
              "              style=\"display:none;\">\n",
              "        \n",
              "  <svg xmlns=\"http://www.w3.org/2000/svg\" height=\"24px\"viewBox=\"0 0 24 24\"\n",
              "       width=\"24px\">\n",
              "    <path d=\"M0 0h24v24H0V0z\" fill=\"none\"/>\n",
              "    <path d=\"M18.56 5.44l.94 2.06.94-2.06 2.06-.94-2.06-.94-.94-2.06-.94 2.06-2.06.94zm-11 1L8.5 8.5l.94-2.06 2.06-.94-2.06-.94L8.5 2.5l-.94 2.06-2.06.94zm10 10l.94 2.06.94-2.06 2.06-.94-2.06-.94-.94-2.06-.94 2.06-2.06.94z\"/><path d=\"M17.41 7.96l-1.37-1.37c-.4-.4-.92-.59-1.43-.59-.52 0-1.04.2-1.43.59L10.3 9.45l-7.72 7.72c-.78.78-.78 2.05 0 2.83L4 21.41c.39.39.9.59 1.41.59.51 0 1.02-.2 1.41-.59l7.78-7.78 2.81-2.81c.8-.78.8-2.07 0-2.86zM5.41 20L4 18.59l7.72-7.72 1.47 1.35L5.41 20z\"/>\n",
              "  </svg>\n",
              "      </button>\n",
              "      \n",
              "  <style>\n",
              "    .colab-df-container {\n",
              "      display:flex;\n",
              "      flex-wrap:wrap;\n",
              "      gap: 12px;\n",
              "    }\n",
              "\n",
              "    .colab-df-convert {\n",
              "      background-color: #E8F0FE;\n",
              "      border: none;\n",
              "      border-radius: 50%;\n",
              "      cursor: pointer;\n",
              "      display: none;\n",
              "      fill: #1967D2;\n",
              "      height: 32px;\n",
              "      padding: 0 0 0 0;\n",
              "      width: 32px;\n",
              "    }\n",
              "\n",
              "    .colab-df-convert:hover {\n",
              "      background-color: #E2EBFA;\n",
              "      box-shadow: 0px 1px 2px rgba(60, 64, 67, 0.3), 0px 1px 3px 1px rgba(60, 64, 67, 0.15);\n",
              "      fill: #174EA6;\n",
              "    }\n",
              "\n",
              "    [theme=dark] .colab-df-convert {\n",
              "      background-color: #3B4455;\n",
              "      fill: #D2E3FC;\n",
              "    }\n",
              "\n",
              "    [theme=dark] .colab-df-convert:hover {\n",
              "      background-color: #434B5C;\n",
              "      box-shadow: 0px 1px 3px 1px rgba(0, 0, 0, 0.15);\n",
              "      filter: drop-shadow(0px 1px 2px rgba(0, 0, 0, 0.3));\n",
              "      fill: #FFFFFF;\n",
              "    }\n",
              "  </style>\n",
              "\n",
              "      <script>\n",
              "        const buttonEl =\n",
              "          document.querySelector('#df-e201f049-02a5-4728-a66c-e26a3f9e6af5 button.colab-df-convert');\n",
              "        buttonEl.style.display =\n",
              "          google.colab.kernel.accessAllowed ? 'block' : 'none';\n",
              "\n",
              "        async function convertToInteractive(key) {\n",
              "          const element = document.querySelector('#df-e201f049-02a5-4728-a66c-e26a3f9e6af5');\n",
              "          const dataTable =\n",
              "            await google.colab.kernel.invokeFunction('convertToInteractive',\n",
              "                                                     [key], {});\n",
              "          if (!dataTable) return;\n",
              "\n",
              "          const docLinkHtml = 'Like what you see? Visit the ' +\n",
              "            '<a target=\"_blank\" href=https://colab.research.google.com/notebooks/data_table.ipynb>data table notebook</a>'\n",
              "            + ' to learn more about interactive tables.';\n",
              "          element.innerHTML = '';\n",
              "          dataTable['output_type'] = 'display_data';\n",
              "          await google.colab.output.renderOutput(dataTable, element);\n",
              "          const docLink = document.createElement('div');\n",
              "          docLink.innerHTML = docLinkHtml;\n",
              "          element.appendChild(docLink);\n",
              "        }\n",
              "      </script>\n",
              "    </div>\n",
              "  </div>\n",
              "  "
            ]
          },
          "metadata": {},
          "execution_count": 13
        }
      ],
      "source": [
        "# tu będzie wygodniej\n",
        "import pingouin as pg\n",
        "result = pg.homoscedasticity(df, dv='sw', group='Spec')\n",
        "print(result)\n",
        "pg.homoscedasticity(df, dv='sw', group='Spec', method = 'bartlett')"
      ]
    },
    {
      "cell_type": "markdown",
      "id": "familiar-notice",
      "metadata": {
        "id": "familiar-notice"
      },
      "source": [
        "Inne rzeczy też potrafi ten pingwin."
      ]
    },
    {
      "cell_type": "code",
      "execution_count": 14,
      "id": "eastern-philip",
      "metadata": {
        "id": "eastern-philip",
        "outputId": "ef7daad4-7803-44de-fdfc-4db4b89a65d3",
        "colab": {
          "base_uri": "https://localhost:8080/",
          "height": 330
        }
      },
      "outputs": [
        {
          "output_type": "stream",
          "name": "stdout",
          "text": [
            "           W      pval  normal\n",
            "sw  0.974133  0.337989    True\n"
          ]
        },
        {
          "output_type": "display_data",
          "data": {
            "text/plain": [
              "<Figure size 360x288 with 1 Axes>"
            ],
            "image/png": "[encoded data removed]"
          },
          "metadata": {
            "needs_background": "light"
          }
        }
      ],
      "source": [
        "print(pg.normality(ver['sw']))\n",
        "ax = pg.qqplot(ver['sw'], dist='norm')"
      ]
    },
    {
      "cell_type": "markdown",
      "id": "interim-bubble",
      "metadata": {
        "id": "interim-bubble"
      },
      "source": [
        "W końcu czas na analizę wariancji."
      ]
    },
    {
      "cell_type": "code",
      "execution_count": 15,
      "id": "least-annex",
      "metadata": {
        "id": "least-annex",
        "outputId": "4e52d0d7-9287-458e-a2a6-439c91385c8d",
        "colab": {
          "base_uri": "https://localhost:8080/"
        }
      },
      "outputs": [
        {
          "output_type": "stream",
          "name": "stdout",
          "text": [
            "F_onewayResult(statistic=49.160040089612075, pvalue=4.492017133309115e-17)\n",
            "-----------------\n",
            "   Source         SS   DF        MS         F         p-unc       np2\n",
            "0    Spec  11.344933    2  5.672467  49.16004  4.492017e-17  0.400783\n",
            "1  Within  16.962000  147  0.115388       NaN           NaN       NaN\n"
          ]
        }
      ],
      "source": [
        "print(stats.f_oneway(seto['sw'], ver['sw'], vir['sw']))\n",
        "print('-----------------')\n",
        "print(pg.anova(data=df, dv='sw', between='Spec', detailed=True))"
      ]
    },
    {
      "cell_type": "markdown",
      "id": "dental-clearing",
      "metadata": {
        "id": "dental-clearing"
      },
      "source": [
        "Tak, czy tak - odrzucamy hipotezę o równości średnich szerokości kielichów. Zatem gatunek wpływa na tę szerokość w sposób *istotny statystycznie*."
      ]
    },
    {
      "cell_type": "markdown",
      "id": "appointed-guess",
      "metadata": {
        "id": "appointed-guess"
      },
      "source": [
        "## Regresja liniowa\n",
        "\n",
        "### Na początek jednej zmiennej.\n",
        "\n",
        "Pomijając szzegóły teoretyczne rzecz sprowadza się do oszacowania $\\mathbb{E} (Y | X = x)$ jako funkcji liniowej, postaci $a x + b$. Inaczej: szacujemy $Y = \\hat{Y} + \\epsilon$, gdzie $\\hat{Y} = a X + b$, próbując zminimalizować wariancję błędu $\\epsilon$. W praktyce szukamy minimum\n",
        "$$ \\min_{a,b} \\mathbb{E} (Y - aX -b)^2 = \\left\\{ \\begin{array}{rcl}\n",
        "a & = & \\frac{\\operatorname{Cov}(X, Y)}{\\operatorname{Var}(X)} \\\\\n",
        "b & = & \\mathbb{E} Y - a \\mathbb{E} x\n",
        "\\end{array}\n",
        "\\right\\} = \\operatorname{Var}(Y)(1 - \\rho^2),$$\n",
        "gdzie $\\rho = \\frac{\\operatorname{Cov}(X, Y)}{\\sqrt{\\operatorname{Var}(X)\\operatorname{Var}(Y)}}$ jest *współczynnikiem koleracji* liniowej Pearsona.\n",
        "\n",
        "Parametry $a, b, \\rho$ można oczywiście *wyestymować* w oparciu o próbkę statystyczną."
      ]
    },
    {
      "cell_type": "code",
      "execution_count": 16,
      "id": "brown-publication",
      "metadata": {
        "id": "brown-publication",
        "outputId": "1a4bff48-e6b1-45e0-cae2-871f5fbff43b",
        "colab": {
          "base_uri": "https://localhost:8080/",
          "height": 296
        }
      },
      "outputs": [
        {
          "output_type": "display_data",
          "data": {
            "text/plain": [
              "<Figure size 432x288 with 1 Axes>"
            ],
            "image/png": "[encoded data removed]"
          },
          "metadata": {
            "needs_background": "light"
          }
        }
      ],
      "source": [
        "%matplotlib inline\n",
        "\n",
        "pplot.figure()\n",
        "pplot.title(\"Długość i szerokość działki kielicha\")\n",
        "pplot.xlabel(\"Długość\")\n",
        "pplot.ylabel(\"Szerokość\")\n",
        "pplot.plot(seto['sl'], seto['sw'], \"r.\", )\n",
        "\n",
        "pplot.grid(True)\n",
        "pplot.show()"
      ]
    },
    {
      "cell_type": "code",
      "execution_count": 17,
      "id": "ordered-flesh",
      "metadata": {
        "id": "ordered-flesh",
        "outputId": "e32e28a5-46dc-4fa9-ff06-2c9cd162add4",
        "colab": {
          "base_uri": "https://localhost:8080/"
        }
      },
      "outputs": [
        {
          "output_type": "stream",
          "name": "stdout",
          "text": [
            "          sl        sw        pl        pw\n",
            "sl  0.124249  0.099216  0.016355  0.010331\n",
            "sw  0.099216  0.143690  0.011698  0.009298\n",
            "pl  0.016355  0.011698  0.030159  0.006069\n",
            "pw  0.010331  0.009298  0.006069  0.011106\n",
            "          sl        sw\n",
            "sl  0.124249  0.099216\n",
            "sw  0.099216  0.143690\n"
          ]
        }
      ],
      "source": [
        "mc = seto.cov()\n",
        "print(mc)\n",
        "print(mc.iloc[0:2, 0:2])"
      ]
    },
    {
      "cell_type": "code",
      "execution_count": 18,
      "id": "detailed-knife",
      "metadata": {
        "id": "detailed-knife",
        "outputId": "08c71027-87e6-49fa-ced5-087ea3d09581",
        "colab": {
          "base_uri": "https://localhost:8080/"
        }
      },
      "outputs": [
        {
          "output_type": "stream",
          "name": "stdout",
          "text": [
            "a =  0.7985283006471534 , b =  -0.5694326730396488 , rho =  0.7425466856651598 , rho^2 =  0.5513755803923136\n"
          ]
        }
      ],
      "source": [
        "a = mc.iloc[0,1]/mc.iloc[0,0]\n",
        "b = seto['sw'].mean() - a * seto['sl'].mean()\n",
        "rho = mc.iloc[0,1] / np.sqrt(mc.iloc[0,0]*mc.iloc[1,1])\n",
        "print(\"a = \", a, \", b = \", b, \", rho = \", rho, \", rho^2 = \", rho**2)\n"
      ]
    },
    {
      "cell_type": "code",
      "execution_count": 19,
      "id": "dying-exploration",
      "metadata": {
        "id": "dying-exploration",
        "outputId": "9543e48f-5801-4f55-c58c-0591c34bae73",
        "colab": {
          "base_uri": "https://localhost:8080/",
          "height": 296
        }
      },
      "outputs": [
        {
          "output_type": "display_data",
          "data": {
            "text/plain": [
              "<Figure size 432x288 with 1 Axes>"
            ],
            "image/png": "[encoded data removed]"
          },
          "metadata": {
            "needs_background": "light"
          }
        }
      ],
      "source": [
        "x = np.array([4.2,6])\n",
        "y = a*x + b\n",
        "\n",
        "pplot.figure()\n",
        "pplot.title(\"Długość i szerokość działki kielicha\")\n",
        "pplot.xlabel(\"Długość\")\n",
        "pplot.ylabel(\"Szerokość\")\n",
        "pplot.plot(seto['sl'], seto['sw'], \"r.\", )\n",
        "pplot.plot(x, y, \"k-\")\n",
        "\n",
        "pplot.grid(True)\n",
        "pplot.show()"
      ]
    },
    {
      "cell_type": "markdown",
      "id": "native-amazon",
      "metadata": {
        "id": "native-amazon"
      },
      "source": [
        "#### Ćwiczenie\n",
        "\n",
        "Poszukać regresji liniowej w pakietach pythona: *scipy* (2 sposoby), *sklearn*, *pinguin*, *statsmodels* i wykonac to samo."
      ]
    },
    {
      "cell_type": "code",
      "execution_count": 34,
      "id": "ongoing-mailman",
      "metadata": {
        "id": "ongoing-mailman",
        "outputId": "a558955b-3903-4d4f-fc5d-08b58a47de14",
        "colab": {
          "base_uri": "https://localhost:8080/",
          "height": 334
        }
      },
      "outputs": [
        {
          "output_type": "stream",
          "name": "stdout",
          "text": [
            "LinregressResult(slope=0.7985283006471534, intercept=-0.5694326730396502, rvalue=0.7425466856651596, pvalue=6.70984301766061e-10, stderr=0.10396505428522793, intercept_stderr=0.5217119323765155)\n"
          ]
        },
        {
          "output_type": "display_data",
          "data": {
            "text/plain": [
              "<Figure size 432x288 with 1 Axes>"
            ],
            "image/png": "[encoded data removed]"
          },
          "metadata": {
            "needs_background": "light"
          }
        }
      ],
      "source": [
        "# pakiet scipy\n",
        "slope, intercept, r_value, p_value, std_err = stats.linregress(seto['sl'].values,seto['sw'].values)\n",
        "print(stats.linregress(seto['sl'].values,seto['sw'].values))\n",
        "\n",
        "x = np.linspace(4, 6, 2)\n",
        "y = slope*x + intercept\n",
        "\n",
        "pplot.figure()\n",
        "pplot.title(\"Długość i szerokość działki kielicha\")\n",
        "pplot.xlabel(\"Długość\")\n",
        "pplot.ylabel(\"Szerokość\")\n",
        "pplot.plot(seto['sl'], seto['sw'], \"r.\", )\n",
        "pplot.plot(x, y, \"k-\")\n",
        "\n",
        "pplot.grid(True)\n",
        "pplot.show()"
      ]
    },
    {
      "cell_type": "code",
      "source": [
        "#pakiet scipy - drugi sposób - robiliśmy tydzień temu - numeryczny dobór parametrów regresji\n",
        "from scipy.optimize import curve_fit\n",
        "\n",
        "def liniowa(x, a, b):\n",
        "    return a * x + b\n",
        "  \n",
        "  \n",
        "paramsw, paramsw_covariance = curve_fit(liniowa, seto['sl'], seto['sw'], p0=[0, 0])\n",
        "print(paramsw)"
      ],
      "metadata": {
        "id": "mih2kSzPR20-",
        "outputId": "02c1c962-9f93-46b4-93ef-1a682d9fc199",
        "colab": {
          "base_uri": "https://localhost:8080/"
        }
      },
      "id": "mih2kSzPR20-",
      "execution_count": 35,
      "outputs": [
        {
          "output_type": "stream",
          "name": "stdout",
          "text": [
            "[ 0.7985283  -0.56943267]\n"
          ]
        }
      ]
    },
    {
      "cell_type": "code",
      "source": [
        "# pakiet scikit learn\n",
        "from sklearn.linear_model import LinearRegression\n",
        "\n",
        "model = LinearRegression()\n",
        "model.fit(seto[['sl']], seto['sw'])\n",
        "X = pd.DataFrame([4, 6], columns=['sl'])\n",
        "y = model.predict(X)\n",
        "\n",
        "pplot.figure()\n",
        "pplot.title(\"Długość i szerokość działki kielicha\")\n",
        "pplot.xlabel(\"Długość\")\n",
        "pplot.ylabel(\"Szerokość\")\n",
        "pplot.plot(seto['sl'], seto['sw'], \"r.\", )\n",
        "pplot.plot(X['sl'], y, \"k-\")\n",
        "\n",
        "pplot.grid(True)\n",
        "pplot.show()"
      ],
      "metadata": {
        "id": "AVVN196VM8Ju",
        "outputId": "b781c0b8-678c-4eb7-b60a-fb5f55beb26f",
        "colab": {
          "base_uri": "https://localhost:8080/",
          "height": 296
        }
      },
      "id": "AVVN196VM8Ju",
      "execution_count": 36,
      "outputs": [
        {
          "output_type": "display_data",
          "data": {
            "text/plain": [
              "<Figure size 432x288 with 1 Axes>"
            ],
            "image/png": "[encoded data removed]"
          },
          "metadata": {
            "needs_background": "light"
          }
        }
      ]
    },
    {
      "cell_type": "code",
      "execution_count": 37,
      "id": "complicated-museum",
      "metadata": {
        "id": "complicated-museum",
        "outputId": "103017ba-bce5-40d1-d9fb-27c0130becd7",
        "colab": {
          "base_uri": "https://localhost:8080/",
          "height": 420
        }
      },
      "outputs": [
        {
          "output_type": "stream",
          "name": "stdout",
          "text": [
            "       names      coef        se         T          pval        r2    adj_r2  \\\n",
            "0  Intercept -0.569433  0.521712 -1.091470  2.805148e-01  0.551376  0.542029   \n",
            "1         sl  0.798528  0.103965  7.680738  6.709843e-10  0.551376  0.542029   \n",
            "\n",
            "   CI[2.5%]  CI[97.5%]  \n",
            "0 -1.618405   0.479539  \n",
            "1  0.589493   1.007564  \n"
          ]
        },
        {
          "output_type": "display_data",
          "data": {
            "text/plain": [
              "<Figure size 432x288 with 1 Axes>"
            ],
            "image/png": "[encoded data removed]"
          },
          "metadata": {
            "needs_background": "light"
          }
        }
      ],
      "source": [
        "# pakiet pinguin\n",
        "\n",
        "x = seto['sl']\n",
        "y = seto['sw']\n",
        "\n",
        "lr = pg.linear_regression(x, y)\n",
        "print(lr)\n",
        "\n",
        "coef = lr['coef']\n",
        "b = coef[0]\n",
        "a = coef[1]\n",
        "\n",
        "x = np.linspace(4, 6, 2)\n",
        "y = a*x + b\n",
        "\n",
        "pplot.figure()\n",
        "pplot.title(\"Długość i szerokość działki kielicha\")\n",
        "pplot.xlabel(\"Długość\")\n",
        "pplot.ylabel(\"Szerokość\")\n",
        "pplot.plot(seto['sl'], seto['sw'], \"r.\", )\n",
        "pplot.plot(x, y, \"k-\")\n",
        "pplot.grid(True)\n",
        "pplot.show()"
      ]
    },
    {
      "cell_type": "code",
      "source": [
        "#statsmodels\n",
        "import statsmodels.api as sm\n",
        "\n",
        "X = seto[['sl']]\n",
        "model = sm.OLS(seto['sw'], sm.add_constant(X))\n",
        "res = model.fit()\n",
        "res.summary()\n",
        "#res.params"
      ],
      "metadata": {
        "id": "JG2GzlvlPOKe",
        "outputId": "8a520290-fe4c-4c3b-f017-17c5afc66067",
        "colab": {
          "base_uri": "https://localhost:8080/",
          "height": 452
        }
      },
      "id": "JG2GzlvlPOKe",
      "execution_count": 38,
      "outputs": [
        {
          "output_type": "execute_result",
          "data": {
            "text/plain": [
              "<class 'statsmodels.iolib.summary.Summary'>\n",
              "\"\"\"\n",
              "                            OLS Regression Results                            \n",
              "==============================================================================\n",
              "Dep. Variable:                     sw   R-squared:                       0.551\n",
              "Model:                            OLS   Adj. R-squared:                  0.542\n",
              "Method:                 Least Squares   F-statistic:                     58.99\n",
              "Date:                Thu, 05 May 2022   Prob (F-statistic):           6.71e-10\n",
              "Time:                        14:28:24   Log-Likelihood:                -1.9002\n",
              "No. Observations:                  50   AIC:                             7.800\n",
              "Df Residuals:                      48   BIC:                             11.62\n",
              "Df Model:                           1                                         \n",
              "Covariance Type:            nonrobust                                         \n",
              "==============================================================================\n",
              "                 coef    std err          t      P>|t|      [0.025      0.975]\n",
              "------------------------------------------------------------------------------\n",
              "const         -0.5694      0.522     -1.091      0.281      -1.618       0.480\n",
              "sl             0.7985      0.104      7.681      0.000       0.589       1.008\n",
              "==============================================================================\n",
              "Omnibus:                        0.680   Durbin-Watson:                   2.345\n",
              "Prob(Omnibus):                  0.712   Jarque-Bera (JB):                0.342\n",
              "Skew:                          -0.200   Prob(JB):                        0.843\n",
              "Kurtosis:                       3.060   Cond. No.                         75.0\n",
              "==============================================================================\n",
              "\n",
              "Notes:\n",
              "[1] Standard Errors assume that the covariance matrix of the errors is correctly specified.\n",
              "\"\"\""
            ],
            "text/html": [
              "<table class=\"simpletable\">\n",
              "<caption>OLS Regression Results</caption>\n",
              "<tr>\n",
              "  <th>Dep. Variable:</th>           <td>sw</td>        <th>  R-squared:         </th> <td>   0.551</td>\n",
              "</tr>\n",
              "<tr>\n",
              "  <th>Model:</th>                   <td>OLS</td>       <th>  Adj. R-squared:    </th> <td>   0.542</td>\n",
              "</tr>\n",
              "<tr>\n",
              "  <th>Method:</th>             <td>Least Squares</td>  <th>  F-statistic:       </th> <td>   58.99</td>\n",
              "</tr>\n",
              "<tr>\n",
              "  <th>Date:</th>             <td>Thu, 05 May 2022</td> <th>  Prob (F-statistic):</th> <td>6.71e-10</td>\n",
              "</tr>\n",
              "<tr>\n",
              "  <th>Time:</th>                 <td>14:28:24</td>     <th>  Log-Likelihood:    </th> <td> -1.9002</td>\n",
              "</tr>\n",
              "<tr>\n",
              "  <th>No. Observations:</th>      <td>    50</td>      <th>  AIC:               </th> <td>   7.800</td>\n",
              "</tr>\n",
              "<tr>\n",
              "  <th>Df Residuals:</th>          <td>    48</td>      <th>  BIC:               </th> <td>   11.62</td>\n",
              "</tr>\n",
              "<tr>\n",
              "  <th>Df Model:</th>              <td>     1</td>      <th>                     </th>     <td> </td>   \n",
              "</tr>\n",
              "<tr>\n",
              "  <th>Covariance Type:</th>      <td>nonrobust</td>    <th>                     </th>     <td> </td>   \n",
              "</tr>\n",
              "</table>\n",
              "<table class=\"simpletable\">\n",
              "<tr>\n",
              "    <td></td>       <th>coef</th>     <th>std err</th>      <th>t</th>      <th>P>|t|</th>  <th>[0.025</th>    <th>0.975]</th>  \n",
              "</tr>\n",
              "<tr>\n",
              "  <th>const</th> <td>   -0.5694</td> <td>    0.522</td> <td>   -1.091</td> <td> 0.281</td> <td>   -1.618</td> <td>    0.480</td>\n",
              "</tr>\n",
              "<tr>\n",
              "  <th>sl</th>    <td>    0.7985</td> <td>    0.104</td> <td>    7.681</td> <td> 0.000</td> <td>    0.589</td> <td>    1.008</td>\n",
              "</tr>\n",
              "</table>\n",
              "<table class=\"simpletable\">\n",
              "<tr>\n",
              "  <th>Omnibus:</th>       <td> 0.680</td> <th>  Durbin-Watson:     </th> <td>   2.345</td>\n",
              "</tr>\n",
              "<tr>\n",
              "  <th>Prob(Omnibus):</th> <td> 0.712</td> <th>  Jarque-Bera (JB):  </th> <td>   0.342</td>\n",
              "</tr>\n",
              "<tr>\n",
              "  <th>Skew:</th>          <td>-0.200</td> <th>  Prob(JB):          </th> <td>   0.843</td>\n",
              "</tr>\n",
              "<tr>\n",
              "  <th>Kurtosis:</th>      <td> 3.060</td> <th>  Cond. No.          </th> <td>    75.0</td>\n",
              "</tr>\n",
              "</table><br/><br/>Notes:<br/>[1] Standard Errors assume that the covariance matrix of the errors is correctly specified."
            ]
          },
          "metadata": {},
          "execution_count": 38
        }
      ]
    },
    {
      "cell_type": "code",
      "source": [
        "#na pierwszych/zerowych zajęciach było z kolei tak\n",
        "from statsmodels.formula.api import ols\n",
        "\n",
        "model = ols(\"sw ~ sl\", data = seto)\n",
        "results = model.fit()\n",
        "print(results.summary())\n",
        "\n",
        "pplot.figure()\n",
        "pplot.title(\"Długość i szerokość działki kielicha\")\n",
        "pplot.xlabel(\"Długość\")\n",
        "pplot.ylabel(\"Szerokość\")\n",
        "pplot.plot(seto['sl'], seto['sw'], \"r.\", )\n",
        "\n",
        "y = results.predict(pd.DataFrame({'sl':[4, 6]}))\n",
        "pplot.plot([4,6], y, \"k-\")\n",
        "\n",
        "pplot.grid(True)\n",
        "pplot.show()"
      ],
      "metadata": {
        "id": "nMMSpc01TJHL",
        "outputId": "bd0182c5-7bd9-45b0-fdad-b6d3f1577dd8",
        "colab": {
          "base_uri": "https://localhost:8080/",
          "height": 739
        }
      },
      "id": "nMMSpc01TJHL",
      "execution_count": 39,
      "outputs": [
        {
          "output_type": "stream",
          "name": "stdout",
          "text": [
            "                            OLS Regression Results                            \n",
            "==============================================================================\n",
            "Dep. Variable:                     sw   R-squared:                       0.551\n",
            "Model:                            OLS   Adj. R-squared:                  0.542\n",
            "Method:                 Least Squares   F-statistic:                     58.99\n",
            "Date:                Thu, 05 May 2022   Prob (F-statistic):           6.71e-10\n",
            "Time:                        14:28:24   Log-Likelihood:                -1.9002\n",
            "No. Observations:                  50   AIC:                             7.800\n",
            "Df Residuals:                      48   BIC:                             11.62\n",
            "Df Model:                           1                                         \n",
            "Covariance Type:            nonrobust                                         \n",
            "==============================================================================\n",
            "                 coef    std err          t      P>|t|      [0.025      0.975]\n",
            "------------------------------------------------------------------------------\n",
            "Intercept     -0.5694      0.522     -1.091      0.281      -1.618       0.480\n",
            "sl             0.7985      0.104      7.681      0.000       0.589       1.008\n",
            "==============================================================================\n",
            "Omnibus:                        0.680   Durbin-Watson:                   2.345\n",
            "Prob(Omnibus):                  0.712   Jarque-Bera (JB):                0.342\n",
            "Skew:                          -0.200   Prob(JB):                        0.843\n",
            "Kurtosis:                       3.060   Cond. No.                         75.0\n",
            "==============================================================================\n",
            "\n",
            "Notes:\n",
            "[1] Standard Errors assume that the covariance matrix of the errors is correctly specified.\n"
          ]
        },
        {
          "output_type": "display_data",
          "data": {
            "text/plain": [
              "<Figure size 432x288 with 1 Axes>"
            ],
            "image/png": "[encoded data removed]"
          },
          "metadata": {
            "needs_background": "light"
          }
        }
      ]
    },
    {
      "cell_type": "markdown",
      "id": "republican-marijuana",
      "metadata": {
        "id": "republican-marijuana"
      },
      "source": [
        "### Regresja wieloraka\n",
        "\n",
        "W oparciu o próbę statystyczną prostą postaci $(X_1, Y_1, Z_1), (X_2, Y_2, Z_2), \\dots (X_n, Y_n, Z_n)$ modelujemy zależność \n",
        "\n",
        "\\begin{equation}\n",
        "Z \\approx \\hat{Z} = a X + b Y + c.\n",
        "\\end{equation}\n",
        "\n",
        "Zależność tę można przedstawić w postaci:\n",
        "\\begin{equation}\\label{eq:wieloraka}\n",
        "\\mathbb{Z} = \\left[\\begin{array}{c}\n",
        "Z_1 \\\\ Z_2 \\\\ \\dots \\\\ Z_n\n",
        "\\end{array}\\right]\n",
        "= \\mathbb{X} \\left[\\begin{array}{c}\n",
        "c \\\\ b \\\\ a \n",
        "\\end{array}\\right] + \\mathbb{\\epsilon} \n",
        "= \\left[\\begin{array}{ccc}\n",
        "1 & Y_1 & X_1\\\\\n",
        "1 & Y_2 & X_2\\\\\n",
        " & \\dots & \\\\\n",
        "1 & Y_n & X_n\n",
        "\\end{array}\n",
        "\\right] \\left[\\begin{array}{c}\n",
        "c \\\\ b \\\\ a \n",
        "\\end{array}\\right] + \\left[\\begin{array}{c}\n",
        "\\epsilon_1 \\\\ \\epsilon_2 \\\\ \\dots\\\\ \\epsilon_n \n",
        "\\end{array}\\right],\n",
        "\\end{equation}\n",
        "\n",
        "Jeśli kolumny macierzy $\\mathbb{X}$ są **niewspółliniowe** tzn. liniowo niezależne w sensie algebraicznym (stochastycznym niekoniecznie) wówczas macierz \n",
        "\\begin{equation}\n",
        "\\mathbb{X}^T \\mathbb{X} = \\left[ \\begin{array}{ccc}\n",
        "n & \\sum_{i=1}^n Y_i & \\sum_{i=1}^n X_i \\\\\n",
        "\\sum_{i=1}^n Y_i & \\sum_{i=1}^n Y_i^2 & \\sum_{i=1}^n X_i Y_i \\\\\n",
        "\\sum_{i=1}^n X_i & \\sum_{i=1}^n X_i Y_i & \\sum_{i=1}^n X_i^2\n",
        "\\end{array}\\right]\n",
        "\\end{equation}\n",
        "jest nieosobliwa, a poprzez jej odwrócenie można wyznaczyć estymatory parametrów regresji\n",
        "\\begin{equation} \\label{eq:wielorakapar}\n",
        "\\left[\\begin{array}{c}\n",
        "\\hat c\\\\ \\hat b\\\\ \\hat a \n",
        "\\end{array}\\right]\n",
        "= (\\mathbb{X}^T \\mathbb{X})^{-1} \\mathbb{X}^T \\mathbb{Z}.\n",
        "\\end{equation}\n",
        "\n",
        "Zauważmy, że jest to łatwo wyliczalne dla próbki $(x_1, y_1, z_1), (x_2, y_2, z_2), \\dots (x_n, y_n, z_n)$ będącej realizacją wyjściowej próby statystycznej --- można więc wyznaczyć wartości tych estymatorów. "
      ]
    },
    {
      "cell_type": "code",
      "execution_count": 26,
      "id": "grand-thursday",
      "metadata": {
        "id": "grand-thursday",
        "outputId": "7b0c4d0a-9f90-4fd8-bf50-b5fe69ede003",
        "colab": {
          "base_uri": "https://localhost:8080/"
        }
      },
      "outputs": [
        {
          "output_type": "stream",
          "name": "stdout",
          "text": [
            "    sl   pl   pw  ww\n",
            "0  5.1  1.4  0.2   1\n",
            "1  4.9  1.4  0.2   1\n",
            "2  4.7  1.3  0.2   1\n",
            "3  4.6  1.5  0.2   1\n",
            "4  5.0  1.4  0.2   1\n",
            "------------\n",
            "[[1.  5.1 1.4 0.2]\n",
            " [1.  4.9 1.4 0.2]\n",
            " [1.  4.7 1.3 0.2]]\n",
            "------------\n",
            "[-0.48912615  0.79668567 -0.07135778  0.13513326]\n"
          ]
        }
      ],
      "source": [
        "Xdf = seto[['sl', 'pl', 'pw']].copy()\n",
        "Xdf['ww'] = 1\n",
        "print(Xdf.head())\n",
        "X = np.array(Xdf.iloc[:,[3,0,1,2]])\n",
        "Z = np.array(seto['sw'])\n",
        "print('------------')\n",
        "print(X[0:3])\n",
        "coeff = np.matmul(np.matmul(np.linalg.inv(np.matmul(np.transpose(X), X)), \n",
        "                            np.transpose(X)), Z)\n",
        "print('------------')\n",
        "print(coeff)"
      ]
    },
    {
      "cell_type": "markdown",
      "id": "verbal-individual",
      "metadata": {
        "id": "verbal-individual"
      },
      "source": [
        "Jako ocenę jakości dopasowania modelu oszacować należy współczynnik determinacji $\\rho^2 = \\frac{\\operatorname{Var}{\\hat Z}}{\\operatorname{Var} Z} = 1 - \\frac{\\operatorname{Var} \\epsilon}{\\operatorname{Var} Z}$, a konkretniej --- wyznaczyć jego estymator $R^2.$ \n",
        "\n",
        "Przy oznaczeniach (skąd znanych?) $\\hat{z_i} = a x_i + b y_i + c$, $$ \\textrm{SST} = \\sum_{i=1}^n (z_i - \\overline{z})^2, \\quad \\textrm{SSR} =  \\sum_{i=1}^n (\\hat{z_i} - \\overline{z})^2, \\quad \\textrm{SSE} = \\sum_{i=1}^n \\epsilon_i^2 = \\sum_{i=1}^n (z_i - \\hat{z_i})^2$$ współczynnik $R^2$ wyznacza się ze wzoru\n",
        "\\begin{equation} \\label{eq:R2}\n",
        "R^2 = 1 - \\frac{\\textrm{SSE}}{\\textrm{SST}}.\n",
        "\\end{equation}\n",
        "\n",
        "Względnie, ponieważ nieobciążonym estymatorem $\\operatorname{Var} \\epsilon$ jest $$S_\\epsilon^2 = \\sum_{i=1}^n \\frac{\\epsilon_i^2}{n-k-1} \\approx {\\textrm{SSE}}/(n-k-1),$$  stosuje się **współczynnik skorygowany** $\\bar R^2,$ \n",
        "\\begin{equation} \\label{eq:R2adj}\n",
        "\\bar R^2 = 1 - \\frac{\\textrm{SSE}/(n-k-1)}{\\textrm{SST}/(n-1)},\n",
        "\\end{equation}\n",
        "gdzie $k$ jest liczbą zmiennych w modelu --- w opisanym przykładzie $k = 3.$\n"
      ]
    },
    {
      "cell_type": "code",
      "execution_count": 27,
      "id": "backed-regression",
      "metadata": {
        "id": "backed-regression",
        "outputId": "f7c5d33e-56ac-4800-cd20-c16b81375564",
        "colab": {
          "base_uri": "https://localhost:8080/"
        }
      },
      "outputs": [
        {
          "output_type": "stream",
          "name": "stdout",
          "text": [
            "7.040800000000001\n",
            "3.893831464870395\n",
            "3.1469685351299583\n",
            "0.5530382150991424\n",
            "0.5238885334751735\n"
          ]
        }
      ],
      "source": [
        "SST = sum((Z - np.mean(Z))**2)\n",
        "print(SST)\n",
        "\n",
        "hatZ = np.matmul(X, np.transpose(coeff))\n",
        "SSR = sum((hatZ - np.mean(Z))**2)\n",
        "print(SSR)\n",
        "\n",
        "SSE = sum((hatZ - Z)**2)\n",
        "print(SSE)\n",
        "\n",
        "R2 = 1 - SSE/SST\n",
        "print(R2)\n",
        "\n",
        "R2a = 1 - SSE/(len(Z)-4)/(SST/(len(Z)-1))\n",
        "print(R2a)"
      ]
    },
    {
      "cell_type": "markdown",
      "id": "helpful-parish",
      "metadata": {
        "id": "helpful-parish"
      },
      "source": [
        "Widać zatem, że dodanie nowych zmiennych do modelu nie poprawiło go wcale. \n",
        "\n",
        "Idąc dalej, macierz $\\mathbb{V}$ wariancji/kowariancji estymatorów regresji oblicza się przez\n",
        "\\begin{equation}\\label{eq:VarCov}\n",
        "\\mathbb{V} = (\\mathbb{X}^T \\mathbb{X})^{-1} S_\\epsilon^2.\n",
        "\\end{equation}\n",
        "Umożliwia ona wyznaczanie przedziałów ufności dla parametrów regresji oraz testy statystyczne.\n",
        "  "
      ]
    },
    {
      "cell_type": "code",
      "execution_count": 28,
      "id": "initial-transformation",
      "metadata": {
        "id": "initial-transformation",
        "outputId": "869d4fda-c060-4044-b3be-0dd6354e11fe",
        "colab": {
          "base_uri": "https://localhost:8080/"
        }
      },
      "outputs": [
        {
          "output_type": "stream",
          "name": "stdout",
          "text": [
            "[[ 0.32887378 -0.05373212 -0.0476136   0.04507542]\n",
            " [-0.05373212  0.01265027 -0.00504719 -0.0090087 ]\n",
            " [-0.0476136  -0.00504719  0.0540275  -0.02483074]\n",
            " [ 0.04507542 -0.0090087  -0.02483074  0.1476612 ]]\n"
          ]
        }
      ],
      "source": [
        "S2eps = SSE / (len(Z) - 4)\n",
        "V = np.linalg.inv(np.matmul(np.transpose(X), X))*S2eps\n",
        "print(V)"
      ]
    },
    {
      "cell_type": "markdown",
      "id": "instrumental-forge",
      "metadata": {
        "id": "instrumental-forge"
      },
      "source": [
        "Testując hipotezę $H\\colon a = 0$ przeciw kontrhipotezie $K\\colon a \\neq 0$ stosujemy test $t$, gdzie statystyka testowa $T = \\frac{\\hat{a}}{S_a}$ ma rozkład $t$-Studenta o $n-k-1$ stopniach swobody i obustronny zbiór krytyczny. \n",
        "Z kolei przedział ufności, na poziomie ufności $1-\\alpha$ dla parametru $a$ wyznacza się jako \n",
        "\\begin{equation}\n",
        "\\left[\\hat{a} - t(1-\\frac{\\alpha}{2}, n-k-1)S_a, \\hat{a} + t(1-\\frac{\\alpha}{2}, n-k-1)S_a\\right].\n",
        "\\end{equation} \n",
        "\n",
        "Posługując się analizą wariancji można również wnioskować o regresji jako całości testując hipotezę $H\\colon \\forall_i a_i = 0$ przeciw $K\\colon \\exists_i a_i \\neq 0$. Wykonuje się wówczas test $F$, gdzie statystyka testowa $F = \\frac{\\textrm{SSR}/k}{\\textrm{SSE}/(n-k-1)}$ ma rozkład Fischera-Snedecora\n",
        "o $(k, n-k-1)$ stopniach swobody. "
      ]
    },
    {
      "cell_type": "code",
      "execution_count": 29,
      "id": "rubber-mississippi",
      "metadata": {
        "id": "rubber-mississippi",
        "outputId": "c00013c1-d57b-48d5-9af6-99f0cffff705",
        "colab": {
          "base_uri": "https://localhost:8080/"
        }
      },
      "outputs": [
        {
          "output_type": "stream",
          "name": "stdout",
          "text": [
            "[-0.85291599  7.08332362 -0.30699681  0.35166493]\n",
            "[3.98125255e-01 6.83443435e-09 7.60231292e-01 7.26695407e-01]\n"
          ]
        }
      ],
      "source": [
        "from scipy.stats import t\n",
        "tstats = np.array([coeff[i] / np.sqrt(V[i,i]) for i in range(0, 4)])\n",
        "print(tstats)\n",
        "\n",
        "dof = len(Z) - 4\n",
        "pvals = 2*(1-t.cdf(abs(tstats), dof))\n",
        "print(pvals)"
      ]
    },
    {
      "cell_type": "markdown",
      "id": "cellular-paper",
      "metadata": {
        "id": "cellular-paper"
      },
      "source": [
        "Znowu widzimy, że dodatkowe zmienne nic nie dają - współczynniki nie są w istotny statystycznie sposób różne od 0.\n",
        "\n",
        "To jeszcze test regresji jako całości."
      ]
    },
    {
      "cell_type": "code",
      "execution_count": 30,
      "id": "plastic-montreal",
      "metadata": {
        "id": "plastic-montreal",
        "outputId": "31898f90-ae9a-4fd9-b817-0ec6f5032332",
        "colab": {
          "base_uri": "https://localhost:8080/"
        }
      },
      "outputs": [
        {
          "output_type": "stream",
          "name": "stdout",
          "text": [
            "18.972358677305234\n",
            "3.7586837642322735e-08\n"
          ]
        }
      ],
      "source": [
        "from scipy.stats import f\n",
        "\n",
        "k = 3\n",
        "statF = SSR/k/S2eps\n",
        "print(statF)\n",
        "\n",
        "pval = 1 - f.cdf(statF, k, dof)\n",
        "print(pval)"
      ]
    },
    {
      "cell_type": "markdown",
      "id": "inside-knitting",
      "metadata": {
        "id": "inside-knitting"
      },
      "source": [
        "#### Ćwiczenie:\n",
        "Jak to zrobić z użyciem gotowych funkcji z pakietów *sklearn*, *pinguin*, *statsmodels*?"
      ]
    },
    {
      "cell_type": "code",
      "execution_count": 31,
      "id": "excellent-university",
      "metadata": {
        "id": "excellent-university",
        "outputId": "c075c3e6-016c-41b2-f4e8-5698c519efbe",
        "colab": {
          "base_uri": "https://localhost:8080/"
        }
      },
      "outputs": [
        {
          "output_type": "stream",
          "name": "stdout",
          "text": [
            " R^2: 0.5530382150991422 \n",
            " coef: [ 0.79668567 -0.07135778  0.13513326] \n",
            " intercept: -0.4891261515947982\n"
          ]
        }
      ],
      "source": [
        "#pakiet sklearn\n",
        "from sklearn.linear_model import LinearRegression\n",
        "\n",
        "X = seto[['sl', 'pl', 'pw']].copy()\n",
        "y = np.array(seto['sw'])\n",
        "\n",
        "linear_regression = LinearRegression()\n",
        "\n",
        "reg = linear_regression.fit(X,y)\n",
        "\n",
        "print(' R^2:', reg.score(X, y),'\\n',\n",
        "      'coef:', reg.coef_,'\\n',\n",
        "     'intercept:', reg.intercept_)\n",
        "\n",
        "# brakuje testów - oceny regresji "
      ]
    },
    {
      "cell_type": "code",
      "execution_count": 32,
      "id": "clean-liberal",
      "metadata": {
        "id": "clean-liberal",
        "outputId": "92b87a13-6a10-4214-be99-cbff4732d9d6",
        "colab": {
          "base_uri": "https://localhost:8080/",
          "height": 175
        }
      },
      "outputs": [
        {
          "output_type": "execute_result",
          "data": {
            "text/plain": [
              "       names      coef        se         T          pval        r2    adj_r2  \\\n",
              "0  Intercept -0.489126  0.573475 -0.852916  3.981253e-01  0.553038  0.523889   \n",
              "1         sl  0.796686  0.112473  7.083324  6.834434e-09  0.553038  0.523889   \n",
              "2         pl -0.071358  0.232438 -0.306997  7.602313e-01  0.553038  0.523889   \n",
              "3         pw  0.135133  0.384267  0.351665  7.266954e-01  0.553038  0.523889   \n",
              "\n",
              "   CI[2.5%]  CI[97.5%]  \n",
              "0 -1.643472   0.665220  \n",
              "1  0.570288   1.023083  \n",
              "2 -0.539232   0.396516  \n",
              "3 -0.638356   0.908623  "
            ],
            "text/html": [
              "\n",
              "  <div id=\"df-5764116a-4585-46b1-9531-d7a77721211e\">\n",
              "    <div class=\"colab-df-container\">\n",
              "      <div>\n",
              "<style scoped>\n",
              "    .dataframe tbody tr th:only-of-type {\n",
              "        vertical-align: middle;\n",
              "    }\n",
              "\n",
              "    .dataframe tbody tr th {\n",
              "        vertical-align: top;\n",
              "    }\n",
              "\n",
              "    .dataframe thead th {\n",
              "        text-align: right;\n",
              "    }\n",
              "</style>\n",
              "<table border=\"1\" class=\"dataframe\">\n",
              "  <thead>\n",
              "    <tr style=\"text-align: right;\">\n",
              "      <th></th>\n",
              "      <th>names</th>\n",
              "      <th>coef</th>\n",
              "      <th>se</th>\n",
              "      <th>T</th>\n",
              "      <th>pval</th>\n",
              "      <th>r2</th>\n",
              "      <th>adj_r2</th>\n",
              "      <th>CI[2.5%]</th>\n",
              "      <th>CI[97.5%]</th>\n",
              "    </tr>\n",
              "  </thead>\n",
              "  <tbody>\n",
              "    <tr>\n",
              "      <th>0</th>\n",
              "      <td>Intercept</td>\n",
              "      <td>-0.489126</td>\n",
              "      <td>0.573475</td>\n",
              "      <td>-0.852916</td>\n",
              "      <td>3.981253e-01</td>\n",
              "      <td>0.553038</td>\n",
              "      <td>0.523889</td>\n",
              "      <td>-1.643472</td>\n",
              "      <td>0.665220</td>\n",
              "    </tr>\n",
              "    <tr>\n",
              "      <th>1</th>\n",
              "      <td>sl</td>\n",
              "      <td>0.796686</td>\n",
              "      <td>0.112473</td>\n",
              "      <td>7.083324</td>\n",
              "      <td>6.834434e-09</td>\n",
              "      <td>0.553038</td>\n",
              "      <td>0.523889</td>\n",
              "      <td>0.570288</td>\n",
              "      <td>1.023083</td>\n",
              "    </tr>\n",
              "    <tr>\n",
              "      <th>2</th>\n",
              "      <td>pl</td>\n",
              "      <td>-0.071358</td>\n",
              "      <td>0.232438</td>\n",
              "      <td>-0.306997</td>\n",
              "      <td>7.602313e-01</td>\n",
              "      <td>0.553038</td>\n",
              "      <td>0.523889</td>\n",
              "      <td>-0.539232</td>\n",
              "      <td>0.396516</td>\n",
              "    </tr>\n",
              "    <tr>\n",
              "      <th>3</th>\n",
              "      <td>pw</td>\n",
              "      <td>0.135133</td>\n",
              "      <td>0.384267</td>\n",
              "      <td>0.351665</td>\n",
              "      <td>7.266954e-01</td>\n",
              "      <td>0.553038</td>\n",
              "      <td>0.523889</td>\n",
              "      <td>-0.638356</td>\n",
              "      <td>0.908623</td>\n",
              "    </tr>\n",
              "  </tbody>\n",
              "</table>\n",
              "</div>\n",
              "      <button class=\"colab-df-convert\" onclick=\"convertToInteractive('df-5764116a-4585-46b1-9531-d7a77721211e')\"\n",
              "              title=\"Convert this dataframe to an interactive table.\"\n",
              "              style=\"display:none;\">\n",
              "        \n",
              "  <svg xmlns=\"http://www.w3.org/2000/svg\" height=\"24px\"viewBox=\"0 0 24 24\"\n",
              "       width=\"24px\">\n",
              "    <path d=\"M0 0h24v24H0V0z\" fill=\"none\"/>\n",
              "    <path d=\"M18.56 5.44l.94 2.06.94-2.06 2.06-.94-2.06-.94-.94-2.06-.94 2.06-2.06.94zm-11 1L8.5 8.5l.94-2.06 2.06-.94-2.06-.94L8.5 2.5l-.94 2.06-2.06.94zm10 10l.94 2.06.94-2.06 2.06-.94-2.06-.94-.94-2.06-.94 2.06-2.06.94z\"/><path d=\"M17.41 7.96l-1.37-1.37c-.4-.4-.92-.59-1.43-.59-.52 0-1.04.2-1.43.59L10.3 9.45l-7.72 7.72c-.78.78-.78 2.05 0 2.83L4 21.41c.39.39.9.59 1.41.59.51 0 1.02-.2 1.41-.59l7.78-7.78 2.81-2.81c.8-.78.8-2.07 0-2.86zM5.41 20L4 18.59l7.72-7.72 1.47 1.35L5.41 20z\"/>\n",
              "  </svg>\n",
              "      </button>\n",
              "      \n",
              "  <style>\n",
              "    .colab-df-container {\n",
              "      display:flex;\n",
              "      flex-wrap:wrap;\n",
              "      gap: 12px;\n",
              "    }\n",
              "\n",
              "    .colab-df-convert {\n",
              "      background-color: #E8F0FE;\n",
              "      border: none;\n",
              "      border-radius: 50%;\n",
              "      cursor: pointer;\n",
              "      display: none;\n",
              "      fill: #1967D2;\n",
              "      height: 32px;\n",
              "      padding: 0 0 0 0;\n",
              "      width: 32px;\n",
              "    }\n",
              "\n",
              "    .colab-df-convert:hover {\n",
              "      background-color: #E2EBFA;\n",
              "      box-shadow: 0px 1px 2px rgba(60, 64, 67, 0.3), 0px 1px 3px 1px rgba(60, 64, 67, 0.15);\n",
              "      fill: #174EA6;\n",
              "    }\n",
              "\n",
              "    [theme=dark] .colab-df-convert {\n",
              "      background-color: #3B4455;\n",
              "      fill: #D2E3FC;\n",
              "    }\n",
              "\n",
              "    [theme=dark] .colab-df-convert:hover {\n",
              "      background-color: #434B5C;\n",
              "      box-shadow: 0px 1px 3px 1px rgba(0, 0, 0, 0.15);\n",
              "      filter: drop-shadow(0px 1px 2px rgba(0, 0, 0, 0.3));\n",
              "      fill: #FFFFFF;\n",
              "    }\n",
              "  </style>\n",
              "\n",
              "      <script>\n",
              "        const buttonEl =\n",
              "          document.querySelector('#df-5764116a-4585-46b1-9531-d7a77721211e button.colab-df-convert');\n",
              "        buttonEl.style.display =\n",
              "          google.colab.kernel.accessAllowed ? 'block' : 'none';\n",
              "\n",
              "        async function convertToInteractive(key) {\n",
              "          const element = document.querySelector('#df-5764116a-4585-46b1-9531-d7a77721211e');\n",
              "          const dataTable =\n",
              "            await google.colab.kernel.invokeFunction('convertToInteractive',\n",
              "                                                     [key], {});\n",
              "          if (!dataTable) return;\n",
              "\n",
              "          const docLinkHtml = 'Like what you see? Visit the ' +\n",
              "            '<a target=\"_blank\" href=https://colab.research.google.com/notebooks/data_table.ipynb>data table notebook</a>'\n",
              "            + ' to learn more about interactive tables.';\n",
              "          element.innerHTML = '';\n",
              "          dataTable['output_type'] = 'display_data';\n",
              "          await google.colab.output.renderOutput(dataTable, element);\n",
              "          const docLink = document.createElement('div');\n",
              "          docLink.innerHTML = docLinkHtml;\n",
              "          element.appendChild(docLink);\n",
              "        }\n",
              "      </script>\n",
              "    </div>\n",
              "  </div>\n",
              "  "
            ]
          },
          "metadata": {},
          "execution_count": 32
        }
      ],
      "source": [
        "#pakiet pinguin\n",
        "\n",
        "X = seto[['sl', 'pl', 'pw']]\n",
        "y = seto['sw']\n",
        "\n",
        "lr = pg.linear_regression(X, y)\n",
        "lr\n",
        "\n",
        "#brakuje testu F (wnioskowania o całej regresji)"
      ]
    },
    {
      "cell_type": "code",
      "execution_count": 40,
      "id": "completed-truth",
      "metadata": {
        "id": "completed-truth",
        "outputId": "f8aae93b-68b0-441d-866d-5429aaad714e",
        "colab": {
          "base_uri": "https://localhost:8080/",
          "height": 494
        }
      },
      "outputs": [
        {
          "output_type": "execute_result",
          "data": {
            "text/plain": [
              "<class 'statsmodels.iolib.summary.Summary'>\n",
              "\"\"\"\n",
              "                            OLS Regression Results                            \n",
              "==============================================================================\n",
              "Dep. Variable:                     sw   R-squared:                       0.553\n",
              "Model:                            OLS   Adj. R-squared:                  0.524\n",
              "Method:                 Least Squares   F-statistic:                     18.97\n",
              "Date:                Thu, 05 May 2022   Prob (F-statistic):           3.76e-08\n",
              "Time:                        14:28:44   Log-Likelihood:                -1.8073\n",
              "No. Observations:                  50   AIC:                             11.61\n",
              "Df Residuals:                      46   BIC:                             19.26\n",
              "Df Model:                           3                                         \n",
              "Covariance Type:            nonrobust                                         \n",
              "==============================================================================\n",
              "                 coef    std err          t      P>|t|      [0.025      0.975]\n",
              "------------------------------------------------------------------------------\n",
              "const         -0.4891      0.573     -0.853      0.398      -1.643       0.665\n",
              "sl             0.7967      0.112      7.083      0.000       0.570       1.023\n",
              "pl            -0.0714      0.232     -0.307      0.760      -0.539       0.397\n",
              "pw             0.1351      0.384      0.352      0.727      -0.638       0.909\n",
              "==============================================================================\n",
              "Omnibus:                        1.087   Durbin-Watson:                   2.387\n",
              "Prob(Omnibus):                  0.581   Jarque-Bera (JB):                0.531\n",
              "Skew:                          -0.230   Prob(JB):                        0.767\n",
              "Kurtosis:                       3.207   Cond. No.                         86.0\n",
              "==============================================================================\n",
              "\n",
              "Notes:\n",
              "[1] Standard Errors assume that the covariance matrix of the errors is correctly specified.\n",
              "\"\"\""
            ],
            "text/html": [
              "<table class=\"simpletable\">\n",
              "<caption>OLS Regression Results</caption>\n",
              "<tr>\n",
              "  <th>Dep. Variable:</th>           <td>sw</td>        <th>  R-squared:         </th> <td>   0.553</td>\n",
              "</tr>\n",
              "<tr>\n",
              "  <th>Model:</th>                   <td>OLS</td>       <th>  Adj. R-squared:    </th> <td>   0.524</td>\n",
              "</tr>\n",
              "<tr>\n",
              "  <th>Method:</th>             <td>Least Squares</td>  <th>  F-statistic:       </th> <td>   18.97</td>\n",
              "</tr>\n",
              "<tr>\n",
              "  <th>Date:</th>             <td>Thu, 05 May 2022</td> <th>  Prob (F-statistic):</th> <td>3.76e-08</td>\n",
              "</tr>\n",
              "<tr>\n",
              "  <th>Time:</th>                 <td>14:28:44</td>     <th>  Log-Likelihood:    </th> <td> -1.8073</td>\n",
              "</tr>\n",
              "<tr>\n",
              "  <th>No. Observations:</th>      <td>    50</td>      <th>  AIC:               </th> <td>   11.61</td>\n",
              "</tr>\n",
              "<tr>\n",
              "  <th>Df Residuals:</th>          <td>    46</td>      <th>  BIC:               </th> <td>   19.26</td>\n",
              "</tr>\n",
              "<tr>\n",
              "  <th>Df Model:</th>              <td>     3</td>      <th>                     </th>     <td> </td>   \n",
              "</tr>\n",
              "<tr>\n",
              "  <th>Covariance Type:</th>      <td>nonrobust</td>    <th>                     </th>     <td> </td>   \n",
              "</tr>\n",
              "</table>\n",
              "<table class=\"simpletable\">\n",
              "<tr>\n",
              "    <td></td>       <th>coef</th>     <th>std err</th>      <th>t</th>      <th>P>|t|</th>  <th>[0.025</th>    <th>0.975]</th>  \n",
              "</tr>\n",
              "<tr>\n",
              "  <th>const</th> <td>   -0.4891</td> <td>    0.573</td> <td>   -0.853</td> <td> 0.398</td> <td>   -1.643</td> <td>    0.665</td>\n",
              "</tr>\n",
              "<tr>\n",
              "  <th>sl</th>    <td>    0.7967</td> <td>    0.112</td> <td>    7.083</td> <td> 0.000</td> <td>    0.570</td> <td>    1.023</td>\n",
              "</tr>\n",
              "<tr>\n",
              "  <th>pl</th>    <td>   -0.0714</td> <td>    0.232</td> <td>   -0.307</td> <td> 0.760</td> <td>   -0.539</td> <td>    0.397</td>\n",
              "</tr>\n",
              "<tr>\n",
              "  <th>pw</th>    <td>    0.1351</td> <td>    0.384</td> <td>    0.352</td> <td> 0.727</td> <td>   -0.638</td> <td>    0.909</td>\n",
              "</tr>\n",
              "</table>\n",
              "<table class=\"simpletable\">\n",
              "<tr>\n",
              "  <th>Omnibus:</th>       <td> 1.087</td> <th>  Durbin-Watson:     </th> <td>   2.387</td>\n",
              "</tr>\n",
              "<tr>\n",
              "  <th>Prob(Omnibus):</th> <td> 0.581</td> <th>  Jarque-Bera (JB):  </th> <td>   0.531</td>\n",
              "</tr>\n",
              "<tr>\n",
              "  <th>Skew:</th>          <td>-0.230</td> <th>  Prob(JB):          </th> <td>   0.767</td>\n",
              "</tr>\n",
              "<tr>\n",
              "  <th>Kurtosis:</th>      <td> 3.207</td> <th>  Cond. No.          </th> <td>    86.0</td>\n",
              "</tr>\n",
              "</table><br/><br/>Notes:<br/>[1] Standard Errors assume that the covariance matrix of the errors is correctly specified."
            ]
          },
          "metadata": {},
          "execution_count": 40
        }
      ],
      "source": [
        "# pakiet statsmodels\n",
        "#import statsmodels.api as sm\n",
        "\n",
        "X = seto[['sl', 'pl', 'pw']]\n",
        "y = seto['sw']\n",
        "\n",
        "X = sm.add_constant(X)\n",
        "est = sm.OLS(y, X).fit()\n",
        "est.summary()"
      ]
    },
    {
      "cell_type": "code",
      "execution_count": 48,
      "id": "tamil-delta",
      "metadata": {
        "id": "tamil-delta",
        "outputId": "b58c89db-57d7-4aea-c2dc-b70f4ff92499",
        "colab": {
          "base_uri": "https://localhost:8080/",
          "height": 494
        }
      },
      "outputs": [
        {
          "output_type": "execute_result",
          "data": {
            "text/plain": [
              "<class 'statsmodels.iolib.summary.Summary'>\n",
              "\"\"\"\n",
              "                            OLS Regression Results                            \n",
              "==============================================================================\n",
              "Dep. Variable:                     sw   R-squared:                       0.553\n",
              "Model:                            OLS   Adj. R-squared:                  0.524\n",
              "Method:                 Least Squares   F-statistic:                     18.97\n",
              "Date:                Thu, 05 May 2022   Prob (F-statistic):           3.76e-08\n",
              "Time:                        14:43:56   Log-Likelihood:                -1.8073\n",
              "No. Observations:                  50   AIC:                             11.61\n",
              "Df Residuals:                      46   BIC:                             19.26\n",
              "Df Model:                           3                                         \n",
              "Covariance Type:            nonrobust                                         \n",
              "==============================================================================\n",
              "                 coef    std err          t      P>|t|      [0.025      0.975]\n",
              "------------------------------------------------------------------------------\n",
              "Intercept     -0.4891      0.573     -0.853      0.398      -1.643       0.665\n",
              "sl             0.7967      0.112      7.083      0.000       0.570       1.023\n",
              "pl            -0.0714      0.232     -0.307      0.760      -0.539       0.397\n",
              "pw             0.1351      0.384      0.352      0.727      -0.638       0.909\n",
              "==============================================================================\n",
              "Omnibus:                        1.087   Durbin-Watson:                   2.387\n",
              "Prob(Omnibus):                  0.581   Jarque-Bera (JB):                0.531\n",
              "Skew:                          -0.230   Prob(JB):                        0.767\n",
              "Kurtosis:                       3.207   Cond. No.                         86.0\n",
              "==============================================================================\n",
              "\n",
              "Notes:\n",
              "[1] Standard Errors assume that the covariance matrix of the errors is correctly specified.\n",
              "\"\"\""
            ],
            "text/html": [
              "<table class=\"simpletable\">\n",
              "<caption>OLS Regression Results</caption>\n",
              "<tr>\n",
              "  <th>Dep. Variable:</th>           <td>sw</td>        <th>  R-squared:         </th> <td>   0.553</td>\n",
              "</tr>\n",
              "<tr>\n",
              "  <th>Model:</th>                   <td>OLS</td>       <th>  Adj. R-squared:    </th> <td>   0.524</td>\n",
              "</tr>\n",
              "<tr>\n",
              "  <th>Method:</th>             <td>Least Squares</td>  <th>  F-statistic:       </th> <td>   18.97</td>\n",
              "</tr>\n",
              "<tr>\n",
              "  <th>Date:</th>             <td>Thu, 05 May 2022</td> <th>  Prob (F-statistic):</th> <td>3.76e-08</td>\n",
              "</tr>\n",
              "<tr>\n",
              "  <th>Time:</th>                 <td>14:43:56</td>     <th>  Log-Likelihood:    </th> <td> -1.8073</td>\n",
              "</tr>\n",
              "<tr>\n",
              "  <th>No. Observations:</th>      <td>    50</td>      <th>  AIC:               </th> <td>   11.61</td>\n",
              "</tr>\n",
              "<tr>\n",
              "  <th>Df Residuals:</th>          <td>    46</td>      <th>  BIC:               </th> <td>   19.26</td>\n",
              "</tr>\n",
              "<tr>\n",
              "  <th>Df Model:</th>              <td>     3</td>      <th>                     </th>     <td> </td>   \n",
              "</tr>\n",
              "<tr>\n",
              "  <th>Covariance Type:</th>      <td>nonrobust</td>    <th>                     </th>     <td> </td>   \n",
              "</tr>\n",
              "</table>\n",
              "<table class=\"simpletable\">\n",
              "<tr>\n",
              "      <td></td>         <th>coef</th>     <th>std err</th>      <th>t</th>      <th>P>|t|</th>  <th>[0.025</th>    <th>0.975]</th>  \n",
              "</tr>\n",
              "<tr>\n",
              "  <th>Intercept</th> <td>   -0.4891</td> <td>    0.573</td> <td>   -0.853</td> <td> 0.398</td> <td>   -1.643</td> <td>    0.665</td>\n",
              "</tr>\n",
              "<tr>\n",
              "  <th>sl</th>        <td>    0.7967</td> <td>    0.112</td> <td>    7.083</td> <td> 0.000</td> <td>    0.570</td> <td>    1.023</td>\n",
              "</tr>\n",
              "<tr>\n",
              "  <th>pl</th>        <td>   -0.0714</td> <td>    0.232</td> <td>   -0.307</td> <td> 0.760</td> <td>   -0.539</td> <td>    0.397</td>\n",
              "</tr>\n",
              "<tr>\n",
              "  <th>pw</th>        <td>    0.1351</td> <td>    0.384</td> <td>    0.352</td> <td> 0.727</td> <td>   -0.638</td> <td>    0.909</td>\n",
              "</tr>\n",
              "</table>\n",
              "<table class=\"simpletable\">\n",
              "<tr>\n",
              "  <th>Omnibus:</th>       <td> 1.087</td> <th>  Durbin-Watson:     </th> <td>   2.387</td>\n",
              "</tr>\n",
              "<tr>\n",
              "  <th>Prob(Omnibus):</th> <td> 0.581</td> <th>  Jarque-Bera (JB):  </th> <td>   0.531</td>\n",
              "</tr>\n",
              "<tr>\n",
              "  <th>Skew:</th>          <td>-0.230</td> <th>  Prob(JB):          </th> <td>   0.767</td>\n",
              "</tr>\n",
              "<tr>\n",
              "  <th>Kurtosis:</th>      <td> 3.207</td> <th>  Cond. No.          </th> <td>    86.0</td>\n",
              "</tr>\n",
              "</table><br/><br/>Notes:<br/>[1] Standard Errors assume that the covariance matrix of the errors is correctly specified."
            ]
          },
          "metadata": {},
          "execution_count": 48
        }
      ],
      "source": [
        "# pakiet statsmodels - podejście alternatywne jak w R\n",
        "from statsmodels.formula.api import ols\n",
        "\n",
        "model = ols(\"sw ~ sl + pl + pw + Spec\", data = df[df['Spec'] == 's'])\n",
        "results = model.fit()\n",
        "results.summary()"
      ]
    },
    {
      "cell_type": "code",
      "source": [
        "#można usunąć część zmiennych objaśniających (bo współczynniki są nieistotne statystycznie). Robi się to sekwencyjnie.\n",
        "#Końcowy model jest lepszy.\n",
        "\n",
        "model = ols(\"sw ~ sl\", data = df[df['Spec'] == 's'])\n",
        "results = model.fit()\n",
        "results.summary()"
      ],
      "metadata": {
        "id": "qZREFgRkTErd",
        "outputId": "4c2bdf8c-b91c-4e62-c940-7e5141845090",
        "colab": {
          "base_uri": "https://localhost:8080/",
          "height": 452
        }
      },
      "id": "qZREFgRkTErd",
      "execution_count": 42,
      "outputs": [
        {
          "output_type": "execute_result",
          "data": {
            "text/plain": [
              "<class 'statsmodels.iolib.summary.Summary'>\n",
              "\"\"\"\n",
              "                            OLS Regression Results                            \n",
              "==============================================================================\n",
              "Dep. Variable:                     sw   R-squared:                       0.551\n",
              "Model:                            OLS   Adj. R-squared:                  0.542\n",
              "Method:                 Least Squares   F-statistic:                     58.99\n",
              "Date:                Thu, 05 May 2022   Prob (F-statistic):           6.71e-10\n",
              "Time:                        14:30:02   Log-Likelihood:                -1.9002\n",
              "No. Observations:                  50   AIC:                             7.800\n",
              "Df Residuals:                      48   BIC:                             11.62\n",
              "Df Model:                           1                                         \n",
              "Covariance Type:            nonrobust                                         \n",
              "==============================================================================\n",
              "                 coef    std err          t      P>|t|      [0.025      0.975]\n",
              "------------------------------------------------------------------------------\n",
              "Intercept     -0.5694      0.522     -1.091      0.281      -1.618       0.480\n",
              "sl             0.7985      0.104      7.681      0.000       0.589       1.008\n",
              "==============================================================================\n",
              "Omnibus:                        0.680   Durbin-Watson:                   2.345\n",
              "Prob(Omnibus):                  0.712   Jarque-Bera (JB):                0.342\n",
              "Skew:                          -0.200   Prob(JB):                        0.843\n",
              "Kurtosis:                       3.060   Cond. No.                         75.0\n",
              "==============================================================================\n",
              "\n",
              "Notes:\n",
              "[1] Standard Errors assume that the covariance matrix of the errors is correctly specified.\n",
              "\"\"\""
            ],
            "text/html": [
              "<table class=\"simpletable\">\n",
              "<caption>OLS Regression Results</caption>\n",
              "<tr>\n",
              "  <th>Dep. Variable:</th>           <td>sw</td>        <th>  R-squared:         </th> <td>   0.551</td>\n",
              "</tr>\n",
              "<tr>\n",
              "  <th>Model:</th>                   <td>OLS</td>       <th>  Adj. R-squared:    </th> <td>   0.542</td>\n",
              "</tr>\n",
              "<tr>\n",
              "  <th>Method:</th>             <td>Least Squares</td>  <th>  F-statistic:       </th> <td>   58.99</td>\n",
              "</tr>\n",
              "<tr>\n",
              "  <th>Date:</th>             <td>Thu, 05 May 2022</td> <th>  Prob (F-statistic):</th> <td>6.71e-10</td>\n",
              "</tr>\n",
              "<tr>\n",
              "  <th>Time:</th>                 <td>14:30:02</td>     <th>  Log-Likelihood:    </th> <td> -1.9002</td>\n",
              "</tr>\n",
              "<tr>\n",
              "  <th>No. Observations:</th>      <td>    50</td>      <th>  AIC:               </th> <td>   7.800</td>\n",
              "</tr>\n",
              "<tr>\n",
              "  <th>Df Residuals:</th>          <td>    48</td>      <th>  BIC:               </th> <td>   11.62</td>\n",
              "</tr>\n",
              "<tr>\n",
              "  <th>Df Model:</th>              <td>     1</td>      <th>                     </th>     <td> </td>   \n",
              "</tr>\n",
              "<tr>\n",
              "  <th>Covariance Type:</th>      <td>nonrobust</td>    <th>                     </th>     <td> </td>   \n",
              "</tr>\n",
              "</table>\n",
              "<table class=\"simpletable\">\n",
              "<tr>\n",
              "      <td></td>         <th>coef</th>     <th>std err</th>      <th>t</th>      <th>P>|t|</th>  <th>[0.025</th>    <th>0.975]</th>  \n",
              "</tr>\n",
              "<tr>\n",
              "  <th>Intercept</th> <td>   -0.5694</td> <td>    0.522</td> <td>   -1.091</td> <td> 0.281</td> <td>   -1.618</td> <td>    0.480</td>\n",
              "</tr>\n",
              "<tr>\n",
              "  <th>sl</th>        <td>    0.7985</td> <td>    0.104</td> <td>    7.681</td> <td> 0.000</td> <td>    0.589</td> <td>    1.008</td>\n",
              "</tr>\n",
              "</table>\n",
              "<table class=\"simpletable\">\n",
              "<tr>\n",
              "  <th>Omnibus:</th>       <td> 0.680</td> <th>  Durbin-Watson:     </th> <td>   2.345</td>\n",
              "</tr>\n",
              "<tr>\n",
              "  <th>Prob(Omnibus):</th> <td> 0.712</td> <th>  Jarque-Bera (JB):  </th> <td>   0.342</td>\n",
              "</tr>\n",
              "<tr>\n",
              "  <th>Skew:</th>          <td>-0.200</td> <th>  Prob(JB):          </th> <td>   0.843</td>\n",
              "</tr>\n",
              "<tr>\n",
              "  <th>Kurtosis:</th>      <td> 3.060</td> <th>  Cond. No.          </th> <td>    75.0</td>\n",
              "</tr>\n",
              "</table><br/><br/>Notes:<br/>[1] Standard Errors assume that the covariance matrix of the errors is correctly specified."
            ]
          },
          "metadata": {},
          "execution_count": 42
        }
      ]
    },
    {
      "cell_type": "markdown",
      "source": [
        "## Zmienne jakościowe w modelu"
      ],
      "metadata": {
        "id": "A-bbEVEFrHi-"
      },
      "id": "A-bbEVEFrHi-"
    },
    {
      "cell_type": "code",
      "source": [
        "# pakiet statsmodels - podejście alternatywne jak w R\n",
        "from statsmodels.formula.api import ols\n",
        "\n",
        "model = ols(\"sw ~ sl + pl + pw + Spec\", data = df)\n",
        "results = model.fit()\n",
        "results.summary()"
      ],
      "metadata": {
        "id": "O0VqafeyrKQZ",
        "outputId": "ed2c5902-a193-45d9-e959-d3632f7442f2",
        "colab": {
          "base_uri": "https://localhost:8080/",
          "height": 537
        }
      },
      "id": "O0VqafeyrKQZ",
      "execution_count": 47,
      "outputs": [
        {
          "output_type": "execute_result",
          "data": {
            "text/plain": [
              "<class 'statsmodels.iolib.summary.Summary'>\n",
              "\"\"\"\n",
              "                            OLS Regression Results                            \n",
              "==============================================================================\n",
              "Dep. Variable:                     sw   R-squared:                       0.635\n",
              "Model:                            OLS   Adj. R-squared:                  0.622\n",
              "Method:                 Least Squares   F-statistic:                     50.14\n",
              "Date:                Thu, 05 May 2022   Prob (F-statistic):           7.15e-30\n",
              "Time:                        14:43:36   Log-Likelihood:                -12.154\n",
              "No. Observations:                 150   AIC:                             36.31\n",
              "Df Residuals:                     144   BIC:                             54.37\n",
              "Df Model:                           5                                         \n",
              "Covariance Type:            nonrobust                                         \n",
              "==============================================================================\n",
              "                 coef    std err          t      P>|t|      [0.025      0.975]\n",
              "------------------------------------------------------------------------------\n",
              "Intercept      0.4969      0.264      1.882      0.062      -0.025       1.019\n",
              "Spec[T.s]      1.1603      0.193      6.003      0.000       0.778       1.542\n",
              "Spec[T.v]     -0.2380      0.104     -2.283      0.024      -0.444      -0.032\n",
              "sl             0.3778      0.066      5.761      0.000       0.248       0.507\n",
              "pl            -0.1876      0.083     -2.246      0.026      -0.353      -0.023\n",
              "pw             0.6257      0.123      5.072      0.000       0.382       0.870\n",
              "==============================================================================\n",
              "Omnibus:                        8.540   Durbin-Watson:                   2.024\n",
              "Prob(Omnibus):                  0.014   Jarque-Bera (JB):               10.898\n",
              "Skew:                          -0.356   Prob(JB):                      0.00430\n",
              "Kurtosis:                       4.112   Cond. No.                         98.0\n",
              "==============================================================================\n",
              "\n",
              "Notes:\n",
              "[1] Standard Errors assume that the covariance matrix of the errors is correctly specified.\n",
              "\"\"\""
            ],
            "text/html": [
              "<table class=\"simpletable\">\n",
              "<caption>OLS Regression Results</caption>\n",
              "<tr>\n",
              "  <th>Dep. Variable:</th>           <td>sw</td>        <th>  R-squared:         </th> <td>   0.635</td>\n",
              "</tr>\n",
              "<tr>\n",
              "  <th>Model:</th>                   <td>OLS</td>       <th>  Adj. R-squared:    </th> <td>   0.622</td>\n",
              "</tr>\n",
              "<tr>\n",
              "  <th>Method:</th>             <td>Least Squares</td>  <th>  F-statistic:       </th> <td>   50.14</td>\n",
              "</tr>\n",
              "<tr>\n",
              "  <th>Date:</th>             <td>Thu, 05 May 2022</td> <th>  Prob (F-statistic):</th> <td>7.15e-30</td>\n",
              "</tr>\n",
              "<tr>\n",
              "  <th>Time:</th>                 <td>14:43:36</td>     <th>  Log-Likelihood:    </th> <td> -12.154</td>\n",
              "</tr>\n",
              "<tr>\n",
              "  <th>No. Observations:</th>      <td>   150</td>      <th>  AIC:               </th> <td>   36.31</td>\n",
              "</tr>\n",
              "<tr>\n",
              "  <th>Df Residuals:</th>          <td>   144</td>      <th>  BIC:               </th> <td>   54.37</td>\n",
              "</tr>\n",
              "<tr>\n",
              "  <th>Df Model:</th>              <td>     5</td>      <th>                     </th>     <td> </td>   \n",
              "</tr>\n",
              "<tr>\n",
              "  <th>Covariance Type:</th>      <td>nonrobust</td>    <th>                     </th>     <td> </td>   \n",
              "</tr>\n",
              "</table>\n",
              "<table class=\"simpletable\">\n",
              "<tr>\n",
              "      <td></td>         <th>coef</th>     <th>std err</th>      <th>t</th>      <th>P>|t|</th>  <th>[0.025</th>    <th>0.975]</th>  \n",
              "</tr>\n",
              "<tr>\n",
              "  <th>Intercept</th> <td>    0.4969</td> <td>    0.264</td> <td>    1.882</td> <td> 0.062</td> <td>   -0.025</td> <td>    1.019</td>\n",
              "</tr>\n",
              "<tr>\n",
              "  <th>Spec[T.s]</th> <td>    1.1603</td> <td>    0.193</td> <td>    6.003</td> <td> 0.000</td> <td>    0.778</td> <td>    1.542</td>\n",
              "</tr>\n",
              "<tr>\n",
              "  <th>Spec[T.v]</th> <td>   -0.2380</td> <td>    0.104</td> <td>   -2.283</td> <td> 0.024</td> <td>   -0.444</td> <td>   -0.032</td>\n",
              "</tr>\n",
              "<tr>\n",
              "  <th>sl</th>        <td>    0.3778</td> <td>    0.066</td> <td>    5.761</td> <td> 0.000</td> <td>    0.248</td> <td>    0.507</td>\n",
              "</tr>\n",
              "<tr>\n",
              "  <th>pl</th>        <td>   -0.1876</td> <td>    0.083</td> <td>   -2.246</td> <td> 0.026</td> <td>   -0.353</td> <td>   -0.023</td>\n",
              "</tr>\n",
              "<tr>\n",
              "  <th>pw</th>        <td>    0.6257</td> <td>    0.123</td> <td>    5.072</td> <td> 0.000</td> <td>    0.382</td> <td>    0.870</td>\n",
              "</tr>\n",
              "</table>\n",
              "<table class=\"simpletable\">\n",
              "<tr>\n",
              "  <th>Omnibus:</th>       <td> 8.540</td> <th>  Durbin-Watson:     </th> <td>   2.024</td>\n",
              "</tr>\n",
              "<tr>\n",
              "  <th>Prob(Omnibus):</th> <td> 0.014</td> <th>  Jarque-Bera (JB):  </th> <td>  10.898</td>\n",
              "</tr>\n",
              "<tr>\n",
              "  <th>Skew:</th>          <td>-0.356</td> <th>  Prob(JB):          </th> <td> 0.00430</td>\n",
              "</tr>\n",
              "<tr>\n",
              "  <th>Kurtosis:</th>      <td> 4.112</td> <th>  Cond. No.          </th> <td>    98.0</td>\n",
              "</tr>\n",
              "</table><br/><br/>Notes:<br/>[1] Standard Errors assume that the covariance matrix of the errors is correctly specified."
            ]
          },
          "metadata": {},
          "execution_count": 47
        }
      ]
    },
    {
      "cell_type": "markdown",
      "source": [
        "### Ćwiczenie: uzyskać ten efekt z użyciem funkcji z pakietu *sklearn*"
      ],
      "metadata": {
        "id": "Mid9JwRCrmRN"
      },
      "id": "Mid9JwRCrmRN"
    },
    {
      "cell_type": "code",
      "source": [
        "#pakiet sklearn\n",
        "from sklearn.linear_model import LinearRegression\n",
        "\n",
        "X = df[['sl', 'pl', 'pw']].copy()\n",
        "# dodać kolumny (one-hot) dla Spec - wystarczą dwie (s i v)\n",
        "X['Spec_s'] = 1*(df['Spec'] == 's')\n",
        "X['Spec_v'] = df['Spec'].replace({'v':1, 's':0, 'c':0}) #alternatywne przekształcenie\n",
        "print(X)\n",
        "y = np.array(df['sw'])\n",
        "\n",
        "linear_regression = LinearRegression()\n",
        "\n",
        "reg = linear_regression.fit(X,y)\n",
        "\n",
        "print(' R^2:', reg.score(X, y),'\\n',\n",
        "      'coef:', reg.coef_,'\\n',\n",
        "     'intercept:', reg.intercept_)\n"
      ],
      "metadata": {
        "id": "EudKrDoIrbu-",
        "outputId": "87a13353-a0d9-47e4-fa18-7d04492ed7a7",
        "colab": {
          "base_uri": "https://localhost:8080/"
        }
      },
      "id": "EudKrDoIrbu-",
      "execution_count": 72,
      "outputs": [
        {
          "output_type": "stream",
          "name": "stdout",
          "text": [
            "      sl   pl   pw  Spec_s  Spec_v\n",
            "0    5.1  1.4  0.2       1       0\n",
            "1    4.9  1.4  0.2       1       0\n",
            "2    4.7  1.3  0.2       1       0\n",
            "3    4.6  1.5  0.2       1       0\n",
            "4    5.0  1.4  0.2       1       0\n",
            "..   ...  ...  ...     ...     ...\n",
            "145  6.7  5.2  2.3       0       1\n",
            "146  6.3  5.0  1.9       0       1\n",
            "147  6.5  5.2  2.0       0       1\n",
            "148  6.2  5.4  2.3       0       1\n",
            "149  5.9  5.1  1.8       0       1\n",
            "\n",
            "[150 rows x 5 columns]\n",
            " R^2: 0.6351610140996667 \n",
            " coef: [ 0.37777341 -0.18756658  0.62571049  1.1602853  -0.23796958] \n",
            " intercept: 0.496878594116279\n"
          ]
        }
      ]
    },
    {
      "cell_type": "markdown",
      "source": [
        "### Wykres (dla jednej zmiennej)"
      ],
      "metadata": {
        "id": "AViq-o87rp0F"
      },
      "id": "AViq-o87rp0F"
    },
    {
      "cell_type": "code",
      "source": [
        "model_s = ols(\"sw ~ sl\", data = df[df['Spec'] == 's'])\n",
        "results_s = model_s.fit()\n",
        "model_c = ols(\"sw ~ sl\", data = df[df['Spec'] == 'c'])\n",
        "results_c = model_c.fit()\n",
        "model_v = ols(\"sw ~ sl\", data = df[df['Spec'] == 'v'])\n",
        "results_v = model_v.fit()\n",
        "\n",
        "model_all = ols(\"sw ~ sl\", data = df)\n",
        "results_all = model_all.fit()\n",
        "results_all.summary()"
      ],
      "metadata": {
        "id": "1EynlHPJr_jW",
        "outputId": "aff5bfa2-f794-40ad-ed4f-8a227427d655",
        "colab": {
          "base_uri": "https://localhost:8080/",
          "height": 452
        }
      },
      "id": "1EynlHPJr_jW",
      "execution_count": 54,
      "outputs": [
        {
          "output_type": "execute_result",
          "data": {
            "text/plain": [
              "<class 'statsmodels.iolib.summary.Summary'>\n",
              "\"\"\"\n",
              "                            OLS Regression Results                            \n",
              "==============================================================================\n",
              "Dep. Variable:                     sw   R-squared:                       0.014\n",
              "Model:                            OLS   Adj. R-squared:                  0.007\n",
              "Method:                 Least Squares   F-statistic:                     2.074\n",
              "Date:                Thu, 05 May 2022   Prob (F-statistic):              0.152\n",
              "Time:                        14:48:45   Log-Likelihood:                -86.732\n",
              "No. Observations:                 150   AIC:                             177.5\n",
              "Df Residuals:                     148   BIC:                             183.5\n",
              "Df Model:                           1                                         \n",
              "Covariance Type:            nonrobust                                         \n",
              "==============================================================================\n",
              "                 coef    std err          t      P>|t|      [0.025      0.975]\n",
              "------------------------------------------------------------------------------\n",
              "Intercept      3.4189      0.254     13.484      0.000       2.918       3.920\n",
              "sl            -0.0619      0.043     -1.440      0.152      -0.147       0.023\n",
              "==============================================================================\n",
              "Omnibus:                        2.474   Durbin-Watson:                   1.263\n",
              "Prob(Omnibus):                  0.290   Jarque-Bera (JB):                1.994\n",
              "Skew:                           0.243   Prob(JB):                        0.369\n",
              "Kurtosis:                       3.288   Cond. No.                         43.4\n",
              "==============================================================================\n",
              "\n",
              "Notes:\n",
              "[1] Standard Errors assume that the covariance matrix of the errors is correctly specified.\n",
              "\"\"\""
            ],
            "text/html": [
              "<table class=\"simpletable\">\n",
              "<caption>OLS Regression Results</caption>\n",
              "<tr>\n",
              "  <th>Dep. Variable:</th>           <td>sw</td>        <th>  R-squared:         </th> <td>   0.014</td>\n",
              "</tr>\n",
              "<tr>\n",
              "  <th>Model:</th>                   <td>OLS</td>       <th>  Adj. R-squared:    </th> <td>   0.007</td>\n",
              "</tr>\n",
              "<tr>\n",
              "  <th>Method:</th>             <td>Least Squares</td>  <th>  F-statistic:       </th> <td>   2.074</td>\n",
              "</tr>\n",
              "<tr>\n",
              "  <th>Date:</th>             <td>Thu, 05 May 2022</td> <th>  Prob (F-statistic):</th>  <td> 0.152</td> \n",
              "</tr>\n",
              "<tr>\n",
              "  <th>Time:</th>                 <td>14:48:45</td>     <th>  Log-Likelihood:    </th> <td> -86.732</td>\n",
              "</tr>\n",
              "<tr>\n",
              "  <th>No. Observations:</th>      <td>   150</td>      <th>  AIC:               </th> <td>   177.5</td>\n",
              "</tr>\n",
              "<tr>\n",
              "  <th>Df Residuals:</th>          <td>   148</td>      <th>  BIC:               </th> <td>   183.5</td>\n",
              "</tr>\n",
              "<tr>\n",
              "  <th>Df Model:</th>              <td>     1</td>      <th>                     </th>     <td> </td>   \n",
              "</tr>\n",
              "<tr>\n",
              "  <th>Covariance Type:</th>      <td>nonrobust</td>    <th>                     </th>     <td> </td>   \n",
              "</tr>\n",
              "</table>\n",
              "<table class=\"simpletable\">\n",
              "<tr>\n",
              "      <td></td>         <th>coef</th>     <th>std err</th>      <th>t</th>      <th>P>|t|</th>  <th>[0.025</th>    <th>0.975]</th>  \n",
              "</tr>\n",
              "<tr>\n",
              "  <th>Intercept</th> <td>    3.4189</td> <td>    0.254</td> <td>   13.484</td> <td> 0.000</td> <td>    2.918</td> <td>    3.920</td>\n",
              "</tr>\n",
              "<tr>\n",
              "  <th>sl</th>        <td>   -0.0619</td> <td>    0.043</td> <td>   -1.440</td> <td> 0.152</td> <td>   -0.147</td> <td>    0.023</td>\n",
              "</tr>\n",
              "</table>\n",
              "<table class=\"simpletable\">\n",
              "<tr>\n",
              "  <th>Omnibus:</th>       <td> 2.474</td> <th>  Durbin-Watson:     </th> <td>   1.263</td>\n",
              "</tr>\n",
              "<tr>\n",
              "  <th>Prob(Omnibus):</th> <td> 0.290</td> <th>  Jarque-Bera (JB):  </th> <td>   1.994</td>\n",
              "</tr>\n",
              "<tr>\n",
              "  <th>Skew:</th>          <td> 0.243</td> <th>  Prob(JB):          </th> <td>   0.369</td>\n",
              "</tr>\n",
              "<tr>\n",
              "  <th>Kurtosis:</th>      <td> 3.288</td> <th>  Cond. No.          </th> <td>    43.4</td>\n",
              "</tr>\n",
              "</table><br/><br/>Notes:<br/>[1] Standard Errors assume that the covariance matrix of the errors is correctly specified."
            ]
          },
          "metadata": {},
          "execution_count": 54
        }
      ]
    },
    {
      "cell_type": "code",
      "source": [
        "pplot.figure()\n",
        "pplot.title(\"Długość i szerokość działki kielicha\")\n",
        "pplot.xlabel(\"Długość\")\n",
        "pplot.ylabel(\"Szerokość\")\n",
        "\n",
        "colorm = {'s': \"r\", 'c': \"g\", 'v': \"b\"}\n",
        "pplot.scatter(df['sl'], df['sw'], c=[colorm[x] for x in df['Spec']] )\n",
        "\n",
        "df_tmp = pd.DataFrame({'sl':[4, 8]})\n",
        "y = results_s.predict(df_tmp)\n",
        "pplot.plot([4,8], y, \"r-\")\n",
        "y = results_c.predict(df_tmp)\n",
        "pplot.plot([4,8], y, \"g-\")\n",
        "y = results_v.predict(df_tmp)\n",
        "pplot.plot([4,8], y, \"b-\")\n",
        "y = results_all.predict(df_tmp)\n",
        "pplot.plot([4,8], y, \"k-\")\n",
        "\n",
        "\n",
        "pplot.grid(True)\n",
        "pplot.show()"
      ],
      "metadata": {
        "id": "zAn1M8x-riJX",
        "outputId": "1e9cbb74-5604-4280-f98d-ac9a7b434d44",
        "colab": {
          "base_uri": "https://localhost:8080/",
          "height": 296
        }
      },
      "id": "zAn1M8x-riJX",
      "execution_count": 57,
      "outputs": [
        {
          "output_type": "display_data",
          "data": {
            "text/plain": [
              "<Figure size 432x288 with 1 Axes>"
            ],
            "image/png": "[encoded data removed]"
          },
          "metadata": {
            "needs_background": "light"
          }
        }
      ]
    },
    {
      "cell_type": "markdown",
      "source": [
        "Model \"równoległy\""
      ],
      "metadata": {
        "id": "9GVhxUmmue52"
      },
      "id": "9GVhxUmmue52"
    },
    {
      "cell_type": "code",
      "source": [
        "model_all2 = ols(\"sw ~ sl + Spec\", data = df)\n",
        "results_all2 = model_all2.fit()\n",
        "results_all2.summary()"
      ],
      "metadata": {
        "id": "YXgx33J0ui7_",
        "outputId": "4e70d89e-4fe7-43ff-a7ce-2d8ec43c56a7",
        "colab": {
          "base_uri": "https://localhost:8080/",
          "height": 494
        }
      },
      "id": "YXgx33J0ui7_",
      "execution_count": 60,
      "outputs": [
        {
          "output_type": "execute_result",
          "data": {
            "text/plain": [
              "<class 'statsmodels.iolib.summary.Summary'>\n",
              "\"\"\"\n",
              "                            OLS Regression Results                            \n",
              "==============================================================================\n",
              "Dep. Variable:                     sw   R-squared:                       0.569\n",
              "Model:                            OLS   Adj. R-squared:                  0.560\n",
              "Method:                 Least Squares   F-statistic:                     64.32\n",
              "Date:                Thu, 05 May 2022   Prob (F-statistic):           1.46e-26\n",
              "Time:                        14:58:23   Log-Likelihood:                -24.609\n",
              "No. Observations:                 150   AIC:                             57.22\n",
              "Df Residuals:                     146   BIC:                             69.26\n",
              "Df Model:                           3                                         \n",
              "Covariance Type:            nonrobust                                         \n",
              "==============================================================================\n",
              "                 coef    std err          t      P>|t|      [0.025      0.975]\n",
              "------------------------------------------------------------------------------\n",
              "Intercept      0.6931      0.278      2.494      0.014       0.144       1.242\n",
              "Spec[T.s]      0.9834      0.072     13.644      0.000       0.841       1.126\n",
              "Spec[T.v]     -0.0241      0.065     -0.370      0.712      -0.153       0.105\n",
              "sl             0.3499      0.046      7.557      0.000       0.258       0.441\n",
              "==============================================================================\n",
              "Omnibus:                        3.680   Durbin-Watson:                   1.902\n",
              "Prob(Omnibus):                  0.159   Jarque-Bera (JB):                3.253\n",
              "Skew:                          -0.269   Prob(JB):                        0.197\n",
              "Kurtosis:                       3.481   Cond. No.                         73.0\n",
              "==============================================================================\n",
              "\n",
              "Notes:\n",
              "[1] Standard Errors assume that the covariance matrix of the errors is correctly specified.\n",
              "\"\"\""
            ],
            "text/html": [
              "<table class=\"simpletable\">\n",
              "<caption>OLS Regression Results</caption>\n",
              "<tr>\n",
              "  <th>Dep. Variable:</th>           <td>sw</td>        <th>  R-squared:         </th> <td>   0.569</td>\n",
              "</tr>\n",
              "<tr>\n",
              "  <th>Model:</th>                   <td>OLS</td>       <th>  Adj. R-squared:    </th> <td>   0.560</td>\n",
              "</tr>\n",
              "<tr>\n",
              "  <th>Method:</th>             <td>Least Squares</td>  <th>  F-statistic:       </th> <td>   64.32</td>\n",
              "</tr>\n",
              "<tr>\n",
              "  <th>Date:</th>             <td>Thu, 05 May 2022</td> <th>  Prob (F-statistic):</th> <td>1.46e-26</td>\n",
              "</tr>\n",
              "<tr>\n",
              "  <th>Time:</th>                 <td>14:58:23</td>     <th>  Log-Likelihood:    </th> <td> -24.609</td>\n",
              "</tr>\n",
              "<tr>\n",
              "  <th>No. Observations:</th>      <td>   150</td>      <th>  AIC:               </th> <td>   57.22</td>\n",
              "</tr>\n",
              "<tr>\n",
              "  <th>Df Residuals:</th>          <td>   146</td>      <th>  BIC:               </th> <td>   69.26</td>\n",
              "</tr>\n",
              "<tr>\n",
              "  <th>Df Model:</th>              <td>     3</td>      <th>                     </th>     <td> </td>   \n",
              "</tr>\n",
              "<tr>\n",
              "  <th>Covariance Type:</th>      <td>nonrobust</td>    <th>                     </th>     <td> </td>   \n",
              "</tr>\n",
              "</table>\n",
              "<table class=\"simpletable\">\n",
              "<tr>\n",
              "      <td></td>         <th>coef</th>     <th>std err</th>      <th>t</th>      <th>P>|t|</th>  <th>[0.025</th>    <th>0.975]</th>  \n",
              "</tr>\n",
              "<tr>\n",
              "  <th>Intercept</th> <td>    0.6931</td> <td>    0.278</td> <td>    2.494</td> <td> 0.014</td> <td>    0.144</td> <td>    1.242</td>\n",
              "</tr>\n",
              "<tr>\n",
              "  <th>Spec[T.s]</th> <td>    0.9834</td> <td>    0.072</td> <td>   13.644</td> <td> 0.000</td> <td>    0.841</td> <td>    1.126</td>\n",
              "</tr>\n",
              "<tr>\n",
              "  <th>Spec[T.v]</th> <td>   -0.0241</td> <td>    0.065</td> <td>   -0.370</td> <td> 0.712</td> <td>   -0.153</td> <td>    0.105</td>\n",
              "</tr>\n",
              "<tr>\n",
              "  <th>sl</th>        <td>    0.3499</td> <td>    0.046</td> <td>    7.557</td> <td> 0.000</td> <td>    0.258</td> <td>    0.441</td>\n",
              "</tr>\n",
              "</table>\n",
              "<table class=\"simpletable\">\n",
              "<tr>\n",
              "  <th>Omnibus:</th>       <td> 3.680</td> <th>  Durbin-Watson:     </th> <td>   1.902</td>\n",
              "</tr>\n",
              "<tr>\n",
              "  <th>Prob(Omnibus):</th> <td> 0.159</td> <th>  Jarque-Bera (JB):  </th> <td>   3.253</td>\n",
              "</tr>\n",
              "<tr>\n",
              "  <th>Skew:</th>          <td>-0.269</td> <th>  Prob(JB):          </th> <td>   0.197</td>\n",
              "</tr>\n",
              "<tr>\n",
              "  <th>Kurtosis:</th>      <td> 3.481</td> <th>  Cond. No.          </th> <td>    73.0</td>\n",
              "</tr>\n",
              "</table><br/><br/>Notes:<br/>[1] Standard Errors assume that the covariance matrix of the errors is correctly specified."
            ]
          },
          "metadata": {},
          "execution_count": 60
        }
      ]
    },
    {
      "cell_type": "code",
      "source": [
        "pplot.figure()\n",
        "pplot.title(\"Długość i szerokość działki kielicha\")\n",
        "pplot.xlabel(\"Długość\")\n",
        "pplot.ylabel(\"Szerokość\")\n",
        "\n",
        "colorm = {'s': \"r\", 'c': \"g\", 'v': \"b\"}\n",
        "pplot.scatter(df['sl'], df['sw'], c=[colorm[x] for x in df['Spec']] )\n",
        "\n",
        "df_tmp = pd.DataFrame({'sl':[4, 8], 'Spec':['s', 's']})\n",
        "y = results_all2.predict(df_tmp)\n",
        "df_tmp['Spec'] = ['c', 'c']\n",
        "pplot.plot([4,8], y, \"r-\")\n",
        "y = results_all2.predict(df_tmp)\n",
        "pplot.plot([4,8], y, \"g-\")\n",
        "df_tmp['Spec'] = ['v', 'v']\n",
        "y = results_all2.predict(df_tmp)\n",
        "pplot.plot([4,8], y, \"b-\")\n",
        "y = results_all.predict(df_tmp)\n",
        "pplot.plot([4,8], y, \"k-\")\n",
        "\n",
        "pplot.grid(True)\n",
        "pplot.show()"
      ],
      "metadata": {
        "id": "WJaYnMYKuvZd",
        "outputId": "fbaa4655-eddf-41c6-c65c-e66cf716f749",
        "colab": {
          "base_uri": "https://localhost:8080/",
          "height": 296
        }
      },
      "id": "WJaYnMYKuvZd",
      "execution_count": 62,
      "outputs": [
        {
          "output_type": "display_data",
          "data": {
            "text/plain": [
              "<Figure size 432x288 with 1 Axes>"
            ],
            "image/png": "[encoded data removed]"
          },
          "metadata": {
            "needs_background": "light"
          }
        }
      ]
    }
  ],
  "metadata": {
    "kernelspec": {
      "display_name": "Python 3 (ipykernel)",
      "language": "python",
      "name": "python3"
    },
    "language_info": {
      "codemirror_mode": {
        "name": "ipython",
        "version": 3
      },
      "file_extension": ".py",
      "mimetype": "text/x-python",
      "name": "python",
      "nbconvert_exporter": "python",
      "pygments_lexer": "ipython3",
      "version": "3.9.2"
    },
    "colab": {
      "name": "Podstawy analizy danych.ipynb",
      "provenance": [],
      "include_colab_link": true
    }
  },
  "nbformat": 4,
  "nbformat_minor": 5
}