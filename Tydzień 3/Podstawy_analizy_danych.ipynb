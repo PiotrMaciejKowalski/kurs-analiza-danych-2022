{
  "cells": [
    {
      "cell_type": "markdown",
      "metadata": {
        "id": "view-in-github",
        "colab_type": "text"
      },
      "source": [
        "<a href=\"https://colab.research.google.com/github/PiotrMaciejKowalski/kurs-analiza-danych-2022/blob/main/Tydzie%C5%84%203/Podstawy_analizy_danych.ipynb\" target=\"_parent\"><img src=\"https://colab.research.google.com/assets/colab-badge.svg\" alt=\"Open In Colab\"/></a>"
      ]
    },
    {
      "cell_type": "markdown",
      "id": "wooden-accommodation",
      "metadata": {
        "id": "wooden-accommodation"
      },
      "source": [
        "# Podstawowe problemy statystycznej analizy danych\n",
        "\n",
        "Analizowane dane traktujemy jako *próbkę* (realizację *próby statystycznej prostej*).\n",
        "\n",
        "Problem sprowadza się do **identyfikacji rozkładu próby** w oparciu o posiadaną próbkę.\n",
        "\n",
        "W przypadku danych jednowymiarowych korzysta się z prostych narzędzi identyfikacji. W wypadku danych jakościowych mamy do dyspozycji proste zliczanie (i estymację parametrów rozkładu dwu- lub wielomianowego). W wypadku danych ilościowych (na skali interwałowej/ilorazowej) realizujemy:\n",
        "* metody graficzne: histogram, estymacja gęstości\n",
        "* *statystyczne testy zgodności* z typowymi rozkładami.\n",
        "\n",
        "\n",
        "W przypadku danych wielowymiarowych jest trudniej. Na ogół korzystamy z powyższych metod do identyfikacji rozkładów brzegowych, a nastepnie badamy zależności pomiędzy wymiarami. Przyjmijmy, że próba statystyczna jest złożona ze zmiennych losowych o rozkładzie takim jak para $(X, Y)$, gdzie $Y$ jest jednowymiarowa i w ramach modelu ją będziemy traktowac jako *zmienną zależną*. W zależności od typów (skal pomiarowych) tych zmiennych stosujemy następujące metody:\n",
        "* *test niezależności* i *analizę korespondencji*, gdy obie zmienne $X$ i $Y$ są na skali nominalnej i traktujemy zależność symetrycznie;\n",
        "* analizę wartości średnich (lub median) $Y$ warunkowanych wartościami $X$, w szczególnych przypadkach *analizę wariancji* lub *test Kruskala*, gdy $X$ jest na skali nominalnej, a $Y$ - jest ilościową (na skali co najmniej interwałowej);\n",
        "* *analizę dyskryminacyjną* (klasyfikację), gdy $Y$ jest na skali nominalnej, a $X$ na dowolnej\n",
        "* *regresję*, gdy obie zmienne są ilościowe, na skali co najmniej interwałowej.\n",
        "\n",
        "Występują również modele regresji (Spearmana, Kendalla) dla zmiennych jakościowych na skali porządkowej, ale je w tym obrazie pominiemy. \n",
        "\n",
        "Skoncentrujemy się na drugim i czwartym punkcie z powyższych.\n",
        "\n",
        "Zaimportujmy standardowy przykład zbioru danych."
      ]
    },
    {
      "cell_type": "code",
      "source": [
        "!pip install pingouin"
      ],
      "metadata": {
        "id": "OiOOcsNqDfA_",
        "outputId": "b841682c-ef09-43c3-c725-da0ab326cd11",
        "colab": {
          "base_uri": "https://localhost:8080/"
        }
      },
      "id": "OiOOcsNqDfA_",
      "execution_count": 2,
      "outputs": [
        {
          "output_type": "stream",
          "name": "stdout",
          "text": [
            "Requirement already satisfied: pingouin in /usr/local/lib/python3.7/dist-packages (0.5.1)\n",
            "Requirement already satisfied: seaborn>=0.11 in /usr/local/lib/python3.7/dist-packages (from pingouin) (0.11.2)\n",
            "Requirement already satisfied: matplotlib>=3.0.2 in /usr/local/lib/python3.7/dist-packages (from pingouin) (3.2.2)\n",
            "Requirement already satisfied: pandas>=1.0 in /usr/local/lib/python3.7/dist-packages (from pingouin) (1.3.5)\n",
            "Requirement already satisfied: pandas-flavor>=0.2.0 in /usr/local/lib/python3.7/dist-packages (from pingouin) (0.2.0)\n",
            "Requirement already satisfied: tabulate in /usr/local/lib/python3.7/dist-packages (from pingouin) (0.8.9)\n",
            "Requirement already satisfied: numpy>=1.19 in /usr/local/lib/python3.7/dist-packages (from pingouin) (1.21.6)\n",
            "Requirement already satisfied: outdated in /usr/local/lib/python3.7/dist-packages (from pingouin) (0.2.1)\n",
            "Requirement already satisfied: statsmodels>=0.13 in /usr/local/lib/python3.7/dist-packages (from pingouin) (0.13.2)\n",
            "Requirement already satisfied: scikit-learn in /usr/local/lib/python3.7/dist-packages (from pingouin) (1.0.2)\n",
            "Requirement already satisfied: scipy>=1.7 in /usr/local/lib/python3.7/dist-packages (from pingouin) (1.7.3)\n",
            "Requirement already satisfied: kiwisolver>=1.0.1 in /usr/local/lib/python3.7/dist-packages (from matplotlib>=3.0.2->pingouin) (1.4.2)\n",
            "Requirement already satisfied: python-dateutil>=2.1 in /usr/local/lib/python3.7/dist-packages (from matplotlib>=3.0.2->pingouin) (2.8.2)\n",
            "Requirement already satisfied: cycler>=0.10 in /usr/local/lib/python3.7/dist-packages (from matplotlib>=3.0.2->pingouin) (0.11.0)\n",
            "Requirement already satisfied: pyparsing!=2.0.4,!=2.1.2,!=2.1.6,>=2.0.1 in /usr/local/lib/python3.7/dist-packages (from matplotlib>=3.0.2->pingouin) (3.0.8)\n",
            "Requirement already satisfied: typing-extensions in /usr/local/lib/python3.7/dist-packages (from kiwisolver>=1.0.1->matplotlib>=3.0.2->pingouin) (4.2.0)\n",
            "Requirement already satisfied: pytz>=2017.3 in /usr/local/lib/python3.7/dist-packages (from pandas>=1.0->pingouin) (2022.1)\n",
            "Requirement already satisfied: xarray in /usr/local/lib/python3.7/dist-packages (from pandas-flavor>=0.2.0->pingouin) (0.18.2)\n",
            "Requirement already satisfied: six>=1.5 in /usr/local/lib/python3.7/dist-packages (from python-dateutil>=2.1->matplotlib>=3.0.2->pingouin) (1.15.0)\n",
            "Requirement already satisfied: packaging>=21.3 in /usr/local/lib/python3.7/dist-packages (from statsmodels>=0.13->pingouin) (21.3)\n",
            "Requirement already satisfied: patsy>=0.5.2 in /usr/local/lib/python3.7/dist-packages (from statsmodels>=0.13->pingouin) (0.5.2)\n",
            "Requirement already satisfied: littleutils in /usr/local/lib/python3.7/dist-packages (from outdated->pingouin) (0.2.2)\n",
            "Requirement already satisfied: requests in /usr/local/lib/python3.7/dist-packages (from outdated->pingouin) (2.23.0)\n",
            "Requirement already satisfied: urllib3!=1.25.0,!=1.25.1,<1.26,>=1.21.1 in /usr/local/lib/python3.7/dist-packages (from requests->outdated->pingouin) (1.24.3)\n",
            "Requirement already satisfied: certifi>=2017.4.17 in /usr/local/lib/python3.7/dist-packages (from requests->outdated->pingouin) (2021.10.8)\n",
            "Requirement already satisfied: chardet<4,>=3.0.2 in /usr/local/lib/python3.7/dist-packages (from requests->outdated->pingouin) (3.0.4)\n",
            "Requirement already satisfied: idna<3,>=2.5 in /usr/local/lib/python3.7/dist-packages (from requests->outdated->pingouin) (2.10)\n",
            "Requirement already satisfied: threadpoolctl>=2.0.0 in /usr/local/lib/python3.7/dist-packages (from scikit-learn->pingouin) (3.1.0)\n",
            "Requirement already satisfied: joblib>=0.11 in /usr/local/lib/python3.7/dist-packages (from scikit-learn->pingouin) (1.1.0)\n",
            "Requirement already satisfied: setuptools>=40.4 in /usr/local/lib/python3.7/dist-packages (from xarray->pandas-flavor>=0.2.0->pingouin) (57.4.0)\n"
          ]
        }
      ]
    },
    {
      "cell_type": "code",
      "execution_count": 3,
      "id": "foreign-brass",
      "metadata": {
        "id": "foreign-brass"
      },
      "outputs": [],
      "source": [
        "from sklearn import datasets\n",
        "\n",
        "irysy = datasets.load_iris()"
      ]
    },
    {
      "cell_type": "markdown",
      "id": "later-witch",
      "metadata": {
        "id": "later-witch"
      },
      "source": [
        "## Przekształcenie zbioru\n",
        "\n",
        "Przekształćmy ten zbiór do wygodnej do pracy postaci *pandas*"
      ]
    },
    {
      "cell_type": "code",
      "execution_count": 4,
      "id": "sensitive-break",
      "metadata": {
        "id": "sensitive-break",
        "outputId": "59ccf9fc-9706-41d8-e9ed-63e6db15e754",
        "colab": {
          "base_uri": "https://localhost:8080/",
          "height": 312
        }
      },
      "outputs": [
        {
          "output_type": "stream",
          "name": "stdout",
          "text": [
            "[0 0 0 0 0 0 0 0 0 0 0 0 0 0 0 0 0 0 0 0 0 0 0 0 0 0 0 0 0 0 0 0 0 0 0 0 0\n",
            " 0 0 0 0 0 0 0 0 0 0 0 0 0 1 1 1 1 1 1 1 1 1 1 1 1 1 1 1 1 1 1 1 1 1 1 1 1\n",
            " 1 1 1 1 1 1 1 1 1 1 1 1 1 1 1 1 1 1 1 1 1 1 1 1 1 1 2 2 2 2 2 2 2 2 2 2 2\n",
            " 2 2 2 2 2 2 2 2 2 2 2 2 2 2 2 2 2 2 2 2 2 2 2 2 2 2 2 2 2 2 2 2 2 2 2 2 2\n",
            " 2 2]\n",
            "['sepal length (cm)', 'sepal width (cm)', 'petal length (cm)', 'petal width (cm)']\n"
          ]
        },
        {
          "output_type": "execute_result",
          "data": {
            "text/plain": [
              "    sl   sw   pl   pw Spec\n",
              "0  5.1  3.5  1.4  0.2    s\n",
              "1  4.9  3.0  1.4  0.2    s\n",
              "2  4.7  3.2  1.3  0.2    s\n",
              "3  4.6  3.1  1.5  0.2    s\n",
              "4  5.0  3.6  1.4  0.2    s"
            ],
            "text/html": [
              "\n",
              "  <div id=\"df-17947fea-fe9b-4c81-8ae6-5be4e225e998\">\n",
              "    <div class=\"colab-df-container\">\n",
              "      <div>\n",
              "<style scoped>\n",
              "    .dataframe tbody tr th:only-of-type {\n",
              "        vertical-align: middle;\n",
              "    }\n",
              "\n",
              "    .dataframe tbody tr th {\n",
              "        vertical-align: top;\n",
              "    }\n",
              "\n",
              "    .dataframe thead th {\n",
              "        text-align: right;\n",
              "    }\n",
              "</style>\n",
              "<table border=\"1\" class=\"dataframe\">\n",
              "  <thead>\n",
              "    <tr style=\"text-align: right;\">\n",
              "      <th></th>\n",
              "      <th>sl</th>\n",
              "      <th>sw</th>\n",
              "      <th>pl</th>\n",
              "      <th>pw</th>\n",
              "      <th>Spec</th>\n",
              "    </tr>\n",
              "  </thead>\n",
              "  <tbody>\n",
              "    <tr>\n",
              "      <th>0</th>\n",
              "      <td>5.1</td>\n",
              "      <td>3.5</td>\n",
              "      <td>1.4</td>\n",
              "      <td>0.2</td>\n",
              "      <td>s</td>\n",
              "    </tr>\n",
              "    <tr>\n",
              "      <th>1</th>\n",
              "      <td>4.9</td>\n",
              "      <td>3.0</td>\n",
              "      <td>1.4</td>\n",
              "      <td>0.2</td>\n",
              "      <td>s</td>\n",
              "    </tr>\n",
              "    <tr>\n",
              "      <th>2</th>\n",
              "      <td>4.7</td>\n",
              "      <td>3.2</td>\n",
              "      <td>1.3</td>\n",
              "      <td>0.2</td>\n",
              "      <td>s</td>\n",
              "    </tr>\n",
              "    <tr>\n",
              "      <th>3</th>\n",
              "      <td>4.6</td>\n",
              "      <td>3.1</td>\n",
              "      <td>1.5</td>\n",
              "      <td>0.2</td>\n",
              "      <td>s</td>\n",
              "    </tr>\n",
              "    <tr>\n",
              "      <th>4</th>\n",
              "      <td>5.0</td>\n",
              "      <td>3.6</td>\n",
              "      <td>1.4</td>\n",
              "      <td>0.2</td>\n",
              "      <td>s</td>\n",
              "    </tr>\n",
              "  </tbody>\n",
              "</table>\n",
              "</div>\n",
              "      <button class=\"colab-df-convert\" onclick=\"convertToInteractive('df-17947fea-fe9b-4c81-8ae6-5be4e225e998')\"\n",
              "              title=\"Convert this dataframe to an interactive table.\"\n",
              "              style=\"display:none;\">\n",
              "        \n",
              "  <svg xmlns=\"http://www.w3.org/2000/svg\" height=\"24px\"viewBox=\"0 0 24 24\"\n",
              "       width=\"24px\">\n",
              "    <path d=\"M0 0h24v24H0V0z\" fill=\"none\"/>\n",
              "    <path d=\"M18.56 5.44l.94 2.06.94-2.06 2.06-.94-2.06-.94-.94-2.06-.94 2.06-2.06.94zm-11 1L8.5 8.5l.94-2.06 2.06-.94-2.06-.94L8.5 2.5l-.94 2.06-2.06.94zm10 10l.94 2.06.94-2.06 2.06-.94-2.06-.94-.94-2.06-.94 2.06-2.06.94z\"/><path d=\"M17.41 7.96l-1.37-1.37c-.4-.4-.92-.59-1.43-.59-.52 0-1.04.2-1.43.59L10.3 9.45l-7.72 7.72c-.78.78-.78 2.05 0 2.83L4 21.41c.39.39.9.59 1.41.59.51 0 1.02-.2 1.41-.59l7.78-7.78 2.81-2.81c.8-.78.8-2.07 0-2.86zM5.41 20L4 18.59l7.72-7.72 1.47 1.35L5.41 20z\"/>\n",
              "  </svg>\n",
              "      </button>\n",
              "      \n",
              "  <style>\n",
              "    .colab-df-container {\n",
              "      display:flex;\n",
              "      flex-wrap:wrap;\n",
              "      gap: 12px;\n",
              "    }\n",
              "\n",
              "    .colab-df-convert {\n",
              "      background-color: #E8F0FE;\n",
              "      border: none;\n",
              "      border-radius: 50%;\n",
              "      cursor: pointer;\n",
              "      display: none;\n",
              "      fill: #1967D2;\n",
              "      height: 32px;\n",
              "      padding: 0 0 0 0;\n",
              "      width: 32px;\n",
              "    }\n",
              "\n",
              "    .colab-df-convert:hover {\n",
              "      background-color: #E2EBFA;\n",
              "      box-shadow: 0px 1px 2px rgba(60, 64, 67, 0.3), 0px 1px 3px 1px rgba(60, 64, 67, 0.15);\n",
              "      fill: #174EA6;\n",
              "    }\n",
              "\n",
              "    [theme=dark] .colab-df-convert {\n",
              "      background-color: #3B4455;\n",
              "      fill: #D2E3FC;\n",
              "    }\n",
              "\n",
              "    [theme=dark] .colab-df-convert:hover {\n",
              "      background-color: #434B5C;\n",
              "      box-shadow: 0px 1px 3px 1px rgba(0, 0, 0, 0.15);\n",
              "      filter: drop-shadow(0px 1px 2px rgba(0, 0, 0, 0.3));\n",
              "      fill: #FFFFFF;\n",
              "    }\n",
              "  </style>\n",
              "\n",
              "      <script>\n",
              "        const buttonEl =\n",
              "          document.querySelector('#df-17947fea-fe9b-4c81-8ae6-5be4e225e998 button.colab-df-convert');\n",
              "        buttonEl.style.display =\n",
              "          google.colab.kernel.accessAllowed ? 'block' : 'none';\n",
              "\n",
              "        async function convertToInteractive(key) {\n",
              "          const element = document.querySelector('#df-17947fea-fe9b-4c81-8ae6-5be4e225e998');\n",
              "          const dataTable =\n",
              "            await google.colab.kernel.invokeFunction('convertToInteractive',\n",
              "                                                     [key], {});\n",
              "          if (!dataTable) return;\n",
              "\n",
              "          const docLinkHtml = 'Like what you see? Visit the ' +\n",
              "            '<a target=\"_blank\" href=https://colab.research.google.com/notebooks/data_table.ipynb>data table notebook</a>'\n",
              "            + ' to learn more about interactive tables.';\n",
              "          element.innerHTML = '';\n",
              "          dataTable['output_type'] = 'display_data';\n",
              "          await google.colab.output.renderOutput(dataTable, element);\n",
              "          const docLink = document.createElement('div');\n",
              "          docLink.innerHTML = docLinkHtml;\n",
              "          element.appendChild(docLink);\n",
              "        }\n",
              "      </script>\n",
              "    </div>\n",
              "  </div>\n",
              "  "
            ]
          },
          "metadata": {},
          "execution_count": 4
        }
      ],
      "source": [
        "import numpy as np\n",
        "import pandas as pd\n",
        "\n",
        "size = len(irysy.data)\n",
        "\n",
        "sp = np.array([\"s\", \"c\", \"v\"])\n",
        "species = sp[irysy.target]\n",
        "print(irysy.target)\n",
        "\n",
        "print(irysy.feature_names[:])\n",
        "column_names = ['sl', 'sw', 'pl', 'pw']\n",
        "df = pd.DataFrame(irysy.data, columns = column_names, copy = True)\n",
        "df['Spec'] = species\n",
        "df.head()"
      ]
    },
    {
      "cell_type": "code",
      "execution_count": 5,
      "id": "narrow-coaching",
      "metadata": {
        "id": "narrow-coaching"
      },
      "outputs": [],
      "source": [
        "seto = df[df['Spec'] == \"s\"]\n",
        "ver = df[df['Spec'] == \"c\"]\n",
        "vir = df[df['Spec'] == \"v\"]"
      ]
    },
    {
      "cell_type": "code",
      "execution_count": 6,
      "id": "powerful-pontiac",
      "metadata": {
        "id": "powerful-pontiac",
        "outputId": "3b4784ae-1908-4ab2-92b4-a51ed7ab499d",
        "colab": {
          "base_uri": "https://localhost:8080/",
          "height": 296
        }
      },
      "outputs": [
        {
          "output_type": "display_data",
          "data": {
            "text/plain": [
              "<Figure size 432x288 with 1 Axes>"
            ],
            "image/png": "[encoded data removed]"
          },
          "metadata": {
            "needs_background": "light"
          }
        }
      ],
      "source": [
        "%matplotlib inline\n",
        "import matplotlib.pyplot as pplot\n",
        "\n",
        "pplot.figure()\n",
        "pplot.title(\"Długość i szerokość działki kielicha\")\n",
        "pplot.xlabel(\"Długość\")\n",
        "pplot.ylabel(\"Szerokość\")\n",
        "pplot.plot(seto['sl'], seto['sw'], \"r.\" )\n",
        "pplot.plot(ver['sl'], ver['sw'], \"g.\")\n",
        "pplot.plot(vir['sl'], vir['sw'], \"b.\")\n",
        "\n",
        "pplot.grid(True)\n",
        "pplot.show()"
      ]
    },
    {
      "cell_type": "markdown",
      "id": "insured-serum",
      "metadata": {
        "id": "insured-serum"
      },
      "source": [
        "#### Pytanie:\n",
        "Czy można narysować wykres całej ramki danych jedną instrukcją - wybierając kolor na podstawie wartości atrybutu \"Spec\"?"
      ]
    },
    {
      "cell_type": "code",
      "execution_count": 7,
      "id": "controlled-diagnosis",
      "metadata": {
        "id": "controlled-diagnosis",
        "outputId": "2d34a472-e3fc-4456-c52c-8e5b7b34e22f",
        "colab": {
          "base_uri": "https://localhost:8080/",
          "height": 630
        }
      },
      "outputs": [
        {
          "output_type": "stream",
          "name": "stdout",
          "text": [
            "['r.', 'r.', 'r.', 'r.', 'r.', 'r.', 'r.', 'r.', 'r.', 'r.', 'r.', 'r.', 'r.', 'r.', 'r.', 'r.', 'r.', 'r.', 'r.', 'r.', 'r.', 'r.', 'r.', 'r.', 'r.', 'r.', 'r.', 'r.', 'r.', 'r.', 'r.', 'r.', 'r.', 'r.', 'r.', 'r.', 'r.', 'r.', 'r.', 'r.', 'r.', 'r.', 'r.', 'r.', 'r.', 'r.', 'r.', 'r.', 'r.', 'r.', 'g.', 'g.', 'g.', 'g.', 'g.', 'g.', 'g.', 'g.', 'g.', 'g.', 'g.', 'g.', 'g.', 'g.', 'g.', 'g.', 'g.', 'g.', 'g.', 'g.', 'g.', 'g.', 'g.', 'g.', 'g.', 'g.', 'g.', 'g.', 'g.', 'g.', 'g.', 'g.', 'g.', 'g.', 'g.', 'g.', 'g.', 'g.', 'g.', 'g.', 'g.', 'g.', 'g.', 'g.', 'g.', 'g.', 'g.', 'g.', 'g.', 'g.', 'b.', 'b.', 'b.', 'b.', 'b.', 'b.', 'b.', 'b.', 'b.', 'b.', 'b.', 'b.', 'b.', 'b.', 'b.', 'b.', 'b.', 'b.', 'b.', 'b.', 'b.', 'b.', 'b.', 'b.', 'b.', 'b.', 'b.', 'b.', 'b.', 'b.', 'b.', 'b.', 'b.', 'b.', 'b.', 'b.', 'b.', 'b.', 'b.', 'b.', 'b.', 'b.', 'b.', 'b.', 'b.', 'b.', 'b.', 'b.', 'b.', 'b.']\n"
          ]
        },
        {
          "output_type": "display_data",
          "data": {
            "text/plain": [
              "<Figure size 432x288 with 1 Axes>"
            ],
            "image/png": "[encoded data removed]"
          },
          "metadata": {
            "needs_background": "light"
          }
        },
        {
          "output_type": "stream",
          "name": "stdout",
          "text": [
            "['r', 'r', 'r', 'r', 'r', 'r', 'r', 'r', 'r', 'r', 'r', 'r', 'r', 'r', 'r', 'r', 'r', 'r', 'r', 'r', 'r', 'r', 'r', 'r', 'r', 'r', 'r', 'r', 'r', 'r', 'r', 'r', 'r', 'r', 'r', 'r', 'r', 'r', 'r', 'r', 'r', 'r', 'r', 'r', 'r', 'r', 'r', 'r', 'r', 'r', 'g', 'g', 'g', 'g', 'g', 'g', 'g', 'g', 'g', 'g', 'g', 'g', 'g', 'g', 'g', 'g', 'g', 'g', 'g', 'g', 'g', 'g', 'g', 'g', 'g', 'g', 'g', 'g', 'g', 'g', 'g', 'g', 'g', 'g', 'g', 'g', 'g', 'g', 'g', 'g', 'g', 'g', 'g', 'g', 'g', 'g', 'g', 'g', 'g', 'g', 'b', 'b', 'b', 'b', 'b', 'b', 'b', 'b', 'b', 'b', 'b', 'b', 'b', 'b', 'b', 'b', 'b', 'b', 'b', 'b', 'b', 'b', 'b', 'b', 'b', 'b', 'b', 'b', 'b', 'b', 'b', 'b', 'b', 'b', 'b', 'b', 'b', 'b', 'b', 'b', 'b', 'b', 'b', 'b', 'b', 'b', 'b', 'b', 'b', 'b']\n"
          ]
        },
        {
          "output_type": "display_data",
          "data": {
            "text/plain": [
              "<Figure size 432x288 with 1 Axes>"
            ],
            "image/png": "[encoded data removed]"
          },
          "metadata": {
            "needs_background": "light"
          }
        }
      ],
      "source": [
        "%matplotlib inline\n",
        "\n",
        "pplot.figure()\n",
        "pplot.title(\"Długość i szerokość działki kielicha\")\n",
        "pplot.xlabel(\"Długość\")\n",
        "pplot.ylabel(\"Szerokość\")\n",
        "\n",
        "colorm = {'s': \"r.\", 'c': \"g.\", 'v': \"b.\"}\n",
        "print([colorm[x] for x in df['Spec']])\n",
        "pplot.plot(df['sl'], df['sw'], [colorm[x] for x in df['Spec']] )\n",
        "\n",
        "pplot.grid(True)\n",
        "pplot.show()\n",
        "#coś nie wyszło tak, jak trzeba\n",
        "\n",
        "pplot.figure()\n",
        "pplot.title(\"Długość i szerokość działki kielicha\")\n",
        "pplot.xlabel(\"Długość\")\n",
        "pplot.ylabel(\"Szerokość\")\n",
        "\n",
        "colorm = {'s': \"r\", 'c': \"g\", 'v': \"b\"}\n",
        "print([colorm[x] for x in df['Spec']])\n",
        "pplot.scatter(df['sl'], df['sw'], c=[colorm[x] for x in df['Spec']] )\n",
        "\n",
        "pplot.grid(True)\n",
        "pplot.show()\n"
      ]
    },
    {
      "cell_type": "markdown",
      "id": "patient-surgery",
      "metadata": {
        "id": "patient-surgery"
      },
      "source": [
        "## Jak gatunek wpływa na rozmiary działki kielicha?\n",
        "\n",
        "Na początek pogrupowane statystyki."
      ]
    },
    {
      "cell_type": "code",
      "execution_count": 8,
      "id": "prime-happening",
      "metadata": {
        "id": "prime-happening",
        "outputId": "868d2394-4efb-4c84-9b38-3d6922ef3fe1",
        "colab": {
          "base_uri": "https://localhost:8080/",
          "height": 294
        }
      },
      "outputs": [
        {
          "output_type": "stream",
          "name": "stdout",
          "text": [
            "  Spec     sl                         sw                    \n",
            "         mean       var       std   mean       var       std\n",
            "0    c  5.936  0.266433  0.516171  2.770  0.098469  0.313798\n",
            "1    s  5.006  0.124249  0.352490  3.428  0.143690  0.379064\n",
            "2    v  6.588  0.404343  0.635880  2.974  0.104004  0.322497\n"
          ]
        },
        {
          "output_type": "execute_result",
          "data": {
            "text/plain": [
              "         sl                         sw                         pl            \\\n",
              "       mean       var       std   mean       var       std   mean       var   \n",
              "Spec                                                                          \n",
              "c     5.936  0.266433  0.516171  2.770  0.098469  0.313798  4.260  0.220816   \n",
              "s     5.006  0.124249  0.352490  3.428  0.143690  0.379064  1.462  0.030159   \n",
              "v     6.588  0.404343  0.635880  2.974  0.104004  0.322497  5.552  0.304588   \n",
              "\n",
              "                   pw                      \n",
              "           std   mean       var       std  \n",
              "Spec                                       \n",
              "c     0.469911  1.326  0.039106  0.197753  \n",
              "s     0.173664  0.246  0.011106  0.105386  \n",
              "v     0.551895  2.026  0.075433  0.274650  "
            ],
            "text/html": [
              "\n",
              "  <div id=\"df-51cfde16-357e-424f-b6d7-3f35e54fb097\">\n",
              "    <div class=\"colab-df-container\">\n",
              "      <div>\n",
              "<style scoped>\n",
              "    .dataframe tbody tr th:only-of-type {\n",
              "        vertical-align: middle;\n",
              "    }\n",
              "\n",
              "    .dataframe tbody tr th {\n",
              "        vertical-align: top;\n",
              "    }\n",
              "\n",
              "    .dataframe thead tr th {\n",
              "        text-align: left;\n",
              "    }\n",
              "\n",
              "    .dataframe thead tr:last-of-type th {\n",
              "        text-align: right;\n",
              "    }\n",
              "</style>\n",
              "<table border=\"1\" class=\"dataframe\">\n",
              "  <thead>\n",
              "    <tr>\n",
              "      <th></th>\n",
              "      <th colspan=\"3\" halign=\"left\">sl</th>\n",
              "      <th colspan=\"3\" halign=\"left\">sw</th>\n",
              "      <th colspan=\"3\" halign=\"left\">pl</th>\n",
              "      <th colspan=\"3\" halign=\"left\">pw</th>\n",
              "    </tr>\n",
              "    <tr>\n",
              "      <th></th>\n",
              "      <th>mean</th>\n",
              "      <th>var</th>\n",
              "      <th>std</th>\n",
              "      <th>mean</th>\n",
              "      <th>var</th>\n",
              "      <th>std</th>\n",
              "      <th>mean</th>\n",
              "      <th>var</th>\n",
              "      <th>std</th>\n",
              "      <th>mean</th>\n",
              "      <th>var</th>\n",
              "      <th>std</th>\n",
              "    </tr>\n",
              "    <tr>\n",
              "      <th>Spec</th>\n",
              "      <th></th>\n",
              "      <th></th>\n",
              "      <th></th>\n",
              "      <th></th>\n",
              "      <th></th>\n",
              "      <th></th>\n",
              "      <th></th>\n",
              "      <th></th>\n",
              "      <th></th>\n",
              "      <th></th>\n",
              "      <th></th>\n",
              "      <th></th>\n",
              "    </tr>\n",
              "  </thead>\n",
              "  <tbody>\n",
              "    <tr>\n",
              "      <th>c</th>\n",
              "      <td>5.936</td>\n",
              "      <td>0.266433</td>\n",
              "      <td>0.516171</td>\n",
              "      <td>2.770</td>\n",
              "      <td>0.098469</td>\n",
              "      <td>0.313798</td>\n",
              "      <td>4.260</td>\n",
              "      <td>0.220816</td>\n",
              "      <td>0.469911</td>\n",
              "      <td>1.326</td>\n",
              "      <td>0.039106</td>\n",
              "      <td>0.197753</td>\n",
              "    </tr>\n",
              "    <tr>\n",
              "      <th>s</th>\n",
              "      <td>5.006</td>\n",
              "      <td>0.124249</td>\n",
              "      <td>0.352490</td>\n",
              "      <td>3.428</td>\n",
              "      <td>0.143690</td>\n",
              "      <td>0.379064</td>\n",
              "      <td>1.462</td>\n",
              "      <td>0.030159</td>\n",
              "      <td>0.173664</td>\n",
              "      <td>0.246</td>\n",
              "      <td>0.011106</td>\n",
              "      <td>0.105386</td>\n",
              "    </tr>\n",
              "    <tr>\n",
              "      <th>v</th>\n",
              "      <td>6.588</td>\n",
              "      <td>0.404343</td>\n",
              "      <td>0.635880</td>\n",
              "      <td>2.974</td>\n",
              "      <td>0.104004</td>\n",
              "      <td>0.322497</td>\n",
              "      <td>5.552</td>\n",
              "      <td>0.304588</td>\n",
              "      <td>0.551895</td>\n",
              "      <td>2.026</td>\n",
              "      <td>0.075433</td>\n",
              "      <td>0.274650</td>\n",
              "    </tr>\n",
              "  </tbody>\n",
              "</table>\n",
              "</div>\n",
              "      <button class=\"colab-df-convert\" onclick=\"convertToInteractive('df-51cfde16-357e-424f-b6d7-3f35e54fb097')\"\n",
              "              title=\"Convert this dataframe to an interactive table.\"\n",
              "              style=\"display:none;\">\n",
              "        \n",
              "  <svg xmlns=\"http://www.w3.org/2000/svg\" height=\"24px\"viewBox=\"0 0 24 24\"\n",
              "       width=\"24px\">\n",
              "    <path d=\"M0 0h24v24H0V0z\" fill=\"none\"/>\n",
              "    <path d=\"M18.56 5.44l.94 2.06.94-2.06 2.06-.94-2.06-.94-.94-2.06-.94 2.06-2.06.94zm-11 1L8.5 8.5l.94-2.06 2.06-.94-2.06-.94L8.5 2.5l-.94 2.06-2.06.94zm10 10l.94 2.06.94-2.06 2.06-.94-2.06-.94-.94-2.06-.94 2.06-2.06.94z\"/><path d=\"M17.41 7.96l-1.37-1.37c-.4-.4-.92-.59-1.43-.59-.52 0-1.04.2-1.43.59L10.3 9.45l-7.72 7.72c-.78.78-.78 2.05 0 2.83L4 21.41c.39.39.9.59 1.41.59.51 0 1.02-.2 1.41-.59l7.78-7.78 2.81-2.81c.8-.78.8-2.07 0-2.86zM5.41 20L4 18.59l7.72-7.72 1.47 1.35L5.41 20z\"/>\n",
              "  </svg>\n",
              "      </button>\n",
              "      \n",
              "  <style>\n",
              "    .colab-df-container {\n",
              "      display:flex;\n",
              "      flex-wrap:wrap;\n",
              "      gap: 12px;\n",
              "    }\n",
              "\n",
              "    .colab-df-convert {\n",
              "      background-color: #E8F0FE;\n",
              "      border: none;\n",
              "      border-radius: 50%;\n",
              "      cursor: pointer;\n",
              "      display: none;\n",
              "      fill: #1967D2;\n",
              "      height: 32px;\n",
              "      padding: 0 0 0 0;\n",
              "      width: 32px;\n",
              "    }\n",
              "\n",
              "    .colab-df-convert:hover {\n",
              "      background-color: #E2EBFA;\n",
              "      box-shadow: 0px 1px 2px rgba(60, 64, 67, 0.3), 0px 1px 3px 1px rgba(60, 64, 67, 0.15);\n",
              "      fill: #174EA6;\n",
              "    }\n",
              "\n",
              "    [theme=dark] .colab-df-convert {\n",
              "      background-color: #3B4455;\n",
              "      fill: #D2E3FC;\n",
              "    }\n",
              "\n",
              "    [theme=dark] .colab-df-convert:hover {\n",
              "      background-color: #434B5C;\n",
              "      box-shadow: 0px 1px 3px 1px rgba(0, 0, 0, 0.15);\n",
              "      filter: drop-shadow(0px 1px 2px rgba(0, 0, 0, 0.3));\n",
              "      fill: #FFFFFF;\n",
              "    }\n",
              "  </style>\n",
              "\n",
              "      <script>\n",
              "        const buttonEl =\n",
              "          document.querySelector('#df-51cfde16-357e-424f-b6d7-3f35e54fb097 button.colab-df-convert');\n",
              "        buttonEl.style.display =\n",
              "          google.colab.kernel.accessAllowed ? 'block' : 'none';\n",
              "\n",
              "        async function convertToInteractive(key) {\n",
              "          const element = document.querySelector('#df-51cfde16-357e-424f-b6d7-3f35e54fb097');\n",
              "          const dataTable =\n",
              "            await google.colab.kernel.invokeFunction('convertToInteractive',\n",
              "                                                     [key], {});\n",
              "          if (!dataTable) return;\n",
              "\n",
              "          const docLinkHtml = 'Like what you see? Visit the ' +\n",
              "            '<a target=\"_blank\" href=https://colab.research.google.com/notebooks/data_table.ipynb>data table notebook</a>'\n",
              "            + ' to learn more about interactive tables.';\n",
              "          element.innerHTML = '';\n",
              "          dataTable['output_type'] = 'display_data';\n",
              "          await google.colab.output.renderOutput(dataTable, element);\n",
              "          const docLink = document.createElement('div');\n",
              "          docLink.innerHTML = docLinkHtml;\n",
              "          element.appendChild(docLink);\n",
              "        }\n",
              "      </script>\n",
              "    </div>\n",
              "  </div>\n",
              "  "
            ]
          },
          "metadata": {},
          "execution_count": 8
        }
      ],
      "source": [
        "wyniki = df.groupby(['Spec'], as_index=False).agg({'sl':['mean', 'var', 'std'], \n",
        "                                                   'sw':['mean', 'var', 'std']})\n",
        "print(wyniki)\n",
        "# alternatywnie\n",
        "df.groupby(['Spec'], as_index=False).agg(['mean', 'var', 'std'])"
      ]
    },
    {
      "cell_type": "markdown",
      "id": "distant-manufacturer",
      "metadata": {
        "id": "distant-manufacturer"
      },
      "source": [
        "Ciekawe, że *pandas* też umie niektóre wykresy narysować. Na poniższym oczywiście mediana, kwartyle i wartości nie- i odstające."
      ]
    },
    {
      "cell_type": "code",
      "execution_count": 9,
      "id": "polish-philadelphia",
      "metadata": {
        "id": "polish-philadelphia",
        "outputId": "f40edaeb-5517-4a96-c06e-713ca25fec46",
        "colab": {
          "base_uri": "https://localhost:8080/",
          "height": 603
        }
      },
      "outputs": [
        {
          "output_type": "execute_result",
          "data": {
            "text/plain": [
              "<matplotlib.axes._subplots.AxesSubplot at 0x7f341c787290>"
            ]
          },
          "metadata": {},
          "execution_count": 9
        },
        {
          "output_type": "display_data",
          "data": {
            "text/plain": [
              "<Figure size 432x288 with 1 Axes>"
            ],
            "image/png": "[encoded data removed]"
          },
          "metadata": {
            "needs_background": "light"
          }
        },
        {
          "output_type": "display_data",
          "data": {
            "text/plain": [
              "<Figure size 432x288 with 1 Axes>"
            ],
            "image/png": "[encoded data removed]"
          },
          "metadata": {
            "needs_background": "light"
          }
        }
      ],
      "source": [
        "%matplotlib inline\n",
        "df.boxplot('sl', 'Spec')\n",
        "df.boxplot('sw', 'Spec')"
      ]
    },
    {
      "cell_type": "markdown",
      "id": "alien-campaign",
      "metadata": {
        "id": "alien-campaign"
      },
      "source": [
        "### Czy różnice są istotne statystycznie?\n",
        "\n",
        "Spróbujemy *analizy wariancji* z pakiety *scipy*.\n",
        "\n",
        "Najpierw kwestia założeń: normalność próby i jednorodność wariancji."
      ]
    },
    {
      "cell_type": "code",
      "execution_count": 10,
      "id": "lucky-projection",
      "metadata": {
        "id": "lucky-projection",
        "outputId": "0793c18e-5881-4fa4-9089-e44ddfda4241",
        "colab": {
          "base_uri": "https://localhost:8080/",
          "height": 561
        }
      },
      "outputs": [
        {
          "output_type": "execute_result",
          "data": {
            "text/plain": [
              "((array([-2.20385432, -1.83293478, -1.61402323, -1.45296849, -1.32267759,\n",
              "         -1.21163342, -1.113805  , -1.02561527, -0.94475674, -0.86964726,\n",
              "         -0.79915021, -0.73241807, -0.66879925, -0.6077796 , -0.54894415,\n",
              "         -0.49195112, -0.43651377, -0.38238727, -0.32935914, -0.27724191,\n",
              "         -0.2258675 , -0.17508277, -0.12474591, -0.07472335, -0.02488719,\n",
              "          0.02488719,  0.07472335,  0.12474591,  0.17508277,  0.2258675 ,\n",
              "          0.27724191,  0.32935914,  0.38238727,  0.43651377,  0.49195112,\n",
              "          0.54894415,  0.6077796 ,  0.66879925,  0.73241807,  0.79915021,\n",
              "          0.86964726,  0.94475674,  1.02561527,  1.113805  ,  1.21163342,\n",
              "          1.32267759,  1.45296849,  1.61402323,  1.83293478,  2.20385432]),\n",
              "  array([2.3, 2.9, 3. , 3. , 3. , 3. , 3. , 3. , 3.1, 3.1, 3.1, 3.1, 3.2,\n",
              "         3.2, 3.2, 3.2, 3.2, 3.3, 3.3, 3.4, 3.4, 3.4, 3.4, 3.4, 3.4, 3.4,\n",
              "         3.4, 3.4, 3.5, 3.5, 3.5, 3.5, 3.5, 3.5, 3.6, 3.6, 3.6, 3.7, 3.7,\n",
              "         3.7, 3.8, 3.8, 3.8, 3.8, 3.9, 3.9, 4. , 4.1, 4.2, 4.4])),\n",
              " (0.3818059296462584, 3.428, 0.9812499850910298))"
            ]
          },
          "metadata": {},
          "execution_count": 10
        },
        {
          "output_type": "display_data",
          "data": {
            "text/plain": [
              "<Figure size 432x288 with 1 Axes>"
            ],
            "image/png": "[encoded data removed]"
          },
          "metadata": {
            "needs_background": "light"
          }
        }
      ],
      "source": [
        "%matplotlib inline\n",
        "import scipy.stats as stats\n",
        "\n",
        "#wykres normalności - wypisuję wyniki\n",
        "stats.probplot(seto['sw'], plot = pplot)"
      ]
    },
    {
      "cell_type": "code",
      "execution_count": 11,
      "id": "funky-reminder",
      "metadata": {
        "id": "funky-reminder",
        "outputId": "f9efbf1f-ee35-475b-ece4-977697e73bd9",
        "colab": {
          "base_uri": "https://localhost:8080/"
        }
      },
      "outputs": [
        {
          "output_type": "stream",
          "name": "stdout",
          "text": [
            "W= 0.97171950340271 p-value= 0.2715264856815338\n",
            "W= 0.9741330742835999 p-value= 0.33798879384994507\n",
            "W= 0.9673910140991211 p-value= 0.1809043288230896\n"
          ]
        }
      ],
      "source": [
        "#testy normalności\n",
        "\n",
        "W, p_value=stats.shapiro(seto['sw'])\n",
        "print(\"W=\",W,\"p-value=\",p_value)\n",
        "W, p_value=stats.shapiro(ver['sw'])\n",
        "print(\"W=\",W,\"p-value=\",p_value)\n",
        "W, p_value=stats.shapiro(vir['sw'])\n",
        "print(\"W=\",W,\"p-value=\",p_value)\n"
      ]
    },
    {
      "cell_type": "markdown",
      "id": "concerned-bedroom",
      "metadata": {
        "id": "concerned-bedroom"
      },
      "source": [
        "**Pytanie**: Czy da się i jak zrobić to zbiorczo? Może przez *groupby*?\n"
      ]
    },
    {
      "cell_type": "code",
      "execution_count": 12,
      "id": "square-financing",
      "metadata": {
        "id": "square-financing",
        "outputId": "6dcb03bc-8326-4d08-a5ac-d7c1c95d1e89",
        "colab": {
          "base_uri": "https://localhost:8080/",
          "height": 232
        }
      },
      "outputs": [
        {
          "output_type": "stream",
          "name": "stdout",
          "text": [
            "  Spec        sw\n",
            "           shapi\n",
            "0    c  0.337989\n",
            "1    s  0.271526\n",
            "2    v  0.180904\n"
          ]
        },
        {
          "output_type": "execute_result",
          "data": {
            "text/plain": [
              "  Spec        sl        sw        pl            pw\n",
              "0    c  0.464733  0.337989  0.158483  2.727822e-02\n",
              "1    s  0.459528  0.271526  0.054810  8.658421e-07\n",
              "2    v  0.258325  0.180904  0.109774  8.695745e-02"
            ],
            "text/html": [
              "\n",
              "  <div id=\"df-d2632cb2-001a-408d-a98d-403fd047b9bd\">\n",
              "    <div class=\"colab-df-container\">\n",
              "      <div>\n",
              "<style scoped>\n",
              "    .dataframe tbody tr th:only-of-type {\n",
              "        vertical-align: middle;\n",
              "    }\n",
              "\n",
              "    .dataframe tbody tr th {\n",
              "        vertical-align: top;\n",
              "    }\n",
              "\n",
              "    .dataframe thead th {\n",
              "        text-align: right;\n",
              "    }\n",
              "</style>\n",
              "<table border=\"1\" class=\"dataframe\">\n",
              "  <thead>\n",
              "    <tr style=\"text-align: right;\">\n",
              "      <th></th>\n",
              "      <th>Spec</th>\n",
              "      <th>sl</th>\n",
              "      <th>sw</th>\n",
              "      <th>pl</th>\n",
              "      <th>pw</th>\n",
              "    </tr>\n",
              "  </thead>\n",
              "  <tbody>\n",
              "    <tr>\n",
              "      <th>0</th>\n",
              "      <td>c</td>\n",
              "      <td>0.464733</td>\n",
              "      <td>0.337989</td>\n",
              "      <td>0.158483</td>\n",
              "      <td>2.727822e-02</td>\n",
              "    </tr>\n",
              "    <tr>\n",
              "      <th>1</th>\n",
              "      <td>s</td>\n",
              "      <td>0.459528</td>\n",
              "      <td>0.271526</td>\n",
              "      <td>0.054810</td>\n",
              "      <td>8.658421e-07</td>\n",
              "    </tr>\n",
              "    <tr>\n",
              "      <th>2</th>\n",
              "      <td>v</td>\n",
              "      <td>0.258325</td>\n",
              "      <td>0.180904</td>\n",
              "      <td>0.109774</td>\n",
              "      <td>8.695745e-02</td>\n",
              "    </tr>\n",
              "  </tbody>\n",
              "</table>\n",
              "</div>\n",
              "      <button class=\"colab-df-convert\" onclick=\"convertToInteractive('df-d2632cb2-001a-408d-a98d-403fd047b9bd')\"\n",
              "              title=\"Convert this dataframe to an interactive table.\"\n",
              "              style=\"display:none;\">\n",
              "        \n",
              "  <svg xmlns=\"http://www.w3.org/2000/svg\" height=\"24px\"viewBox=\"0 0 24 24\"\n",
              "       width=\"24px\">\n",
              "    <path d=\"M0 0h24v24H0V0z\" fill=\"none\"/>\n",
              "    <path d=\"M18.56 5.44l.94 2.06.94-2.06 2.06-.94-2.06-.94-.94-2.06-.94 2.06-2.06.94zm-11 1L8.5 8.5l.94-2.06 2.06-.94-2.06-.94L8.5 2.5l-.94 2.06-2.06.94zm10 10l.94 2.06.94-2.06 2.06-.94-2.06-.94-.94-2.06-.94 2.06-2.06.94z\"/><path d=\"M17.41 7.96l-1.37-1.37c-.4-.4-.92-.59-1.43-.59-.52 0-1.04.2-1.43.59L10.3 9.45l-7.72 7.72c-.78.78-.78 2.05 0 2.83L4 21.41c.39.39.9.59 1.41.59.51 0 1.02-.2 1.41-.59l7.78-7.78 2.81-2.81c.8-.78.8-2.07 0-2.86zM5.41 20L4 18.59l7.72-7.72 1.47 1.35L5.41 20z\"/>\n",
              "  </svg>\n",
              "      </button>\n",
              "      \n",
              "  <style>\n",
              "    .colab-df-container {\n",
              "      display:flex;\n",
              "      flex-wrap:wrap;\n",
              "      gap: 12px;\n",
              "    }\n",
              "\n",
              "    .colab-df-convert {\n",
              "      background-color: #E8F0FE;\n",
              "      border: none;\n",
              "      border-radius: 50%;\n",
              "      cursor: pointer;\n",
              "      display: none;\n",
              "      fill: #1967D2;\n",
              "      height: 32px;\n",
              "      padding: 0 0 0 0;\n",
              "      width: 32px;\n",
              "    }\n",
              "\n",
              "    .colab-df-convert:hover {\n",
              "      background-color: #E2EBFA;\n",
              "      box-shadow: 0px 1px 2px rgba(60, 64, 67, 0.3), 0px 1px 3px 1px rgba(60, 64, 67, 0.15);\n",
              "      fill: #174EA6;\n",
              "    }\n",
              "\n",
              "    [theme=dark] .colab-df-convert {\n",
              "      background-color: #3B4455;\n",
              "      fill: #D2E3FC;\n",
              "    }\n",
              "\n",
              "    [theme=dark] .colab-df-convert:hover {\n",
              "      background-color: #434B5C;\n",
              "      box-shadow: 0px 1px 3px 1px rgba(0, 0, 0, 0.15);\n",
              "      filter: drop-shadow(0px 1px 2px rgba(0, 0, 0, 0.3));\n",
              "      fill: #FFFFFF;\n",
              "    }\n",
              "  </style>\n",
              "\n",
              "      <script>\n",
              "        const buttonEl =\n",
              "          document.querySelector('#df-d2632cb2-001a-408d-a98d-403fd047b9bd button.colab-df-convert');\n",
              "        buttonEl.style.display =\n",
              "          google.colab.kernel.accessAllowed ? 'block' : 'none';\n",
              "\n",
              "        async function convertToInteractive(key) {\n",
              "          const element = document.querySelector('#df-d2632cb2-001a-408d-a98d-403fd047b9bd');\n",
              "          const dataTable =\n",
              "            await google.colab.kernel.invokeFunction('convertToInteractive',\n",
              "                                                     [key], {});\n",
              "          if (!dataTable) return;\n",
              "\n",
              "          const docLinkHtml = 'Like what you see? Visit the ' +\n",
              "            '<a target=\"_blank\" href=https://colab.research.google.com/notebooks/data_table.ipynb>data table notebook</a>'\n",
              "            + ' to learn more about interactive tables.';\n",
              "          element.innerHTML = '';\n",
              "          dataTable['output_type'] = 'display_data';\n",
              "          await google.colab.output.renderOutput(dataTable, element);\n",
              "          const docLink = document.createElement('div');\n",
              "          docLink.innerHTML = docLinkHtml;\n",
              "          element.appendChild(docLink);\n",
              "        }\n",
              "      </script>\n",
              "    </div>\n",
              "  </div>\n",
              "  "
            ]
          },
          "metadata": {},
          "execution_count": 12
        }
      ],
      "source": [
        "def shapi(x):\n",
        "    W, p_value = stats.shapiro(x)\n",
        "    return p_value\n",
        "\n",
        "print(df.groupby(['Spec'], as_index=False).agg({'sw': [shapi]}))\n",
        "df.groupby(['Spec'], as_index=False).agg(shapi)"
      ]
    },
    {
      "cell_type": "markdown",
      "id": "received-geology",
      "metadata": {
        "id": "received-geology"
      },
      "source": [
        "Teraz jednorodność wariancji. Na dwa sposoby."
      ]
    },
    {
      "cell_type": "code",
      "execution_count": 13,
      "id": "played-liquid",
      "metadata": {
        "id": "played-liquid",
        "outputId": "4f29ddcd-c6b4-4ca5-9894-708833ff2fb8",
        "colab": {
          "base_uri": "https://localhost:8080/"
        }
      },
      "outputs": [
        {
          "output_type": "stream",
          "name": "stdout",
          "text": [
            "W= 2.0910752014391774 p-value= 0.35150280041581317\n",
            "dict_keys(['c', 's', 'v'])\n",
            "W= 2.0910752014391774 p-value= 0.35150280041581317\n",
            "W= 0.5902115655853319 p-value= 0.5555178984739075\n"
          ]
        }
      ],
      "source": [
        "#najpierw prosty - już podzieliliśmy zbiór danych\n",
        "W, p_value = stats.bartlett(seto['sw'],ver['sw'], vir['sw'])\n",
        "print(\"W=\", W, \"p-value=\", p_value)\n",
        "\n",
        "# teraz podział przez group by\n",
        "gb = df.groupby('Spec')    \n",
        "listy = {x: gb.get_group(x)['sw'] for x in gb.groups}\n",
        "# ale tu nie umiem porządnie wykorzystać tego podziału\n",
        "print(listy.keys())\n",
        "W, p_value = stats.bartlett(listy['s'], listy['c'], listy['v'])\n",
        "print(\"W=\", W, \"p-value=\", p_value)\n",
        "\n",
        "# to samo z testem Levene'a\n",
        "W, p_value = stats.levene(seto['sw'],ver['sw'], vir['sw'])\n",
        "print(\"W=\", W, \"p-value=\", p_value)"
      ]
    },
    {
      "cell_type": "markdown",
      "id": "regional-communications",
      "metadata": {
        "id": "regional-communications"
      },
      "source": [
        "Widać pewne ograniczenia - więc skorzystamy z czegoś innego - pakiet *pingouin*."
      ]
    },
    {
      "cell_type": "code",
      "execution_count": 14,
      "id": "driven-bacteria",
      "metadata": {
        "id": "driven-bacteria",
        "outputId": "9cce609b-4b15-437d-a2c4-c680d20db629",
        "colab": {
          "base_uri": "https://localhost:8080/",
          "height": 116
        }
      },
      "outputs": [
        {
          "output_type": "stream",
          "name": "stdout",
          "text": [
            "               W      pval  equal_var\n",
            "levene  0.590212  0.555518       True\n"
          ]
        },
        {
          "output_type": "execute_result",
          "data": {
            "text/plain": [
              "                 T      pval  equal_var\n",
              "bartlett  2.091075  0.351503       True"
            ],
            "text/html": [
              "\n",
              "  <div id=\"df-2fe86cab-9e16-4b30-9ec7-d6909d82ccbb\">\n",
              "    <div class=\"colab-df-container\">\n",
              "      <div>\n",
              "<style scoped>\n",
              "    .dataframe tbody tr th:only-of-type {\n",
              "        vertical-align: middle;\n",
              "    }\n",
              "\n",
              "    .dataframe tbody tr th {\n",
              "        vertical-align: top;\n",
              "    }\n",
              "\n",
              "    .dataframe thead th {\n",
              "        text-align: right;\n",
              "    }\n",
              "</style>\n",
              "<table border=\"1\" class=\"dataframe\">\n",
              "  <thead>\n",
              "    <tr style=\"text-align: right;\">\n",
              "      <th></th>\n",
              "      <th>T</th>\n",
              "      <th>pval</th>\n",
              "      <th>equal_var</th>\n",
              "    </tr>\n",
              "  </thead>\n",
              "  <tbody>\n",
              "    <tr>\n",
              "      <th>bartlett</th>\n",
              "      <td>2.091075</td>\n",
              "      <td>0.351503</td>\n",
              "      <td>True</td>\n",
              "    </tr>\n",
              "  </tbody>\n",
              "</table>\n",
              "</div>\n",
              "      <button class=\"colab-df-convert\" onclick=\"convertToInteractive('df-2fe86cab-9e16-4b30-9ec7-d6909d82ccbb')\"\n",
              "              title=\"Convert this dataframe to an interactive table.\"\n",
              "              style=\"display:none;\">\n",
              "        \n",
              "  <svg xmlns=\"http://www.w3.org/2000/svg\" height=\"24px\"viewBox=\"0 0 24 24\"\n",
              "       width=\"24px\">\n",
              "    <path d=\"M0 0h24v24H0V0z\" fill=\"none\"/>\n",
              "    <path d=\"M18.56 5.44l.94 2.06.94-2.06 2.06-.94-2.06-.94-.94-2.06-.94 2.06-2.06.94zm-11 1L8.5 8.5l.94-2.06 2.06-.94-2.06-.94L8.5 2.5l-.94 2.06-2.06.94zm10 10l.94 2.06.94-2.06 2.06-.94-2.06-.94-.94-2.06-.94 2.06-2.06.94z\"/><path d=\"M17.41 7.96l-1.37-1.37c-.4-.4-.92-.59-1.43-.59-.52 0-1.04.2-1.43.59L10.3 9.45l-7.72 7.72c-.78.78-.78 2.05 0 2.83L4 21.41c.39.39.9.59 1.41.59.51 0 1.02-.2 1.41-.59l7.78-7.78 2.81-2.81c.8-.78.8-2.07 0-2.86zM5.41 20L4 18.59l7.72-7.72 1.47 1.35L5.41 20z\"/>\n",
              "  </svg>\n",
              "      </button>\n",
              "      \n",
              "  <style>\n",
              "    .colab-df-container {\n",
              "      display:flex;\n",
              "      flex-wrap:wrap;\n",
              "      gap: 12px;\n",
              "    }\n",
              "\n",
              "    .colab-df-convert {\n",
              "      background-color: #E8F0FE;\n",
              "      border: none;\n",
              "      border-radius: 50%;\n",
              "      cursor: pointer;\n",
              "      display: none;\n",
              "      fill: #1967D2;\n",
              "      height: 32px;\n",
              "      padding: 0 0 0 0;\n",
              "      width: 32px;\n",
              "    }\n",
              "\n",
              "    .colab-df-convert:hover {\n",
              "      background-color: #E2EBFA;\n",
              "      box-shadow: 0px 1px 2px rgba(60, 64, 67, 0.3), 0px 1px 3px 1px rgba(60, 64, 67, 0.15);\n",
              "      fill: #174EA6;\n",
              "    }\n",
              "\n",
              "    [theme=dark] .colab-df-convert {\n",
              "      background-color: #3B4455;\n",
              "      fill: #D2E3FC;\n",
              "    }\n",
              "\n",
              "    [theme=dark] .colab-df-convert:hover {\n",
              "      background-color: #434B5C;\n",
              "      box-shadow: 0px 1px 3px 1px rgba(0, 0, 0, 0.15);\n",
              "      filter: drop-shadow(0px 1px 2px rgba(0, 0, 0, 0.3));\n",
              "      fill: #FFFFFF;\n",
              "    }\n",
              "  </style>\n",
              "\n",
              "      <script>\n",
              "        const buttonEl =\n",
              "          document.querySelector('#df-2fe86cab-9e16-4b30-9ec7-d6909d82ccbb button.colab-df-convert');\n",
              "        buttonEl.style.display =\n",
              "          google.colab.kernel.accessAllowed ? 'block' : 'none';\n",
              "\n",
              "        async function convertToInteractive(key) {\n",
              "          const element = document.querySelector('#df-2fe86cab-9e16-4b30-9ec7-d6909d82ccbb');\n",
              "          const dataTable =\n",
              "            await google.colab.kernel.invokeFunction('convertToInteractive',\n",
              "                                                     [key], {});\n",
              "          if (!dataTable) return;\n",
              "\n",
              "          const docLinkHtml = 'Like what you see? Visit the ' +\n",
              "            '<a target=\"_blank\" href=https://colab.research.google.com/notebooks/data_table.ipynb>data table notebook</a>'\n",
              "            + ' to learn more about interactive tables.';\n",
              "          element.innerHTML = '';\n",
              "          dataTable['output_type'] = 'display_data';\n",
              "          await google.colab.output.renderOutput(dataTable, element);\n",
              "          const docLink = document.createElement('div');\n",
              "          docLink.innerHTML = docLinkHtml;\n",
              "          element.appendChild(docLink);\n",
              "        }\n",
              "      </script>\n",
              "    </div>\n",
              "  </div>\n",
              "  "
            ]
          },
          "metadata": {},
          "execution_count": 14
        }
      ],
      "source": [
        "# tu będzie wygodniej\n",
        "import pingouin as pg\n",
        "result = pg.homoscedasticity(df, dv='sw', group='Spec')\n",
        "print(result)\n",
        "pg.homoscedasticity(df, dv='sw', group='Spec', method = 'bartlett')"
      ]
    },
    {
      "cell_type": "markdown",
      "id": "familiar-notice",
      "metadata": {
        "id": "familiar-notice"
      },
      "source": [
        "Inne rzeczy też potrafi ten pingwin."
      ]
    },
    {
      "cell_type": "code",
      "execution_count": 15,
      "id": "eastern-philip",
      "metadata": {
        "id": "eastern-philip",
        "outputId": "46c1371c-2cae-4616-829f-d16d29843acd",
        "colab": {
          "base_uri": "https://localhost:8080/",
          "height": 330
        }
      },
      "outputs": [
        {
          "output_type": "stream",
          "name": "stdout",
          "text": [
            "           W      pval  normal\n",
            "sw  0.974133  0.337989    True\n"
          ]
        },
        {
          "output_type": "display_data",
          "data": {
            "text/plain": [
              "<Figure size 360x288 with 1 Axes>"
            ],
            "image/png": "[encoded data removed]"
          },
          "metadata": {
            "needs_background": "light"
          }
        }
      ],
      "source": [
        "print(pg.normality(ver['sw']))\n",
        "ax = pg.qqplot(ver['sw'], dist='norm')"
      ]
    },
    {
      "cell_type": "markdown",
      "id": "interim-bubble",
      "metadata": {
        "id": "interim-bubble"
      },
      "source": [
        "W końcu czas na analizę wariancji."
      ]
    },
    {
      "cell_type": "code",
      "execution_count": 16,
      "id": "least-annex",
      "metadata": {
        "id": "least-annex",
        "outputId": "38eb67a4-5640-4979-cb49-839c2096f772",
        "colab": {
          "base_uri": "https://localhost:8080/"
        }
      },
      "outputs": [
        {
          "output_type": "stream",
          "name": "stdout",
          "text": [
            "F_onewayResult(statistic=49.160040089612075, pvalue=4.492017133309115e-17)\n",
            "-----------------\n",
            "   Source         SS   DF        MS         F         p-unc       np2\n",
            "0    Spec  11.344933    2  5.672467  49.16004  4.492017e-17  0.400783\n",
            "1  Within  16.962000  147  0.115388       NaN           NaN       NaN\n"
          ]
        }
      ],
      "source": [
        "print(stats.f_oneway(seto['sw'], ver['sw'], vir['sw']))\n",
        "print('-----------------')\n",
        "print(pg.anova(data=df, dv='sw', between='Spec', detailed=True))"
      ]
    },
    {
      "cell_type": "markdown",
      "id": "dental-clearing",
      "metadata": {
        "id": "dental-clearing"
      },
      "source": [
        "Tak, czy tak - odrzucamy hipotezę o równości średnich szerokości kielichów. Zatem gatunek wpływa na tę szerokość w sposób *istotny statystycznie*."
      ]
    },
    {
      "cell_type": "markdown",
      "id": "appointed-guess",
      "metadata": {
        "id": "appointed-guess"
      },
      "source": [
        "## Regresja liniowa\n",
        "\n",
        "### Na początek jednej zmiennej.\n",
        "\n",
        "Pomijając szzegóły teoretyczne rzecz sprowadza się do oszacowania $\\mathbb{E} (Y | X = x)$ jako funkcji liniowej, postaci $a x + b$. Inaczej: szacujemy $Y = \\hat{Y} + \\epsilon$, gdzie $\\hat{Y} = a X + b$, próbując zminimalizować wariancję błędu $\\epsilon$. W praktyce szukamy minimum\n",
        "$$ \\min_{a,b} \\mathbb{E} (Y - aX -b)^2 = \\left\\{ \\begin{array}{rcl}\n",
        "a & = & \\frac{\\operatorname{Cov}(X, Y)}{\\operatorname{Var}(X)} \\\\\n",
        "b & = & \\mathbb{E} Y - a \\mathbb{E} x\n",
        "\\end{array}\n",
        "\\right\\} = \\operatorname{Var}(Y)(1 - \\rho^2),$$\n",
        "gdzie $\\rho = \\frac{\\operatorname{Cov}(X, Y)}{\\sqrt{\\operatorname{Var}(X)\\operatorname{Var}(Y)}}$ jest *współczynnikiem koleracji* liniowej Pearsona.\n",
        "\n",
        "Parametry $a, b, \\rho$ można oczywiście *wyestymować* w oparciu o próbkę statystyczną."
      ]
    },
    {
      "cell_type": "code",
      "execution_count": 17,
      "id": "brown-publication",
      "metadata": {
        "id": "brown-publication",
        "outputId": "d90bbda4-3153-49ee-9261-e9106ce42784",
        "colab": {
          "base_uri": "https://localhost:8080/",
          "height": 296
        }
      },
      "outputs": [
        {
          "output_type": "display_data",
          "data": {
            "text/plain": [
              "<Figure size 432x288 with 1 Axes>"
            ],
            "image/png": "[encoded data removed]"
          },
          "metadata": {
            "needs_background": "light"
          }
        }
      ],
      "source": [
        "%matplotlib inline\n",
        "\n",
        "pplot.figure()\n",
        "pplot.title(\"Długość i szerokość działki kielicha\")\n",
        "pplot.xlabel(\"Długość\")\n",
        "pplot.ylabel(\"Szerokość\")\n",
        "pplot.plot(seto['sl'], seto['sw'], \"r.\", )\n",
        "\n",
        "pplot.grid(True)\n",
        "pplot.show()"
      ]
    },
    {
      "cell_type": "code",
      "execution_count": 18,
      "id": "ordered-flesh",
      "metadata": {
        "id": "ordered-flesh",
        "outputId": "78514c20-8a8c-4e9c-b20b-f1026ee1842e",
        "colab": {
          "base_uri": "https://localhost:8080/"
        }
      },
      "outputs": [
        {
          "output_type": "stream",
          "name": "stdout",
          "text": [
            "          sl        sw        pl        pw\n",
            "sl  0.124249  0.099216  0.016355  0.010331\n",
            "sw  0.099216  0.143690  0.011698  0.009298\n",
            "pl  0.016355  0.011698  0.030159  0.006069\n",
            "pw  0.010331  0.009298  0.006069  0.011106\n",
            "          sl        sw\n",
            "sl  0.124249  0.099216\n",
            "sw  0.099216  0.143690\n"
          ]
        }
      ],
      "source": [
        "mc = seto.cov()\n",
        "print(mc)\n",
        "print(mc.iloc[0:2, 0:2])"
      ]
    },
    {
      "cell_type": "code",
      "execution_count": 19,
      "id": "detailed-knife",
      "metadata": {
        "id": "detailed-knife",
        "outputId": "470187da-93e3-4789-a573-9d7b7b58c958",
        "colab": {
          "base_uri": "https://localhost:8080/"
        }
      },
      "outputs": [
        {
          "output_type": "stream",
          "name": "stdout",
          "text": [
            "a =  0.7985283006471534 , b =  -0.5694326730396488 , rho =  0.7425466856651598 , rho^2 =  0.5513755803923136\n"
          ]
        }
      ],
      "source": [
        "a = mc.iloc[0,1]/mc.iloc[0,0]\n",
        "b = seto['sw'].mean() - a * seto['sl'].mean()\n",
        "rho = mc.iloc[0,1] / np.sqrt(mc.iloc[0,0]*mc.iloc[1,1])\n",
        "print(\"a = \", a, \", b = \", b, \", rho = \", rho, \", rho^2 = \", rho**2)\n"
      ]
    },
    {
      "cell_type": "code",
      "execution_count": 20,
      "id": "dying-exploration",
      "metadata": {
        "id": "dying-exploration",
        "outputId": "9fd33721-b174-45cd-89a8-fcf6e57ddda8",
        "colab": {
          "base_uri": "https://localhost:8080/",
          "height": 296
        }
      },
      "outputs": [
        {
          "output_type": "display_data",
          "data": {
            "text/plain": [
              "<Figure size 432x288 with 1 Axes>"
            ],
            "image/png": "[encoded data removed]"
          },
          "metadata": {
            "needs_background": "light"
          }
        }
      ],
      "source": [
        "x = np.array([4.2,6])\n",
        "y = a*x + b\n",
        "\n",
        "pplot.figure()\n",
        "pplot.title(\"Długość i szerokość działki kielicha\")\n",
        "pplot.xlabel(\"Długość\")\n",
        "pplot.ylabel(\"Szerokość\")\n",
        "pplot.plot(seto['sl'], seto['sw'], \"r.\", )\n",
        "pplot.plot(x, y, \"k-\")\n",
        "\n",
        "pplot.grid(True)\n",
        "pplot.show()"
      ]
    },
    {
      "cell_type": "markdown",
      "id": "native-amazon",
      "metadata": {
        "id": "native-amazon"
      },
      "source": [
        "#### Ćwiczenie\n",
        "\n",
        "Poszukać regresji liniowej w pakietach pythona: *scipy* (2 sposoby), *sklearn*, *pinguin*, *statsmodels* i wykonac to samo."
      ]
    },
    {
      "cell_type": "code",
      "execution_count": null,
      "id": "ongoing-mailman",
      "metadata": {
        "id": "ongoing-mailman",
        "outputId": "6a6cc3bc-702c-43f9-aa96-a35e558e30e6"
      },
      "outputs": [
        {
          "name": "stdout",
          "output_type": "stream",
          "text": [
            "LinregressResult(slope=0.7985283006471534, intercept=-0.5694326730396502, rvalue=0.7425466856651596, pvalue=6.70984301766061e-10, stderr=0.10396505428522793, intercept_stderr=0.5217119323765155)\n"
          ]
        },
        {
          "data": {
            "image/png": "[encoded data removed]",
            "text/plain": [
              "<Figure size 432x288 with 1 Axes>"
            ]
          },
          "metadata": {
            "needs_background": "light"
          },
          "output_type": "display_data"
        }
      ],
      "source": [
        "# pakiet scipy\n",
        "slope, intercept, r_value, p_value, std_err = stats.linregress(seto['sl'].values,seto['sw'].values)\n",
        "print(stats.linregress(seto['sl'].values,seto['sw'].values))\n",
        "\n",
        "x = np.linspace(4, 6, 2)\n",
        "y = slope*x + intercept\n",
        "\n",
        "pplot.figure()\n",
        "pplot.title(\"Długość i szerokość działki kielicha\")\n",
        "pplot.xlabel(\"Długość\")\n",
        "pplot.ylabel(\"Szerokość\")\n",
        "pplot.plot(seto['sl'], seto['sw'], \"r.\", )\n",
        "pplot.plot(x, y, \"k-\")\n",
        "\n",
        "pplot.grid(True)\n",
        "pplot.show()"
      ]
    },
    {
      "cell_type": "code",
      "source": [
        "# pakiet scikit learn\n",
        "from sklearn.linear_model import LinearRegression\n",
        "\n",
        "model = LinearRegression()\n",
        "model.fit(seto[['sl']], seto['sw'])\n",
        "X = pd.DataFrame([4, 6], columns=['sl'])\n",
        "y = model.predict(X)\n",
        "\n",
        "pplot.figure()\n",
        "pplot.title(\"Długość i szerokość działki kielicha\")\n",
        "pplot.xlabel(\"Długość\")\n",
        "pplot.ylabel(\"Szerokość\")\n",
        "pplot.plot(seto['sl'], seto['sw'], \"r.\", )\n",
        "pplot.plot(X['sl'], y, \"k-\")\n",
        "\n",
        "pplot.grid(True)\n",
        "pplot.show()"
      ],
      "metadata": {
        "id": "AVVN196VM8Ju",
        "outputId": "52244c5d-44b9-427e-e21f-6ba5e3c8ef23",
        "colab": {
          "base_uri": "https://localhost:8080/",
          "height": 296
        }
      },
      "id": "AVVN196VM8Ju",
      "execution_count": 23,
      "outputs": [
        {
          "output_type": "display_data",
          "data": {
            "text/plain": [
              "<Figure size 432x288 with 1 Axes>"
            ],
            "image/png": "[encoded data removed]"
          },
          "metadata": {
            "needs_background": "light"
          }
        }
      ]
    },
    {
      "cell_type": "code",
      "execution_count": null,
      "id": "complicated-museum",
      "metadata": {
        "id": "complicated-museum",
        "outputId": "673efe4e-02b1-468c-bf88-08734b393384"
      },
      "outputs": [
        {
          "name": "stdout",
          "output_type": "stream",
          "text": [
            "       names      coef        se         T          pval        r2    adj_r2  \\\n",
            "0  Intercept -0.569433  0.521712 -1.091470  2.805148e-01  0.551376  0.542029   \n",
            "1         sl  0.798528  0.103965  7.680738  6.709843e-10  0.551376  0.542029   \n",
            "\n",
            "   CI[2.5%]  CI[97.5%]  \n",
            "0 -1.618405   0.479539  \n",
            "1  0.589493   1.007564  \n"
          ]
        },
        {
          "data": {
            "image/png": "[encoded data removed]",
            "text/plain": [
              "<Figure size 432x288 with 1 Axes>"
            ]
          },
          "metadata": {
            "needs_background": "light"
          },
          "output_type": "display_data"
        }
      ],
      "source": [
        "# pakiet pinguin\n",
        "\n",
        "x = seto['sl']\n",
        "y = seto['sw']\n",
        "\n",
        "lr = pg.linear_regression(x, y)\n",
        "print(lr)\n",
        "\n",
        "coef = lr['coef']\n",
        "b = coef[0]\n",
        "a = coef[1]\n",
        "\n",
        "x = np.linspace(4, 6, 2)\n",
        "y = a*x + b\n",
        "\n",
        "pplot.figure()\n",
        "pplot.title(\"Długość i szerokość działki kielicha\")\n",
        "pplot.xlabel(\"Długość\")\n",
        "pplot.ylabel(\"Szerokość\")\n",
        "pplot.plot(seto['sl'], seto['sw'], \"r.\", )\n",
        "pplot.plot(x, y, \"k-\")\n",
        "pplot.grid(True)\n",
        "pplot.show()"
      ]
    },
    {
      "cell_type": "code",
      "source": [
        "#statsmodels\n",
        "import statsmodels.regression.linear_model as sm\n",
        "from statsmodels.tools import add_constant\n",
        "\n",
        "X = seto[['sl']]\n",
        "model = sm.OLS(seto['sw'], add_constant(X))\n",
        "res = model.fit()\n",
        "res.summary()\n",
        "#res.params\n"
      ],
      "metadata": {
        "id": "JG2GzlvlPOKe",
        "outputId": "90f4dacf-7c5b-46f5-9678-e12d92d57835",
        "colab": {
          "base_uri": "https://localhost:8080/",
          "height": 452
        }
      },
      "id": "JG2GzlvlPOKe",
      "execution_count": 30,
      "outputs": [
        {
          "output_type": "execute_result",
          "data": {
            "text/plain": [
              "<class 'statsmodels.iolib.summary.Summary'>\n",
              "\"\"\"\n",
              "                            OLS Regression Results                            \n",
              "==============================================================================\n",
              "Dep. Variable:                     sw   R-squared:                       0.551\n",
              "Model:                            OLS   Adj. R-squared:                  0.542\n",
              "Method:                 Least Squares   F-statistic:                     58.99\n",
              "Date:                Thu, 28 Apr 2022   Prob (F-statistic):           6.71e-10\n",
              "Time:                        17:42:43   Log-Likelihood:                -1.9002\n",
              "No. Observations:                  50   AIC:                             7.800\n",
              "Df Residuals:                      48   BIC:                             11.62\n",
              "Df Model:                           1                                         \n",
              "Covariance Type:            nonrobust                                         \n",
              "==============================================================================\n",
              "                 coef    std err          t      P>|t|      [0.025      0.975]\n",
              "------------------------------------------------------------------------------\n",
              "const         -0.5694      0.522     -1.091      0.281      -1.618       0.480\n",
              "sl             0.7985      0.104      7.681      0.000       0.589       1.008\n",
              "==============================================================================\n",
              "Omnibus:                        0.680   Durbin-Watson:                   2.345\n",
              "Prob(Omnibus):                  0.712   Jarque-Bera (JB):                0.342\n",
              "Skew:                          -0.200   Prob(JB):                        0.843\n",
              "Kurtosis:                       3.060   Cond. No.                         75.0\n",
              "==============================================================================\n",
              "\n",
              "Notes:\n",
              "[1] Standard Errors assume that the covariance matrix of the errors is correctly specified.\n",
              "\"\"\""
            ],
            "text/html": [
              "<table class=\"simpletable\">\n",
              "<caption>OLS Regression Results</caption>\n",
              "<tr>\n",
              "  <th>Dep. Variable:</th>           <td>sw</td>        <th>  R-squared:         </th> <td>   0.551</td>\n",
              "</tr>\n",
              "<tr>\n",
              "  <th>Model:</th>                   <td>OLS</td>       <th>  Adj. R-squared:    </th> <td>   0.542</td>\n",
              "</tr>\n",
              "<tr>\n",
              "  <th>Method:</th>             <td>Least Squares</td>  <th>  F-statistic:       </th> <td>   58.99</td>\n",
              "</tr>\n",
              "<tr>\n",
              "  <th>Date:</th>             <td>Thu, 28 Apr 2022</td> <th>  Prob (F-statistic):</th> <td>6.71e-10</td>\n",
              "</tr>\n",
              "<tr>\n",
              "  <th>Time:</th>                 <td>17:42:43</td>     <th>  Log-Likelihood:    </th> <td> -1.9002</td>\n",
              "</tr>\n",
              "<tr>\n",
              "  <th>No. Observations:</th>      <td>    50</td>      <th>  AIC:               </th> <td>   7.800</td>\n",
              "</tr>\n",
              "<tr>\n",
              "  <th>Df Residuals:</th>          <td>    48</td>      <th>  BIC:               </th> <td>   11.62</td>\n",
              "</tr>\n",
              "<tr>\n",
              "  <th>Df Model:</th>              <td>     1</td>      <th>                     </th>     <td> </td>   \n",
              "</tr>\n",
              "<tr>\n",
              "  <th>Covariance Type:</th>      <td>nonrobust</td>    <th>                     </th>     <td> </td>   \n",
              "</tr>\n",
              "</table>\n",
              "<table class=\"simpletable\">\n",
              "<tr>\n",
              "    <td></td>       <th>coef</th>     <th>std err</th>      <th>t</th>      <th>P>|t|</th>  <th>[0.025</th>    <th>0.975]</th>  \n",
              "</tr>\n",
              "<tr>\n",
              "  <th>const</th> <td>   -0.5694</td> <td>    0.522</td> <td>   -1.091</td> <td> 0.281</td> <td>   -1.618</td> <td>    0.480</td>\n",
              "</tr>\n",
              "<tr>\n",
              "  <th>sl</th>    <td>    0.7985</td> <td>    0.104</td> <td>    7.681</td> <td> 0.000</td> <td>    0.589</td> <td>    1.008</td>\n",
              "</tr>\n",
              "</table>\n",
              "<table class=\"simpletable\">\n",
              "<tr>\n",
              "  <th>Omnibus:</th>       <td> 0.680</td> <th>  Durbin-Watson:     </th> <td>   2.345</td>\n",
              "</tr>\n",
              "<tr>\n",
              "  <th>Prob(Omnibus):</th> <td> 0.712</td> <th>  Jarque-Bera (JB):  </th> <td>   0.342</td>\n",
              "</tr>\n",
              "<tr>\n",
              "  <th>Skew:</th>          <td>-0.200</td> <th>  Prob(JB):          </th> <td>   0.843</td>\n",
              "</tr>\n",
              "<tr>\n",
              "  <th>Kurtosis:</th>      <td> 3.060</td> <th>  Cond. No.          </th> <td>    75.0</td>\n",
              "</tr>\n",
              "</table><br/><br/>Notes:<br/>[1] Standard Errors assume that the covariance matrix of the errors is correctly specified."
            ]
          },
          "metadata": {},
          "execution_count": 30
        }
      ]
    },
    {
      "cell_type": "markdown",
      "id": "republican-marijuana",
      "metadata": {
        "id": "republican-marijuana"
      },
      "source": [
        "### Regresja wieloraka\n",
        "\n",
        "W oparciu o próbę statystyczną prostą postaci $(X_1, Y_1, Z_1), (X_2, Y_2, Z_2), \\dots (X_n, Y_n, Z_n)$ modelujemy zależność \n",
        "\n",
        "\\begin{equation}\n",
        "Z \\approx \\hat{Z} = a X + b Y + c.\n",
        "\\end{equation}\n",
        "\n",
        "Zależność tę można przedstawić w postaci:\n",
        "\\begin{equation}\\label{eq:wieloraka}\n",
        "\\mathbb{Z} = \\left[\\begin{array}{c}\n",
        "Z_1 \\\\ Z_2 \\\\ \\dots \\\\ Z_n\n",
        "\\end{array}\\right]\n",
        "= \\mathbb{X} \\left[\\begin{array}{c}\n",
        "c \\\\ b \\\\ a \n",
        "\\end{array}\\right] + \\mathbb{\\epsilon} \n",
        "= \\left[\\begin{array}{ccc}\n",
        "1 & Y_1 & X_1\\\\\n",
        "1 & Y_2 & X_2\\\\\n",
        " & \\dots & \\\\\n",
        "1 & Y_n & X_n\n",
        "\\end{array}\n",
        "\\right] \\left[\\begin{array}{c}\n",
        "c \\\\ b \\\\ a \n",
        "\\end{array}\\right] + \\left[\\begin{array}{c}\n",
        "\\epsilon_1 \\\\ \\epsilon_2 \\\\ \\dots\\\\ \\epsilon_n \n",
        "\\end{array}\\right],\n",
        "\\end{equation}\n",
        "\n",
        "Jeśli kolumny macierzy $\\mathbb{X}$ są **niewspółliniowe** tzn. liniowo niezależne w sensie algebraicznym (stochastycznym niekoniecznie) wówczas macierz \n",
        "\\begin{equation}\n",
        "\\mathbb{X}^T \\mathbb{X} = \\left[ \\begin{array}{ccc}\n",
        "n & \\sum_{i=1}^n Y_i & \\sum_{i=1}^n X_i \\\\\n",
        "\\sum_{i=1}^n Y_i & \\sum_{i=1}^n Y_i^2 & \\sum_{i=1}^n X_i Y_i \\\\\n",
        "\\sum_{i=1}^n X_i & \\sum_{i=1}^n X_i Y_i & \\sum_{i=1}^n X_i^2\n",
        "\\end{array}\\right]\n",
        "\\end{equation}\n",
        "jest nieosobliwa, a poprzez jej odwrócenie można wyznaczyć estymatory parametrów regresji\n",
        "\\begin{equation} \\label{eq:wielorakapar}\n",
        "\\left[\\begin{array}{c}\n",
        "\\hat c\\\\ \\hat b\\\\ \\hat a \n",
        "\\end{array}\\right]\n",
        "= (\\mathbb{X}^T \\mathbb{X})^{-1} \\mathbb{X}^T \\mathbb{Z}.\n",
        "\\end{equation}\n",
        "\n",
        "Zauważmy, że jest to łatwo wyliczalne dla próbki $(x_1, y_1, z_1), (x_2, y_2, z_2), \\dots (x_n, y_n, z_n)$ będącej realizacją wyjściowej próby statystycznej --- można więc wyznaczyć wartości tych estymatorów. "
      ]
    },
    {
      "cell_type": "code",
      "execution_count": 31,
      "id": "grand-thursday",
      "metadata": {
        "id": "grand-thursday",
        "outputId": "747991eb-8e7b-4406-d3cd-0691522b94b9",
        "colab": {
          "base_uri": "https://localhost:8080/"
        }
      },
      "outputs": [
        {
          "output_type": "stream",
          "name": "stdout",
          "text": [
            "    sl   pl   pw  ww\n",
            "0  5.1  1.4  0.2   1\n",
            "1  4.9  1.4  0.2   1\n",
            "2  4.7  1.3  0.2   1\n",
            "3  4.6  1.5  0.2   1\n",
            "4  5.0  1.4  0.2   1\n",
            "------------\n",
            "[[1.  5.1 1.4 0.2]\n",
            " [1.  4.9 1.4 0.2]\n",
            " [1.  4.7 1.3 0.2]]\n",
            "------------\n",
            "[-0.48912615  0.79668567 -0.07135778  0.13513326]\n"
          ]
        }
      ],
      "source": [
        "Xdf = seto[['sl', 'pl', 'pw']].copy()\n",
        "Xdf['ww'] = 1\n",
        "print(Xdf.head())\n",
        "X = np.array(Xdf.iloc[:,[3,0,1,2]])\n",
        "Z = np.array(seto['sw'])\n",
        "print('------------')\n",
        "print(X[0:3])\n",
        "coeff = np.matmul(np.matmul(np.linalg.inv(np.matmul(np.transpose(X), X)), \n",
        "                            np.transpose(X)), Z)\n",
        "print('------------')\n",
        "print(coeff)"
      ]
    },
    {
      "cell_type": "markdown",
      "id": "verbal-individual",
      "metadata": {
        "id": "verbal-individual"
      },
      "source": [
        "Jako ocenę jakości dopasowania modelu oszacować należy współczynnik determinacji $\\rho^2 = \\frac{\\operatorname{Var}{\\hat Z}}{\\operatorname{Var} Z} = 1 - \\frac{\\operatorname{Var} \\epsilon}{\\operatorname{Var} Z}$, a konkretniej --- wyznaczyć jego estymator $R^2.$ \n",
        "\n",
        "Przy oznaczeniach (skąd znanych?) $\\hat{z_i} = a x_i + b y_i + c$, $$ \\textrm{SST} = \\sum_{i=1}^n (z_i - \\overline{z})^2, \\quad \\textrm{SSR} =  \\sum_{i=1}^n (\\hat{z_i} - \\overline{z})^2, \\quad \\textrm{SSE} = \\sum_{i=1}^n \\epsilon_i^2 = \\sum_{i=1}^n (z_i - \\hat{z_i})^2$$ współczynnik $R^2$ wyznacza się ze wzoru\n",
        "\\begin{equation} \\label{eq:R2}\n",
        "R^2 = 1 - \\frac{\\textrm{SSE}}{\\textrm{SST}}.\n",
        "\\end{equation}\n",
        "\n",
        "Względnie, ponieważ nieobciążonym estymatorem $\\operatorname{Var} \\epsilon$ jest $$S_\\epsilon^2 = \\sum_{i=1}^n \\frac{\\epsilon_i^2}{n-k-1} \\approx {\\textrm{SSE}}/(n-k-1),$$  stosuje się **współczynnik skorygowany** $\\bar R^2,$ \n",
        "\\begin{equation} \\label{eq:R2adj}\n",
        "\\bar R^2 = 1 - \\frac{\\textrm{SSE}/(n-k-1)}{\\textrm{SST}/(n-1)},\n",
        "\\end{equation}\n",
        "gdzie $k$ jest liczbą zmiennych w modelu --- w opisanym przykładzie $k = 3.$\n"
      ]
    },
    {
      "cell_type": "code",
      "execution_count": 32,
      "id": "backed-regression",
      "metadata": {
        "id": "backed-regression",
        "outputId": "115dde17-beda-4234-fdc0-060573aa0342",
        "colab": {
          "base_uri": "https://localhost:8080/"
        }
      },
      "outputs": [
        {
          "output_type": "stream",
          "name": "stdout",
          "text": [
            "7.040800000000001\n",
            "3.893831464870395\n",
            "3.1469685351299583\n",
            "0.5530382150991424\n",
            "0.5238885334751735\n"
          ]
        }
      ],
      "source": [
        "SST = sum((Z - np.mean(Z))**2)\n",
        "print(SST)\n",
        "\n",
        "hatZ = np.matmul(X, np.transpose(coeff))\n",
        "SSR = sum((hatZ - np.mean(Z))**2)\n",
        "print(SSR)\n",
        "\n",
        "SSE = sum((hatZ - Z)**2)\n",
        "print(SSE)\n",
        "\n",
        "R2 = 1 - SSE/SST\n",
        "print(R2)\n",
        "\n",
        "R2a = 1 - SSE/(len(Z)-4)/(SST/(len(Z)-1))\n",
        "print(R2a)"
      ]
    },
    {
      "cell_type": "markdown",
      "id": "helpful-parish",
      "metadata": {
        "id": "helpful-parish"
      },
      "source": [
        "Widać zatem, że dodanie nowych zmiennych do modelu nie poprawiło go wcale. \n",
        "\n",
        "Idąc dalej, macierz $\\mathbb{V}$ wariancji/kowariancji estymatorów regresji oblicza się przez\n",
        "\\begin{equation}\\label{eq:VarCov}\n",
        "\\mathbb{V} = (\\mathbb{X}^T \\mathbb{X})^{-1} S_\\epsilon^2.\n",
        "\\end{equation}\n",
        "Umożliwia ona wyznaczanie przedziałów ufności dla parametrów regresji oraz testy statystyczne.\n",
        "  "
      ]
    },
    {
      "cell_type": "code",
      "execution_count": 33,
      "id": "initial-transformation",
      "metadata": {
        "id": "initial-transformation",
        "outputId": "a89abf46-d500-4cbc-fda8-8d3ec48c3923",
        "colab": {
          "base_uri": "https://localhost:8080/"
        }
      },
      "outputs": [
        {
          "output_type": "stream",
          "name": "stdout",
          "text": [
            "[[ 0.32887378 -0.05373212 -0.0476136   0.04507542]\n",
            " [-0.05373212  0.01265027 -0.00504719 -0.0090087 ]\n",
            " [-0.0476136  -0.00504719  0.0540275  -0.02483074]\n",
            " [ 0.04507542 -0.0090087  -0.02483074  0.1476612 ]]\n"
          ]
        }
      ],
      "source": [
        "S2eps = SSE / (len(Z) - 4)\n",
        "V = np.linalg.inv(np.matmul(np.transpose(X), X))*S2eps\n",
        "print(V)"
      ]
    },
    {
      "cell_type": "markdown",
      "id": "instrumental-forge",
      "metadata": {
        "id": "instrumental-forge"
      },
      "source": [
        "Testując hipotezę $H\\colon a = 0$ przeciw kontrhipotezie $K\\colon a \\neq 0$ stosujemy test $t$, gdzie statystyka testowa $T = \\frac{\\hat{a}}{S_a}$ ma rozkład $t$-Studenta o $n-k-1$ stopniach swobody i obustronny zbiór krytyczny. \n",
        "Z kolei przedział ufności, na poziomie ufności $1-\\alpha$ dla parametru $a$ wyznacza się jako \n",
        "\\begin{equation}\n",
        "\\left[\\hat{a} - t(1-\\frac{\\alpha}{2}, n-k-1)S_a, \\hat{a} + t(1-\\frac{\\alpha}{2}, n-k-1)S_a\\right].\n",
        "\\end{equation} \n",
        "\n",
        "Posługując się analizą wariancji można również wnioskować o regresji jako całości testując hipotezę $H\\colon \\forall_i a_i = 0$ przeciw $K\\colon \\exists_i a_i \\neq 0$. Wykonuje się wówczas test $F$, gdzie statystyka testowa $F = \\frac{\\textrm{SSR}/k}{\\textrm{SSE}/(n-k-1)}$ ma rozkład Fischera-Snedecora\n",
        "o $(k, n-k-1)$ stopniach swobody. "
      ]
    },
    {
      "cell_type": "code",
      "execution_count": 34,
      "id": "rubber-mississippi",
      "metadata": {
        "id": "rubber-mississippi",
        "outputId": "4e0cd5c8-ba80-4430-e444-29bed90bed0e",
        "colab": {
          "base_uri": "https://localhost:8080/"
        }
      },
      "outputs": [
        {
          "output_type": "stream",
          "name": "stdout",
          "text": [
            "[-0.85291599  7.08332362 -0.30699681  0.35166493]\n",
            "[3.98125255e-01 6.83443435e-09 7.60231292e-01 7.26695407e-01]\n"
          ]
        }
      ],
      "source": [
        "from scipy.stats import t\n",
        "tstats = np.array([coeff[i] / np.sqrt(V[i,i]) for i in range(0, 4)])\n",
        "print(tstats)\n",
        "\n",
        "dof = len(Z) - 4\n",
        "pvals = 2*(1-t.cdf(abs(tstats), dof))\n",
        "print(pvals)"
      ]
    },
    {
      "cell_type": "markdown",
      "id": "cellular-paper",
      "metadata": {
        "id": "cellular-paper"
      },
      "source": [
        "Znowu widzimy, że dodatkowe zmienne nic nie dają - współczynniki nie są w istotny statystycznie sposób różne od 0.\n",
        "\n",
        "To jeszcze test regresji jako całości."
      ]
    },
    {
      "cell_type": "code",
      "execution_count": 35,
      "id": "plastic-montreal",
      "metadata": {
        "id": "plastic-montreal",
        "outputId": "02ad9ae8-30f9-421b-9b81-d8a6ae98dc4f",
        "colab": {
          "base_uri": "https://localhost:8080/"
        }
      },
      "outputs": [
        {
          "output_type": "stream",
          "name": "stdout",
          "text": [
            "18.972358677305234\n",
            "3.7586837642322735e-08\n"
          ]
        }
      ],
      "source": [
        "from scipy.stats import f\n",
        "\n",
        "k = 3\n",
        "statF = SSR/k/S2eps\n",
        "print(statF)\n",
        "\n",
        "pval = 1 - f.cdf(statF, k, dof)\n",
        "print(pval)"
      ]
    },
    {
      "cell_type": "markdown",
      "id": "inside-knitting",
      "metadata": {
        "id": "inside-knitting"
      },
      "source": [
        "#### Ćwiczenie:\n",
        "Jak to zrobić z użyciem gotowych funkcji z pakietów *sklearn*, *pinguin*, *statsmodels*?"
      ]
    },
    {
      "cell_type": "code",
      "execution_count": 36,
      "id": "excellent-university",
      "metadata": {
        "id": "excellent-university",
        "outputId": "efd2087f-7bfd-4e3e-8154-a9fea244219a",
        "colab": {
          "base_uri": "https://localhost:8080/"
        }
      },
      "outputs": [
        {
          "output_type": "stream",
          "name": "stdout",
          "text": [
            " R^2: 0.5530382150991422 \n",
            " coef: [ 0.79668567 -0.07135778  0.13513326] \n",
            " intercept: -0.4891261515947982\n"
          ]
        }
      ],
      "source": [
        "#pakiet sklearn\n",
        "from sklearn.linear_model import LinearRegression\n",
        "\n",
        "X = seto[['sl', 'pl', 'pw']].copy()\n",
        "y = np.array(seto['sw'])\n",
        "\n",
        "linear_regression = LinearRegression()\n",
        "\n",
        "reg = linear_regression.fit(X,y)\n",
        "\n",
        "print(' R^2:', reg.score(X, y),'\\n',\n",
        "      'coef:', reg.coef_,'\\n',\n",
        "     'intercept:', reg.intercept_)\n",
        "\n",
        "# brakuje testów - oceny regresji "
      ]
    },
    {
      "cell_type": "code",
      "execution_count": 37,
      "id": "clean-liberal",
      "metadata": {
        "id": "clean-liberal",
        "outputId": "7083d80a-f121-475e-f3a1-d995162ae578",
        "colab": {
          "base_uri": "https://localhost:8080/",
          "height": 175
        }
      },
      "outputs": [
        {
          "output_type": "execute_result",
          "data": {
            "text/plain": [
              "       names      coef        se         T          pval        r2    adj_r2  \\\n",
              "0  Intercept -0.489126  0.573475 -0.852916  3.981253e-01  0.553038  0.523889   \n",
              "1         sl  0.796686  0.112473  7.083324  6.834434e-09  0.553038  0.523889   \n",
              "2         pl -0.071358  0.232438 -0.306997  7.602313e-01  0.553038  0.523889   \n",
              "3         pw  0.135133  0.384267  0.351665  7.266954e-01  0.553038  0.523889   \n",
              "\n",
              "   CI[2.5%]  CI[97.5%]  \n",
              "0 -1.643472   0.665220  \n",
              "1  0.570288   1.023083  \n",
              "2 -0.539232   0.396516  \n",
              "3 -0.638356   0.908623  "
            ],
            "text/html": [
              "\n",
              "  <div id=\"df-4f27c41e-aee9-4442-a6fe-bc5dbb1ae7b1\">\n",
              "    <div class=\"colab-df-container\">\n",
              "      <div>\n",
              "<style scoped>\n",
              "    .dataframe tbody tr th:only-of-type {\n",
              "        vertical-align: middle;\n",
              "    }\n",
              "\n",
              "    .dataframe tbody tr th {\n",
              "        vertical-align: top;\n",
              "    }\n",
              "\n",
              "    .dataframe thead th {\n",
              "        text-align: right;\n",
              "    }\n",
              "</style>\n",
              "<table border=\"1\" class=\"dataframe\">\n",
              "  <thead>\n",
              "    <tr style=\"text-align: right;\">\n",
              "      <th></th>\n",
              "      <th>names</th>\n",
              "      <th>coef</th>\n",
              "      <th>se</th>\n",
              "      <th>T</th>\n",
              "      <th>pval</th>\n",
              "      <th>r2</th>\n",
              "      <th>adj_r2</th>\n",
              "      <th>CI[2.5%]</th>\n",
              "      <th>CI[97.5%]</th>\n",
              "    </tr>\n",
              "  </thead>\n",
              "  <tbody>\n",
              "    <tr>\n",
              "      <th>0</th>\n",
              "      <td>Intercept</td>\n",
              "      <td>-0.489126</td>\n",
              "      <td>0.573475</td>\n",
              "      <td>-0.852916</td>\n",
              "      <td>3.981253e-01</td>\n",
              "      <td>0.553038</td>\n",
              "      <td>0.523889</td>\n",
              "      <td>-1.643472</td>\n",
              "      <td>0.665220</td>\n",
              "    </tr>\n",
              "    <tr>\n",
              "      <th>1</th>\n",
              "      <td>sl</td>\n",
              "      <td>0.796686</td>\n",
              "      <td>0.112473</td>\n",
              "      <td>7.083324</td>\n",
              "      <td>6.834434e-09</td>\n",
              "      <td>0.553038</td>\n",
              "      <td>0.523889</td>\n",
              "      <td>0.570288</td>\n",
              "      <td>1.023083</td>\n",
              "    </tr>\n",
              "    <tr>\n",
              "      <th>2</th>\n",
              "      <td>pl</td>\n",
              "      <td>-0.071358</td>\n",
              "      <td>0.232438</td>\n",
              "      <td>-0.306997</td>\n",
              "      <td>7.602313e-01</td>\n",
              "      <td>0.553038</td>\n",
              "      <td>0.523889</td>\n",
              "      <td>-0.539232</td>\n",
              "      <td>0.396516</td>\n",
              "    </tr>\n",
              "    <tr>\n",
              "      <th>3</th>\n",
              "      <td>pw</td>\n",
              "      <td>0.135133</td>\n",
              "      <td>0.384267</td>\n",
              "      <td>0.351665</td>\n",
              "      <td>7.266954e-01</td>\n",
              "      <td>0.553038</td>\n",
              "      <td>0.523889</td>\n",
              "      <td>-0.638356</td>\n",
              "      <td>0.908623</td>\n",
              "    </tr>\n",
              "  </tbody>\n",
              "</table>\n",
              "</div>\n",
              "      <button class=\"colab-df-convert\" onclick=\"convertToInteractive('df-4f27c41e-aee9-4442-a6fe-bc5dbb1ae7b1')\"\n",
              "              title=\"Convert this dataframe to an interactive table.\"\n",
              "              style=\"display:none;\">\n",
              "        \n",
              "  <svg xmlns=\"http://www.w3.org/2000/svg\" height=\"24px\"viewBox=\"0 0 24 24\"\n",
              "       width=\"24px\">\n",
              "    <path d=\"M0 0h24v24H0V0z\" fill=\"none\"/>\n",
              "    <path d=\"M18.56 5.44l.94 2.06.94-2.06 2.06-.94-2.06-.94-.94-2.06-.94 2.06-2.06.94zm-11 1L8.5 8.5l.94-2.06 2.06-.94-2.06-.94L8.5 2.5l-.94 2.06-2.06.94zm10 10l.94 2.06.94-2.06 2.06-.94-2.06-.94-.94-2.06-.94 2.06-2.06.94z\"/><path d=\"M17.41 7.96l-1.37-1.37c-.4-.4-.92-.59-1.43-.59-.52 0-1.04.2-1.43.59L10.3 9.45l-7.72 7.72c-.78.78-.78 2.05 0 2.83L4 21.41c.39.39.9.59 1.41.59.51 0 1.02-.2 1.41-.59l7.78-7.78 2.81-2.81c.8-.78.8-2.07 0-2.86zM5.41 20L4 18.59l7.72-7.72 1.47 1.35L5.41 20z\"/>\n",
              "  </svg>\n",
              "      </button>\n",
              "      \n",
              "  <style>\n",
              "    .colab-df-container {\n",
              "      display:flex;\n",
              "      flex-wrap:wrap;\n",
              "      gap: 12px;\n",
              "    }\n",
              "\n",
              "    .colab-df-convert {\n",
              "      background-color: #E8F0FE;\n",
              "      border: none;\n",
              "      border-radius: 50%;\n",
              "      cursor: pointer;\n",
              "      display: none;\n",
              "      fill: #1967D2;\n",
              "      height: 32px;\n",
              "      padding: 0 0 0 0;\n",
              "      width: 32px;\n",
              "    }\n",
              "\n",
              "    .colab-df-convert:hover {\n",
              "      background-color: #E2EBFA;\n",
              "      box-shadow: 0px 1px 2px rgba(60, 64, 67, 0.3), 0px 1px 3px 1px rgba(60, 64, 67, 0.15);\n",
              "      fill: #174EA6;\n",
              "    }\n",
              "\n",
              "    [theme=dark] .colab-df-convert {\n",
              "      background-color: #3B4455;\n",
              "      fill: #D2E3FC;\n",
              "    }\n",
              "\n",
              "    [theme=dark] .colab-df-convert:hover {\n",
              "      background-color: #434B5C;\n",
              "      box-shadow: 0px 1px 3px 1px rgba(0, 0, 0, 0.15);\n",
              "      filter: drop-shadow(0px 1px 2px rgba(0, 0, 0, 0.3));\n",
              "      fill: #FFFFFF;\n",
              "    }\n",
              "  </style>\n",
              "\n",
              "      <script>\n",
              "        const buttonEl =\n",
              "          document.querySelector('#df-4f27c41e-aee9-4442-a6fe-bc5dbb1ae7b1 button.colab-df-convert');\n",
              "        buttonEl.style.display =\n",
              "          google.colab.kernel.accessAllowed ? 'block' : 'none';\n",
              "\n",
              "        async function convertToInteractive(key) {\n",
              "          const element = document.querySelector('#df-4f27c41e-aee9-4442-a6fe-bc5dbb1ae7b1');\n",
              "          const dataTable =\n",
              "            await google.colab.kernel.invokeFunction('convertToInteractive',\n",
              "                                                     [key], {});\n",
              "          if (!dataTable) return;\n",
              "\n",
              "          const docLinkHtml = 'Like what you see? Visit the ' +\n",
              "            '<a target=\"_blank\" href=https://colab.research.google.com/notebooks/data_table.ipynb>data table notebook</a>'\n",
              "            + ' to learn more about interactive tables.';\n",
              "          element.innerHTML = '';\n",
              "          dataTable['output_type'] = 'display_data';\n",
              "          await google.colab.output.renderOutput(dataTable, element);\n",
              "          const docLink = document.createElement('div');\n",
              "          docLink.innerHTML = docLinkHtml;\n",
              "          element.appendChild(docLink);\n",
              "        }\n",
              "      </script>\n",
              "    </div>\n",
              "  </div>\n",
              "  "
            ]
          },
          "metadata": {},
          "execution_count": 37
        }
      ],
      "source": [
        "#pakiet pinguin\n",
        "\n",
        "X = seto[['sl', 'pl', 'pw']]\n",
        "y = seto['sw']\n",
        "\n",
        "lr = pg.linear_regression(X, y)\n",
        "lr\n",
        "\n",
        "#brakuje testu F (wnioskowania o całej regresji)"
      ]
    },
    {
      "cell_type": "code",
      "execution_count": 39,
      "id": "completed-truth",
      "metadata": {
        "id": "completed-truth",
        "outputId": "6c68253b-eb93-4ce2-bbe0-5e2ab2eb8a26",
        "colab": {
          "base_uri": "https://localhost:8080/",
          "height": 494
        }
      },
      "outputs": [
        {
          "output_type": "execute_result",
          "data": {
            "text/plain": [
              "<class 'statsmodels.iolib.summary.Summary'>\n",
              "\"\"\"\n",
              "                            OLS Regression Results                            \n",
              "==============================================================================\n",
              "Dep. Variable:                     sw   R-squared:                       0.553\n",
              "Model:                            OLS   Adj. R-squared:                  0.524\n",
              "Method:                 Least Squares   F-statistic:                     18.97\n",
              "Date:                Thu, 28 Apr 2022   Prob (F-statistic):           3.76e-08\n",
              "Time:                        17:46:28   Log-Likelihood:                -1.8073\n",
              "No. Observations:                  50   AIC:                             11.61\n",
              "Df Residuals:                      46   BIC:                             19.26\n",
              "Df Model:                           3                                         \n",
              "Covariance Type:            nonrobust                                         \n",
              "==============================================================================\n",
              "                 coef    std err          t      P>|t|      [0.025      0.975]\n",
              "------------------------------------------------------------------------------\n",
              "const         -0.4891      0.573     -0.853      0.398      -1.643       0.665\n",
              "sl             0.7967      0.112      7.083      0.000       0.570       1.023\n",
              "pl            -0.0714      0.232     -0.307      0.760      -0.539       0.397\n",
              "pw             0.1351      0.384      0.352      0.727      -0.638       0.909\n",
              "==============================================================================\n",
              "Omnibus:                        1.087   Durbin-Watson:                   2.387\n",
              "Prob(Omnibus):                  0.581   Jarque-Bera (JB):                0.531\n",
              "Skew:                          -0.230   Prob(JB):                        0.767\n",
              "Kurtosis:                       3.207   Cond. No.                         86.0\n",
              "==============================================================================\n",
              "\n",
              "Notes:\n",
              "[1] Standard Errors assume that the covariance matrix of the errors is correctly specified.\n",
              "\"\"\""
            ],
            "text/html": [
              "<table class=\"simpletable\">\n",
              "<caption>OLS Regression Results</caption>\n",
              "<tr>\n",
              "  <th>Dep. Variable:</th>           <td>sw</td>        <th>  R-squared:         </th> <td>   0.553</td>\n",
              "</tr>\n",
              "<tr>\n",
              "  <th>Model:</th>                   <td>OLS</td>       <th>  Adj. R-squared:    </th> <td>   0.524</td>\n",
              "</tr>\n",
              "<tr>\n",
              "  <th>Method:</th>             <td>Least Squares</td>  <th>  F-statistic:       </th> <td>   18.97</td>\n",
              "</tr>\n",
              "<tr>\n",
              "  <th>Date:</th>             <td>Thu, 28 Apr 2022</td> <th>  Prob (F-statistic):</th> <td>3.76e-08</td>\n",
              "</tr>\n",
              "<tr>\n",
              "  <th>Time:</th>                 <td>17:46:28</td>     <th>  Log-Likelihood:    </th> <td> -1.8073</td>\n",
              "</tr>\n",
              "<tr>\n",
              "  <th>No. Observations:</th>      <td>    50</td>      <th>  AIC:               </th> <td>   11.61</td>\n",
              "</tr>\n",
              "<tr>\n",
              "  <th>Df Residuals:</th>          <td>    46</td>      <th>  BIC:               </th> <td>   19.26</td>\n",
              "</tr>\n",
              "<tr>\n",
              "  <th>Df Model:</th>              <td>     3</td>      <th>                     </th>     <td> </td>   \n",
              "</tr>\n",
              "<tr>\n",
              "  <th>Covariance Type:</th>      <td>nonrobust</td>    <th>                     </th>     <td> </td>   \n",
              "</tr>\n",
              "</table>\n",
              "<table class=\"simpletable\">\n",
              "<tr>\n",
              "    <td></td>       <th>coef</th>     <th>std err</th>      <th>t</th>      <th>P>|t|</th>  <th>[0.025</th>    <th>0.975]</th>  \n",
              "</tr>\n",
              "<tr>\n",
              "  <th>const</th> <td>   -0.4891</td> <td>    0.573</td> <td>   -0.853</td> <td> 0.398</td> <td>   -1.643</td> <td>    0.665</td>\n",
              "</tr>\n",
              "<tr>\n",
              "  <th>sl</th>    <td>    0.7967</td> <td>    0.112</td> <td>    7.083</td> <td> 0.000</td> <td>    0.570</td> <td>    1.023</td>\n",
              "</tr>\n",
              "<tr>\n",
              "  <th>pl</th>    <td>   -0.0714</td> <td>    0.232</td> <td>   -0.307</td> <td> 0.760</td> <td>   -0.539</td> <td>    0.397</td>\n",
              "</tr>\n",
              "<tr>\n",
              "  <th>pw</th>    <td>    0.1351</td> <td>    0.384</td> <td>    0.352</td> <td> 0.727</td> <td>   -0.638</td> <td>    0.909</td>\n",
              "</tr>\n",
              "</table>\n",
              "<table class=\"simpletable\">\n",
              "<tr>\n",
              "  <th>Omnibus:</th>       <td> 1.087</td> <th>  Durbin-Watson:     </th> <td>   2.387</td>\n",
              "</tr>\n",
              "<tr>\n",
              "  <th>Prob(Omnibus):</th> <td> 0.581</td> <th>  Jarque-Bera (JB):  </th> <td>   0.531</td>\n",
              "</tr>\n",
              "<tr>\n",
              "  <th>Skew:</th>          <td>-0.230</td> <th>  Prob(JB):          </th> <td>   0.767</td>\n",
              "</tr>\n",
              "<tr>\n",
              "  <th>Kurtosis:</th>      <td> 3.207</td> <th>  Cond. No.          </th> <td>    86.0</td>\n",
              "</tr>\n",
              "</table><br/><br/>Notes:<br/>[1] Standard Errors assume that the covariance matrix of the errors is correctly specified."
            ]
          },
          "metadata": {},
          "execution_count": 39
        }
      ],
      "source": [
        "# pakiet statsmodels\n",
        "#import statsmodels.api as sm\n",
        "\n",
        "X = seto[['sl', 'pl', 'pw']]\n",
        "y = seto['sw']\n",
        "\n",
        "X = add_constant(X)\n",
        "est = sm.OLS(y, X).fit()\n",
        "est.summary()"
      ]
    },
    {
      "cell_type": "code",
      "execution_count": 42,
      "id": "tamil-delta",
      "metadata": {
        "id": "tamil-delta",
        "outputId": "a0e10c70-e8ec-46ac-8af2-1686c080b046",
        "colab": {
          "base_uri": "https://localhost:8080/",
          "height": 452
        }
      },
      "outputs": [
        {
          "output_type": "execute_result",
          "data": {
            "text/plain": [
              "<class 'statsmodels.iolib.summary.Summary'>\n",
              "\"\"\"\n",
              "                            OLS Regression Results                            \n",
              "==============================================================================\n",
              "Dep. Variable:                     sw   R-squared:                       0.551\n",
              "Model:                            OLS   Adj. R-squared:                  0.542\n",
              "Method:                 Least Squares   F-statistic:                     58.99\n",
              "Date:                Thu, 28 Apr 2022   Prob (F-statistic):           6.71e-10\n",
              "Time:                        17:49:31   Log-Likelihood:                -1.9002\n",
              "No. Observations:                  50   AIC:                             7.800\n",
              "Df Residuals:                      48   BIC:                             11.62\n",
              "Df Model:                           1                                         \n",
              "Covariance Type:            nonrobust                                         \n",
              "==============================================================================\n",
              "                 coef    std err          t      P>|t|      [0.025      0.975]\n",
              "------------------------------------------------------------------------------\n",
              "Intercept     -0.5694      0.522     -1.091      0.281      -1.618       0.480\n",
              "sl             0.7985      0.104      7.681      0.000       0.589       1.008\n",
              "==============================================================================\n",
              "Omnibus:                        0.680   Durbin-Watson:                   2.345\n",
              "Prob(Omnibus):                  0.712   Jarque-Bera (JB):                0.342\n",
              "Skew:                          -0.200   Prob(JB):                        0.843\n",
              "Kurtosis:                       3.060   Cond. No.                         75.0\n",
              "==============================================================================\n",
              "\n",
              "Notes:\n",
              "[1] Standard Errors assume that the covariance matrix of the errors is correctly specified.\n",
              "\"\"\""
            ],
            "text/html": [
              "<table class=\"simpletable\">\n",
              "<caption>OLS Regression Results</caption>\n",
              "<tr>\n",
              "  <th>Dep. Variable:</th>           <td>sw</td>        <th>  R-squared:         </th> <td>   0.551</td>\n",
              "</tr>\n",
              "<tr>\n",
              "  <th>Model:</th>                   <td>OLS</td>       <th>  Adj. R-squared:    </th> <td>   0.542</td>\n",
              "</tr>\n",
              "<tr>\n",
              "  <th>Method:</th>             <td>Least Squares</td>  <th>  F-statistic:       </th> <td>   58.99</td>\n",
              "</tr>\n",
              "<tr>\n",
              "  <th>Date:</th>             <td>Thu, 28 Apr 2022</td> <th>  Prob (F-statistic):</th> <td>6.71e-10</td>\n",
              "</tr>\n",
              "<tr>\n",
              "  <th>Time:</th>                 <td>17:49:31</td>     <th>  Log-Likelihood:    </th> <td> -1.9002</td>\n",
              "</tr>\n",
              "<tr>\n",
              "  <th>No. Observations:</th>      <td>    50</td>      <th>  AIC:               </th> <td>   7.800</td>\n",
              "</tr>\n",
              "<tr>\n",
              "  <th>Df Residuals:</th>          <td>    48</td>      <th>  BIC:               </th> <td>   11.62</td>\n",
              "</tr>\n",
              "<tr>\n",
              "  <th>Df Model:</th>              <td>     1</td>      <th>                     </th>     <td> </td>   \n",
              "</tr>\n",
              "<tr>\n",
              "  <th>Covariance Type:</th>      <td>nonrobust</td>    <th>                     </th>     <td> </td>   \n",
              "</tr>\n",
              "</table>\n",
              "<table class=\"simpletable\">\n",
              "<tr>\n",
              "      <td></td>         <th>coef</th>     <th>std err</th>      <th>t</th>      <th>P>|t|</th>  <th>[0.025</th>    <th>0.975]</th>  \n",
              "</tr>\n",
              "<tr>\n",
              "  <th>Intercept</th> <td>   -0.5694</td> <td>    0.522</td> <td>   -1.091</td> <td> 0.281</td> <td>   -1.618</td> <td>    0.480</td>\n",
              "</tr>\n",
              "<tr>\n",
              "  <th>sl</th>        <td>    0.7985</td> <td>    0.104</td> <td>    7.681</td> <td> 0.000</td> <td>    0.589</td> <td>    1.008</td>\n",
              "</tr>\n",
              "</table>\n",
              "<table class=\"simpletable\">\n",
              "<tr>\n",
              "  <th>Omnibus:</th>       <td> 0.680</td> <th>  Durbin-Watson:     </th> <td>   2.345</td>\n",
              "</tr>\n",
              "<tr>\n",
              "  <th>Prob(Omnibus):</th> <td> 0.712</td> <th>  Jarque-Bera (JB):  </th> <td>   0.342</td>\n",
              "</tr>\n",
              "<tr>\n",
              "  <th>Skew:</th>          <td>-0.200</td> <th>  Prob(JB):          </th> <td>   0.843</td>\n",
              "</tr>\n",
              "<tr>\n",
              "  <th>Kurtosis:</th>      <td> 3.060</td> <th>  Cond. No.          </th> <td>    75.0</td>\n",
              "</tr>\n",
              "</table><br/><br/>Notes:<br/>[1] Standard Errors assume that the covariance matrix of the errors is correctly specified."
            ]
          },
          "metadata": {},
          "execution_count": 42
        }
      ],
      "source": [
        "# pakiet statsmodels - podejście alternatywne jak w R\n",
        "from statsmodels.formula.api import ols\n",
        "\n",
        "model = ols(\"sw ~ sl + pl + pw\", data = df[df['Spec'] == 's'])\n",
        "results = model.fit()\n",
        "results.summary()"
      ]
    },
    {
      "cell_type": "code",
      "source": [
        "#można usunąć część zmiennych objaśniających (bo współczynniki są nieistotne statystycznie). Robi się to sekwencyjnie.\n",
        "#Kończowmy model jest lepszy.\n",
        "\n",
        "model = ols(\"sw ~ sl\", data = df[df['Spec'] == 's'])\n",
        "results = model.fit()\n",
        "results.summary()"
      ],
      "metadata": {
        "id": "qZREFgRkTErd",
        "outputId": "89c930f0-e284-40ae-f727-077a4d492e43",
        "colab": {
          "base_uri": "https://localhost:8080/",
          "height": 452
        }
      },
      "id": "qZREFgRkTErd",
      "execution_count": 43,
      "outputs": [
        {
          "output_type": "execute_result",
          "data": {
            "text/plain": [
              "<class 'statsmodels.iolib.summary.Summary'>\n",
              "\"\"\"\n",
              "                            OLS Regression Results                            \n",
              "==============================================================================\n",
              "Dep. Variable:                     sw   R-squared:                       0.551\n",
              "Model:                            OLS   Adj. R-squared:                  0.542\n",
              "Method:                 Least Squares   F-statistic:                     58.99\n",
              "Date:                Thu, 28 Apr 2022   Prob (F-statistic):           6.71e-10\n",
              "Time:                        17:53:01   Log-Likelihood:                -1.9002\n",
              "No. Observations:                  50   AIC:                             7.800\n",
              "Df Residuals:                      48   BIC:                             11.62\n",
              "Df Model:                           1                                         \n",
              "Covariance Type:            nonrobust                                         \n",
              "==============================================================================\n",
              "                 coef    std err          t      P>|t|      [0.025      0.975]\n",
              "------------------------------------------------------------------------------\n",
              "Intercept     -0.5694      0.522     -1.091      0.281      -1.618       0.480\n",
              "sl             0.7985      0.104      7.681      0.000       0.589       1.008\n",
              "==============================================================================\n",
              "Omnibus:                        0.680   Durbin-Watson:                   2.345\n",
              "Prob(Omnibus):                  0.712   Jarque-Bera (JB):                0.342\n",
              "Skew:                          -0.200   Prob(JB):                        0.843\n",
              "Kurtosis:                       3.060   Cond. No.                         75.0\n",
              "==============================================================================\n",
              "\n",
              "Notes:\n",
              "[1] Standard Errors assume that the covariance matrix of the errors is correctly specified.\n",
              "\"\"\""
            ],
            "text/html": [
              "<table class=\"simpletable\">\n",
              "<caption>OLS Regression Results</caption>\n",
              "<tr>\n",
              "  <th>Dep. Variable:</th>           <td>sw</td>        <th>  R-squared:         </th> <td>   0.551</td>\n",
              "</tr>\n",
              "<tr>\n",
              "  <th>Model:</th>                   <td>OLS</td>       <th>  Adj. R-squared:    </th> <td>   0.542</td>\n",
              "</tr>\n",
              "<tr>\n",
              "  <th>Method:</th>             <td>Least Squares</td>  <th>  F-statistic:       </th> <td>   58.99</td>\n",
              "</tr>\n",
              "<tr>\n",
              "  <th>Date:</th>             <td>Thu, 28 Apr 2022</td> <th>  Prob (F-statistic):</th> <td>6.71e-10</td>\n",
              "</tr>\n",
              "<tr>\n",
              "  <th>Time:</th>                 <td>17:53:01</td>     <th>  Log-Likelihood:    </th> <td> -1.9002</td>\n",
              "</tr>\n",
              "<tr>\n",
              "  <th>No. Observations:</th>      <td>    50</td>      <th>  AIC:               </th> <td>   7.800</td>\n",
              "</tr>\n",
              "<tr>\n",
              "  <th>Df Residuals:</th>          <td>    48</td>      <th>  BIC:               </th> <td>   11.62</td>\n",
              "</tr>\n",
              "<tr>\n",
              "  <th>Df Model:</th>              <td>     1</td>      <th>                     </th>     <td> </td>   \n",
              "</tr>\n",
              "<tr>\n",
              "  <th>Covariance Type:</th>      <td>nonrobust</td>    <th>                     </th>     <td> </td>   \n",
              "</tr>\n",
              "</table>\n",
              "<table class=\"simpletable\">\n",
              "<tr>\n",
              "      <td></td>         <th>coef</th>     <th>std err</th>      <th>t</th>      <th>P>|t|</th>  <th>[0.025</th>    <th>0.975]</th>  \n",
              "</tr>\n",
              "<tr>\n",
              "  <th>Intercept</th> <td>   -0.5694</td> <td>    0.522</td> <td>   -1.091</td> <td> 0.281</td> <td>   -1.618</td> <td>    0.480</td>\n",
              "</tr>\n",
              "<tr>\n",
              "  <th>sl</th>        <td>    0.7985</td> <td>    0.104</td> <td>    7.681</td> <td> 0.000</td> <td>    0.589</td> <td>    1.008</td>\n",
              "</tr>\n",
              "</table>\n",
              "<table class=\"simpletable\">\n",
              "<tr>\n",
              "  <th>Omnibus:</th>       <td> 0.680</td> <th>  Durbin-Watson:     </th> <td>   2.345</td>\n",
              "</tr>\n",
              "<tr>\n",
              "  <th>Prob(Omnibus):</th> <td> 0.712</td> <th>  Jarque-Bera (JB):  </th> <td>   0.342</td>\n",
              "</tr>\n",
              "<tr>\n",
              "  <th>Skew:</th>          <td>-0.200</td> <th>  Prob(JB):          </th> <td>   0.843</td>\n",
              "</tr>\n",
              "<tr>\n",
              "  <th>Kurtosis:</th>      <td> 3.060</td> <th>  Cond. No.          </th> <td>    75.0</td>\n",
              "</tr>\n",
              "</table><br/><br/>Notes:<br/>[1] Standard Errors assume that the covariance matrix of the errors is correctly specified."
            ]
          },
          "metadata": {},
          "execution_count": 43
        }
      ]
    }
  ],
  "metadata": {
    "kernelspec": {
      "display_name": "Python 3 (ipykernel)",
      "language": "python",
      "name": "python3"
    },
    "language_info": {
      "codemirror_mode": {
        "name": "ipython",
        "version": 3
      },
      "file_extension": ".py",
      "mimetype": "text/x-python",
      "name": "python",
      "nbconvert_exporter": "python",
      "pygments_lexer": "ipython3",
      "version": "3.9.2"
    },
    "colab": {
      "name": "Podstawy analizy danych.ipynb",
      "provenance": [],
      "include_colab_link": true
    }
  },
  "nbformat": 4,
  "nbformat_minor": 5
}